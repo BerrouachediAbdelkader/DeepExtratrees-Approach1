{
 "cells": [
  {
   "cell_type": "code",
   "execution_count": 30,
   "metadata": {
    "collapsed": true
   },
   "outputs": [],
   "source": [
    "#imports \n",
    "import numpy as np\n",
    "import pandas as pd\n",
    "from math import sqrt \n",
    "from pprint import pprint\n",
    "from numpy import array"
   ]
  },
  {
   "cell_type": "code",
   "execution_count": 31,
   "metadata": {
    "collapsed": true
   },
   "outputs": [],
   "source": [
    "# load data\n",
    "from sklearn.datasets import fetch_olivetti_faces\n",
    "from sklearn.model_selection import train_test_split\n",
    "data = fetch_olivetti_faces()\n",
    "X = data.images\n",
    "y = data.target\n",
    "X_train, X_test, y_train, y_test = train_test_split(X, y, test_size=0.3)"
   ]
  },
  {
   "cell_type": "code",
   "execution_count": 32,
   "metadata": {
    "collapsed": true
   },
   "outputs": [],
   "source": [
    "# reshape data\n",
    "X_train = np.reshape(X_train, (X_train.shape[0], -1))\n",
    "X_test = np.reshape(X_test, (X_test.shape[0], -1))"
   ]
  },
  {
   "cell_type": "code",
   "execution_count": 33,
   "metadata": {},
   "outputs": [
    {
     "data": {
      "text/plain": [
       "(280, 4096)"
      ]
     },
     "execution_count": 33,
     "metadata": {},
     "output_type": "execute_result"
    }
   ],
   "source": [
    "# new train shape\n",
    "X_train.shape"
   ]
  },
  {
   "cell_type": "code",
   "execution_count": 34,
   "metadata": {},
   "outputs": [
    {
     "data": {
      "text/plain": [
       "(120, 4096)"
      ]
     },
     "execution_count": 34,
     "metadata": {},
     "output_type": "execute_result"
    }
   ],
   "source": [
    "# new test shape\n",
    "X_test.shape"
   ]
  },
  {
   "cell_type": "code",
   "execution_count": 35,
   "metadata": {
    "collapsed": true
   },
   "outputs": [],
   "source": [
    "# Extratrees deep\n",
    "import argparse\n",
    "import numpy as np\n",
    "import sys\n",
    "import pickle\n",
    "from sklearn.ensemble import RandomForestClassifier\n",
    "from sklearn.metrics import accuracy_score\n",
    "sys.path.insert(0, \"lib\")\n",
    "from gcforest.gcforest import GCForest\n",
    "from gcforest.gcforest import GCForest\n",
    "from gcforest.utils.config_utils import load_json\n",
    "config = load_json(\"./examples/olivetti.json\")   ,
    "gc = GCForest(config)"
   ]
  },
  {
   "cell_type": "code",
   "execution_count": 36,
   "metadata": {},
   "outputs": [
    {
     "data": {
      "text/plain": [
       "40"
      ]
     },
     "execution_count": 36,
     "metadata": {},
     "output_type": "execute_result"
    }
   ],
   "source": [
    "# count of class\n",
    "len(np.unique(y_train))"
   ]
  },
  {
   "cell_type": "code",
   "execution_count": 37,
   "metadata": {},
   "outputs": [
    {
     "name": "stderr",
     "output_type": "stream",
     "text": [
      "[ 2018-04-20 00:33:24,218][cascade_classifier.fit_transform] X_groups_train.shape=[(280, 4096)],y_train.shape=(280,),X_groups_test.shape=[(120, 4096)],y_test.shape=(120,)\n",
      "[ 2018-04-20 00:33:24,223][cascade_classifier.fit_transform] group_dims=[4096]\n",
      "[ 2018-04-20 00:33:24,225][cascade_classifier.fit_transform] group_starts=[0]\n",
      "[ 2018-04-20 00:33:24,227][cascade_classifier.fit_transform] group_ends=[4096]\n",
      "[ 2018-04-20 00:33:24,228][cascade_classifier.fit_transform] X_train.shape=(280, 4096),X_test.shape=(120, 4096)\n",
      "[ 2018-04-20 00:33:24,232][cascade_classifier.fit_transform] [layer=0] look_indexs=[0], X_cur_train.shape=(280, 4096), X_cur_test.shape=(120, 4096)\n",
      "[ 2018-04-20 00:33:24,933][kfold_wrapper.log_eval_metrics] Accuracy(layer_0 - estimator_0 - 10_folds.train_0.predict)=95.83%\n",
      "[ 2018-04-20 00:33:25,944][kfold_wrapper.log_eval_metrics] Accuracy(layer_0 - estimator_0 - 10_folds.train_1.predict)=92.31%\n",
      "[ 2018-04-20 00:33:27,072][kfold_wrapper.log_eval_metrics] Accuracy(layer_0 - estimator_0 - 10_folds.train_2.predict)=93.10%\n",
      "[ 2018-04-20 00:33:28,074][kfold_wrapper.log_eval_metrics] Accuracy(layer_0 - estimator_0 - 10_folds.train_3.predict)=93.75%\n",
      "[ 2018-04-20 00:33:29,147][kfold_wrapper.log_eval_metrics] Accuracy(layer_0 - estimator_0 - 10_folds.train_4.predict)=84.38%\n",
      "[ 2018-04-20 00:33:30,140][kfold_wrapper.log_eval_metrics] Accuracy(layer_0 - estimator_0 - 10_folds.train_5.predict)=92.59%\n",
      "[ 2018-04-20 00:33:31,089][kfold_wrapper.log_eval_metrics] Accuracy(layer_0 - estimator_0 - 10_folds.train_6.predict)=89.66%\n",
      "[ 2018-04-20 00:33:32,093][kfold_wrapper.log_eval_metrics] Accuracy(layer_0 - estimator_0 - 10_folds.train_7.predict)=96.15%\n",
      "[ 2018-04-20 00:33:33,124][kfold_wrapper.log_eval_metrics] Accuracy(layer_0 - estimator_0 - 10_folds.train_8.predict)=88.46%\n",
      "[ 2018-04-20 00:33:34,202][kfold_wrapper.log_eval_metrics] Accuracy(layer_0 - estimator_0 - 10_folds.train_9.predict)=82.76%\n",
      "[ 2018-04-20 00:33:34,465][kfold_wrapper.log_eval_metrics] Accuracy(layer_0 - estimator_0 - 10_folds.train_cv.predict)=90.71%\n",
      "[ 2018-04-20 00:33:34,467][kfold_wrapper.log_eval_metrics] Accuracy(layer_0 - estimator_0 - 10_folds.test.predict)=91.67%\n",
      "[ 2018-04-20 00:33:34,469][cascade_classifier.calc_accuracy] Accuracy(layer_0 - train.classifier_average)=90.71%\n",
      "[ 2018-04-20 00:33:34,470][cascade_classifier.calc_accuracy] Accuracy(layer_0 - test.classifier_average)=91.67%\n",
      "[ 2018-04-20 00:33:34,471][cascade_classifier.fit_transform] [Result][Reach Max Layer] opt_layer_num=1, accuracy_train=90.71%, accuracy_test=91.67%\n"
     ]
    }
   ],
   "source": [
    "    # X_enc is the concatenated predict_proba result of ExtraTrees\n",
    "X_train_enc, X_test_enc = gc.fit_transform(X_train, y_train, X_test=X_test, y_test=y_test)\n",
    "  "
   ]
  },
  {
   "cell_type": "code",
   "execution_count": 38,
   "metadata": {},
   "outputs": [
    {
     "name": "stderr",
     "output_type": "stream",
     "text": [
      "[ 2018-04-20 00:34:47,292][cascade_classifier.transform] X_groups_test.shape=[(120, 4096)]\n",
      "[ 2018-04-20 00:34:47,296][cascade_classifier.transform] group_dims=[4096]\n",
      "[ 2018-04-20 00:34:47,297][cascade_classifier.transform] X_test.shape=(120, 4096)\n",
      "[ 2018-04-20 00:34:47,299][cascade_classifier.transform] [layer=0] look_indexs=[0], X_cur_test.shape=(120, 4096)\n"
     ]
    },
    {
     "name": "stdout",
     "output_type": "stream",
     "text": [
      "Test Accuracy of ExtraTree = 91.666667 %\n"
     ]
    }
   ],
   "source": [
    "# predict\n",
    "y_pred = gc.predict(X_test)\n",
    "acc = accuracy_score(y_test, y_pred)\n",
    "print(\"Test Accuracy of ExtraTree = {:.6f} %\".format(acc * 100))"
   ]
  },
  {
   "cell_type": "code",
   "execution_count": 39,
   "metadata": {},
   "outputs": [
    {
     "name": "stderr",
     "output_type": "stream",
     "text": [
      "[ 2018-04-20 00:34:51,476][cascade_classifier.transform] X_groups_test.shape=[(120, 4096)]\n",
      "[ 2018-04-20 00:34:51,480][cascade_classifier.transform] group_dims=[4096]\n",
      "[ 2018-04-20 00:34:51,482][cascade_classifier.transform] X_test.shape=(120, 4096)\n",
      "[ 2018-04-20 00:34:51,484][cascade_classifier.transform] [layer=0] look_indexs=[0], X_cur_test.shape=(120, 4096)\n"
     ]
    }
   ],
   "source": [
    "# Make data + estimators.\n",
    "X_test_enc = gc.transform(X_test)\n",
    "X_train_enc = X_train_enc.reshape((X_train_enc.shape[0], -1))\n",
    "X_test_enc = X_test_enc.reshape((X_test_enc.shape[0], -1))\n",
    "X_train_origin = X_train.reshape((X_train.shape[0], -1))\n",
    "X_test_origin = X_test.reshape((X_test.shape[0], -1))\n",
    "X_train_enc = np.hstack((X_train_origin, X_train_enc))\n",
    "X_test_enc = np.hstack((X_test_origin, X_test_enc))"
   ]
  },
  {
   "cell_type": "code",
   "execution_count": 40,
   "metadata": {},
   "outputs": [
    {
     "name": "stderr",
     "output_type": "stream",
     "text": [
      "[ 2018-04-20 00:35:01,984][cascade_classifier.fit_transform] X_groups_train.shape=[(280, 4136)],y_train.shape=(280,),X_groups_test.shape=[(120, 4136)],y_test.shape=(120,)\n",
      "[ 2018-04-20 00:35:01,991][cascade_classifier.fit_transform] group_dims=[4136]\n",
      "[ 2018-04-20 00:35:01,993][cascade_classifier.fit_transform] group_starts=[0]\n",
      "[ 2018-04-20 00:35:01,994][cascade_classifier.fit_transform] group_ends=[4136]\n",
      "[ 2018-04-20 00:35:01,995][cascade_classifier.fit_transform] X_train.shape=(280, 4136),X_test.shape=(120, 4136)\n",
      "[ 2018-04-20 00:35:02,000][cascade_classifier.fit_transform] [layer=0] look_indexs=[0], X_cur_train.shape=(280, 4136), X_cur_test.shape=(120, 4136)\n",
      "[ 2018-04-20 00:35:02,843][kfold_wrapper.log_eval_metrics] Accuracy(layer_0 - estimator_0 - 10_folds.train_0.predict)=95.83%\n",
      "[ 2018-04-20 00:35:03,870][kfold_wrapper.log_eval_metrics] Accuracy(layer_0 - estimator_0 - 10_folds.train_1.predict)=92.31%\n",
      "[ 2018-04-20 00:35:04,917][kfold_wrapper.log_eval_metrics] Accuracy(layer_0 - estimator_0 - 10_folds.train_2.predict)=89.66%\n",
      "[ 2018-04-20 00:35:05,955][kfold_wrapper.log_eval_metrics] Accuracy(layer_0 - estimator_0 - 10_folds.train_3.predict)=93.75%\n",
      "[ 2018-04-20 00:35:07,032][kfold_wrapper.log_eval_metrics] Accuracy(layer_0 - estimator_0 - 10_folds.train_4.predict)=87.50%\n",
      "[ 2018-04-20 00:35:08,119][kfold_wrapper.log_eval_metrics] Accuracy(layer_0 - estimator_0 - 10_folds.train_5.predict)=92.59%\n",
      "[ 2018-04-20 00:35:09,348][kfold_wrapper.log_eval_metrics] Accuracy(layer_0 - estimator_0 - 10_folds.train_6.predict)=89.66%\n",
      "[ 2018-04-20 00:35:10,303][kfold_wrapper.log_eval_metrics] Accuracy(layer_0 - estimator_0 - 10_folds.train_7.predict)=92.31%\n",
      "[ 2018-04-20 00:35:11,404][kfold_wrapper.log_eval_metrics] Accuracy(layer_0 - estimator_0 - 10_folds.train_8.predict)=92.31%\n",
      "[ 2018-04-20 00:35:12,536][kfold_wrapper.log_eval_metrics] Accuracy(layer_0 - estimator_0 - 10_folds.train_9.predict)=86.21%\n",
      "[ 2018-04-20 00:35:12,782][kfold_wrapper.log_eval_metrics] Accuracy(layer_0 - estimator_0 - 10_folds.train_cv.predict)=91.07%\n",
      "[ 2018-04-20 00:35:12,784][kfold_wrapper.log_eval_metrics] Accuracy(layer_0 - estimator_0 - 10_folds.test.predict)=91.67%\n",
      "[ 2018-04-20 00:35:12,790][cascade_classifier.calc_accuracy] Accuracy(layer_0 - train.classifier_average)=91.07%\n",
      "[ 2018-04-20 00:35:12,791][cascade_classifier.calc_accuracy] Accuracy(layer_0 - test.classifier_average)=91.67%\n",
      "[ 2018-04-20 00:35:12,792][cascade_classifier.fit_transform] [Result][Reach Max Layer] opt_layer_num=1, accuracy_train=91.07%, accuracy_test=91.67%\n"
     ]
    }
   ],
   "source": [
    "X_train=X_train_enc\n",
    "X_test=X_test_enc \n",
    "X_train_enc, X_test_enc = gc.fit_transform(X_train, y_train, X_test=X_test, y_test=y_test)"
   ]
  },
  {
   "cell_type": "code",
   "execution_count": 25,
   "metadata": {},
   "outputs": [
    {
     "name": "stdout",
     "output_type": "stream",
     "text": [
      "X_train_enc.shape=(280, 40), X_test_enc.shape=(120, 40)\n"
     ]
    }
   ],
   "source": [
    "print(\"X_train_enc.shape={}, X_test_enc.shape={}\".format(X_train_enc.shape, X_test_enc.shape))"
   ]
  },
  {
   "cell_type": "code",
   "execution_count": 26,
   "metadata": {},
   "outputs": [
    {
     "name": "stdout",
     "output_type": "stream",
     "text": [
      "X_train_enc.shape=(280, 4136), X_test_enc.shape=(120, 4136)\n"
     ]
    }
   ],
   "source": [
    "print(\"X_train_enc.shape={}, X_test_enc.shape={}\".format(X_train.shape, X_test.shape))"
   ]
  },
  {
   "cell_type": "code",
   "execution_count": 41,
   "metadata": {
    "collapsed": true
   },
   "outputs": [],
   "source": [
    "def update(X_train,X_test):\n",
    "    # update Estimators\n",
    "    for i in range(20):\n",
    "        M = np.delete(X_train, (-1), axis=1)\n",
    "        X_train= np.delete(M, (-1), axis=1)\n",
    "        M = np.delete(X_test, (-1), axis=1)\n",
    "        X_test = np.delete(M, (-1), axis=1)\n",
    "    return X_train,X_test"
   ]
  },
  {
   "cell_type": "code",
   "execution_count": 42,
   "metadata": {
    "collapsed": true
   },
   "outputs": [],
   "source": [
    "def newdata(X_test_enc, X_train_enc):\n",
    "    # Make Data + Estimators\n",
    "    X_train_origin = X_train.reshape((X_train.shape[0], -1))\n",
    "    X_test_origin = X_test.reshape((X_test.shape[0], -1))\n",
    "    X_train_enc = np.hstack((X_train_origin, X_train_enc))\n",
    "    X_test_enc = np.hstack((X_test_origin, X_test_enc))\n",
    "    return X_test_enc, X_train_enc\n",
    "\n",
    "def affiche():\n",
    "    # predict\n",
    "    y_pred = gc.predict(X_test)\n",
    "    acc = accuracy_score(y_test, y_pred)\n",
    "    print(\"Test Accuracy of ExtraTree = {:.6f} %\".format(acc * 100),i,'fois')"
   ]
  },
  {
   "cell_type": "code",
   "execution_count": 43,
   "metadata": {},
   "outputs": [
    {
     "name": "stderr",
     "output_type": "stream",
     "text": [
      "[ 2018-04-20 00:35:28,528][cascade_classifier.fit_transform] X_groups_train.shape=[(280, 4136)],y_train.shape=(280,),X_groups_test.shape=[(120, 4136)],y_test.shape=(120,)\n",
      "[ 2018-04-20 00:35:28,531][cascade_classifier.fit_transform] group_dims=[4136]\n",
      "[ 2018-04-20 00:35:28,532][cascade_classifier.fit_transform] group_starts=[0]\n",
      "[ 2018-04-20 00:35:28,533][cascade_classifier.fit_transform] group_ends=[4136]\n",
      "[ 2018-04-20 00:35:28,534][cascade_classifier.fit_transform] X_train.shape=(280, 4136),X_test.shape=(120, 4136)\n",
      "[ 2018-04-20 00:35:28,537][cascade_classifier.fit_transform] [layer=0] look_indexs=[0], X_cur_train.shape=(280, 4136), X_cur_test.shape=(120, 4136)\n",
      "[ 2018-04-20 00:35:29,230][kfold_wrapper.log_eval_metrics] Accuracy(layer_0 - estimator_0 - 10_folds.train_0.predict)=95.83%\n",
      "[ 2018-04-20 00:35:30,347][kfold_wrapper.log_eval_metrics] Accuracy(layer_0 - estimator_0 - 10_folds.train_1.predict)=92.31%\n",
      "[ 2018-04-20 00:35:31,334][kfold_wrapper.log_eval_metrics] Accuracy(layer_0 - estimator_0 - 10_folds.train_2.predict)=89.66%\n",
      "[ 2018-04-20 00:35:32,427][kfold_wrapper.log_eval_metrics] Accuracy(layer_0 - estimator_0 - 10_folds.train_3.predict)=93.75%\n",
      "[ 2018-04-20 00:35:33,450][kfold_wrapper.log_eval_metrics] Accuracy(layer_0 - estimator_0 - 10_folds.train_4.predict)=90.62%\n",
      "[ 2018-04-20 00:35:34,385][kfold_wrapper.log_eval_metrics] Accuracy(layer_0 - estimator_0 - 10_folds.train_5.predict)=96.30%\n",
      "[ 2018-04-20 00:35:35,355][kfold_wrapper.log_eval_metrics] Accuracy(layer_0 - estimator_0 - 10_folds.train_6.predict)=89.66%\n",
      "[ 2018-04-20 00:35:36,453][kfold_wrapper.log_eval_metrics] Accuracy(layer_0 - estimator_0 - 10_folds.train_7.predict)=96.15%\n",
      "[ 2018-04-20 00:35:37,580][kfold_wrapper.log_eval_metrics] Accuracy(layer_0 - estimator_0 - 10_folds.train_8.predict)=96.15%\n",
      "[ 2018-04-20 00:35:38,652][kfold_wrapper.log_eval_metrics] Accuracy(layer_0 - estimator_0 - 10_folds.train_9.predict)=96.55%\n",
      "[ 2018-04-20 00:35:38,908][kfold_wrapper.log_eval_metrics] Accuracy(layer_0 - estimator_0 - 10_folds.train_cv.predict)=93.57%\n",
      "[ 2018-04-20 00:35:38,910][kfold_wrapper.log_eval_metrics] Accuracy(layer_0 - estimator_0 - 10_folds.test.predict)=92.50%\n",
      "[ 2018-04-20 00:35:38,917][cascade_classifier.calc_accuracy] Accuracy(layer_0 - train.classifier_average)=93.57%\n",
      "[ 2018-04-20 00:35:38,918][cascade_classifier.calc_accuracy] Accuracy(layer_0 - test.classifier_average)=92.50%\n",
      "[ 2018-04-20 00:35:38,920][cascade_classifier.fit_transform] [Result][Reach Max Layer] opt_layer_num=1, accuracy_train=93.57%, accuracy_test=92.50%\n",
      "[ 2018-04-20 00:35:38,921][cascade_classifier.transform] X_groups_test.shape=[(120, 4136)]\n",
      "[ 2018-04-20 00:35:38,925][cascade_classifier.transform] group_dims=[4136]\n",
      "[ 2018-04-20 00:35:38,926][cascade_classifier.transform] X_test.shape=(120, 4136)\n",
      "[ 2018-04-20 00:35:38,929][cascade_classifier.transform] [layer=0] look_indexs=[0], X_cur_test.shape=(120, 4136)\n",
      "[ 2018-04-20 00:35:41,406][cascade_classifier.fit_transform] X_groups_train.shape=[(280, 4136)],y_train.shape=(280,),X_groups_test.shape=[(120, 4136)],y_test.shape=(120,)\n",
      "[ 2018-04-20 00:35:41,409][cascade_classifier.fit_transform] group_dims=[4136]\n",
      "[ 2018-04-20 00:35:41,410][cascade_classifier.fit_transform] group_starts=[0]\n",
      "[ 2018-04-20 00:35:41,412][cascade_classifier.fit_transform] group_ends=[4136]\n",
      "[ 2018-04-20 00:35:41,413][cascade_classifier.fit_transform] X_train.shape=(280, 4136),X_test.shape=(120, 4136)\n",
      "[ 2018-04-20 00:35:41,416][cascade_classifier.fit_transform] [layer=0] look_indexs=[0], X_cur_train.shape=(280, 4136), X_cur_test.shape=(120, 4136)\n"
     ]
    },
    {
     "name": "stdout",
     "output_type": "stream",
     "text": [
      "('Test Accuracy of ExtraTree = 92.500000 %', 0, 'fois')\n"
     ]
    },
    {
     "name": "stderr",
     "output_type": "stream",
     "text": [
      "[ 2018-04-20 00:35:42,248][kfold_wrapper.log_eval_metrics] Accuracy(layer_0 - estimator_0 - 10_folds.train_0.predict)=91.67%\n",
      "[ 2018-04-20 00:35:43,214][kfold_wrapper.log_eval_metrics] Accuracy(layer_0 - estimator_0 - 10_folds.train_1.predict)=92.31%\n",
      "[ 2018-04-20 00:35:44,310][kfold_wrapper.log_eval_metrics] Accuracy(layer_0 - estimator_0 - 10_folds.train_2.predict)=93.10%\n",
      "[ 2018-04-20 00:35:45,374][kfold_wrapper.log_eval_metrics] Accuracy(layer_0 - estimator_0 - 10_folds.train_3.predict)=96.88%\n",
      "[ 2018-04-20 00:35:46,318][kfold_wrapper.log_eval_metrics] Accuracy(layer_0 - estimator_0 - 10_folds.train_4.predict)=84.38%\n",
      "[ 2018-04-20 00:35:47,280][kfold_wrapper.log_eval_metrics] Accuracy(layer_0 - estimator_0 - 10_folds.train_5.predict)=96.30%\n",
      "[ 2018-04-20 00:35:48,268][kfold_wrapper.log_eval_metrics] Accuracy(layer_0 - estimator_0 - 10_folds.train_6.predict)=82.76%\n",
      "[ 2018-04-20 00:35:49,373][kfold_wrapper.log_eval_metrics] Accuracy(layer_0 - estimator_0 - 10_folds.train_7.predict)=96.15%\n",
      "[ 2018-04-20 00:35:50,274][kfold_wrapper.log_eval_metrics] Accuracy(layer_0 - estimator_0 - 10_folds.train_8.predict)=96.15%\n",
      "[ 2018-04-20 00:35:51,291][kfold_wrapper.log_eval_metrics] Accuracy(layer_0 - estimator_0 - 10_folds.train_9.predict)=89.66%\n",
      "[ 2018-04-20 00:35:51,538][kfold_wrapper.log_eval_metrics] Accuracy(layer_0 - estimator_0 - 10_folds.train_cv.predict)=91.79%\n",
      "[ 2018-04-20 00:35:51,539][kfold_wrapper.log_eval_metrics] Accuracy(layer_0 - estimator_0 - 10_folds.test.predict)=92.50%\n",
      "[ 2018-04-20 00:35:51,544][cascade_classifier.calc_accuracy] Accuracy(layer_0 - train.classifier_average)=91.79%\n",
      "[ 2018-04-20 00:35:51,545][cascade_classifier.calc_accuracy] Accuracy(layer_0 - test.classifier_average)=92.50%\n",
      "[ 2018-04-20 00:35:51,546][cascade_classifier.fit_transform] [Result][Reach Max Layer] opt_layer_num=1, accuracy_train=91.79%, accuracy_test=92.50%\n",
      "[ 2018-04-20 00:35:51,547][cascade_classifier.transform] X_groups_test.shape=[(120, 4136)]\n",
      "[ 2018-04-20 00:35:51,549][cascade_classifier.transform] group_dims=[4136]\n",
      "[ 2018-04-20 00:35:51,550][cascade_classifier.transform] X_test.shape=(120, 4136)\n",
      "[ 2018-04-20 00:35:51,551][cascade_classifier.transform] [layer=0] look_indexs=[0], X_cur_test.shape=(120, 4136)\n",
      "[ 2018-04-20 00:35:54,240][cascade_classifier.fit_transform] X_groups_train.shape=[(280, 4136)],y_train.shape=(280,),X_groups_test.shape=[(120, 4136)],y_test.shape=(120,)\n",
      "[ 2018-04-20 00:35:54,242][cascade_classifier.fit_transform] group_dims=[4136]\n",
      "[ 2018-04-20 00:35:54,244][cascade_classifier.fit_transform] group_starts=[0]\n",
      "[ 2018-04-20 00:35:54,245][cascade_classifier.fit_transform] group_ends=[4136]\n",
      "[ 2018-04-20 00:35:54,246][cascade_classifier.fit_transform] X_train.shape=(280, 4136),X_test.shape=(120, 4136)\n",
      "[ 2018-04-20 00:35:54,248][cascade_classifier.fit_transform] [layer=0] look_indexs=[0], X_cur_train.shape=(280, 4136), X_cur_test.shape=(120, 4136)\n"
     ]
    },
    {
     "name": "stdout",
     "output_type": "stream",
     "text": [
      "('Test Accuracy of ExtraTree = 92.500000 %', 1, 'fois')\n"
     ]
    },
    {
     "name": "stderr",
     "output_type": "stream",
     "text": [
      "[ 2018-04-20 00:35:55,059][kfold_wrapper.log_eval_metrics] Accuracy(layer_0 - estimator_0 - 10_folds.train_0.predict)=95.83%\n",
      "[ 2018-04-20 00:35:55,968][kfold_wrapper.log_eval_metrics] Accuracy(layer_0 - estimator_0 - 10_folds.train_1.predict)=96.15%\n",
      "[ 2018-04-20 00:35:56,928][kfold_wrapper.log_eval_metrics] Accuracy(layer_0 - estimator_0 - 10_folds.train_2.predict)=86.21%\n",
      "[ 2018-04-20 00:35:58,040][kfold_wrapper.log_eval_metrics] Accuracy(layer_0 - estimator_0 - 10_folds.train_3.predict)=96.88%\n",
      "[ 2018-04-20 00:35:59,109][kfold_wrapper.log_eval_metrics] Accuracy(layer_0 - estimator_0 - 10_folds.train_4.predict)=90.62%\n",
      "[ 2018-04-20 00:36:00,071][kfold_wrapper.log_eval_metrics] Accuracy(layer_0 - estimator_0 - 10_folds.train_5.predict)=96.30%\n",
      "[ 2018-04-20 00:36:00,984][kfold_wrapper.log_eval_metrics] Accuracy(layer_0 - estimator_0 - 10_folds.train_6.predict)=86.21%\n",
      "[ 2018-04-20 00:36:02,055][kfold_wrapper.log_eval_metrics] Accuracy(layer_0 - estimator_0 - 10_folds.train_7.predict)=100.00%\n",
      "[ 2018-04-20 00:36:03,100][kfold_wrapper.log_eval_metrics] Accuracy(layer_0 - estimator_0 - 10_folds.train_8.predict)=92.31%\n",
      "[ 2018-04-20 00:36:04,066][kfold_wrapper.log_eval_metrics] Accuracy(layer_0 - estimator_0 - 10_folds.train_9.predict)=89.66%\n",
      "[ 2018-04-20 00:36:04,311][kfold_wrapper.log_eval_metrics] Accuracy(layer_0 - estimator_0 - 10_folds.train_cv.predict)=92.86%\n",
      "[ 2018-04-20 00:36:04,313][kfold_wrapper.log_eval_metrics] Accuracy(layer_0 - estimator_0 - 10_folds.test.predict)=91.67%\n",
      "[ 2018-04-20 00:36:04,318][cascade_classifier.calc_accuracy] Accuracy(layer_0 - train.classifier_average)=92.86%\n",
      "[ 2018-04-20 00:36:04,319][cascade_classifier.calc_accuracy] Accuracy(layer_0 - test.classifier_average)=91.67%\n",
      "[ 2018-04-20 00:36:04,320][cascade_classifier.fit_transform] [Result][Reach Max Layer] opt_layer_num=1, accuracy_train=92.86%, accuracy_test=91.67%\n",
      "[ 2018-04-20 00:36:04,322][cascade_classifier.transform] X_groups_test.shape=[(120, 4136)]\n",
      "[ 2018-04-20 00:36:04,324][cascade_classifier.transform] group_dims=[4136]\n",
      "[ 2018-04-20 00:36:04,325][cascade_classifier.transform] X_test.shape=(120, 4136)\n",
      "[ 2018-04-20 00:36:04,327][cascade_classifier.transform] [layer=0] look_indexs=[0], X_cur_test.shape=(120, 4136)\n",
      "[ 2018-04-20 00:36:06,954][cascade_classifier.fit_transform] X_groups_train.shape=[(280, 4136)],y_train.shape=(280,),X_groups_test.shape=[(120, 4136)],y_test.shape=(120,)\n",
      "[ 2018-04-20 00:36:06,956][cascade_classifier.fit_transform] group_dims=[4136]\n",
      "[ 2018-04-20 00:36:06,958][cascade_classifier.fit_transform] group_starts=[0]\n",
      "[ 2018-04-20 00:36:06,959][cascade_classifier.fit_transform] group_ends=[4136]\n",
      "[ 2018-04-20 00:36:06,960][cascade_classifier.fit_transform] X_train.shape=(280, 4136),X_test.shape=(120, 4136)\n",
      "[ 2018-04-20 00:36:06,962][cascade_classifier.fit_transform] [layer=0] look_indexs=[0], X_cur_train.shape=(280, 4136), X_cur_test.shape=(120, 4136)\n"
     ]
    },
    {
     "name": "stdout",
     "output_type": "stream",
     "text": [
      "('Test Accuracy of ExtraTree = 91.666667 %', 2, 'fois')\n"
     ]
    },
    {
     "name": "stderr",
     "output_type": "stream",
     "text": [
      "[ 2018-04-20 00:36:07,666][kfold_wrapper.log_eval_metrics] Accuracy(layer_0 - estimator_0 - 10_folds.train_0.predict)=95.83%\n",
      "[ 2018-04-20 00:36:08,818][kfold_wrapper.log_eval_metrics] Accuracy(layer_0 - estimator_0 - 10_folds.train_1.predict)=92.31%\n",
      "[ 2018-04-20 00:36:09,769][kfold_wrapper.log_eval_metrics] Accuracy(layer_0 - estimator_0 - 10_folds.train_2.predict)=93.10%\n",
      "[ 2018-04-20 00:36:10,771][kfold_wrapper.log_eval_metrics] Accuracy(layer_0 - estimator_0 - 10_folds.train_3.predict)=96.88%\n",
      "[ 2018-04-20 00:36:11,833][kfold_wrapper.log_eval_metrics] Accuracy(layer_0 - estimator_0 - 10_folds.train_4.predict)=90.62%\n",
      "[ 2018-04-20 00:36:12,766][kfold_wrapper.log_eval_metrics] Accuracy(layer_0 - estimator_0 - 10_folds.train_5.predict)=96.30%\n",
      "[ 2018-04-20 00:36:13,757][kfold_wrapper.log_eval_metrics] Accuracy(layer_0 - estimator_0 - 10_folds.train_6.predict)=86.21%\n",
      "[ 2018-04-20 00:36:14,924][kfold_wrapper.log_eval_metrics] Accuracy(layer_0 - estimator_0 - 10_folds.train_7.predict)=100.00%\n",
      "[ 2018-04-20 00:36:15,973][kfold_wrapper.log_eval_metrics] Accuracy(layer_0 - estimator_0 - 10_folds.train_8.predict)=92.31%\n",
      "[ 2018-04-20 00:36:17,001][kfold_wrapper.log_eval_metrics] Accuracy(layer_0 - estimator_0 - 10_folds.train_9.predict)=93.10%\n",
      "[ 2018-04-20 00:36:17,264][kfold_wrapper.log_eval_metrics] Accuracy(layer_0 - estimator_0 - 10_folds.train_cv.predict)=93.57%\n",
      "[ 2018-04-20 00:36:17,266][kfold_wrapper.log_eval_metrics] Accuracy(layer_0 - estimator_0 - 10_folds.test.predict)=90.83%\n",
      "[ 2018-04-20 00:36:17,272][cascade_classifier.calc_accuracy] Accuracy(layer_0 - train.classifier_average)=93.57%\n",
      "[ 2018-04-20 00:36:17,274][cascade_classifier.calc_accuracy] Accuracy(layer_0 - test.classifier_average)=90.83%\n",
      "[ 2018-04-20 00:36:17,275][cascade_classifier.fit_transform] [Result][Reach Max Layer] opt_layer_num=1, accuracy_train=93.57%, accuracy_test=90.83%\n",
      "[ 2018-04-20 00:36:17,276][cascade_classifier.transform] X_groups_test.shape=[(120, 4136)]\n",
      "[ 2018-04-20 00:36:17,278][cascade_classifier.transform] group_dims=[4136]\n",
      "[ 2018-04-20 00:36:17,279][cascade_classifier.transform] X_test.shape=(120, 4136)\n",
      "[ 2018-04-20 00:36:17,281][cascade_classifier.transform] [layer=0] look_indexs=[0], X_cur_test.shape=(120, 4136)\n",
      "[ 2018-04-20 00:36:19,815][cascade_classifier.fit_transform] X_groups_train.shape=[(280, 4136)],y_train.shape=(280,),X_groups_test.shape=[(120, 4136)],y_test.shape=(120,)\n",
      "[ 2018-04-20 00:36:19,819][cascade_classifier.fit_transform] group_dims=[4136]\n",
      "[ 2018-04-20 00:36:19,821][cascade_classifier.fit_transform] group_starts=[0]\n",
      "[ 2018-04-20 00:36:19,822][cascade_classifier.fit_transform] group_ends=[4136]\n",
      "[ 2018-04-20 00:36:19,823][cascade_classifier.fit_transform] X_train.shape=(280, 4136),X_test.shape=(120, 4136)\n",
      "[ 2018-04-20 00:36:19,825][cascade_classifier.fit_transform] [layer=0] look_indexs=[0], X_cur_train.shape=(280, 4136), X_cur_test.shape=(120, 4136)\n"
     ]
    },
    {
     "name": "stdout",
     "output_type": "stream",
     "text": [
      "('Test Accuracy of ExtraTree = 90.833333 %', 3, 'fois')\n"
     ]
    },
    {
     "name": "stderr",
     "output_type": "stream",
     "text": [
      "[ 2018-04-20 00:36:20,527][kfold_wrapper.log_eval_metrics] Accuracy(layer_0 - estimator_0 - 10_folds.train_0.predict)=95.83%\n",
      "[ 2018-04-20 00:36:21,621][kfold_wrapper.log_eval_metrics] Accuracy(layer_0 - estimator_0 - 10_folds.train_1.predict)=92.31%\n",
      "[ 2018-04-20 00:36:22,609][kfold_wrapper.log_eval_metrics] Accuracy(layer_0 - estimator_0 - 10_folds.train_2.predict)=86.21%\n",
      "[ 2018-04-20 00:36:23,629][kfold_wrapper.log_eval_metrics] Accuracy(layer_0 - estimator_0 - 10_folds.train_3.predict)=93.75%\n",
      "[ 2018-04-20 00:36:24,706][kfold_wrapper.log_eval_metrics] Accuracy(layer_0 - estimator_0 - 10_folds.train_4.predict)=93.75%\n",
      "[ 2018-04-20 00:36:25,725][kfold_wrapper.log_eval_metrics] Accuracy(layer_0 - estimator_0 - 10_folds.train_5.predict)=96.30%\n",
      "[ 2018-04-20 00:36:26,723][kfold_wrapper.log_eval_metrics] Accuracy(layer_0 - estimator_0 - 10_folds.train_6.predict)=86.21%\n",
      "[ 2018-04-20 00:36:27,685][kfold_wrapper.log_eval_metrics] Accuracy(layer_0 - estimator_0 - 10_folds.train_7.predict)=96.15%\n",
      "[ 2018-04-20 00:36:28,784][kfold_wrapper.log_eval_metrics] Accuracy(layer_0 - estimator_0 - 10_folds.train_8.predict)=92.31%\n",
      "[ 2018-04-20 00:36:29,754][kfold_wrapper.log_eval_metrics] Accuracy(layer_0 - estimator_0 - 10_folds.train_9.predict)=86.21%\n",
      "[ 2018-04-20 00:36:30,001][kfold_wrapper.log_eval_metrics] Accuracy(layer_0 - estimator_0 - 10_folds.train_cv.predict)=91.79%\n",
      "[ 2018-04-20 00:36:30,003][kfold_wrapper.log_eval_metrics] Accuracy(layer_0 - estimator_0 - 10_folds.test.predict)=92.50%\n",
      "[ 2018-04-20 00:36:30,008][cascade_classifier.calc_accuracy] Accuracy(layer_0 - train.classifier_average)=91.79%\n",
      "[ 2018-04-20 00:36:30,010][cascade_classifier.calc_accuracy] Accuracy(layer_0 - test.classifier_average)=92.50%\n",
      "[ 2018-04-20 00:36:30,011][cascade_classifier.fit_transform] [Result][Reach Max Layer] opt_layer_num=1, accuracy_train=91.79%, accuracy_test=92.50%\n",
      "[ 2018-04-20 00:36:30,012][cascade_classifier.transform] X_groups_test.shape=[(120, 4136)]\n",
      "[ 2018-04-20 00:36:30,014][cascade_classifier.transform] group_dims=[4136]\n",
      "[ 2018-04-20 00:36:30,015][cascade_classifier.transform] X_test.shape=(120, 4136)\n",
      "[ 2018-04-20 00:36:30,017][cascade_classifier.transform] [layer=0] look_indexs=[0], X_cur_test.shape=(120, 4136)\n",
      "[ 2018-04-20 00:36:32,686][cascade_classifier.fit_transform] X_groups_train.shape=[(280, 4136)],y_train.shape=(280,),X_groups_test.shape=[(120, 4136)],y_test.shape=(120,)\n",
      "[ 2018-04-20 00:36:32,689][cascade_classifier.fit_transform] group_dims=[4136]\n",
      "[ 2018-04-20 00:36:32,691][cascade_classifier.fit_transform] group_starts=[0]\n",
      "[ 2018-04-20 00:36:32,692][cascade_classifier.fit_transform] group_ends=[4136]\n",
      "[ 2018-04-20 00:36:32,693][cascade_classifier.fit_transform] X_train.shape=(280, 4136),X_test.shape=(120, 4136)\n",
      "[ 2018-04-20 00:36:32,696][cascade_classifier.fit_transform] [layer=0] look_indexs=[0], X_cur_train.shape=(280, 4136), X_cur_test.shape=(120, 4136)\n"
     ]
    },
    {
     "name": "stdout",
     "output_type": "stream",
     "text": [
      "('Test Accuracy of ExtraTree = 92.500000 %', 4, 'fois')\n"
     ]
    },
    {
     "name": "stderr",
     "output_type": "stream",
     "text": [
      "[ 2018-04-20 00:36:33,458][kfold_wrapper.log_eval_metrics] Accuracy(layer_0 - estimator_0 - 10_folds.train_0.predict)=95.83%\n",
      "[ 2018-04-20 00:36:34,536][kfold_wrapper.log_eval_metrics] Accuracy(layer_0 - estimator_0 - 10_folds.train_1.predict)=92.31%\n",
      "[ 2018-04-20 00:36:35,479][kfold_wrapper.log_eval_metrics] Accuracy(layer_0 - estimator_0 - 10_folds.train_2.predict)=86.21%\n",
      "[ 2018-04-20 00:36:36,630][kfold_wrapper.log_eval_metrics] Accuracy(layer_0 - estimator_0 - 10_folds.train_3.predict)=96.88%\n",
      "[ 2018-04-20 00:36:37,564][kfold_wrapper.log_eval_metrics] Accuracy(layer_0 - estimator_0 - 10_folds.train_4.predict)=87.50%\n",
      "[ 2018-04-20 00:36:38,567][kfold_wrapper.log_eval_metrics] Accuracy(layer_0 - estimator_0 - 10_folds.train_5.predict)=96.30%\n",
      "[ 2018-04-20 00:36:39,660][kfold_wrapper.log_eval_metrics] Accuracy(layer_0 - estimator_0 - 10_folds.train_6.predict)=86.21%\n",
      "[ 2018-04-20 00:36:40,642][kfold_wrapper.log_eval_metrics] Accuracy(layer_0 - estimator_0 - 10_folds.train_7.predict)=96.15%\n",
      "[ 2018-04-20 00:36:41,598][kfold_wrapper.log_eval_metrics] Accuracy(layer_0 - estimator_0 - 10_folds.train_8.predict)=96.15%\n",
      "[ 2018-04-20 00:36:42,527][kfold_wrapper.log_eval_metrics] Accuracy(layer_0 - estimator_0 - 10_folds.train_9.predict)=89.66%\n",
      "[ 2018-04-20 00:36:42,786][kfold_wrapper.log_eval_metrics] Accuracy(layer_0 - estimator_0 - 10_folds.train_cv.predict)=92.14%\n",
      "[ 2018-04-20 00:36:42,788][kfold_wrapper.log_eval_metrics] Accuracy(layer_0 - estimator_0 - 10_folds.test.predict)=91.67%\n",
      "[ 2018-04-20 00:36:42,798][cascade_classifier.calc_accuracy] Accuracy(layer_0 - train.classifier_average)=92.14%\n",
      "[ 2018-04-20 00:36:42,799][cascade_classifier.calc_accuracy] Accuracy(layer_0 - test.classifier_average)=91.67%\n",
      "[ 2018-04-20 00:36:42,800][cascade_classifier.fit_transform] [Result][Reach Max Layer] opt_layer_num=1, accuracy_train=92.14%, accuracy_test=91.67%\n",
      "[ 2018-04-20 00:36:42,801][cascade_classifier.transform] X_groups_test.shape=[(120, 4136)]\n",
      "[ 2018-04-20 00:36:42,804][cascade_classifier.transform] group_dims=[4136]\n",
      "[ 2018-04-20 00:36:42,805][cascade_classifier.transform] X_test.shape=(120, 4136)\n",
      "[ 2018-04-20 00:36:42,808][cascade_classifier.transform] [layer=0] look_indexs=[0], X_cur_test.shape=(120, 4136)\n",
      "[ 2018-04-20 00:36:45,383][cascade_classifier.fit_transform] X_groups_train.shape=[(280, 4136)],y_train.shape=(280,),X_groups_test.shape=[(120, 4136)],y_test.shape=(120,)\n",
      "[ 2018-04-20 00:36:45,385][cascade_classifier.fit_transform] group_dims=[4136]\n",
      "[ 2018-04-20 00:36:45,386][cascade_classifier.fit_transform] group_starts=[0]\n",
      "[ 2018-04-20 00:36:45,387][cascade_classifier.fit_transform] group_ends=[4136]\n",
      "[ 2018-04-20 00:36:45,388][cascade_classifier.fit_transform] X_train.shape=(280, 4136),X_test.shape=(120, 4136)\n",
      "[ 2018-04-20 00:36:45,390][cascade_classifier.fit_transform] [layer=0] look_indexs=[0], X_cur_train.shape=(280, 4136), X_cur_test.shape=(120, 4136)\n"
     ]
    },
    {
     "name": "stdout",
     "output_type": "stream",
     "text": [
      "('Test Accuracy of ExtraTree = 91.666667 %', 5, 'fois')\n"
     ]
    },
    {
     "name": "stderr",
     "output_type": "stream",
     "text": [
      "[ 2018-04-20 00:36:46,232][kfold_wrapper.log_eval_metrics] Accuracy(layer_0 - estimator_0 - 10_folds.train_0.predict)=95.83%\n",
      "[ 2018-04-20 00:36:47,329][kfold_wrapper.log_eval_metrics] Accuracy(layer_0 - estimator_0 - 10_folds.train_1.predict)=96.15%\n",
      "[ 2018-04-20 00:36:48,271][kfold_wrapper.log_eval_metrics] Accuracy(layer_0 - estimator_0 - 10_folds.train_2.predict)=93.10%\n",
      "[ 2018-04-20 00:36:49,347][kfold_wrapper.log_eval_metrics] Accuracy(layer_0 - estimator_0 - 10_folds.train_3.predict)=93.75%\n",
      "[ 2018-04-20 00:36:50,453][kfold_wrapper.log_eval_metrics] Accuracy(layer_0 - estimator_0 - 10_folds.train_4.predict)=90.62%\n",
      "[ 2018-04-20 00:36:51,519][kfold_wrapper.log_eval_metrics] Accuracy(layer_0 - estimator_0 - 10_folds.train_5.predict)=96.30%\n",
      "[ 2018-04-20 00:36:52,482][kfold_wrapper.log_eval_metrics] Accuracy(layer_0 - estimator_0 - 10_folds.train_6.predict)=86.21%\n",
      "[ 2018-04-20 00:36:53,437][kfold_wrapper.log_eval_metrics] Accuracy(layer_0 - estimator_0 - 10_folds.train_7.predict)=96.15%\n",
      "[ 2018-04-20 00:36:54,397][kfold_wrapper.log_eval_metrics] Accuracy(layer_0 - estimator_0 - 10_folds.train_8.predict)=96.15%\n",
      "[ 2018-04-20 00:36:55,353][kfold_wrapper.log_eval_metrics] Accuracy(layer_0 - estimator_0 - 10_folds.train_9.predict)=93.10%\n",
      "[ 2018-04-20 00:36:55,593][kfold_wrapper.log_eval_metrics] Accuracy(layer_0 - estimator_0 - 10_folds.train_cv.predict)=93.57%\n",
      "[ 2018-04-20 00:36:55,594][kfold_wrapper.log_eval_metrics] Accuracy(layer_0 - estimator_0 - 10_folds.test.predict)=93.33%\n",
      "[ 2018-04-20 00:36:55,600][cascade_classifier.calc_accuracy] Accuracy(layer_0 - train.classifier_average)=93.57%\n",
      "[ 2018-04-20 00:36:55,601][cascade_classifier.calc_accuracy] Accuracy(layer_0 - test.classifier_average)=93.33%\n",
      "[ 2018-04-20 00:36:55,603][cascade_classifier.fit_transform] [Result][Reach Max Layer] opt_layer_num=1, accuracy_train=93.57%, accuracy_test=93.33%\n",
      "[ 2018-04-20 00:36:55,604][cascade_classifier.transform] X_groups_test.shape=[(120, 4136)]\n",
      "[ 2018-04-20 00:36:55,606][cascade_classifier.transform] group_dims=[4136]\n",
      "[ 2018-04-20 00:36:55,607][cascade_classifier.transform] X_test.shape=(120, 4136)\n",
      "[ 2018-04-20 00:36:55,609][cascade_classifier.transform] [layer=0] look_indexs=[0], X_cur_test.shape=(120, 4136)\n",
      "[ 2018-04-20 00:36:58,209][cascade_classifier.fit_transform] X_groups_train.shape=[(280, 4136)],y_train.shape=(280,),X_groups_test.shape=[(120, 4136)],y_test.shape=(120,)\n",
      "[ 2018-04-20 00:36:58,212][cascade_classifier.fit_transform] group_dims=[4136]\n",
      "[ 2018-04-20 00:36:58,213][cascade_classifier.fit_transform] group_starts=[0]\n",
      "[ 2018-04-20 00:36:58,214][cascade_classifier.fit_transform] group_ends=[4136]\n",
      "[ 2018-04-20 00:36:58,215][cascade_classifier.fit_transform] X_train.shape=(280, 4136),X_test.shape=(120, 4136)\n",
      "[ 2018-04-20 00:36:58,217][cascade_classifier.fit_transform] [layer=0] look_indexs=[0], X_cur_train.shape=(280, 4136), X_cur_test.shape=(120, 4136)\n"
     ]
    },
    {
     "name": "stdout",
     "output_type": "stream",
     "text": [
      "('Test Accuracy of ExtraTree = 93.333333 %', 6, 'fois')\n"
     ]
    },
    {
     "name": "stderr",
     "output_type": "stream",
     "text": [
      "[ 2018-04-20 00:36:58,913][kfold_wrapper.log_eval_metrics] Accuracy(layer_0 - estimator_0 - 10_folds.train_0.predict)=91.67%\n",
      "[ 2018-04-20 00:36:59,987][kfold_wrapper.log_eval_metrics] Accuracy(layer_0 - estimator_0 - 10_folds.train_1.predict)=92.31%\n",
      "[ 2018-04-20 00:37:00,915][kfold_wrapper.log_eval_metrics] Accuracy(layer_0 - estimator_0 - 10_folds.train_2.predict)=93.10%\n",
      "[ 2018-04-20 00:37:01,904][kfold_wrapper.log_eval_metrics] Accuracy(layer_0 - estimator_0 - 10_folds.train_3.predict)=93.75%\n",
      "[ 2018-04-20 00:37:02,856][kfold_wrapper.log_eval_metrics] Accuracy(layer_0 - estimator_0 - 10_folds.train_4.predict)=93.75%\n",
      "[ 2018-04-20 00:37:03,984][kfold_wrapper.log_eval_metrics] Accuracy(layer_0 - estimator_0 - 10_folds.train_5.predict)=92.59%\n",
      "[ 2018-04-20 00:37:05,128][kfold_wrapper.log_eval_metrics] Accuracy(layer_0 - estimator_0 - 10_folds.train_6.predict)=82.76%\n",
      "[ 2018-04-20 00:37:06,230][kfold_wrapper.log_eval_metrics] Accuracy(layer_0 - estimator_0 - 10_folds.train_7.predict)=100.00%\n",
      "[ 2018-04-20 00:37:07,196][kfold_wrapper.log_eval_metrics] Accuracy(layer_0 - estimator_0 - 10_folds.train_8.predict)=92.31%\n",
      "[ 2018-04-20 00:37:08,133][kfold_wrapper.log_eval_metrics] Accuracy(layer_0 - estimator_0 - 10_folds.train_9.predict)=89.66%\n",
      "[ 2018-04-20 00:37:08,394][kfold_wrapper.log_eval_metrics] Accuracy(layer_0 - estimator_0 - 10_folds.train_cv.predict)=92.14%\n",
      "[ 2018-04-20 00:37:08,396][kfold_wrapper.log_eval_metrics] Accuracy(layer_0 - estimator_0 - 10_folds.test.predict)=92.50%\n",
      "[ 2018-04-20 00:37:08,401][cascade_classifier.calc_accuracy] Accuracy(layer_0 - train.classifier_average)=92.14%\n",
      "[ 2018-04-20 00:37:08,402][cascade_classifier.calc_accuracy] Accuracy(layer_0 - test.classifier_average)=92.50%\n",
      "[ 2018-04-20 00:37:08,403][cascade_classifier.fit_transform] [Result][Reach Max Layer] opt_layer_num=1, accuracy_train=92.14%, accuracy_test=92.50%\n",
      "[ 2018-04-20 00:37:08,405][cascade_classifier.transform] X_groups_test.shape=[(120, 4136)]\n",
      "[ 2018-04-20 00:37:08,407][cascade_classifier.transform] group_dims=[4136]\n",
      "[ 2018-04-20 00:37:08,408][cascade_classifier.transform] X_test.shape=(120, 4136)\n",
      "[ 2018-04-20 00:37:08,410][cascade_classifier.transform] [layer=0] look_indexs=[0], X_cur_test.shape=(120, 4136)\n",
      "[ 2018-04-20 00:37:11,012][cascade_classifier.fit_transform] X_groups_train.shape=[(280, 4136)],y_train.shape=(280,),X_groups_test.shape=[(120, 4136)],y_test.shape=(120,)\n",
      "[ 2018-04-20 00:37:11,014][cascade_classifier.fit_transform] group_dims=[4136]\n",
      "[ 2018-04-20 00:37:11,015][cascade_classifier.fit_transform] group_starts=[0]\n",
      "[ 2018-04-20 00:37:11,017][cascade_classifier.fit_transform] group_ends=[4136]\n",
      "[ 2018-04-20 00:37:11,017][cascade_classifier.fit_transform] X_train.shape=(280, 4136),X_test.shape=(120, 4136)\n",
      "[ 2018-04-20 00:37:11,019][cascade_classifier.fit_transform] [layer=0] look_indexs=[0], X_cur_train.shape=(280, 4136), X_cur_test.shape=(120, 4136)\n"
     ]
    },
    {
     "name": "stdout",
     "output_type": "stream",
     "text": [
      "('Test Accuracy of ExtraTree = 92.500000 %', 7, 'fois')\n"
     ]
    },
    {
     "name": "stderr",
     "output_type": "stream",
     "text": [
      "[ 2018-04-20 00:37:11,827][kfold_wrapper.log_eval_metrics] Accuracy(layer_0 - estimator_0 - 10_folds.train_0.predict)=95.83%\n",
      "[ 2018-04-20 00:37:13,016][kfold_wrapper.log_eval_metrics] Accuracy(layer_0 - estimator_0 - 10_folds.train_1.predict)=92.31%\n",
      "[ 2018-04-20 00:37:14,085][kfold_wrapper.log_eval_metrics] Accuracy(layer_0 - estimator_0 - 10_folds.train_2.predict)=93.10%\n",
      "[ 2018-04-20 00:37:15,190][kfold_wrapper.log_eval_metrics] Accuracy(layer_0 - estimator_0 - 10_folds.train_3.predict)=93.75%\n",
      "[ 2018-04-20 00:37:16,275][kfold_wrapper.log_eval_metrics] Accuracy(layer_0 - estimator_0 - 10_folds.train_4.predict)=90.62%\n",
      "[ 2018-04-20 00:37:17,365][kfold_wrapper.log_eval_metrics] Accuracy(layer_0 - estimator_0 - 10_folds.train_5.predict)=92.59%\n",
      "[ 2018-04-20 00:37:18,455][kfold_wrapper.log_eval_metrics] Accuracy(layer_0 - estimator_0 - 10_folds.train_6.predict)=82.76%\n",
      "[ 2018-04-20 00:37:19,554][kfold_wrapper.log_eval_metrics] Accuracy(layer_0 - estimator_0 - 10_folds.train_7.predict)=96.15%\n",
      "[ 2018-04-20 00:37:20,632][kfold_wrapper.log_eval_metrics] Accuracy(layer_0 - estimator_0 - 10_folds.train_8.predict)=96.15%\n",
      "[ 2018-04-20 00:37:21,537][kfold_wrapper.log_eval_metrics] Accuracy(layer_0 - estimator_0 - 10_folds.train_9.predict)=86.21%\n",
      "[ 2018-04-20 00:37:21,782][kfold_wrapper.log_eval_metrics] Accuracy(layer_0 - estimator_0 - 10_folds.train_cv.predict)=91.79%\n",
      "[ 2018-04-20 00:37:21,783][kfold_wrapper.log_eval_metrics] Accuracy(layer_0 - estimator_0 - 10_folds.test.predict)=90.83%\n",
      "[ 2018-04-20 00:37:21,793][cascade_classifier.calc_accuracy] Accuracy(layer_0 - train.classifier_average)=91.79%\n",
      "[ 2018-04-20 00:37:21,794][cascade_classifier.calc_accuracy] Accuracy(layer_0 - test.classifier_average)=90.83%\n",
      "[ 2018-04-20 00:37:21,796][cascade_classifier.fit_transform] [Result][Reach Max Layer] opt_layer_num=1, accuracy_train=91.79%, accuracy_test=90.83%\n",
      "[ 2018-04-20 00:37:21,797][cascade_classifier.transform] X_groups_test.shape=[(120, 4136)]\n",
      "[ 2018-04-20 00:37:21,799][cascade_classifier.transform] group_dims=[4136]\n",
      "[ 2018-04-20 00:37:21,800][cascade_classifier.transform] X_test.shape=(120, 4136)\n",
      "[ 2018-04-20 00:37:21,802][cascade_classifier.transform] [layer=0] look_indexs=[0], X_cur_test.shape=(120, 4136)\n",
      "[ 2018-04-20 00:37:24,475][cascade_classifier.fit_transform] X_groups_train.shape=[(280, 4136)],y_train.shape=(280,),X_groups_test.shape=[(120, 4136)],y_test.shape=(120,)\n",
      "[ 2018-04-20 00:37:24,477][cascade_classifier.fit_transform] group_dims=[4136]\n",
      "[ 2018-04-20 00:37:24,478][cascade_classifier.fit_transform] group_starts=[0]\n",
      "[ 2018-04-20 00:37:24,479][cascade_classifier.fit_transform] group_ends=[4136]\n",
      "[ 2018-04-20 00:37:24,481][cascade_classifier.fit_transform] X_train.shape=(280, 4136),X_test.shape=(120, 4136)\n",
      "[ 2018-04-20 00:37:24,484][cascade_classifier.fit_transform] [layer=0] look_indexs=[0], X_cur_train.shape=(280, 4136), X_cur_test.shape=(120, 4136)\n"
     ]
    },
    {
     "name": "stdout",
     "output_type": "stream",
     "text": [
      "('Test Accuracy of ExtraTree = 90.833333 %', 8, 'fois')\n"
     ]
    },
    {
     "name": "stderr",
     "output_type": "stream",
     "text": [
      "[ 2018-04-20 00:37:25,215][kfold_wrapper.log_eval_metrics] Accuracy(layer_0 - estimator_0 - 10_folds.train_0.predict)=91.67%\n",
      "[ 2018-04-20 00:37:26,284][kfold_wrapper.log_eval_metrics] Accuracy(layer_0 - estimator_0 - 10_folds.train_1.predict)=92.31%\n",
      "[ 2018-04-20 00:37:27,361][kfold_wrapper.log_eval_metrics] Accuracy(layer_0 - estimator_0 - 10_folds.train_2.predict)=89.66%\n",
      "[ 2018-04-20 00:37:28,478][kfold_wrapper.log_eval_metrics] Accuracy(layer_0 - estimator_0 - 10_folds.train_3.predict)=96.88%\n",
      "[ 2018-04-20 00:37:29,432][kfold_wrapper.log_eval_metrics] Accuracy(layer_0 - estimator_0 - 10_folds.train_4.predict)=90.62%\n",
      "[ 2018-04-20 00:37:30,424][kfold_wrapper.log_eval_metrics] Accuracy(layer_0 - estimator_0 - 10_folds.train_5.predict)=96.30%\n",
      "[ 2018-04-20 00:37:31,463][kfold_wrapper.log_eval_metrics] Accuracy(layer_0 - estimator_0 - 10_folds.train_6.predict)=86.21%\n",
      "[ 2018-04-20 00:37:32,400][kfold_wrapper.log_eval_metrics] Accuracy(layer_0 - estimator_0 - 10_folds.train_7.predict)=96.15%\n",
      "[ 2018-04-20 00:37:33,342][kfold_wrapper.log_eval_metrics] Accuracy(layer_0 - estimator_0 - 10_folds.train_8.predict)=96.15%\n",
      "[ 2018-04-20 00:37:34,286][kfold_wrapper.log_eval_metrics] Accuracy(layer_0 - estimator_0 - 10_folds.train_9.predict)=86.21%\n",
      "[ 2018-04-20 00:37:34,544][kfold_wrapper.log_eval_metrics] Accuracy(layer_0 - estimator_0 - 10_folds.train_cv.predict)=92.14%\n",
      "[ 2018-04-20 00:37:34,546][kfold_wrapper.log_eval_metrics] Accuracy(layer_0 - estimator_0 - 10_folds.test.predict)=91.67%\n",
      "[ 2018-04-20 00:37:34,550][cascade_classifier.calc_accuracy] Accuracy(layer_0 - train.classifier_average)=92.14%\n",
      "[ 2018-04-20 00:37:34,552][cascade_classifier.calc_accuracy] Accuracy(layer_0 - test.classifier_average)=91.67%\n",
      "[ 2018-04-20 00:37:34,553][cascade_classifier.fit_transform] [Result][Reach Max Layer] opt_layer_num=1, accuracy_train=92.14%, accuracy_test=91.67%\n",
      "[ 2018-04-20 00:37:34,554][cascade_classifier.transform] X_groups_test.shape=[(120, 4136)]\n",
      "[ 2018-04-20 00:37:34,556][cascade_classifier.transform] group_dims=[4136]\n",
      "[ 2018-04-20 00:37:34,558][cascade_classifier.transform] X_test.shape=(120, 4136)\n",
      "[ 2018-04-20 00:37:34,559][cascade_classifier.transform] [layer=0] look_indexs=[0], X_cur_test.shape=(120, 4136)\n",
      "[ 2018-04-20 00:37:37,145][cascade_classifier.fit_transform] X_groups_train.shape=[(280, 4136)],y_train.shape=(280,),X_groups_test.shape=[(120, 4136)],y_test.shape=(120,)\n",
      "[ 2018-04-20 00:37:37,148][cascade_classifier.fit_transform] group_dims=[4136]\n",
      "[ 2018-04-20 00:37:37,149][cascade_classifier.fit_transform] group_starts=[0]\n",
      "[ 2018-04-20 00:37:37,151][cascade_classifier.fit_transform] group_ends=[4136]\n",
      "[ 2018-04-20 00:37:37,152][cascade_classifier.fit_transform] X_train.shape=(280, 4136),X_test.shape=(120, 4136)\n",
      "[ 2018-04-20 00:37:37,156][cascade_classifier.fit_transform] [layer=0] look_indexs=[0], X_cur_train.shape=(280, 4136), X_cur_test.shape=(120, 4136)\n"
     ]
    },
    {
     "name": "stdout",
     "output_type": "stream",
     "text": [
      "('Test Accuracy of ExtraTree = 91.666667 %', 9, 'fois')\n"
     ]
    },
    {
     "name": "stderr",
     "output_type": "stream",
     "text": [
      "[ 2018-04-20 00:37:37,984][kfold_wrapper.log_eval_metrics] Accuracy(layer_0 - estimator_0 - 10_folds.train_0.predict)=95.83%\n",
      "[ 2018-04-20 00:37:38,968][kfold_wrapper.log_eval_metrics] Accuracy(layer_0 - estimator_0 - 10_folds.train_1.predict)=92.31%\n",
      "[ 2018-04-20 00:37:40,108][kfold_wrapper.log_eval_metrics] Accuracy(layer_0 - estimator_0 - 10_folds.train_2.predict)=93.10%\n",
      "[ 2018-04-20 00:37:41,347][kfold_wrapper.log_eval_metrics] Accuracy(layer_0 - estimator_0 - 10_folds.train_3.predict)=93.75%\n",
      "[ 2018-04-20 00:37:42,486][kfold_wrapper.log_eval_metrics] Accuracy(layer_0 - estimator_0 - 10_folds.train_4.predict)=93.75%\n",
      "[ 2018-04-20 00:37:43,400][kfold_wrapper.log_eval_metrics] Accuracy(layer_0 - estimator_0 - 10_folds.train_5.predict)=96.30%\n",
      "[ 2018-04-20 00:37:44,520][kfold_wrapper.log_eval_metrics] Accuracy(layer_0 - estimator_0 - 10_folds.train_6.predict)=89.66%\n",
      "[ 2018-04-20 00:37:45,496][kfold_wrapper.log_eval_metrics] Accuracy(layer_0 - estimator_0 - 10_folds.train_7.predict)=100.00%\n",
      "[ 2018-04-20 00:37:46,576][kfold_wrapper.log_eval_metrics] Accuracy(layer_0 - estimator_0 - 10_folds.train_8.predict)=96.15%\n",
      "[ 2018-04-20 00:37:47,681][kfold_wrapper.log_eval_metrics] Accuracy(layer_0 - estimator_0 - 10_folds.train_9.predict)=93.10%\n",
      "[ 2018-04-20 00:37:47,938][kfold_wrapper.log_eval_metrics] Accuracy(layer_0 - estimator_0 - 10_folds.train_cv.predict)=94.29%\n",
      "[ 2018-04-20 00:37:47,940][kfold_wrapper.log_eval_metrics] Accuracy(layer_0 - estimator_0 - 10_folds.test.predict)=91.67%\n",
      "[ 2018-04-20 00:37:47,950][cascade_classifier.calc_accuracy] Accuracy(layer_0 - train.classifier_average)=94.29%\n",
      "[ 2018-04-20 00:37:47,952][cascade_classifier.calc_accuracy] Accuracy(layer_0 - test.classifier_average)=91.67%\n",
      "[ 2018-04-20 00:37:47,953][cascade_classifier.fit_transform] [Result][Reach Max Layer] opt_layer_num=1, accuracy_train=94.29%, accuracy_test=91.67%\n",
      "[ 2018-04-20 00:37:47,955][cascade_classifier.transform] X_groups_test.shape=[(120, 4136)]\n",
      "[ 2018-04-20 00:37:47,958][cascade_classifier.transform] group_dims=[4136]\n",
      "[ 2018-04-20 00:37:47,959][cascade_classifier.transform] X_test.shape=(120, 4136)\n",
      "[ 2018-04-20 00:37:47,962][cascade_classifier.transform] [layer=0] look_indexs=[0], X_cur_test.shape=(120, 4136)\n",
      "[ 2018-04-20 00:37:50,536][cascade_classifier.fit_transform] X_groups_train.shape=[(280, 4136)],y_train.shape=(280,),X_groups_test.shape=[(120, 4136)],y_test.shape=(120,)\n",
      "[ 2018-04-20 00:37:50,540][cascade_classifier.fit_transform] group_dims=[4136]\n",
      "[ 2018-04-20 00:37:50,541][cascade_classifier.fit_transform] group_starts=[0]\n",
      "[ 2018-04-20 00:37:50,543][cascade_classifier.fit_transform] group_ends=[4136]\n",
      "[ 2018-04-20 00:37:50,544][cascade_classifier.fit_transform] X_train.shape=(280, 4136),X_test.shape=(120, 4136)\n",
      "[ 2018-04-20 00:37:50,547][cascade_classifier.fit_transform] [layer=0] look_indexs=[0], X_cur_train.shape=(280, 4136), X_cur_test.shape=(120, 4136)\n"
     ]
    },
    {
     "name": "stdout",
     "output_type": "stream",
     "text": [
      "('Test Accuracy of ExtraTree = 91.666667 %', 10, 'fois')\n"
     ]
    },
    {
     "name": "stderr",
     "output_type": "stream",
     "text": [
      "[ 2018-04-20 00:37:51,254][kfold_wrapper.log_eval_metrics] Accuracy(layer_0 - estimator_0 - 10_folds.train_0.predict)=95.83%\n",
      "[ 2018-04-20 00:37:52,192][kfold_wrapper.log_eval_metrics] Accuracy(layer_0 - estimator_0 - 10_folds.train_1.predict)=92.31%\n",
      "[ 2018-04-20 00:37:53,277][kfold_wrapper.log_eval_metrics] Accuracy(layer_0 - estimator_0 - 10_folds.train_2.predict)=89.66%\n",
      "[ 2018-04-20 00:37:54,215][kfold_wrapper.log_eval_metrics] Accuracy(layer_0 - estimator_0 - 10_folds.train_3.predict)=96.88%\n",
      "[ 2018-04-20 00:37:55,308][kfold_wrapper.log_eval_metrics] Accuracy(layer_0 - estimator_0 - 10_folds.train_4.predict)=93.75%\n",
      "[ 2018-04-20 00:37:56,359][kfold_wrapper.log_eval_metrics] Accuracy(layer_0 - estimator_0 - 10_folds.train_5.predict)=96.30%\n",
      "[ 2018-04-20 00:37:57,484][kfold_wrapper.log_eval_metrics] Accuracy(layer_0 - estimator_0 - 10_folds.train_6.predict)=89.66%\n",
      "[ 2018-04-20 00:37:58,595][kfold_wrapper.log_eval_metrics] Accuracy(layer_0 - estimator_0 - 10_folds.train_7.predict)=100.00%\n",
      "[ 2018-04-20 00:37:59,594][kfold_wrapper.log_eval_metrics] Accuracy(layer_0 - estimator_0 - 10_folds.train_8.predict)=92.31%\n",
      "[ 2018-04-20 00:38:00,674][kfold_wrapper.log_eval_metrics] Accuracy(layer_0 - estimator_0 - 10_folds.train_9.predict)=86.21%\n",
      "[ 2018-04-20 00:38:00,926][kfold_wrapper.log_eval_metrics] Accuracy(layer_0 - estimator_0 - 10_folds.train_cv.predict)=93.21%\n",
      "[ 2018-04-20 00:38:00,927][kfold_wrapper.log_eval_metrics] Accuracy(layer_0 - estimator_0 - 10_folds.test.predict)=92.50%\n",
      "[ 2018-04-20 00:38:00,933][cascade_classifier.calc_accuracy] Accuracy(layer_0 - train.classifier_average)=93.21%\n",
      "[ 2018-04-20 00:38:00,934][cascade_classifier.calc_accuracy] Accuracy(layer_0 - test.classifier_average)=92.50%\n",
      "[ 2018-04-20 00:38:00,935][cascade_classifier.fit_transform] [Result][Reach Max Layer] opt_layer_num=1, accuracy_train=93.21%, accuracy_test=92.50%\n",
      "[ 2018-04-20 00:38:00,937][cascade_classifier.transform] X_groups_test.shape=[(120, 4136)]\n",
      "[ 2018-04-20 00:38:00,939][cascade_classifier.transform] group_dims=[4136]\n",
      "[ 2018-04-20 00:38:00,940][cascade_classifier.transform] X_test.shape=(120, 4136)\n",
      "[ 2018-04-20 00:38:00,941][cascade_classifier.transform] [layer=0] look_indexs=[0], X_cur_test.shape=(120, 4136)\n",
      "[ 2018-04-20 00:38:03,537][cascade_classifier.fit_transform] X_groups_train.shape=[(280, 4136)],y_train.shape=(280,),X_groups_test.shape=[(120, 4136)],y_test.shape=(120,)\n",
      "[ 2018-04-20 00:38:03,539][cascade_classifier.fit_transform] group_dims=[4136]\n",
      "[ 2018-04-20 00:38:03,541][cascade_classifier.fit_transform] group_starts=[0]\n",
      "[ 2018-04-20 00:38:03,542][cascade_classifier.fit_transform] group_ends=[4136]\n",
      "[ 2018-04-20 00:38:03,543][cascade_classifier.fit_transform] X_train.shape=(280, 4136),X_test.shape=(120, 4136)\n",
      "[ 2018-04-20 00:38:03,545][cascade_classifier.fit_transform] [layer=0] look_indexs=[0], X_cur_train.shape=(280, 4136), X_cur_test.shape=(120, 4136)\n"
     ]
    },
    {
     "name": "stdout",
     "output_type": "stream",
     "text": [
      "('Test Accuracy of ExtraTree = 92.500000 %', 11, 'fois')\n"
     ]
    },
    {
     "name": "stderr",
     "output_type": "stream",
     "text": [
      "[ 2018-04-20 00:38:04,364][kfold_wrapper.log_eval_metrics] Accuracy(layer_0 - estimator_0 - 10_folds.train_0.predict)=95.83%\n",
      "[ 2018-04-20 00:38:05,427][kfold_wrapper.log_eval_metrics] Accuracy(layer_0 - estimator_0 - 10_folds.train_1.predict)=92.31%\n",
      "[ 2018-04-20 00:38:06,522][kfold_wrapper.log_eval_metrics] Accuracy(layer_0 - estimator_0 - 10_folds.train_2.predict)=93.10%\n",
      "[ 2018-04-20 00:38:07,449][kfold_wrapper.log_eval_metrics] Accuracy(layer_0 - estimator_0 - 10_folds.train_3.predict)=100.00%\n",
      "[ 2018-04-20 00:38:08,558][kfold_wrapper.log_eval_metrics] Accuracy(layer_0 - estimator_0 - 10_folds.train_4.predict)=87.50%\n",
      "[ 2018-04-20 00:38:09,519][kfold_wrapper.log_eval_metrics] Accuracy(layer_0 - estimator_0 - 10_folds.train_5.predict)=96.30%\n",
      "[ 2018-04-20 00:38:10,479][kfold_wrapper.log_eval_metrics] Accuracy(layer_0 - estimator_0 - 10_folds.train_6.predict)=89.66%\n",
      "[ 2018-04-20 00:38:11,504][kfold_wrapper.log_eval_metrics] Accuracy(layer_0 - estimator_0 - 10_folds.train_7.predict)=96.15%\n",
      "[ 2018-04-20 00:38:12,675][kfold_wrapper.log_eval_metrics] Accuracy(layer_0 - estimator_0 - 10_folds.train_8.predict)=96.15%\n",
      "[ 2018-04-20 00:38:13,682][kfold_wrapper.log_eval_metrics] Accuracy(layer_0 - estimator_0 - 10_folds.train_9.predict)=86.21%\n",
      "[ 2018-04-20 00:38:13,934][kfold_wrapper.log_eval_metrics] Accuracy(layer_0 - estimator_0 - 10_folds.train_cv.predict)=93.21%\n",
      "[ 2018-04-20 00:38:13,936][kfold_wrapper.log_eval_metrics] Accuracy(layer_0 - estimator_0 - 10_folds.test.predict)=91.67%\n",
      "[ 2018-04-20 00:38:13,941][cascade_classifier.calc_accuracy] Accuracy(layer_0 - train.classifier_average)=93.21%\n",
      "[ 2018-04-20 00:38:13,942][cascade_classifier.calc_accuracy] Accuracy(layer_0 - test.classifier_average)=91.67%\n",
      "[ 2018-04-20 00:38:13,943][cascade_classifier.fit_transform] [Result][Reach Max Layer] opt_layer_num=1, accuracy_train=93.21%, accuracy_test=91.67%\n",
      "[ 2018-04-20 00:38:13,944][cascade_classifier.transform] X_groups_test.shape=[(120, 4136)]\n",
      "[ 2018-04-20 00:38:13,946][cascade_classifier.transform] group_dims=[4136]\n",
      "[ 2018-04-20 00:38:13,947][cascade_classifier.transform] X_test.shape=(120, 4136)\n",
      "[ 2018-04-20 00:38:13,949][cascade_classifier.transform] [layer=0] look_indexs=[0], X_cur_test.shape=(120, 4136)\n",
      "[ 2018-04-20 00:38:16,533][cascade_classifier.fit_transform] X_groups_train.shape=[(280, 4136)],y_train.shape=(280,),X_groups_test.shape=[(120, 4136)],y_test.shape=(120,)\n",
      "[ 2018-04-20 00:38:16,536][cascade_classifier.fit_transform] group_dims=[4136]\n",
      "[ 2018-04-20 00:38:16,538][cascade_classifier.fit_transform] group_starts=[0]\n",
      "[ 2018-04-20 00:38:16,539][cascade_classifier.fit_transform] group_ends=[4136]\n",
      "[ 2018-04-20 00:38:16,540][cascade_classifier.fit_transform] X_train.shape=(280, 4136),X_test.shape=(120, 4136)\n",
      "[ 2018-04-20 00:38:16,543][cascade_classifier.fit_transform] [layer=0] look_indexs=[0], X_cur_train.shape=(280, 4136), X_cur_test.shape=(120, 4136)\n"
     ]
    },
    {
     "name": "stdout",
     "output_type": "stream",
     "text": [
      "('Test Accuracy of ExtraTree = 91.666667 %', 12, 'fois')\n"
     ]
    },
    {
     "name": "stderr",
     "output_type": "stream",
     "text": [
      "[ 2018-04-20 00:38:17,440][kfold_wrapper.log_eval_metrics] Accuracy(layer_0 - estimator_0 - 10_folds.train_0.predict)=95.83%\n",
      "[ 2018-04-20 00:38:18,514][kfold_wrapper.log_eval_metrics] Accuracy(layer_0 - estimator_0 - 10_folds.train_1.predict)=96.15%\n",
      "[ 2018-04-20 00:38:19,541][kfold_wrapper.log_eval_metrics] Accuracy(layer_0 - estimator_0 - 10_folds.train_2.predict)=93.10%\n",
      "[ 2018-04-20 00:38:20,536][kfold_wrapper.log_eval_metrics] Accuracy(layer_0 - estimator_0 - 10_folds.train_3.predict)=93.75%\n",
      "[ 2018-04-20 00:38:21,758][kfold_wrapper.log_eval_metrics] Accuracy(layer_0 - estimator_0 - 10_folds.train_4.predict)=93.75%\n",
      "[ 2018-04-20 00:38:22,848][kfold_wrapper.log_eval_metrics] Accuracy(layer_0 - estimator_0 - 10_folds.train_5.predict)=96.30%\n",
      "[ 2018-04-20 00:38:23,907][kfold_wrapper.log_eval_metrics] Accuracy(layer_0 - estimator_0 - 10_folds.train_6.predict)=86.21%\n",
      "[ 2018-04-20 00:38:24,896][kfold_wrapper.log_eval_metrics] Accuracy(layer_0 - estimator_0 - 10_folds.train_7.predict)=96.15%\n",
      "[ 2018-04-20 00:38:25,887][kfold_wrapper.log_eval_metrics] Accuracy(layer_0 - estimator_0 - 10_folds.train_8.predict)=96.15%\n",
      "[ 2018-04-20 00:38:26,968][kfold_wrapper.log_eval_metrics] Accuracy(layer_0 - estimator_0 - 10_folds.train_9.predict)=89.66%\n",
      "[ 2018-04-20 00:38:27,252][kfold_wrapper.log_eval_metrics] Accuracy(layer_0 - estimator_0 - 10_folds.train_cv.predict)=93.57%\n",
      "[ 2018-04-20 00:38:27,254][kfold_wrapper.log_eval_metrics] Accuracy(layer_0 - estimator_0 - 10_folds.test.predict)=91.67%\n",
      "[ 2018-04-20 00:38:27,262][cascade_classifier.calc_accuracy] Accuracy(layer_0 - train.classifier_average)=93.57%\n",
      "[ 2018-04-20 00:38:27,264][cascade_classifier.calc_accuracy] Accuracy(layer_0 - test.classifier_average)=91.67%\n",
      "[ 2018-04-20 00:38:27,265][cascade_classifier.fit_transform] [Result][Reach Max Layer] opt_layer_num=1, accuracy_train=93.57%, accuracy_test=91.67%\n",
      "[ 2018-04-20 00:38:27,267][cascade_classifier.transform] X_groups_test.shape=[(120, 4136)]\n",
      "[ 2018-04-20 00:38:27,270][cascade_classifier.transform] group_dims=[4136]\n",
      "[ 2018-04-20 00:38:27,271][cascade_classifier.transform] X_test.shape=(120, 4136)\n",
      "[ 2018-04-20 00:38:27,274][cascade_classifier.transform] [layer=0] look_indexs=[0], X_cur_test.shape=(120, 4136)\n",
      "[ 2018-04-20 00:38:29,899][cascade_classifier.fit_transform] X_groups_train.shape=[(280, 4136)],y_train.shape=(280,),X_groups_test.shape=[(120, 4136)],y_test.shape=(120,)\n",
      "[ 2018-04-20 00:38:29,903][cascade_classifier.fit_transform] group_dims=[4136]\n",
      "[ 2018-04-20 00:38:29,905][cascade_classifier.fit_transform] group_starts=[0]\n",
      "[ 2018-04-20 00:38:29,906][cascade_classifier.fit_transform] group_ends=[4136]\n",
      "[ 2018-04-20 00:38:29,907][cascade_classifier.fit_transform] X_train.shape=(280, 4136),X_test.shape=(120, 4136)\n",
      "[ 2018-04-20 00:38:29,911][cascade_classifier.fit_transform] [layer=0] look_indexs=[0], X_cur_train.shape=(280, 4136), X_cur_test.shape=(120, 4136)\n"
     ]
    },
    {
     "name": "stdout",
     "output_type": "stream",
     "text": [
      "('Test Accuracy of ExtraTree = 91.666667 %', 13, 'fois')\n"
     ]
    },
    {
     "name": "stderr",
     "output_type": "stream",
     "text": [
      "[ 2018-04-20 00:38:30,788][kfold_wrapper.log_eval_metrics] Accuracy(layer_0 - estimator_0 - 10_folds.train_0.predict)=95.83%\n",
      "[ 2018-04-20 00:38:31,907][kfold_wrapper.log_eval_metrics] Accuracy(layer_0 - estimator_0 - 10_folds.train_1.predict)=92.31%\n",
      "[ 2018-04-20 00:38:33,124][kfold_wrapper.log_eval_metrics] Accuracy(layer_0 - estimator_0 - 10_folds.train_2.predict)=93.10%\n",
      "[ 2018-04-20 00:38:34,249][kfold_wrapper.log_eval_metrics] Accuracy(layer_0 - estimator_0 - 10_folds.train_3.predict)=93.75%\n",
      "[ 2018-04-20 00:38:35,348][kfold_wrapper.log_eval_metrics] Accuracy(layer_0 - estimator_0 - 10_folds.train_4.predict)=93.75%\n",
      "[ 2018-04-20 00:38:36,437][kfold_wrapper.log_eval_metrics] Accuracy(layer_0 - estimator_0 - 10_folds.train_5.predict)=96.30%\n",
      "[ 2018-04-20 00:38:37,510][kfold_wrapper.log_eval_metrics] Accuracy(layer_0 - estimator_0 - 10_folds.train_6.predict)=89.66%\n",
      "[ 2018-04-20 00:38:38,703][kfold_wrapper.log_eval_metrics] Accuracy(layer_0 - estimator_0 - 10_folds.train_7.predict)=100.00%\n",
      "[ 2018-04-20 00:38:39,826][kfold_wrapper.log_eval_metrics] Accuracy(layer_0 - estimator_0 - 10_folds.train_8.predict)=92.31%\n",
      "[ 2018-04-20 00:38:40,835][kfold_wrapper.log_eval_metrics] Accuracy(layer_0 - estimator_0 - 10_folds.train_9.predict)=86.21%\n",
      "[ 2018-04-20 00:38:41,090][kfold_wrapper.log_eval_metrics] Accuracy(layer_0 - estimator_0 - 10_folds.train_cv.predict)=93.21%\n",
      "[ 2018-04-20 00:38:41,092][kfold_wrapper.log_eval_metrics] Accuracy(layer_0 - estimator_0 - 10_folds.test.predict)=91.67%\n",
      "[ 2018-04-20 00:38:41,104][cascade_classifier.calc_accuracy] Accuracy(layer_0 - train.classifier_average)=93.21%\n",
      "[ 2018-04-20 00:38:41,105][cascade_classifier.calc_accuracy] Accuracy(layer_0 - test.classifier_average)=91.67%\n",
      "[ 2018-04-20 00:38:41,106][cascade_classifier.fit_transform] [Result][Reach Max Layer] opt_layer_num=1, accuracy_train=93.21%, accuracy_test=91.67%\n",
      "[ 2018-04-20 00:38:41,108][cascade_classifier.transform] X_groups_test.shape=[(120, 4136)]\n",
      "[ 2018-04-20 00:38:41,111][cascade_classifier.transform] group_dims=[4136]\n",
      "[ 2018-04-20 00:38:41,112][cascade_classifier.transform] X_test.shape=(120, 4136)\n",
      "[ 2018-04-20 00:38:41,114][cascade_classifier.transform] [layer=0] look_indexs=[0], X_cur_test.shape=(120, 4136)\n",
      "[ 2018-04-20 00:38:43,651][cascade_classifier.fit_transform] X_groups_train.shape=[(280, 4136)],y_train.shape=(280,),X_groups_test.shape=[(120, 4136)],y_test.shape=(120,)\n",
      "[ 2018-04-20 00:38:43,654][cascade_classifier.fit_transform] group_dims=[4136]\n",
      "[ 2018-04-20 00:38:43,655][cascade_classifier.fit_transform] group_starts=[0]\n",
      "[ 2018-04-20 00:38:43,656][cascade_classifier.fit_transform] group_ends=[4136]\n",
      "[ 2018-04-20 00:38:43,657][cascade_classifier.fit_transform] X_train.shape=(280, 4136),X_test.shape=(120, 4136)\n",
      "[ 2018-04-20 00:38:43,659][cascade_classifier.fit_transform] [layer=0] look_indexs=[0], X_cur_train.shape=(280, 4136), X_cur_test.shape=(120, 4136)\n"
     ]
    },
    {
     "name": "stdout",
     "output_type": "stream",
     "text": [
      "('Test Accuracy of ExtraTree = 91.666667 %', 14, 'fois')\n"
     ]
    },
    {
     "name": "stderr",
     "output_type": "stream",
     "text": [
      "[ 2018-04-20 00:38:44,482][kfold_wrapper.log_eval_metrics] Accuracy(layer_0 - estimator_0 - 10_folds.train_0.predict)=95.83%\n",
      "[ 2018-04-20 00:38:45,630][kfold_wrapper.log_eval_metrics] Accuracy(layer_0 - estimator_0 - 10_folds.train_1.predict)=88.46%\n",
      "[ 2018-04-20 00:38:46,585][kfold_wrapper.log_eval_metrics] Accuracy(layer_0 - estimator_0 - 10_folds.train_2.predict)=93.10%\n",
      "[ 2018-04-20 00:38:47,563][kfold_wrapper.log_eval_metrics] Accuracy(layer_0 - estimator_0 - 10_folds.train_3.predict)=93.75%\n",
      "[ 2018-04-20 00:38:48,658][kfold_wrapper.log_eval_metrics] Accuracy(layer_0 - estimator_0 - 10_folds.train_4.predict)=90.62%\n",
      "[ 2018-04-20 00:38:49,697][kfold_wrapper.log_eval_metrics] Accuracy(layer_0 - estimator_0 - 10_folds.train_5.predict)=96.30%\n",
      "[ 2018-04-20 00:38:50,837][kfold_wrapper.log_eval_metrics] Accuracy(layer_0 - estimator_0 - 10_folds.train_6.predict)=89.66%\n",
      "[ 2018-04-20 00:38:51,821][kfold_wrapper.log_eval_metrics] Accuracy(layer_0 - estimator_0 - 10_folds.train_7.predict)=96.15%\n",
      "[ 2018-04-20 00:38:52,932][kfold_wrapper.log_eval_metrics] Accuracy(layer_0 - estimator_0 - 10_folds.train_8.predict)=96.15%\n",
      "[ 2018-04-20 00:38:54,020][kfold_wrapper.log_eval_metrics] Accuracy(layer_0 - estimator_0 - 10_folds.train_9.predict)=96.55%\n",
      "[ 2018-04-20 00:38:54,257][kfold_wrapper.log_eval_metrics] Accuracy(layer_0 - estimator_0 - 10_folds.train_cv.predict)=93.57%\n",
      "[ 2018-04-20 00:38:54,259][kfold_wrapper.log_eval_metrics] Accuracy(layer_0 - estimator_0 - 10_folds.test.predict)=92.50%\n",
      "[ 2018-04-20 00:38:54,268][cascade_classifier.calc_accuracy] Accuracy(layer_0 - train.classifier_average)=93.57%\n",
      "[ 2018-04-20 00:38:54,270][cascade_classifier.calc_accuracy] Accuracy(layer_0 - test.classifier_average)=92.50%\n",
      "[ 2018-04-20 00:38:54,271][cascade_classifier.fit_transform] [Result][Reach Max Layer] opt_layer_num=1, accuracy_train=93.57%, accuracy_test=92.50%\n",
      "[ 2018-04-20 00:38:54,272][cascade_classifier.transform] X_groups_test.shape=[(120, 4136)]\n",
      "[ 2018-04-20 00:38:54,274][cascade_classifier.transform] group_dims=[4136]\n",
      "[ 2018-04-20 00:38:54,275][cascade_classifier.transform] X_test.shape=(120, 4136)\n",
      "[ 2018-04-20 00:38:54,276][cascade_classifier.transform] [layer=0] look_indexs=[0], X_cur_test.shape=(120, 4136)\n",
      "[ 2018-04-20 00:38:56,979][cascade_classifier.fit_transform] X_groups_train.shape=[(280, 4136)],y_train.shape=(280,),X_groups_test.shape=[(120, 4136)],y_test.shape=(120,)\n",
      "[ 2018-04-20 00:38:56,983][cascade_classifier.fit_transform] group_dims=[4136]\n",
      "[ 2018-04-20 00:38:56,985][cascade_classifier.fit_transform] group_starts=[0]\n",
      "[ 2018-04-20 00:38:56,986][cascade_classifier.fit_transform] group_ends=[4136]\n",
      "[ 2018-04-20 00:38:56,987][cascade_classifier.fit_transform] X_train.shape=(280, 4136),X_test.shape=(120, 4136)\n",
      "[ 2018-04-20 00:38:56,990][cascade_classifier.fit_transform] [layer=0] look_indexs=[0], X_cur_train.shape=(280, 4136), X_cur_test.shape=(120, 4136)\n"
     ]
    },
    {
     "name": "stdout",
     "output_type": "stream",
     "text": [
      "('Test Accuracy of ExtraTree = 92.500000 %', 15, 'fois')\n"
     ]
    },
    {
     "name": "stderr",
     "output_type": "stream",
     "text": [
      "[ 2018-04-20 00:38:57,810][kfold_wrapper.log_eval_metrics] Accuracy(layer_0 - estimator_0 - 10_folds.train_0.predict)=95.83%\n",
      "[ 2018-04-20 00:38:58,938][kfold_wrapper.log_eval_metrics] Accuracy(layer_0 - estimator_0 - 10_folds.train_1.predict)=92.31%\n",
      "[ 2018-04-20 00:38:59,904][kfold_wrapper.log_eval_metrics] Accuracy(layer_0 - estimator_0 - 10_folds.train_2.predict)=89.66%\n",
      "[ 2018-04-20 00:39:01,083][kfold_wrapper.log_eval_metrics] Accuracy(layer_0 - estimator_0 - 10_folds.train_3.predict)=93.75%\n",
      "[ 2018-04-20 00:39:02,201][kfold_wrapper.log_eval_metrics] Accuracy(layer_0 - estimator_0 - 10_folds.train_4.predict)=87.50%\n",
      "[ 2018-04-20 00:39:03,288][kfold_wrapper.log_eval_metrics] Accuracy(layer_0 - estimator_0 - 10_folds.train_5.predict)=96.30%\n",
      "[ 2018-04-20 00:39:04,425][kfold_wrapper.log_eval_metrics] Accuracy(layer_0 - estimator_0 - 10_folds.train_6.predict)=89.66%\n",
      "[ 2018-04-20 00:39:05,536][kfold_wrapper.log_eval_metrics] Accuracy(layer_0 - estimator_0 - 10_folds.train_7.predict)=96.15%\n",
      "[ 2018-04-20 00:39:06,572][kfold_wrapper.log_eval_metrics] Accuracy(layer_0 - estimator_0 - 10_folds.train_8.predict)=96.15%\n",
      "[ 2018-04-20 00:39:07,736][kfold_wrapper.log_eval_metrics] Accuracy(layer_0 - estimator_0 - 10_folds.train_9.predict)=89.66%\n",
      "[ 2018-04-20 00:39:08,000][kfold_wrapper.log_eval_metrics] Accuracy(layer_0 - estimator_0 - 10_folds.train_cv.predict)=92.50%\n",
      "[ 2018-04-20 00:39:08,002][kfold_wrapper.log_eval_metrics] Accuracy(layer_0 - estimator_0 - 10_folds.test.predict)=91.67%\n",
      "[ 2018-04-20 00:39:08,010][cascade_classifier.calc_accuracy] Accuracy(layer_0 - train.classifier_average)=92.50%\n",
      "[ 2018-04-20 00:39:08,011][cascade_classifier.calc_accuracy] Accuracy(layer_0 - test.classifier_average)=91.67%\n",
      "[ 2018-04-20 00:39:08,013][cascade_classifier.fit_transform] [Result][Reach Max Layer] opt_layer_num=1, accuracy_train=92.50%, accuracy_test=91.67%\n",
      "[ 2018-04-20 00:39:08,014][cascade_classifier.transform] X_groups_test.shape=[(120, 4136)]\n",
      "[ 2018-04-20 00:39:08,016][cascade_classifier.transform] group_dims=[4136]\n",
      "[ 2018-04-20 00:39:08,018][cascade_classifier.transform] X_test.shape=(120, 4136)\n",
      "[ 2018-04-20 00:39:08,020][cascade_classifier.transform] [layer=0] look_indexs=[0], X_cur_test.shape=(120, 4136)\n",
      "[ 2018-04-20 00:39:10,697][cascade_classifier.fit_transform] X_groups_train.shape=[(280, 4136)],y_train.shape=(280,),X_groups_test.shape=[(120, 4136)],y_test.shape=(120,)\n",
      "[ 2018-04-20 00:39:10,700][cascade_classifier.fit_transform] group_dims=[4136]\n",
      "[ 2018-04-20 00:39:10,701][cascade_classifier.fit_transform] group_starts=[0]\n",
      "[ 2018-04-20 00:39:10,702][cascade_classifier.fit_transform] group_ends=[4136]\n",
      "[ 2018-04-20 00:39:10,704][cascade_classifier.fit_transform] X_train.shape=(280, 4136),X_test.shape=(120, 4136)\n",
      "[ 2018-04-20 00:39:10,706][cascade_classifier.fit_transform] [layer=0] look_indexs=[0], X_cur_train.shape=(280, 4136), X_cur_test.shape=(120, 4136)\n"
     ]
    },
    {
     "name": "stdout",
     "output_type": "stream",
     "text": [
      "('Test Accuracy of ExtraTree = 91.666667 %', 16, 'fois')\n"
     ]
    },
    {
     "name": "stderr",
     "output_type": "stream",
     "text": [
      "[ 2018-04-20 00:39:11,551][kfold_wrapper.log_eval_metrics] Accuracy(layer_0 - estimator_0 - 10_folds.train_0.predict)=91.67%\n",
      "[ 2018-04-20 00:39:12,670][kfold_wrapper.log_eval_metrics] Accuracy(layer_0 - estimator_0 - 10_folds.train_1.predict)=96.15%\n",
      "[ 2018-04-20 00:39:13,747][kfold_wrapper.log_eval_metrics] Accuracy(layer_0 - estimator_0 - 10_folds.train_2.predict)=93.10%\n",
      "[ 2018-04-20 00:39:14,820][kfold_wrapper.log_eval_metrics] Accuracy(layer_0 - estimator_0 - 10_folds.train_3.predict)=93.75%\n",
      "[ 2018-04-20 00:39:15,919][kfold_wrapper.log_eval_metrics] Accuracy(layer_0 - estimator_0 - 10_folds.train_4.predict)=87.50%\n",
      "[ 2018-04-20 00:39:17,008][kfold_wrapper.log_eval_metrics] Accuracy(layer_0 - estimator_0 - 10_folds.train_5.predict)=96.30%\n",
      "[ 2018-04-20 00:39:18,125][kfold_wrapper.log_eval_metrics] Accuracy(layer_0 - estimator_0 - 10_folds.train_6.predict)=89.66%\n",
      "[ 2018-04-20 00:39:19,178][kfold_wrapper.log_eval_metrics] Accuracy(layer_0 - estimator_0 - 10_folds.train_7.predict)=100.00%\n",
      "[ 2018-04-20 00:39:20,395][kfold_wrapper.log_eval_metrics] Accuracy(layer_0 - estimator_0 - 10_folds.train_8.predict)=96.15%\n",
      "[ 2018-04-20 00:39:21,491][kfold_wrapper.log_eval_metrics] Accuracy(layer_0 - estimator_0 - 10_folds.train_9.predict)=86.21%\n",
      "[ 2018-04-20 00:39:21,749][kfold_wrapper.log_eval_metrics] Accuracy(layer_0 - estimator_0 - 10_folds.train_cv.predict)=92.86%\n",
      "[ 2018-04-20 00:39:21,750][kfold_wrapper.log_eval_metrics] Accuracy(layer_0 - estimator_0 - 10_folds.test.predict)=92.50%\n",
      "[ 2018-04-20 00:39:21,762][cascade_classifier.calc_accuracy] Accuracy(layer_0 - train.classifier_average)=92.86%\n",
      "[ 2018-04-20 00:39:21,763][cascade_classifier.calc_accuracy] Accuracy(layer_0 - test.classifier_average)=92.50%\n",
      "[ 2018-04-20 00:39:21,764][cascade_classifier.fit_transform] [Result][Reach Max Layer] opt_layer_num=1, accuracy_train=92.86%, accuracy_test=92.50%\n",
      "[ 2018-04-20 00:39:21,766][cascade_classifier.transform] X_groups_test.shape=[(120, 4136)]\n",
      "[ 2018-04-20 00:39:21,769][cascade_classifier.transform] group_dims=[4136]\n",
      "[ 2018-04-20 00:39:21,770][cascade_classifier.transform] X_test.shape=(120, 4136)\n",
      "[ 2018-04-20 00:39:21,773][cascade_classifier.transform] [layer=0] look_indexs=[0], X_cur_test.shape=(120, 4136)\n",
      "[ 2018-04-20 00:39:24,317][cascade_classifier.fit_transform] X_groups_train.shape=[(280, 4136)],y_train.shape=(280,),X_groups_test.shape=[(120, 4136)],y_test.shape=(120,)\n",
      "[ 2018-04-20 00:39:24,319][cascade_classifier.fit_transform] group_dims=[4136]\n",
      "[ 2018-04-20 00:39:24,320][cascade_classifier.fit_transform] group_starts=[0]\n",
      "[ 2018-04-20 00:39:24,322][cascade_classifier.fit_transform] group_ends=[4136]\n",
      "[ 2018-04-20 00:39:24,323][cascade_classifier.fit_transform] X_train.shape=(280, 4136),X_test.shape=(120, 4136)\n",
      "[ 2018-04-20 00:39:24,325][cascade_classifier.fit_transform] [layer=0] look_indexs=[0], X_cur_train.shape=(280, 4136), X_cur_test.shape=(120, 4136)\n"
     ]
    },
    {
     "name": "stdout",
     "output_type": "stream",
     "text": [
      "('Test Accuracy of ExtraTree = 92.500000 %', 17, 'fois')\n"
     ]
    },
    {
     "name": "stderr",
     "output_type": "stream",
     "text": [
      "[ 2018-04-20 00:39:25,131][kfold_wrapper.log_eval_metrics] Accuracy(layer_0 - estimator_0 - 10_folds.train_0.predict)=91.67%\n",
      "[ 2018-04-20 00:39:26,042][kfold_wrapper.log_eval_metrics] Accuracy(layer_0 - estimator_0 - 10_folds.train_1.predict)=92.31%\n",
      "[ 2018-04-20 00:39:26,995][kfold_wrapper.log_eval_metrics] Accuracy(layer_0 - estimator_0 - 10_folds.train_2.predict)=89.66%\n",
      "[ 2018-04-20 00:39:27,996][kfold_wrapper.log_eval_metrics] Accuracy(layer_0 - estimator_0 - 10_folds.train_3.predict)=93.75%\n",
      "[ 2018-04-20 00:39:28,967][kfold_wrapper.log_eval_metrics] Accuracy(layer_0 - estimator_0 - 10_folds.train_4.predict)=90.62%\n",
      "[ 2018-04-20 00:39:29,965][kfold_wrapper.log_eval_metrics] Accuracy(layer_0 - estimator_0 - 10_folds.train_5.predict)=92.59%\n",
      "[ 2018-04-20 00:39:31,047][kfold_wrapper.log_eval_metrics] Accuracy(layer_0 - estimator_0 - 10_folds.train_6.predict)=89.66%\n",
      "[ 2018-04-20 00:39:32,134][kfold_wrapper.log_eval_metrics] Accuracy(layer_0 - estimator_0 - 10_folds.train_7.predict)=100.00%\n",
      "[ 2018-04-20 00:39:33,131][kfold_wrapper.log_eval_metrics] Accuracy(layer_0 - estimator_0 - 10_folds.train_8.predict)=96.15%\n",
      "[ 2018-04-20 00:39:34,240][kfold_wrapper.log_eval_metrics] Accuracy(layer_0 - estimator_0 - 10_folds.train_9.predict)=89.66%\n",
      "[ 2018-04-20 00:39:34,497][kfold_wrapper.log_eval_metrics] Accuracy(layer_0 - estimator_0 - 10_folds.train_cv.predict)=92.50%\n",
      "[ 2018-04-20 00:39:34,499][kfold_wrapper.log_eval_metrics] Accuracy(layer_0 - estimator_0 - 10_folds.test.predict)=91.67%\n",
      "[ 2018-04-20 00:39:34,509][cascade_classifier.calc_accuracy] Accuracy(layer_0 - train.classifier_average)=92.50%\n",
      "[ 2018-04-20 00:39:34,514][cascade_classifier.calc_accuracy] Accuracy(layer_0 - test.classifier_average)=91.67%\n",
      "[ 2018-04-20 00:39:34,516][cascade_classifier.fit_transform] [Result][Reach Max Layer] opt_layer_num=1, accuracy_train=92.50%, accuracy_test=91.67%\n",
      "[ 2018-04-20 00:39:34,517][cascade_classifier.transform] X_groups_test.shape=[(120, 4136)]\n",
      "[ 2018-04-20 00:39:34,520][cascade_classifier.transform] group_dims=[4136]\n",
      "[ 2018-04-20 00:39:34,522][cascade_classifier.transform] X_test.shape=(120, 4136)\n",
      "[ 2018-04-20 00:39:34,524][cascade_classifier.transform] [layer=0] look_indexs=[0], X_cur_test.shape=(120, 4136)\n",
      "[ 2018-04-20 00:39:37,192][cascade_classifier.fit_transform] X_groups_train.shape=[(280, 4136)],y_train.shape=(280,),X_groups_test.shape=[(120, 4136)],y_test.shape=(120,)\n",
      "[ 2018-04-20 00:39:37,194][cascade_classifier.fit_transform] group_dims=[4136]\n",
      "[ 2018-04-20 00:39:37,195][cascade_classifier.fit_transform] group_starts=[0]\n",
      "[ 2018-04-20 00:39:37,196][cascade_classifier.fit_transform] group_ends=[4136]\n",
      "[ 2018-04-20 00:39:37,198][cascade_classifier.fit_transform] X_train.shape=(280, 4136),X_test.shape=(120, 4136)\n",
      "[ 2018-04-20 00:39:37,199][cascade_classifier.fit_transform] [layer=0] look_indexs=[0], X_cur_train.shape=(280, 4136), X_cur_test.shape=(120, 4136)\n"
     ]
    },
    {
     "name": "stdout",
     "output_type": "stream",
     "text": [
      "('Test Accuracy of ExtraTree = 91.666667 %', 18, 'fois')\n"
     ]
    },
    {
     "name": "stderr",
     "output_type": "stream",
     "text": [
      "[ 2018-04-20 00:39:38,014][kfold_wrapper.log_eval_metrics] Accuracy(layer_0 - estimator_0 - 10_folds.train_0.predict)=95.83%\n",
      "[ 2018-04-20 00:39:39,070][kfold_wrapper.log_eval_metrics] Accuracy(layer_0 - estimator_0 - 10_folds.train_1.predict)=92.31%\n",
      "[ 2018-04-20 00:39:40,148][kfold_wrapper.log_eval_metrics] Accuracy(layer_0 - estimator_0 - 10_folds.train_2.predict)=86.21%\n",
      "[ 2018-04-20 00:39:41,131][kfold_wrapper.log_eval_metrics] Accuracy(layer_0 - estimator_0 - 10_folds.train_3.predict)=96.88%\n",
      "[ 2018-04-20 00:39:42,089][kfold_wrapper.log_eval_metrics] Accuracy(layer_0 - estimator_0 - 10_folds.train_4.predict)=90.62%\n",
      "[ 2018-04-20 00:39:43,182][kfold_wrapper.log_eval_metrics] Accuracy(layer_0 - estimator_0 - 10_folds.train_5.predict)=96.30%\n",
      "[ 2018-04-20 00:39:44,291][kfold_wrapper.log_eval_metrics] Accuracy(layer_0 - estimator_0 - 10_folds.train_6.predict)=89.66%\n",
      "[ 2018-04-20 00:39:45,365][kfold_wrapper.log_eval_metrics] Accuracy(layer_0 - estimator_0 - 10_folds.train_7.predict)=96.15%\n",
      "[ 2018-04-20 00:39:46,311][kfold_wrapper.log_eval_metrics] Accuracy(layer_0 - estimator_0 - 10_folds.train_8.predict)=96.15%\n",
      "[ 2018-04-20 00:39:47,364][kfold_wrapper.log_eval_metrics] Accuracy(layer_0 - estimator_0 - 10_folds.train_9.predict)=93.10%\n",
      "[ 2018-04-20 00:39:47,624][kfold_wrapper.log_eval_metrics] Accuracy(layer_0 - estimator_0 - 10_folds.train_cv.predict)=93.21%\n",
      "[ 2018-04-20 00:39:47,625][kfold_wrapper.log_eval_metrics] Accuracy(layer_0 - estimator_0 - 10_folds.test.predict)=91.67%\n",
      "[ 2018-04-20 00:39:47,630][cascade_classifier.calc_accuracy] Accuracy(layer_0 - train.classifier_average)=93.21%\n",
      "[ 2018-04-20 00:39:47,632][cascade_classifier.calc_accuracy] Accuracy(layer_0 - test.classifier_average)=91.67%\n",
      "[ 2018-04-20 00:39:47,633][cascade_classifier.fit_transform] [Result][Reach Max Layer] opt_layer_num=1, accuracy_train=93.21%, accuracy_test=91.67%\n",
      "[ 2018-04-20 00:39:47,634][cascade_classifier.transform] X_groups_test.shape=[(120, 4136)]\n",
      "[ 2018-04-20 00:39:47,636][cascade_classifier.transform] group_dims=[4136]\n",
      "[ 2018-04-20 00:39:47,637][cascade_classifier.transform] X_test.shape=(120, 4136)\n",
      "[ 2018-04-20 00:39:47,639][cascade_classifier.transform] [layer=0] look_indexs=[0], X_cur_test.shape=(120, 4136)\n"
     ]
    },
    {
     "name": "stdout",
     "output_type": "stream",
     "text": [
      "('Test Accuracy of ExtraTree = 91.666667 %', 19, 'fois')\n"
     ]
    }
   ],
   "source": [
    "# Deep\n",
    "for i in range (20):\n",
    "    X_train,X_test=update(X_train,X_test)\n",
    "    X_test_enc, X_train_enc=newdata(X_test_enc, X_train_enc)\n",
    "\n",
    "    X_train=X_train_enc\n",
    "    X_test=X_test_enc \n",
    "    X_train_enc, X_test_enc = gc.fit_transform(X_train, y_train, X_test=X_test, y_test=y_test)\n",
    "    affiche()"
   ]
  },
  {
   "cell_type": "code",
   "execution_count": null,
   "metadata": {
    "collapsed": true
   },
   "outputs": [],
   "source": []
  },
  {
   "cell_type": "markdown",
   "metadata": {
    "collapsed": true
   },
   "source": [
    "# ('Test Accuracy of ExtraTree = 93.333333 %', 6, 'fois')"
   ]
  },
  {
   "cell_type": "code",
   "execution_count": null,
   "metadata": {
    "collapsed": true
   },
   "outputs": [],
   "source": []
  }
 ],
 "metadata": {
  "kernelspec": {
   "display_name": "Python 2",
   "language": "python",
   "name": "python2"
  },
  "language_info": {
   "codemirror_mode": {
    "name": "ipython",
    "version": 2
   },
   "file_extension": ".py",
   "mimetype": "text/x-python",
   "name": "python",
   "nbconvert_exporter": "python",
   "pygments_lexer": "ipython2",
   "version": "2.7.13"
  }
 },
 "nbformat": 4,
 "nbformat_minor": 2
}
