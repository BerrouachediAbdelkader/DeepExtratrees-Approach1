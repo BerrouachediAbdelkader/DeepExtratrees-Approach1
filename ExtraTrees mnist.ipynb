{
 "cells": [
  {
   "cell_type": "code",
   "execution_count": 1,
   "metadata": {
    "collapsed": true
   },
   "outputs": [],
   "source": [
    "#  imports \n",
    "import numpy as np\n",
    "import pandas as pd\n",
    "from math import sqrt \n",
    "from pprint import pprint\n",
    "from numpy import array"
   ]
  },
  {
   "cell_type": "code",
   "execution_count": 2,
   "metadata": {},
   "outputs": [
    {
     "name": "stderr",
     "output_type": "stream",
     "text": [
      "Using TensorFlow backend.\n"
     ]
    },
    {
     "name": "stdout",
     "output_type": "stream",
     "text": [
      "Downloading data from https://s3.amazonaws.com/img-datasets/mnist.npz\n",
      "11485184/11490434 [============================>.] - ETA: 0s"
     ]
    }
   ],
   "source": [
    "# load data\n",
    "from keras.datasets import mnist\n",
    "(X_train, y_train), (X_test, y_test) = mnist.load_data()"
   ]
  },
  {
   "cell_type": "code",
   "execution_count": 5,
   "metadata": {
    "collapsed": true
   },
   "outputs": [],
   "source": [
    "X_train = np.reshape(X_train, (X_train.shape[0], -1))\n",
    "X_test = np.reshape(X_test, (X_test.shape[0], -1))"
   ]
  },
  {
   "cell_type": "code",
   "execution_count": 6,
   "metadata": {
    "collapsed": true
   },
   "outputs": [],
   "source": [
    "# Deep ExtraTrees\n",
    "import argparse\n",
    "import numpy as np\n",
    "import sys\n",
    "import pickle\n",
    "from sklearn.metrics import accuracy_score\n",
    "sys.path.insert(0, \"lib\")\n",
    "from gcforest.gcforest import GCForest\n",
    "from gcforest.utils.config_utils import load_json\n",
    "config = load_json(\"./examples/mnist.json\")  # layer = 1   k=10   Extree + DTree\n",
    "gc = GCForest(config)"
   ]
  },
  {
   "cell_type": "code",
   "execution_count": 8,
   "metadata": {},
   "outputs": [
    {
     "data": {
      "text/plain": [
       "10"
      ]
     },
     "execution_count": 8,
     "metadata": {},
     "output_type": "execute_result"
    }
   ],
   "source": [
    "# count of class\n",
    "len(np.unique(y_train))"
   ]
  },
  {
   "cell_type": "code",
   "execution_count": 9,
   "metadata": {},
   "outputs": [
    {
     "name": "stderr",
     "output_type": "stream",
     "text": [
      "[ 2018-04-20 01:01:58,397][cascade_classifier.fit_transform] X_groups_train.shape=[(60000, 784)],y_train.shape=(60000,),X_groups_test.shape=[(10000, 784)],y_test.shape=(10000,)\n",
      "[ 2018-04-20 01:01:58,435][cascade_classifier.fit_transform] group_dims=[784]\n",
      "[ 2018-04-20 01:01:58,437][cascade_classifier.fit_transform] group_starts=[0]\n",
      "[ 2018-04-20 01:01:58,438][cascade_classifier.fit_transform] group_ends=[784]\n",
      "[ 2018-04-20 01:01:58,439][cascade_classifier.fit_transform] X_train.shape=(60000, 784),X_test.shape=(10000, 784)\n",
      "[ 2018-04-20 01:01:58,573][cascade_classifier.fit_transform] [layer=0] look_indexs=[0], X_cur_train.shape=(60000, 784), X_cur_test.shape=(10000, 784)\n",
      "[ 2018-04-20 01:02:01,220][kfold_wrapper.log_eval_metrics] Accuracy(layer_0 - estimator_0 - 10_folds.train_0.predict)=97.25%\n",
      "[ 2018-04-20 01:02:03,889][kfold_wrapper.log_eval_metrics] Accuracy(layer_0 - estimator_0 - 10_folds.train_1.predict)=97.22%\n",
      "[ 2018-04-20 01:02:08,125][kfold_wrapper.log_eval_metrics] Accuracy(layer_0 - estimator_0 - 10_folds.train_2.predict)=97.57%\n",
      "[ 2018-04-20 01:02:10,860][kfold_wrapper.log_eval_metrics] Accuracy(layer_0 - estimator_0 - 10_folds.train_3.predict)=97.08%\n",
      "[ 2018-04-20 01:02:13,528][kfold_wrapper.log_eval_metrics] Accuracy(layer_0 - estimator_0 - 10_folds.train_4.predict)=97.38%\n",
      "[ 2018-04-20 01:02:16,196][kfold_wrapper.log_eval_metrics] Accuracy(layer_0 - estimator_0 - 10_folds.train_5.predict)=96.62%\n",
      "[ 2018-04-20 01:02:19,383][kfold_wrapper.log_eval_metrics] Accuracy(layer_0 - estimator_0 - 10_folds.train_6.predict)=97.32%\n",
      "[ 2018-04-20 01:02:22,333][kfold_wrapper.log_eval_metrics] Accuracy(layer_0 - estimator_0 - 10_folds.train_7.predict)=96.98%\n",
      "[ 2018-04-20 01:02:25,049][kfold_wrapper.log_eval_metrics] Accuracy(layer_0 - estimator_0 - 10_folds.train_8.predict)=97.03%\n",
      "[ 2018-04-20 01:02:27,892][kfold_wrapper.log_eval_metrics] Accuracy(layer_0 - estimator_0 - 10_folds.train_9.predict)=96.71%\n",
      "[ 2018-04-20 01:02:28,279][kfold_wrapper.log_eval_metrics] Accuracy(layer_0 - estimator_0 - 10_folds.train_cv.predict)=97.12%\n",
      "[ 2018-04-20 01:02:28,281][kfold_wrapper.log_eval_metrics] Accuracy(layer_0 - estimator_0 - 10_folds.test.predict)=97.36%\n",
      "[ 2018-04-20 01:02:28,293][cascade_classifier.calc_accuracy] Accuracy(layer_0 - train.classifier_average)=97.12%\n",
      "[ 2018-04-20 01:02:28,296][cascade_classifier.calc_accuracy] Accuracy(layer_0 - test.classifier_average)=97.36%\n",
      "[ 2018-04-20 01:02:28,297][cascade_classifier.fit_transform] [Result][Reach Max Layer] opt_layer_num=1, accuracy_train=97.12%, accuracy_test=97.36%\n"
     ]
    }
   ],
   "source": [
    "    # X_enc is the concatenated predict_proba result of ExtraTrees\n",
    "\n",
    "X_train_enc, X_test_enc = gc.fit_transform(X_train, y_train, X_test=X_test, y_test=y_test)\n",
    "    "
   ]
  },
  {
   "cell_type": "code",
   "execution_count": 11,
   "metadata": {},
   "outputs": [
    {
     "name": "stderr",
     "output_type": "stream",
     "text": [
      "[ 2018-04-20 01:02:38,093][cascade_classifier.transform] X_groups_test.shape=[(10000, 784)]\n",
      "[ 2018-04-20 01:02:38,096][cascade_classifier.transform] group_dims=[784]\n",
      "[ 2018-04-20 01:02:38,097][cascade_classifier.transform] X_test.shape=(10000, 784)\n",
      "[ 2018-04-20 01:02:38,118][cascade_classifier.transform] [layer=0] look_indexs=[0], X_cur_test.shape=(10000, 784)\n"
     ]
    },
    {
     "name": "stdout",
     "output_type": "stream",
     "text": [
      "Test Accuracy of ExtraTrees = 97.360000 %\n"
     ]
    }
   ],
   "source": [
    "# predict\n",
    "y_pred = gc.predict(X_test)\n",
    "acc = accuracy_score(y_test, y_pred)\n",
    "print(\"Test Accuracy of ExtraTrees = {:.6f} %\".format(acc * 100))"
   ]
  },
  {
   "cell_type": "code",
   "execution_count": 12,
   "metadata": {},
   "outputs": [
    {
     "name": "stderr",
     "output_type": "stream",
     "text": [
      "[ 2018-04-20 01:02:42,140][cascade_classifier.transform] X_groups_test.shape=[(10000, 784)]\n",
      "[ 2018-04-20 01:02:42,144][cascade_classifier.transform] group_dims=[784]\n",
      "[ 2018-04-20 01:02:42,146][cascade_classifier.transform] X_test.shape=(10000, 784)\n",
      "[ 2018-04-20 01:02:42,166][cascade_classifier.transform] [layer=0] look_indexs=[0], X_cur_test.shape=(10000, 784)\n"
     ]
    }
   ],
   "source": [
    "# New data\n",
    "X_test_enc = gc.transform(X_test)\n",
    "X_train_enc = X_train_enc.reshape((X_train_enc.shape[0], -1))\n",
    "X_test_enc = X_test_enc.reshape((X_test_enc.shape[0], -1))\n",
    "X_train_origin = X_train.reshape((X_train.shape[0], -1))\n",
    "X_test_origin = X_test.reshape((X_test.shape[0], -1))\n",
    "X_train_enc = np.hstack((X_train_origin, X_train_enc))\n",
    "X_test_enc = np.hstack((X_test_origin, X_test_enc))"
   ]
  },
  {
   "cell_type": "code",
   "execution_count": 13,
   "metadata": {},
   "outputs": [
    {
     "name": "stderr",
     "output_type": "stream",
     "text": [
      "[ 2018-04-20 01:02:45,975][cascade_classifier.fit_transform] X_groups_train.shape=[(60000, 794)],y_train.shape=(60000,),X_groups_test.shape=[(10000, 794)],y_test.shape=(10000,)\n",
      "[ 2018-04-20 01:02:46,065][cascade_classifier.fit_transform] group_dims=[794]\n",
      "[ 2018-04-20 01:02:46,067][cascade_classifier.fit_transform] group_starts=[0]\n",
      "[ 2018-04-20 01:02:46,068][cascade_classifier.fit_transform] group_ends=[794]\n",
      "[ 2018-04-20 01:02:46,069][cascade_classifier.fit_transform] X_train.shape=(60000, 794),X_test.shape=(10000, 794)\n",
      "[ 2018-04-20 01:02:46,159][cascade_classifier.fit_transform] [layer=0] look_indexs=[0], X_cur_train.shape=(60000, 794), X_cur_test.shape=(10000, 794)\n",
      "[ 2018-04-20 01:02:48,866][kfold_wrapper.log_eval_metrics] Accuracy(layer_0 - estimator_0 - 10_folds.train_0.predict)=97.85%\n",
      "[ 2018-04-20 01:02:51,601][kfold_wrapper.log_eval_metrics] Accuracy(layer_0 - estimator_0 - 10_folds.train_1.predict)=97.58%\n",
      "[ 2018-04-20 01:02:54,505][kfold_wrapper.log_eval_metrics] Accuracy(layer_0 - estimator_0 - 10_folds.train_2.predict)=97.80%\n",
      "[ 2018-04-20 01:02:57,350][kfold_wrapper.log_eval_metrics] Accuracy(layer_0 - estimator_0 - 10_folds.train_3.predict)=97.48%\n",
      "[ 2018-04-20 01:03:00,113][kfold_wrapper.log_eval_metrics] Accuracy(layer_0 - estimator_0 - 10_folds.train_4.predict)=97.80%\n",
      "[ 2018-04-20 01:03:02,894][kfold_wrapper.log_eval_metrics] Accuracy(layer_0 - estimator_0 - 10_folds.train_5.predict)=97.20%\n",
      "[ 2018-04-20 01:03:06,075][kfold_wrapper.log_eval_metrics] Accuracy(layer_0 - estimator_0 - 10_folds.train_6.predict)=97.48%\n",
      "[ 2018-04-20 01:03:08,954][kfold_wrapper.log_eval_metrics] Accuracy(layer_0 - estimator_0 - 10_folds.train_7.predict)=97.52%\n",
      "[ 2018-04-20 01:03:11,856][kfold_wrapper.log_eval_metrics] Accuracy(layer_0 - estimator_0 - 10_folds.train_8.predict)=97.25%\n",
      "[ 2018-04-20 01:03:14,693][kfold_wrapper.log_eval_metrics] Accuracy(layer_0 - estimator_0 - 10_folds.train_9.predict)=97.26%\n",
      "[ 2018-04-20 01:03:15,092][kfold_wrapper.log_eval_metrics] Accuracy(layer_0 - estimator_0 - 10_folds.train_cv.predict)=97.52%\n",
      "[ 2018-04-20 01:03:15,094][kfold_wrapper.log_eval_metrics] Accuracy(layer_0 - estimator_0 - 10_folds.test.predict)=97.78%\n",
      "[ 2018-04-20 01:03:15,128][cascade_classifier.calc_accuracy] Accuracy(layer_0 - train.classifier_average)=97.52%\n",
      "[ 2018-04-20 01:03:15,130][cascade_classifier.calc_accuracy] Accuracy(layer_0 - test.classifier_average)=97.78%\n",
      "[ 2018-04-20 01:03:15,132][cascade_classifier.fit_transform] [Result][Reach Max Layer] opt_layer_num=1, accuracy_train=97.52%, accuracy_test=97.78%\n"
     ]
    }
   ],
   "source": [
    "# train New data \n",
    "X_train=X_train_enc\n",
    "X_test=X_test_enc \n",
    "X_train_enc, X_test_enc = gc.fit_transform(X_train, y_train, X_test=X_test, y_test=y_test)"
   ]
  },
  {
   "cell_type": "code",
   "execution_count": 14,
   "metadata": {},
   "outputs": [
    {
     "name": "stdout",
     "output_type": "stream",
     "text": [
      "X_train_enc.shape=(60000, 10), X_test_enc.shape=(10000, 10)\n"
     ]
    }
   ],
   "source": [
    "print(\"X_train_enc.shape={}, X_test_enc.shape={}\".format(X_train_enc.shape, X_test_enc.shape))"
   ]
  },
  {
   "cell_type": "code",
   "execution_count": 15,
   "metadata": {},
   "outputs": [
    {
     "name": "stdout",
     "output_type": "stream",
     "text": [
      "X_train_enc.shape=(60000, 794), X_test_enc.shape=(10000, 794)\n"
     ]
    }
   ],
   "source": [
    "print(\"X_train_enc.shape={}, X_test_enc.shape={}\".format(X_train.shape, X_test.shape))"
   ]
  },
  {
   "cell_type": "code",
   "execution_count": 16,
   "metadata": {
    "collapsed": true
   },
   "outputs": [],
   "source": [
    "def update(X_train,X_test):\n",
    "    # update Estimators\n",
    "    for i in range(5):\n",
    "        M = np.delete(X_train, (-1), axis=1)\n",
    "        X_train= np.delete(M, (-1), axis=1)\n",
    "        M = np.delete(X_test, (-1), axis=1)\n",
    "        X_test = np.delete(M, (-1), axis=1)\n",
    "    return X_train,X_test"
   ]
  },
  {
   "cell_type": "code",
   "execution_count": 17,
   "metadata": {
    "collapsed": true
   },
   "outputs": [],
   "source": [
    "def newdata(X_test_enc, X_train_enc):\n",
    "    # Make Data + Estimators\n",
    "    X_train_origin = X_train.reshape((X_train.shape[0], -1))\n",
    "    X_test_origin = X_test.reshape((X_test.shape[0], -1))\n",
    "    X_train_enc = np.hstack((X_train_origin, X_train_enc))\n",
    "    X_test_enc = np.hstack((X_test_origin, X_test_enc))\n",
    "    return X_test_enc, X_train_enc\n",
    "\n",
    "def affiche():\n",
    "    # predict\n",
    "    y_pred = gc.predict(X_test)\n",
    "    acc = accuracy_score(y_test, y_pred)\n",
    "    print(\"Test Accuracy of ExtraTrees = {:.6f} %\".format(acc * 100),i,'fois')"
   ]
  },
  {
   "cell_type": "code",
   "execution_count": 18,
   "metadata": {},
   "outputs": [
    {
     "name": "stderr",
     "output_type": "stream",
     "text": [
      "[ 2018-04-20 01:03:16,031][cascade_classifier.fit_transform] X_groups_train.shape=[(60000, 794)],y_train.shape=(60000,),X_groups_test.shape=[(10000, 794)],y_test.shape=(10000,)\n",
      "[ 2018-04-20 01:03:16,109][cascade_classifier.fit_transform] group_dims=[794]\n",
      "[ 2018-04-20 01:03:16,110][cascade_classifier.fit_transform] group_starts=[0]\n",
      "[ 2018-04-20 01:03:16,111][cascade_classifier.fit_transform] group_ends=[794]\n",
      "[ 2018-04-20 01:03:16,112][cascade_classifier.fit_transform] X_train.shape=(60000, 794),X_test.shape=(10000, 794)\n",
      "[ 2018-04-20 01:03:16,199][cascade_classifier.fit_transform] [layer=0] look_indexs=[0], X_cur_train.shape=(60000, 794), X_cur_test.shape=(10000, 794)\n",
      "[ 2018-04-20 01:03:18,762][kfold_wrapper.log_eval_metrics] Accuracy(layer_0 - estimator_0 - 10_folds.train_0.predict)=97.82%\n",
      "[ 2018-04-20 01:03:21,781][kfold_wrapper.log_eval_metrics] Accuracy(layer_0 - estimator_0 - 10_folds.train_1.predict)=98.00%\n",
      "[ 2018-04-20 01:03:24,541][kfold_wrapper.log_eval_metrics] Accuracy(layer_0 - estimator_0 - 10_folds.train_2.predict)=97.97%\n",
      "[ 2018-04-20 01:03:27,369][kfold_wrapper.log_eval_metrics] Accuracy(layer_0 - estimator_0 - 10_folds.train_3.predict)=97.70%\n",
      "[ 2018-04-20 01:03:30,168][kfold_wrapper.log_eval_metrics] Accuracy(layer_0 - estimator_0 - 10_folds.train_4.predict)=98.02%\n",
      "[ 2018-04-20 01:03:32,958][kfold_wrapper.log_eval_metrics] Accuracy(layer_0 - estimator_0 - 10_folds.train_5.predict)=97.30%\n",
      "[ 2018-04-20 01:03:35,798][kfold_wrapper.log_eval_metrics] Accuracy(layer_0 - estimator_0 - 10_folds.train_6.predict)=97.80%\n",
      "[ 2018-04-20 01:03:38,629][kfold_wrapper.log_eval_metrics] Accuracy(layer_0 - estimator_0 - 10_folds.train_7.predict)=97.78%\n",
      "[ 2018-04-20 01:03:41,599][kfold_wrapper.log_eval_metrics] Accuracy(layer_0 - estimator_0 - 10_folds.train_8.predict)=97.47%\n",
      "[ 2018-04-20 01:03:44,366][kfold_wrapper.log_eval_metrics] Accuracy(layer_0 - estimator_0 - 10_folds.train_9.predict)=97.48%\n",
      "[ 2018-04-20 01:03:44,630][kfold_wrapper.log_eval_metrics] Accuracy(layer_0 - estimator_0 - 10_folds.train_cv.predict)=97.73%\n",
      "[ 2018-04-20 01:03:44,633][kfold_wrapper.log_eval_metrics] Accuracy(layer_0 - estimator_0 - 10_folds.test.predict)=97.90%\n",
      "[ 2018-04-20 01:03:44,695][cascade_classifier.calc_accuracy] Accuracy(layer_0 - train.classifier_average)=97.73%\n",
      "[ 2018-04-20 01:03:44,697][cascade_classifier.calc_accuracy] Accuracy(layer_0 - test.classifier_average)=97.90%\n",
      "[ 2018-04-20 01:03:44,698][cascade_classifier.fit_transform] [Result][Reach Max Layer] opt_layer_num=1, accuracy_train=97.73%, accuracy_test=97.90%\n",
      "[ 2018-04-20 01:03:44,701][cascade_classifier.transform] X_groups_test.shape=[(10000, 794)]\n",
      "[ 2018-04-20 01:03:44,713][cascade_classifier.transform] group_dims=[794]\n",
      "[ 2018-04-20 01:03:44,714][cascade_classifier.transform] X_test.shape=(10000, 794)\n",
      "[ 2018-04-20 01:03:44,720][cascade_classifier.transform] [layer=0] look_indexs=[0], X_cur_test.shape=(10000, 794)\n"
     ]
    },
    {
     "name": "stdout",
     "output_type": "stream",
     "text": [
      "('Test Accuracy of ExtraTrees = 97.900000 %', 0, 'fois')\n"
     ]
    },
    {
     "name": "stderr",
     "output_type": "stream",
     "text": [
      "[ 2018-04-20 01:03:49,316][cascade_classifier.fit_transform] X_groups_train.shape=[(60000, 794)],y_train.shape=(60000,),X_groups_test.shape=[(10000, 794)],y_test.shape=(10000,)\n",
      "[ 2018-04-20 01:03:49,412][cascade_classifier.fit_transform] group_dims=[794]\n",
      "[ 2018-04-20 01:03:49,415][cascade_classifier.fit_transform] group_starts=[0]\n",
      "[ 2018-04-20 01:03:49,416][cascade_classifier.fit_transform] group_ends=[794]\n",
      "[ 2018-04-20 01:03:49,417][cascade_classifier.fit_transform] X_train.shape=(60000, 794),X_test.shape=(10000, 794)\n",
      "[ 2018-04-20 01:03:49,509][cascade_classifier.fit_transform] [layer=0] look_indexs=[0], X_cur_train.shape=(60000, 794), X_cur_test.shape=(10000, 794)\n",
      "[ 2018-04-20 01:03:52,172][kfold_wrapper.log_eval_metrics] Accuracy(layer_0 - estimator_0 - 10_folds.train_0.predict)=97.92%\n",
      "[ 2018-04-20 01:03:54,950][kfold_wrapper.log_eval_metrics] Accuracy(layer_0 - estimator_0 - 10_folds.train_1.predict)=97.93%\n",
      "[ 2018-04-20 01:03:57,740][kfold_wrapper.log_eval_metrics] Accuracy(layer_0 - estimator_0 - 10_folds.train_2.predict)=98.05%\n",
      "[ 2018-04-20 01:04:00,537][kfold_wrapper.log_eval_metrics] Accuracy(layer_0 - estimator_0 - 10_folds.train_3.predict)=97.87%\n",
      "[ 2018-04-20 01:04:03,409][kfold_wrapper.log_eval_metrics] Accuracy(layer_0 - estimator_0 - 10_folds.train_4.predict)=97.83%\n",
      "[ 2018-04-20 01:04:06,231][kfold_wrapper.log_eval_metrics] Accuracy(layer_0 - estimator_0 - 10_folds.train_5.predict)=97.37%\n",
      "[ 2018-04-20 01:04:09,140][kfold_wrapper.log_eval_metrics] Accuracy(layer_0 - estimator_0 - 10_folds.train_6.predict)=97.90%\n",
      "[ 2018-04-20 01:04:11,957][kfold_wrapper.log_eval_metrics] Accuracy(layer_0 - estimator_0 - 10_folds.train_7.predict)=97.87%\n",
      "[ 2018-04-20 01:04:14,746][kfold_wrapper.log_eval_metrics] Accuracy(layer_0 - estimator_0 - 10_folds.train_8.predict)=97.65%\n",
      "[ 2018-04-20 01:04:17,430][kfold_wrapper.log_eval_metrics] Accuracy(layer_0 - estimator_0 - 10_folds.train_9.predict)=97.45%\n",
      "[ 2018-04-20 01:04:17,706][kfold_wrapper.log_eval_metrics] Accuracy(layer_0 - estimator_0 - 10_folds.train_cv.predict)=97.78%\n",
      "[ 2018-04-20 01:04:17,709][kfold_wrapper.log_eval_metrics] Accuracy(layer_0 - estimator_0 - 10_folds.test.predict)=97.88%\n",
      "[ 2018-04-20 01:04:17,729][cascade_classifier.calc_accuracy] Accuracy(layer_0 - train.classifier_average)=97.78%\n",
      "[ 2018-04-20 01:04:17,732][cascade_classifier.calc_accuracy] Accuracy(layer_0 - test.classifier_average)=97.88%\n",
      "[ 2018-04-20 01:04:17,733][cascade_classifier.fit_transform] [Result][Reach Max Layer] opt_layer_num=1, accuracy_train=97.78%, accuracy_test=97.88%\n",
      "[ 2018-04-20 01:04:17,736][cascade_classifier.transform] X_groups_test.shape=[(10000, 794)]\n",
      "[ 2018-04-20 01:04:17,749][cascade_classifier.transform] group_dims=[794]\n",
      "[ 2018-04-20 01:04:17,750][cascade_classifier.transform] X_test.shape=(10000, 794)\n",
      "[ 2018-04-20 01:04:17,757][cascade_classifier.transform] [layer=0] look_indexs=[0], X_cur_test.shape=(10000, 794)\n"
     ]
    },
    {
     "name": "stdout",
     "output_type": "stream",
     "text": [
      "('Test Accuracy of ExtraTrees = 97.880000 %', 1, 'fois')\n"
     ]
    },
    {
     "name": "stderr",
     "output_type": "stream",
     "text": [
      "[ 2018-04-20 01:04:22,528][cascade_classifier.fit_transform] X_groups_train.shape=[(60000, 794)],y_train.shape=(60000,),X_groups_test.shape=[(10000, 794)],y_test.shape=(10000,)\n",
      "[ 2018-04-20 01:04:22,619][cascade_classifier.fit_transform] group_dims=[794]\n",
      "[ 2018-04-20 01:04:22,621][cascade_classifier.fit_transform] group_starts=[0]\n",
      "[ 2018-04-20 01:04:22,622][cascade_classifier.fit_transform] group_ends=[794]\n",
      "[ 2018-04-20 01:04:22,623][cascade_classifier.fit_transform] X_train.shape=(60000, 794),X_test.shape=(10000, 794)\n",
      "[ 2018-04-20 01:04:22,715][cascade_classifier.fit_transform] [layer=0] look_indexs=[0], X_cur_train.shape=(60000, 794), X_cur_test.shape=(10000, 794)\n",
      "[ 2018-04-20 01:04:25,315][kfold_wrapper.log_eval_metrics] Accuracy(layer_0 - estimator_0 - 10_folds.train_0.predict)=97.79%\n",
      "[ 2018-04-20 01:04:28,091][kfold_wrapper.log_eval_metrics] Accuracy(layer_0 - estimator_0 - 10_folds.train_1.predict)=97.98%\n",
      "[ 2018-04-20 01:04:30,829][kfold_wrapper.log_eval_metrics] Accuracy(layer_0 - estimator_0 - 10_folds.train_2.predict)=98.08%\n",
      "[ 2018-04-20 01:04:33,609][kfold_wrapper.log_eval_metrics] Accuracy(layer_0 - estimator_0 - 10_folds.train_3.predict)=97.77%\n",
      "[ 2018-04-20 01:04:36,417][kfold_wrapper.log_eval_metrics] Accuracy(layer_0 - estimator_0 - 10_folds.train_4.predict)=97.97%\n",
      "[ 2018-04-20 01:04:39,383][kfold_wrapper.log_eval_metrics] Accuracy(layer_0 - estimator_0 - 10_folds.train_5.predict)=97.28%\n",
      "[ 2018-04-20 01:04:42,212][kfold_wrapper.log_eval_metrics] Accuracy(layer_0 - estimator_0 - 10_folds.train_6.predict)=97.87%\n",
      "[ 2018-04-20 01:04:45,084][kfold_wrapper.log_eval_metrics] Accuracy(layer_0 - estimator_0 - 10_folds.train_7.predict)=97.90%\n",
      "[ 2018-04-20 01:04:47,871][kfold_wrapper.log_eval_metrics] Accuracy(layer_0 - estimator_0 - 10_folds.train_8.predict)=97.70%\n",
      "[ 2018-04-20 01:04:50,679][kfold_wrapper.log_eval_metrics] Accuracy(layer_0 - estimator_0 - 10_folds.train_9.predict)=97.48%\n",
      "[ 2018-04-20 01:04:50,954][kfold_wrapper.log_eval_metrics] Accuracy(layer_0 - estimator_0 - 10_folds.train_cv.predict)=97.78%\n",
      "[ 2018-04-20 01:04:50,956][kfold_wrapper.log_eval_metrics] Accuracy(layer_0 - estimator_0 - 10_folds.test.predict)=97.89%\n",
      "[ 2018-04-20 01:04:50,988][cascade_classifier.calc_accuracy] Accuracy(layer_0 - train.classifier_average)=97.78%\n",
      "[ 2018-04-20 01:04:50,991][cascade_classifier.calc_accuracy] Accuracy(layer_0 - test.classifier_average)=97.89%\n",
      "[ 2018-04-20 01:04:50,992][cascade_classifier.fit_transform] [Result][Reach Max Layer] opt_layer_num=1, accuracy_train=97.78%, accuracy_test=97.89%\n",
      "[ 2018-04-20 01:04:50,995][cascade_classifier.transform] X_groups_test.shape=[(10000, 794)]\n",
      "[ 2018-04-20 01:04:51,010][cascade_classifier.transform] group_dims=[794]\n",
      "[ 2018-04-20 01:04:51,011][cascade_classifier.transform] X_test.shape=(10000, 794)\n",
      "[ 2018-04-20 01:04:51,025][cascade_classifier.transform] [layer=0] look_indexs=[0], X_cur_test.shape=(10000, 794)\n"
     ]
    },
    {
     "name": "stdout",
     "output_type": "stream",
     "text": [
      "('Test Accuracy of ExtraTrees = 97.890000 %', 2, 'fois')\n"
     ]
    },
    {
     "name": "stderr",
     "output_type": "stream",
     "text": [
      "[ 2018-04-20 01:04:55,859][cascade_classifier.fit_transform] X_groups_train.shape=[(60000, 794)],y_train.shape=(60000,),X_groups_test.shape=[(10000, 794)],y_test.shape=(10000,)\n",
      "[ 2018-04-20 01:04:55,938][cascade_classifier.fit_transform] group_dims=[794]\n",
      "[ 2018-04-20 01:04:55,940][cascade_classifier.fit_transform] group_starts=[0]\n",
      "[ 2018-04-20 01:04:55,941][cascade_classifier.fit_transform] group_ends=[794]\n",
      "[ 2018-04-20 01:04:55,942][cascade_classifier.fit_transform] X_train.shape=(60000, 794),X_test.shape=(10000, 794)\n",
      "[ 2018-04-20 01:04:56,030][cascade_classifier.fit_transform] [layer=0] look_indexs=[0], X_cur_train.shape=(60000, 794), X_cur_test.shape=(10000, 794)\n",
      "[ 2018-04-20 01:04:58,583][kfold_wrapper.log_eval_metrics] Accuracy(layer_0 - estimator_0 - 10_folds.train_0.predict)=97.92%\n",
      "[ 2018-04-20 01:05:01,284][kfold_wrapper.log_eval_metrics] Accuracy(layer_0 - estimator_0 - 10_folds.train_1.predict)=97.92%\n",
      "[ 2018-04-20 01:05:04,131][kfold_wrapper.log_eval_metrics] Accuracy(layer_0 - estimator_0 - 10_folds.train_2.predict)=98.20%\n",
      "[ 2018-04-20 01:05:06,891][kfold_wrapper.log_eval_metrics] Accuracy(layer_0 - estimator_0 - 10_folds.train_3.predict)=97.73%\n",
      "[ 2018-04-20 01:05:09,579][kfold_wrapper.log_eval_metrics] Accuracy(layer_0 - estimator_0 - 10_folds.train_4.predict)=97.95%\n",
      "[ 2018-04-20 01:05:12,327][kfold_wrapper.log_eval_metrics] Accuracy(layer_0 - estimator_0 - 10_folds.train_5.predict)=97.33%\n",
      "[ 2018-04-20 01:05:15,011][kfold_wrapper.log_eval_metrics] Accuracy(layer_0 - estimator_0 - 10_folds.train_6.predict)=97.82%\n",
      "[ 2018-04-20 01:05:17,785][kfold_wrapper.log_eval_metrics] Accuracy(layer_0 - estimator_0 - 10_folds.train_7.predict)=97.85%\n",
      "[ 2018-04-20 01:05:20,467][kfold_wrapper.log_eval_metrics] Accuracy(layer_0 - estimator_0 - 10_folds.train_8.predict)=97.77%\n",
      "[ 2018-04-20 01:05:23,195][kfold_wrapper.log_eval_metrics] Accuracy(layer_0 - estimator_0 - 10_folds.train_9.predict)=97.65%\n",
      "[ 2018-04-20 01:05:23,474][kfold_wrapper.log_eval_metrics] Accuracy(layer_0 - estimator_0 - 10_folds.train_cv.predict)=97.81%\n",
      "[ 2018-04-20 01:05:23,477][kfold_wrapper.log_eval_metrics] Accuracy(layer_0 - estimator_0 - 10_folds.test.predict)=97.94%\n",
      "[ 2018-04-20 01:05:23,499][cascade_classifier.calc_accuracy] Accuracy(layer_0 - train.classifier_average)=97.81%\n",
      "[ 2018-04-20 01:05:23,501][cascade_classifier.calc_accuracy] Accuracy(layer_0 - test.classifier_average)=97.94%\n",
      "[ 2018-04-20 01:05:23,502][cascade_classifier.fit_transform] [Result][Reach Max Layer] opt_layer_num=1, accuracy_train=97.81%, accuracy_test=97.94%\n",
      "[ 2018-04-20 01:05:23,506][cascade_classifier.transform] X_groups_test.shape=[(10000, 794)]\n",
      "[ 2018-04-20 01:05:23,522][cascade_classifier.transform] group_dims=[794]\n",
      "[ 2018-04-20 01:05:23,523][cascade_classifier.transform] X_test.shape=(10000, 794)\n",
      "[ 2018-04-20 01:05:23,538][cascade_classifier.transform] [layer=0] look_indexs=[0], X_cur_test.shape=(10000, 794)\n"
     ]
    },
    {
     "name": "stdout",
     "output_type": "stream",
     "text": [
      "('Test Accuracy of ExtraTrees = 97.930000 %', 3, 'fois')\n"
     ]
    },
    {
     "name": "stderr",
     "output_type": "stream",
     "text": [
      "[ 2018-04-20 01:05:28,221][cascade_classifier.fit_transform] X_groups_train.shape=[(60000, 794)],y_train.shape=(60000,),X_groups_test.shape=[(10000, 794)],y_test.shape=(10000,)\n",
      "[ 2018-04-20 01:05:28,306][cascade_classifier.fit_transform] group_dims=[794]\n",
      "[ 2018-04-20 01:05:28,308][cascade_classifier.fit_transform] group_starts=[0]\n",
      "[ 2018-04-20 01:05:28,309][cascade_classifier.fit_transform] group_ends=[794]\n",
      "[ 2018-04-20 01:05:28,310][cascade_classifier.fit_transform] X_train.shape=(60000, 794),X_test.shape=(10000, 794)\n",
      "[ 2018-04-20 01:05:28,405][cascade_classifier.fit_transform] [layer=0] look_indexs=[0], X_cur_train.shape=(60000, 794), X_cur_test.shape=(10000, 794)\n",
      "[ 2018-04-20 01:05:31,064][kfold_wrapper.log_eval_metrics] Accuracy(layer_0 - estimator_0 - 10_folds.train_0.predict)=97.89%\n",
      "[ 2018-04-20 01:05:33,760][kfold_wrapper.log_eval_metrics] Accuracy(layer_0 - estimator_0 - 10_folds.train_1.predict)=97.87%\n",
      "[ 2018-04-20 01:05:36,524][kfold_wrapper.log_eval_metrics] Accuracy(layer_0 - estimator_0 - 10_folds.train_2.predict)=98.08%\n",
      "[ 2018-04-20 01:05:39,358][kfold_wrapper.log_eval_metrics] Accuracy(layer_0 - estimator_0 - 10_folds.train_3.predict)=97.75%\n",
      "[ 2018-04-20 01:05:42,303][kfold_wrapper.log_eval_metrics] Accuracy(layer_0 - estimator_0 - 10_folds.train_4.predict)=97.98%\n",
      "[ 2018-04-20 01:05:45,143][kfold_wrapper.log_eval_metrics] Accuracy(layer_0 - estimator_0 - 10_folds.train_5.predict)=97.43%\n",
      "[ 2018-04-20 01:05:47,952][kfold_wrapper.log_eval_metrics] Accuracy(layer_0 - estimator_0 - 10_folds.train_6.predict)=97.83%\n",
      "[ 2018-04-20 01:05:50,984][kfold_wrapper.log_eval_metrics] Accuracy(layer_0 - estimator_0 - 10_folds.train_7.predict)=97.82%\n",
      "[ 2018-04-20 01:05:53,729][kfold_wrapper.log_eval_metrics] Accuracy(layer_0 - estimator_0 - 10_folds.train_8.predict)=97.80%\n",
      "[ 2018-04-20 01:05:56,537][kfold_wrapper.log_eval_metrics] Accuracy(layer_0 - estimator_0 - 10_folds.train_9.predict)=97.62%\n",
      "[ 2018-04-20 01:05:56,803][kfold_wrapper.log_eval_metrics] Accuracy(layer_0 - estimator_0 - 10_folds.train_cv.predict)=97.81%\n",
      "[ 2018-04-20 01:05:56,806][kfold_wrapper.log_eval_metrics] Accuracy(layer_0 - estimator_0 - 10_folds.test.predict)=97.89%\n",
      "[ 2018-04-20 01:05:56,836][cascade_classifier.calc_accuracy] Accuracy(layer_0 - train.classifier_average)=97.81%\n",
      "[ 2018-04-20 01:05:56,839][cascade_classifier.calc_accuracy] Accuracy(layer_0 - test.classifier_average)=97.89%\n",
      "[ 2018-04-20 01:05:56,840][cascade_classifier.fit_transform] [Result][Reach Max Layer] opt_layer_num=1, accuracy_train=97.81%, accuracy_test=97.89%\n",
      "[ 2018-04-20 01:05:56,844][cascade_classifier.transform] X_groups_test.shape=[(10000, 794)]\n",
      "[ 2018-04-20 01:05:56,859][cascade_classifier.transform] group_dims=[794]\n",
      "[ 2018-04-20 01:05:56,860][cascade_classifier.transform] X_test.shape=(10000, 794)\n",
      "[ 2018-04-20 01:05:56,874][cascade_classifier.transform] [layer=0] look_indexs=[0], X_cur_test.shape=(10000, 794)\n"
     ]
    },
    {
     "name": "stdout",
     "output_type": "stream",
     "text": [
      "('Test Accuracy of ExtraTrees = 97.890000 %', 4, 'fois')\n"
     ]
    },
    {
     "name": "stderr",
     "output_type": "stream",
     "text": [
      "[ 2018-04-20 01:06:01,824][cascade_classifier.fit_transform] X_groups_train.shape=[(60000, 794)],y_train.shape=(60000,),X_groups_test.shape=[(10000, 794)],y_test.shape=(10000,)\n",
      "[ 2018-04-20 01:06:01,906][cascade_classifier.fit_transform] group_dims=[794]\n",
      "[ 2018-04-20 01:06:01,908][cascade_classifier.fit_transform] group_starts=[0]\n",
      "[ 2018-04-20 01:06:01,909][cascade_classifier.fit_transform] group_ends=[794]\n",
      "[ 2018-04-20 01:06:01,910][cascade_classifier.fit_transform] X_train.shape=(60000, 794),X_test.shape=(10000, 794)\n",
      "[ 2018-04-20 01:06:01,998][cascade_classifier.fit_transform] [layer=0] look_indexs=[0], X_cur_train.shape=(60000, 794), X_cur_test.shape=(10000, 794)\n",
      "[ 2018-04-20 01:06:04,538][kfold_wrapper.log_eval_metrics] Accuracy(layer_0 - estimator_0 - 10_folds.train_0.predict)=97.97%\n",
      "[ 2018-04-20 01:06:07,332][kfold_wrapper.log_eval_metrics] Accuracy(layer_0 - estimator_0 - 10_folds.train_1.predict)=97.87%\n",
      "[ 2018-04-20 01:06:10,258][kfold_wrapper.log_eval_metrics] Accuracy(layer_0 - estimator_0 - 10_folds.train_2.predict)=98.07%\n",
      "[ 2018-04-20 01:06:13,047][kfold_wrapper.log_eval_metrics] Accuracy(layer_0 - estimator_0 - 10_folds.train_3.predict)=97.78%\n",
      "[ 2018-04-20 01:06:15,951][kfold_wrapper.log_eval_metrics] Accuracy(layer_0 - estimator_0 - 10_folds.train_4.predict)=98.07%\n",
      "[ 2018-04-20 01:06:18,719][kfold_wrapper.log_eval_metrics] Accuracy(layer_0 - estimator_0 - 10_folds.train_5.predict)=97.38%\n",
      "[ 2018-04-20 01:06:21,503][kfold_wrapper.log_eval_metrics] Accuracy(layer_0 - estimator_0 - 10_folds.train_6.predict)=97.88%\n",
      "[ 2018-04-20 01:06:24,143][kfold_wrapper.log_eval_metrics] Accuracy(layer_0 - estimator_0 - 10_folds.train_7.predict)=97.65%\n",
      "[ 2018-04-20 01:06:26,921][kfold_wrapper.log_eval_metrics] Accuracy(layer_0 - estimator_0 - 10_folds.train_8.predict)=97.70%\n",
      "[ 2018-04-20 01:06:29,718][kfold_wrapper.log_eval_metrics] Accuracy(layer_0 - estimator_0 - 10_folds.train_9.predict)=97.57%\n",
      "[ 2018-04-20 01:06:29,988][kfold_wrapper.log_eval_metrics] Accuracy(layer_0 - estimator_0 - 10_folds.train_cv.predict)=97.79%\n",
      "[ 2018-04-20 01:06:29,991][kfold_wrapper.log_eval_metrics] Accuracy(layer_0 - estimator_0 - 10_folds.test.predict)=97.93%\n",
      "[ 2018-04-20 01:06:30,015][cascade_classifier.calc_accuracy] Accuracy(layer_0 - train.classifier_average)=97.79%\n",
      "[ 2018-04-20 01:06:30,017][cascade_classifier.calc_accuracy] Accuracy(layer_0 - test.classifier_average)=97.93%\n",
      "[ 2018-04-20 01:06:30,018][cascade_classifier.fit_transform] [Result][Reach Max Layer] opt_layer_num=1, accuracy_train=97.79%, accuracy_test=97.93%\n",
      "[ 2018-04-20 01:06:30,022][cascade_classifier.transform] X_groups_test.shape=[(10000, 794)]\n",
      "[ 2018-04-20 01:06:30,033][cascade_classifier.transform] group_dims=[794]\n",
      "[ 2018-04-20 01:06:30,034][cascade_classifier.transform] X_test.shape=(10000, 794)\n",
      "[ 2018-04-20 01:06:30,049][cascade_classifier.transform] [layer=0] look_indexs=[0], X_cur_test.shape=(10000, 794)\n"
     ]
    },
    {
     "name": "stdout",
     "output_type": "stream",
     "text": [
      "('Test Accuracy of ExtraTrees = 97.930000 %', 5, 'fois')\n"
     ]
    },
    {
     "name": "stderr",
     "output_type": "stream",
     "text": [
      "[ 2018-04-20 01:06:34,597][cascade_classifier.fit_transform] X_groups_train.shape=[(60000, 794)],y_train.shape=(60000,),X_groups_test.shape=[(10000, 794)],y_test.shape=(10000,)\n",
      "[ 2018-04-20 01:06:34,686][cascade_classifier.fit_transform] group_dims=[794]\n",
      "[ 2018-04-20 01:06:34,687][cascade_classifier.fit_transform] group_starts=[0]\n",
      "[ 2018-04-20 01:06:34,689][cascade_classifier.fit_transform] group_ends=[794]\n",
      "[ 2018-04-20 01:06:34,690][cascade_classifier.fit_transform] X_train.shape=(60000, 794),X_test.shape=(10000, 794)\n",
      "[ 2018-04-20 01:06:34,778][cascade_classifier.fit_transform] [layer=0] look_indexs=[0], X_cur_train.shape=(60000, 794), X_cur_test.shape=(10000, 794)\n",
      "[ 2018-04-20 01:06:37,284][kfold_wrapper.log_eval_metrics] Accuracy(layer_0 - estimator_0 - 10_folds.train_0.predict)=97.94%\n",
      "[ 2018-04-20 01:06:40,234][kfold_wrapper.log_eval_metrics] Accuracy(layer_0 - estimator_0 - 10_folds.train_1.predict)=97.92%\n",
      "[ 2018-04-20 01:06:43,002][kfold_wrapper.log_eval_metrics] Accuracy(layer_0 - estimator_0 - 10_folds.train_2.predict)=98.18%\n",
      "[ 2018-04-20 01:06:45,793][kfold_wrapper.log_eval_metrics] Accuracy(layer_0 - estimator_0 - 10_folds.train_3.predict)=97.83%\n",
      "[ 2018-04-20 01:06:48,602][kfold_wrapper.log_eval_metrics] Accuracy(layer_0 - estimator_0 - 10_folds.train_4.predict)=97.97%\n",
      "[ 2018-04-20 01:06:51,374][kfold_wrapper.log_eval_metrics] Accuracy(layer_0 - estimator_0 - 10_folds.train_5.predict)=97.30%\n",
      "[ 2018-04-20 01:06:54,186][kfold_wrapper.log_eval_metrics] Accuracy(layer_0 - estimator_0 - 10_folds.train_6.predict)=97.78%\n",
      "[ 2018-04-20 01:06:56,953][kfold_wrapper.log_eval_metrics] Accuracy(layer_0 - estimator_0 - 10_folds.train_7.predict)=97.72%\n",
      "[ 2018-04-20 01:06:59,833][kfold_wrapper.log_eval_metrics] Accuracy(layer_0 - estimator_0 - 10_folds.train_8.predict)=97.67%\n",
      "[ 2018-04-20 01:07:02,412][kfold_wrapper.log_eval_metrics] Accuracy(layer_0 - estimator_0 - 10_folds.train_9.predict)=97.50%\n",
      "[ 2018-04-20 01:07:02,681][kfold_wrapper.log_eval_metrics] Accuracy(layer_0 - estimator_0 - 10_folds.train_cv.predict)=97.78%\n",
      "[ 2018-04-20 01:07:02,683][kfold_wrapper.log_eval_metrics] Accuracy(layer_0 - estimator_0 - 10_folds.test.predict)=97.89%\n",
      "[ 2018-04-20 01:07:02,703][cascade_classifier.calc_accuracy] Accuracy(layer_0 - train.classifier_average)=97.78%\n",
      "[ 2018-04-20 01:07:02,705][cascade_classifier.calc_accuracy] Accuracy(layer_0 - test.classifier_average)=97.89%\n",
      "[ 2018-04-20 01:07:02,706][cascade_classifier.fit_transform] [Result][Reach Max Layer] opt_layer_num=1, accuracy_train=97.78%, accuracy_test=97.89%\n",
      "[ 2018-04-20 01:07:02,709][cascade_classifier.transform] X_groups_test.shape=[(10000, 794)]\n",
      "[ 2018-04-20 01:07:02,718][cascade_classifier.transform] group_dims=[794]\n",
      "[ 2018-04-20 01:07:02,718][cascade_classifier.transform] X_test.shape=(10000, 794)\n",
      "[ 2018-04-20 01:07:02,733][cascade_classifier.transform] [layer=0] look_indexs=[0], X_cur_test.shape=(10000, 794)\n"
     ]
    },
    {
     "name": "stdout",
     "output_type": "stream",
     "text": [
      "('Test Accuracy of ExtraTrees = 97.890000 %', 6, 'fois')\n"
     ]
    },
    {
     "name": "stderr",
     "output_type": "stream",
     "text": [
      "[ 2018-04-20 01:07:07,539][cascade_classifier.fit_transform] X_groups_train.shape=[(60000, 794)],y_train.shape=(60000,),X_groups_test.shape=[(10000, 794)],y_test.shape=(10000,)\n",
      "[ 2018-04-20 01:07:07,629][cascade_classifier.fit_transform] group_dims=[794]\n",
      "[ 2018-04-20 01:07:07,630][cascade_classifier.fit_transform] group_starts=[0]\n",
      "[ 2018-04-20 01:07:07,632][cascade_classifier.fit_transform] group_ends=[794]\n",
      "[ 2018-04-20 01:07:07,633][cascade_classifier.fit_transform] X_train.shape=(60000, 794),X_test.shape=(10000, 794)\n",
      "[ 2018-04-20 01:07:07,721][cascade_classifier.fit_transform] [layer=0] look_indexs=[0], X_cur_train.shape=(60000, 794), X_cur_test.shape=(10000, 794)\n",
      "[ 2018-04-20 01:07:10,299][kfold_wrapper.log_eval_metrics] Accuracy(layer_0 - estimator_0 - 10_folds.train_0.predict)=97.89%\n",
      "[ 2018-04-20 01:07:13,074][kfold_wrapper.log_eval_metrics] Accuracy(layer_0 - estimator_0 - 10_folds.train_1.predict)=97.88%\n",
      "[ 2018-04-20 01:07:15,860][kfold_wrapper.log_eval_metrics] Accuracy(layer_0 - estimator_0 - 10_folds.train_2.predict)=98.12%\n",
      "[ 2018-04-20 01:07:18,785][kfold_wrapper.log_eval_metrics] Accuracy(layer_0 - estimator_0 - 10_folds.train_3.predict)=97.82%\n",
      "[ 2018-04-20 01:07:21,572][kfold_wrapper.log_eval_metrics] Accuracy(layer_0 - estimator_0 - 10_folds.train_4.predict)=97.85%\n",
      "[ 2018-04-20 01:07:24,337][kfold_wrapper.log_eval_metrics] Accuracy(layer_0 - estimator_0 - 10_folds.train_5.predict)=97.48%\n",
      "[ 2018-04-20 01:07:27,162][kfold_wrapper.log_eval_metrics] Accuracy(layer_0 - estimator_0 - 10_folds.train_6.predict)=97.73%\n",
      "[ 2018-04-20 01:07:29,912][kfold_wrapper.log_eval_metrics] Accuracy(layer_0 - estimator_0 - 10_folds.train_7.predict)=97.85%\n",
      "[ 2018-04-20 01:07:32,730][kfold_wrapper.log_eval_metrics] Accuracy(layer_0 - estimator_0 - 10_folds.train_8.predict)=97.58%\n",
      "[ 2018-04-20 01:07:35,513][kfold_wrapper.log_eval_metrics] Accuracy(layer_0 - estimator_0 - 10_folds.train_9.predict)=97.46%\n",
      "[ 2018-04-20 01:07:35,788][kfold_wrapper.log_eval_metrics] Accuracy(layer_0 - estimator_0 - 10_folds.train_cv.predict)=97.77%\n",
      "[ 2018-04-20 01:07:35,791][kfold_wrapper.log_eval_metrics] Accuracy(layer_0 - estimator_0 - 10_folds.test.predict)=97.86%\n",
      "[ 2018-04-20 01:07:35,824][cascade_classifier.calc_accuracy] Accuracy(layer_0 - train.classifier_average)=97.77%\n",
      "[ 2018-04-20 01:07:35,826][cascade_classifier.calc_accuracy] Accuracy(layer_0 - test.classifier_average)=97.86%\n",
      "[ 2018-04-20 01:07:35,827][cascade_classifier.fit_transform] [Result][Reach Max Layer] opt_layer_num=1, accuracy_train=97.77%, accuracy_test=97.86%\n",
      "[ 2018-04-20 01:07:35,831][cascade_classifier.transform] X_groups_test.shape=[(10000, 794)]\n",
      "[ 2018-04-20 01:07:35,848][cascade_classifier.transform] group_dims=[794]\n",
      "[ 2018-04-20 01:07:35,849][cascade_classifier.transform] X_test.shape=(10000, 794)\n",
      "[ 2018-04-20 01:07:35,865][cascade_classifier.transform] [layer=0] look_indexs=[0], X_cur_test.shape=(10000, 794)\n"
     ]
    },
    {
     "name": "stdout",
     "output_type": "stream",
     "text": [
      "('Test Accuracy of ExtraTrees = 97.860000 %', 7, 'fois')\n"
     ]
    },
    {
     "name": "stderr",
     "output_type": "stream",
     "text": [
      "[ 2018-04-20 01:07:40,066][cascade_classifier.fit_transform] X_groups_train.shape=[(60000, 794)],y_train.shape=(60000,),X_groups_test.shape=[(10000, 794)],y_test.shape=(10000,)\n",
      "[ 2018-04-20 01:07:40,153][cascade_classifier.fit_transform] group_dims=[794]\n",
      "[ 2018-04-20 01:07:40,156][cascade_classifier.fit_transform] group_starts=[0]\n",
      "[ 2018-04-20 01:07:40,157][cascade_classifier.fit_transform] group_ends=[794]\n",
      "[ 2018-04-20 01:07:40,158][cascade_classifier.fit_transform] X_train.shape=(60000, 794),X_test.shape=(10000, 794)\n",
      "[ 2018-04-20 01:07:40,245][cascade_classifier.fit_transform] [layer=0] look_indexs=[0], X_cur_train.shape=(60000, 794), X_cur_test.shape=(10000, 794)\n",
      "[ 2018-04-20 01:07:42,809][kfold_wrapper.log_eval_metrics] Accuracy(layer_0 - estimator_0 - 10_folds.train_0.predict)=97.94%\n",
      "[ 2018-04-20 01:07:45,614][kfold_wrapper.log_eval_metrics] Accuracy(layer_0 - estimator_0 - 10_folds.train_1.predict)=98.00%\n",
      "[ 2018-04-20 01:07:48,351][kfold_wrapper.log_eval_metrics] Accuracy(layer_0 - estimator_0 - 10_folds.train_2.predict)=98.05%\n",
      "[ 2018-04-20 01:07:51,134][kfold_wrapper.log_eval_metrics] Accuracy(layer_0 - estimator_0 - 10_folds.train_3.predict)=97.78%\n",
      "[ 2018-04-20 01:07:53,919][kfold_wrapper.log_eval_metrics] Accuracy(layer_0 - estimator_0 - 10_folds.train_4.predict)=97.93%\n",
      "[ 2018-04-20 01:07:56,709][kfold_wrapper.log_eval_metrics] Accuracy(layer_0 - estimator_0 - 10_folds.train_5.predict)=97.33%\n",
      "[ 2018-04-20 01:07:59,518][kfold_wrapper.log_eval_metrics] Accuracy(layer_0 - estimator_0 - 10_folds.train_6.predict)=97.83%\n",
      "[ 2018-04-20 01:08:02,439][kfold_wrapper.log_eval_metrics] Accuracy(layer_0 - estimator_0 - 10_folds.train_7.predict)=97.65%\n",
      "[ 2018-04-20 01:08:05,250][kfold_wrapper.log_eval_metrics] Accuracy(layer_0 - estimator_0 - 10_folds.train_8.predict)=97.60%\n",
      "[ 2018-04-20 01:08:08,010][kfold_wrapper.log_eval_metrics] Accuracy(layer_0 - estimator_0 - 10_folds.train_9.predict)=97.57%\n",
      "[ 2018-04-20 01:08:08,272][kfold_wrapper.log_eval_metrics] Accuracy(layer_0 - estimator_0 - 10_folds.train_cv.predict)=97.77%\n",
      "[ 2018-04-20 01:08:08,275][kfold_wrapper.log_eval_metrics] Accuracy(layer_0 - estimator_0 - 10_folds.test.predict)=97.88%\n",
      "[ 2018-04-20 01:08:08,294][cascade_classifier.calc_accuracy] Accuracy(layer_0 - train.classifier_average)=97.77%\n",
      "[ 2018-04-20 01:08:08,296][cascade_classifier.calc_accuracy] Accuracy(layer_0 - test.classifier_average)=97.88%\n",
      "[ 2018-04-20 01:08:08,297][cascade_classifier.fit_transform] [Result][Reach Max Layer] opt_layer_num=1, accuracy_train=97.77%, accuracy_test=97.88%\n",
      "[ 2018-04-20 01:08:08,299][cascade_classifier.transform] X_groups_test.shape=[(10000, 794)]\n",
      "[ 2018-04-20 01:08:08,310][cascade_classifier.transform] group_dims=[794]\n",
      "[ 2018-04-20 01:08:08,311][cascade_classifier.transform] X_test.shape=(10000, 794)\n",
      "[ 2018-04-20 01:08:08,325][cascade_classifier.transform] [layer=0] look_indexs=[0], X_cur_test.shape=(10000, 794)\n"
     ]
    },
    {
     "name": "stdout",
     "output_type": "stream",
     "text": [
      "('Test Accuracy of ExtraTrees = 97.880000 %', 8, 'fois')\n"
     ]
    },
    {
     "name": "stderr",
     "output_type": "stream",
     "text": [
      "[ 2018-04-20 01:08:12,733][cascade_classifier.fit_transform] X_groups_train.shape=[(60000, 794)],y_train.shape=(60000,),X_groups_test.shape=[(10000, 794)],y_test.shape=(10000,)\n",
      "[ 2018-04-20 01:08:12,820][cascade_classifier.fit_transform] group_dims=[794]\n",
      "[ 2018-04-20 01:08:12,822][cascade_classifier.fit_transform] group_starts=[0]\n",
      "[ 2018-04-20 01:08:12,823][cascade_classifier.fit_transform] group_ends=[794]\n",
      "[ 2018-04-20 01:08:12,824][cascade_classifier.fit_transform] X_train.shape=(60000, 794),X_test.shape=(10000, 794)\n",
      "[ 2018-04-20 01:08:12,912][cascade_classifier.fit_transform] [layer=0] look_indexs=[0], X_cur_train.shape=(60000, 794), X_cur_test.shape=(10000, 794)\n",
      "[ 2018-04-20 01:08:15,503][kfold_wrapper.log_eval_metrics] Accuracy(layer_0 - estimator_0 - 10_folds.train_0.predict)=97.94%\n",
      "[ 2018-04-20 01:08:18,180][kfold_wrapper.log_eval_metrics] Accuracy(layer_0 - estimator_0 - 10_folds.train_1.predict)=97.77%\n",
      "[ 2018-04-20 01:08:20,872][kfold_wrapper.log_eval_metrics] Accuracy(layer_0 - estimator_0 - 10_folds.train_2.predict)=98.12%\n",
      "[ 2018-04-20 01:08:23,702][kfold_wrapper.log_eval_metrics] Accuracy(layer_0 - estimator_0 - 10_folds.train_3.predict)=97.90%\n",
      "[ 2018-04-20 01:08:26,504][kfold_wrapper.log_eval_metrics] Accuracy(layer_0 - estimator_0 - 10_folds.train_4.predict)=97.83%\n",
      "[ 2018-04-20 01:08:29,291][kfold_wrapper.log_eval_metrics] Accuracy(layer_0 - estimator_0 - 10_folds.train_5.predict)=97.28%\n",
      "[ 2018-04-20 01:08:32,036][kfold_wrapper.log_eval_metrics] Accuracy(layer_0 - estimator_0 - 10_folds.train_6.predict)=97.80%\n",
      "[ 2018-04-20 01:08:34,933][kfold_wrapper.log_eval_metrics] Accuracy(layer_0 - estimator_0 - 10_folds.train_7.predict)=97.80%\n",
      "[ 2018-04-20 01:08:37,956][kfold_wrapper.log_eval_metrics] Accuracy(layer_0 - estimator_0 - 10_folds.train_8.predict)=97.63%\n",
      "[ 2018-04-20 01:08:40,730][kfold_wrapper.log_eval_metrics] Accuracy(layer_0 - estimator_0 - 10_folds.train_9.predict)=97.43%\n",
      "[ 2018-04-20 01:08:40,996][kfold_wrapper.log_eval_metrics] Accuracy(layer_0 - estimator_0 - 10_folds.train_cv.predict)=97.75%\n",
      "[ 2018-04-20 01:08:40,999][kfold_wrapper.log_eval_metrics] Accuracy(layer_0 - estimator_0 - 10_folds.test.predict)=97.83%\n",
      "[ 2018-04-20 01:08:41,016][cascade_classifier.calc_accuracy] Accuracy(layer_0 - train.classifier_average)=97.75%\n",
      "[ 2018-04-20 01:08:41,018][cascade_classifier.calc_accuracy] Accuracy(layer_0 - test.classifier_average)=97.83%\n",
      "[ 2018-04-20 01:08:41,019][cascade_classifier.fit_transform] [Result][Reach Max Layer] opt_layer_num=1, accuracy_train=97.75%, accuracy_test=97.83%\n",
      "[ 2018-04-20 01:08:41,022][cascade_classifier.transform] X_groups_test.shape=[(10000, 794)]\n",
      "[ 2018-04-20 01:08:41,038][cascade_classifier.transform] group_dims=[794]\n",
      "[ 2018-04-20 01:08:41,039][cascade_classifier.transform] X_test.shape=(10000, 794)\n",
      "[ 2018-04-20 01:08:41,054][cascade_classifier.transform] [layer=0] look_indexs=[0], X_cur_test.shape=(10000, 794)\n"
     ]
    },
    {
     "name": "stdout",
     "output_type": "stream",
     "text": [
      "('Test Accuracy of ExtraTrees = 97.830000 %', 9, 'fois')\n"
     ]
    },
    {
     "name": "stderr",
     "output_type": "stream",
     "text": [
      "[ 2018-04-20 01:08:45,959][cascade_classifier.fit_transform] X_groups_train.shape=[(60000, 794)],y_train.shape=(60000,),X_groups_test.shape=[(10000, 794)],y_test.shape=(10000,)\n",
      "[ 2018-04-20 01:08:46,041][cascade_classifier.fit_transform] group_dims=[794]\n",
      "[ 2018-04-20 01:08:46,042][cascade_classifier.fit_transform] group_starts=[0]\n",
      "[ 2018-04-20 01:08:46,043][cascade_classifier.fit_transform] group_ends=[794]\n",
      "[ 2018-04-20 01:08:46,044][cascade_classifier.fit_transform] X_train.shape=(60000, 794),X_test.shape=(10000, 794)\n",
      "[ 2018-04-20 01:08:46,133][cascade_classifier.fit_transform] [layer=0] look_indexs=[0], X_cur_train.shape=(60000, 794), X_cur_test.shape=(10000, 794)\n",
      "[ 2018-04-20 01:08:48,742][kfold_wrapper.log_eval_metrics] Accuracy(layer_0 - estimator_0 - 10_folds.train_0.predict)=97.87%\n",
      "[ 2018-04-20 01:08:51,527][kfold_wrapper.log_eval_metrics] Accuracy(layer_0 - estimator_0 - 10_folds.train_1.predict)=97.85%\n",
      "[ 2018-04-20 01:08:54,307][kfold_wrapper.log_eval_metrics] Accuracy(layer_0 - estimator_0 - 10_folds.train_2.predict)=98.00%\n",
      "[ 2018-04-20 01:08:57,112][kfold_wrapper.log_eval_metrics] Accuracy(layer_0 - estimator_0 - 10_folds.train_3.predict)=97.87%\n",
      "[ 2018-04-20 01:08:59,940][kfold_wrapper.log_eval_metrics] Accuracy(layer_0 - estimator_0 - 10_folds.train_4.predict)=97.93%\n",
      "[ 2018-04-20 01:09:02,719][kfold_wrapper.log_eval_metrics] Accuracy(layer_0 - estimator_0 - 10_folds.train_5.predict)=97.12%\n",
      "[ 2018-04-20 01:09:05,455][kfold_wrapper.log_eval_metrics] Accuracy(layer_0 - estimator_0 - 10_folds.train_6.predict)=97.83%\n",
      "[ 2018-04-20 01:09:08,309][kfold_wrapper.log_eval_metrics] Accuracy(layer_0 - estimator_0 - 10_folds.train_7.predict)=97.88%\n",
      "[ 2018-04-20 01:09:11,087][kfold_wrapper.log_eval_metrics] Accuracy(layer_0 - estimator_0 - 10_folds.train_8.predict)=97.63%\n",
      "[ 2018-04-20 01:09:13,849][kfold_wrapper.log_eval_metrics] Accuracy(layer_0 - estimator_0 - 10_folds.train_9.predict)=97.40%\n",
      "[ 2018-04-20 01:09:14,113][kfold_wrapper.log_eval_metrics] Accuracy(layer_0 - estimator_0 - 10_folds.train_cv.predict)=97.74%\n",
      "[ 2018-04-20 01:09:14,115][kfold_wrapper.log_eval_metrics] Accuracy(layer_0 - estimator_0 - 10_folds.test.predict)=97.88%\n",
      "[ 2018-04-20 01:09:14,132][cascade_classifier.calc_accuracy] Accuracy(layer_0 - train.classifier_average)=97.74%\n",
      "[ 2018-04-20 01:09:14,133][cascade_classifier.calc_accuracy] Accuracy(layer_0 - test.classifier_average)=97.88%\n",
      "[ 2018-04-20 01:09:14,134][cascade_classifier.fit_transform] [Result][Reach Max Layer] opt_layer_num=1, accuracy_train=97.74%, accuracy_test=97.88%\n",
      "[ 2018-04-20 01:09:14,137][cascade_classifier.transform] X_groups_test.shape=[(10000, 794)]\n",
      "[ 2018-04-20 01:09:14,145][cascade_classifier.transform] group_dims=[794]\n",
      "[ 2018-04-20 01:09:14,146][cascade_classifier.transform] X_test.shape=(10000, 794)\n",
      "[ 2018-04-20 01:09:14,160][cascade_classifier.transform] [layer=0] look_indexs=[0], X_cur_test.shape=(10000, 794)\n"
     ]
    },
    {
     "name": "stdout",
     "output_type": "stream",
     "text": [
      "('Test Accuracy of ExtraTrees = 97.870000 %', 10, 'fois')\n"
     ]
    },
    {
     "name": "stderr",
     "output_type": "stream",
     "text": [
      "[ 2018-04-20 01:09:18,771][cascade_classifier.fit_transform] X_groups_train.shape=[(60000, 794)],y_train.shape=(60000,),X_groups_test.shape=[(10000, 794)],y_test.shape=(10000,)\n",
      "[ 2018-04-20 01:09:18,858][cascade_classifier.fit_transform] group_dims=[794]\n",
      "[ 2018-04-20 01:09:18,860][cascade_classifier.fit_transform] group_starts=[0]\n",
      "[ 2018-04-20 01:09:18,861][cascade_classifier.fit_transform] group_ends=[794]\n",
      "[ 2018-04-20 01:09:18,862][cascade_classifier.fit_transform] X_train.shape=(60000, 794),X_test.shape=(10000, 794)\n",
      "[ 2018-04-20 01:09:18,952][cascade_classifier.fit_transform] [layer=0] look_indexs=[0], X_cur_train.shape=(60000, 794), X_cur_test.shape=(10000, 794)\n",
      "[ 2018-04-20 01:09:21,509][kfold_wrapper.log_eval_metrics] Accuracy(layer_0 - estimator_0 - 10_folds.train_0.predict)=98.09%\n",
      "[ 2018-04-20 01:09:24,299][kfold_wrapper.log_eval_metrics] Accuracy(layer_0 - estimator_0 - 10_folds.train_1.predict)=97.85%\n",
      "[ 2018-04-20 01:09:26,963][kfold_wrapper.log_eval_metrics] Accuracy(layer_0 - estimator_0 - 10_folds.train_2.predict)=98.20%\n",
      "[ 2018-04-20 01:09:29,683][kfold_wrapper.log_eval_metrics] Accuracy(layer_0 - estimator_0 - 10_folds.train_3.predict)=97.77%\n",
      "[ 2018-04-20 01:09:32,622][kfold_wrapper.log_eval_metrics] Accuracy(layer_0 - estimator_0 - 10_folds.train_4.predict)=97.98%\n",
      "[ 2018-04-20 01:09:35,440][kfold_wrapper.log_eval_metrics] Accuracy(layer_0 - estimator_0 - 10_folds.train_5.predict)=97.38%\n",
      "[ 2018-04-20 01:09:38,159][kfold_wrapper.log_eval_metrics] Accuracy(layer_0 - estimator_0 - 10_folds.train_6.predict)=97.83%\n",
      "[ 2018-04-20 01:09:41,076][kfold_wrapper.log_eval_metrics] Accuracy(layer_0 - estimator_0 - 10_folds.train_7.predict)=97.83%\n",
      "[ 2018-04-20 01:09:43,895][kfold_wrapper.log_eval_metrics] Accuracy(layer_0 - estimator_0 - 10_folds.train_8.predict)=97.60%\n",
      "[ 2018-04-20 01:09:46,706][kfold_wrapper.log_eval_metrics] Accuracy(layer_0 - estimator_0 - 10_folds.train_9.predict)=97.41%\n",
      "[ 2018-04-20 01:09:46,982][kfold_wrapper.log_eval_metrics] Accuracy(layer_0 - estimator_0 - 10_folds.train_cv.predict)=97.80%\n",
      "[ 2018-04-20 01:09:46,984][kfold_wrapper.log_eval_metrics] Accuracy(layer_0 - estimator_0 - 10_folds.test.predict)=97.88%\n",
      "[ 2018-04-20 01:09:47,007][cascade_classifier.calc_accuracy] Accuracy(layer_0 - train.classifier_average)=97.80%\n",
      "[ 2018-04-20 01:09:47,009][cascade_classifier.calc_accuracy] Accuracy(layer_0 - test.classifier_average)=97.88%\n",
      "[ 2018-04-20 01:09:47,010][cascade_classifier.fit_transform] [Result][Reach Max Layer] opt_layer_num=1, accuracy_train=97.80%, accuracy_test=97.88%\n",
      "[ 2018-04-20 01:09:47,013][cascade_classifier.transform] X_groups_test.shape=[(10000, 794)]\n",
      "[ 2018-04-20 01:09:47,024][cascade_classifier.transform] group_dims=[794]\n",
      "[ 2018-04-20 01:09:47,025][cascade_classifier.transform] X_test.shape=(10000, 794)\n",
      "[ 2018-04-20 01:09:47,042][cascade_classifier.transform] [layer=0] look_indexs=[0], X_cur_test.shape=(10000, 794)\n"
     ]
    },
    {
     "name": "stdout",
     "output_type": "stream",
     "text": [
      "('Test Accuracy of ExtraTrees = 97.870000 %', 11, 'fois')\n"
     ]
    },
    {
     "name": "stderr",
     "output_type": "stream",
     "text": [
      "[ 2018-04-20 01:09:52,148][cascade_classifier.fit_transform] X_groups_train.shape=[(60000, 794)],y_train.shape=(60000,),X_groups_test.shape=[(10000, 794)],y_test.shape=(10000,)\n",
      "[ 2018-04-20 01:09:52,237][cascade_classifier.fit_transform] group_dims=[794]\n",
      "[ 2018-04-20 01:09:52,238][cascade_classifier.fit_transform] group_starts=[0]\n",
      "[ 2018-04-20 01:09:52,239][cascade_classifier.fit_transform] group_ends=[794]\n",
      "[ 2018-04-20 01:09:52,240][cascade_classifier.fit_transform] X_train.shape=(60000, 794),X_test.shape=(10000, 794)\n",
      "[ 2018-04-20 01:09:52,329][cascade_classifier.fit_transform] [layer=0] look_indexs=[0], X_cur_train.shape=(60000, 794), X_cur_test.shape=(10000, 794)\n",
      "[ 2018-04-20 01:09:54,921][kfold_wrapper.log_eval_metrics] Accuracy(layer_0 - estimator_0 - 10_folds.train_0.predict)=97.87%\n",
      "[ 2018-04-20 01:09:57,721][kfold_wrapper.log_eval_metrics] Accuracy(layer_0 - estimator_0 - 10_folds.train_1.predict)=97.85%\n",
      "[ 2018-04-20 01:10:00,414][kfold_wrapper.log_eval_metrics] Accuracy(layer_0 - estimator_0 - 10_folds.train_2.predict)=98.08%\n",
      "[ 2018-04-20 01:10:03,292][kfold_wrapper.log_eval_metrics] Accuracy(layer_0 - estimator_0 - 10_folds.train_3.predict)=97.80%\n",
      "[ 2018-04-20 01:10:06,030][kfold_wrapper.log_eval_metrics] Accuracy(layer_0 - estimator_0 - 10_folds.train_4.predict)=97.95%\n",
      "[ 2018-04-20 01:10:08,818][kfold_wrapper.log_eval_metrics] Accuracy(layer_0 - estimator_0 - 10_folds.train_5.predict)=97.38%\n",
      "[ 2018-04-20 01:10:11,570][kfold_wrapper.log_eval_metrics] Accuracy(layer_0 - estimator_0 - 10_folds.train_6.predict)=97.75%\n",
      "[ 2018-04-20 01:10:14,371][kfold_wrapper.log_eval_metrics] Accuracy(layer_0 - estimator_0 - 10_folds.train_7.predict)=97.85%\n",
      "[ 2018-04-20 01:10:17,129][kfold_wrapper.log_eval_metrics] Accuracy(layer_0 - estimator_0 - 10_folds.train_8.predict)=97.88%\n",
      "[ 2018-04-20 01:10:19,903][kfold_wrapper.log_eval_metrics] Accuracy(layer_0 - estimator_0 - 10_folds.train_9.predict)=97.58%\n",
      "[ 2018-04-20 01:10:20,177][kfold_wrapper.log_eval_metrics] Accuracy(layer_0 - estimator_0 - 10_folds.train_cv.predict)=97.80%\n",
      "[ 2018-04-20 01:10:20,178][kfold_wrapper.log_eval_metrics] Accuracy(layer_0 - estimator_0 - 10_folds.test.predict)=97.94%\n",
      "[ 2018-04-20 01:10:20,207][cascade_classifier.calc_accuracy] Accuracy(layer_0 - train.classifier_average)=97.80%\n",
      "[ 2018-04-20 01:10:20,209][cascade_classifier.calc_accuracy] Accuracy(layer_0 - test.classifier_average)=97.94%\n",
      "[ 2018-04-20 01:10:20,210][cascade_classifier.fit_transform] [Result][Reach Max Layer] opt_layer_num=1, accuracy_train=97.80%, accuracy_test=97.94%\n",
      "[ 2018-04-20 01:10:20,213][cascade_classifier.transform] X_groups_test.shape=[(10000, 794)]\n",
      "[ 2018-04-20 01:10:20,229][cascade_classifier.transform] group_dims=[794]\n",
      "[ 2018-04-20 01:10:20,230][cascade_classifier.transform] X_test.shape=(10000, 794)\n",
      "[ 2018-04-20 01:10:20,246][cascade_classifier.transform] [layer=0] look_indexs=[0], X_cur_test.shape=(10000, 794)\n"
     ]
    },
    {
     "name": "stdout",
     "output_type": "stream",
     "text": [
      "('Test Accuracy of ExtraTrees = 97.930000 %', 12, 'fois')\n"
     ]
    },
    {
     "name": "stderr",
     "output_type": "stream",
     "text": [
      "[ 2018-04-20 01:10:24,797][cascade_classifier.fit_transform] X_groups_train.shape=[(60000, 794)],y_train.shape=(60000,),X_groups_test.shape=[(10000, 794)],y_test.shape=(10000,)\n",
      "[ 2018-04-20 01:10:24,877][cascade_classifier.fit_transform] group_dims=[794]\n",
      "[ 2018-04-20 01:10:24,878][cascade_classifier.fit_transform] group_starts=[0]\n",
      "[ 2018-04-20 01:10:24,879][cascade_classifier.fit_transform] group_ends=[794]\n",
      "[ 2018-04-20 01:10:24,880][cascade_classifier.fit_transform] X_train.shape=(60000, 794),X_test.shape=(10000, 794)\n",
      "[ 2018-04-20 01:10:24,968][cascade_classifier.fit_transform] [layer=0] look_indexs=[0], X_cur_train.shape=(60000, 794), X_cur_test.shape=(10000, 794)\n",
      "[ 2018-04-20 01:10:27,582][kfold_wrapper.log_eval_metrics] Accuracy(layer_0 - estimator_0 - 10_folds.train_0.predict)=97.85%\n",
      "[ 2018-04-20 01:10:30,362][kfold_wrapper.log_eval_metrics] Accuracy(layer_0 - estimator_0 - 10_folds.train_1.predict)=97.93%\n",
      "[ 2018-04-20 01:10:33,145][kfold_wrapper.log_eval_metrics] Accuracy(layer_0 - estimator_0 - 10_folds.train_2.predict)=98.07%\n",
      "[ 2018-04-20 01:10:36,016][kfold_wrapper.log_eval_metrics] Accuracy(layer_0 - estimator_0 - 10_folds.train_3.predict)=97.77%\n",
      "[ 2018-04-20 01:10:38,785][kfold_wrapper.log_eval_metrics] Accuracy(layer_0 - estimator_0 - 10_folds.train_4.predict)=98.08%\n",
      "[ 2018-04-20 01:10:41,567][kfold_wrapper.log_eval_metrics] Accuracy(layer_0 - estimator_0 - 10_folds.train_5.predict)=97.30%\n",
      "[ 2018-04-20 01:10:44,365][kfold_wrapper.log_eval_metrics] Accuracy(layer_0 - estimator_0 - 10_folds.train_6.predict)=97.87%\n",
      "[ 2018-04-20 01:10:47,144][kfold_wrapper.log_eval_metrics] Accuracy(layer_0 - estimator_0 - 10_folds.train_7.predict)=97.82%\n",
      "[ 2018-04-20 01:10:49,857][kfold_wrapper.log_eval_metrics] Accuracy(layer_0 - estimator_0 - 10_folds.train_8.predict)=97.80%\n",
      "[ 2018-04-20 01:10:52,549][kfold_wrapper.log_eval_metrics] Accuracy(layer_0 - estimator_0 - 10_folds.train_9.predict)=97.35%\n",
      "[ 2018-04-20 01:10:52,816][kfold_wrapper.log_eval_metrics] Accuracy(layer_0 - estimator_0 - 10_folds.train_cv.predict)=97.78%\n",
      "[ 2018-04-20 01:10:52,819][kfold_wrapper.log_eval_metrics] Accuracy(layer_0 - estimator_0 - 10_folds.test.predict)=97.85%\n",
      "[ 2018-04-20 01:10:52,846][cascade_classifier.calc_accuracy] Accuracy(layer_0 - train.classifier_average)=97.78%\n",
      "[ 2018-04-20 01:10:52,848][cascade_classifier.calc_accuracy] Accuracy(layer_0 - test.classifier_average)=97.85%\n",
      "[ 2018-04-20 01:10:52,849][cascade_classifier.fit_transform] [Result][Reach Max Layer] opt_layer_num=1, accuracy_train=97.78%, accuracy_test=97.85%\n",
      "[ 2018-04-20 01:10:52,852][cascade_classifier.transform] X_groups_test.shape=[(10000, 794)]\n",
      "[ 2018-04-20 01:10:52,862][cascade_classifier.transform] group_dims=[794]\n",
      "[ 2018-04-20 01:10:52,863][cascade_classifier.transform] X_test.shape=(10000, 794)\n",
      "[ 2018-04-20 01:10:52,879][cascade_classifier.transform] [layer=0] look_indexs=[0], X_cur_test.shape=(10000, 794)\n"
     ]
    },
    {
     "name": "stdout",
     "output_type": "stream",
     "text": [
      "('Test Accuracy of ExtraTrees = 97.850000 %', 13, 'fois')\n"
     ]
    },
    {
     "name": "stderr",
     "output_type": "stream",
     "text": [
      "[ 2018-04-20 01:10:57,989][cascade_classifier.fit_transform] X_groups_train.shape=[(60000, 794)],y_train.shape=(60000,),X_groups_test.shape=[(10000, 794)],y_test.shape=(10000,)\n",
      "[ 2018-04-20 01:10:58,078][cascade_classifier.fit_transform] group_dims=[794]\n",
      "[ 2018-04-20 01:10:58,080][cascade_classifier.fit_transform] group_starts=[0]\n",
      "[ 2018-04-20 01:10:58,081][cascade_classifier.fit_transform] group_ends=[794]\n",
      "[ 2018-04-20 01:10:58,082][cascade_classifier.fit_transform] X_train.shape=(60000, 794),X_test.shape=(10000, 794)\n",
      "[ 2018-04-20 01:10:58,172][cascade_classifier.fit_transform] [layer=0] look_indexs=[0], X_cur_train.shape=(60000, 794), X_cur_test.shape=(10000, 794)\n",
      "[ 2018-04-20 01:11:00,729][kfold_wrapper.log_eval_metrics] Accuracy(layer_0 - estimator_0 - 10_folds.train_0.predict)=97.95%\n",
      "[ 2018-04-20 01:11:03,488][kfold_wrapper.log_eval_metrics] Accuracy(layer_0 - estimator_0 - 10_folds.train_1.predict)=97.97%\n",
      "[ 2018-04-20 01:11:06,327][kfold_wrapper.log_eval_metrics] Accuracy(layer_0 - estimator_0 - 10_folds.train_2.predict)=98.03%\n",
      "[ 2018-04-20 01:11:09,108][kfold_wrapper.log_eval_metrics] Accuracy(layer_0 - estimator_0 - 10_folds.train_3.predict)=97.77%\n",
      "[ 2018-04-20 01:11:11,899][kfold_wrapper.log_eval_metrics] Accuracy(layer_0 - estimator_0 - 10_folds.train_4.predict)=97.92%\n",
      "[ 2018-04-20 01:11:14,646][kfold_wrapper.log_eval_metrics] Accuracy(layer_0 - estimator_0 - 10_folds.train_5.predict)=97.55%\n",
      "[ 2018-04-20 01:11:17,444][kfold_wrapper.log_eval_metrics] Accuracy(layer_0 - estimator_0 - 10_folds.train_6.predict)=97.77%\n",
      "[ 2018-04-20 01:11:20,214][kfold_wrapper.log_eval_metrics] Accuracy(layer_0 - estimator_0 - 10_folds.train_7.predict)=97.80%\n",
      "[ 2018-04-20 01:11:22,906][kfold_wrapper.log_eval_metrics] Accuracy(layer_0 - estimator_0 - 10_folds.train_8.predict)=97.68%\n",
      "[ 2018-04-20 01:11:25,691][kfold_wrapper.log_eval_metrics] Accuracy(layer_0 - estimator_0 - 10_folds.train_9.predict)=97.52%\n",
      "[ 2018-04-20 01:11:25,967][kfold_wrapper.log_eval_metrics] Accuracy(layer_0 - estimator_0 - 10_folds.train_cv.predict)=97.80%\n",
      "[ 2018-04-20 01:11:25,969][kfold_wrapper.log_eval_metrics] Accuracy(layer_0 - estimator_0 - 10_folds.test.predict)=97.86%\n",
      "[ 2018-04-20 01:11:25,998][cascade_classifier.calc_accuracy] Accuracy(layer_0 - train.classifier_average)=97.80%\n",
      "[ 2018-04-20 01:11:26,000][cascade_classifier.calc_accuracy] Accuracy(layer_0 - test.classifier_average)=97.86%\n",
      "[ 2018-04-20 01:11:26,001][cascade_classifier.fit_transform] [Result][Reach Max Layer] opt_layer_num=1, accuracy_train=97.80%, accuracy_test=97.86%\n",
      "[ 2018-04-20 01:11:26,004][cascade_classifier.transform] X_groups_test.shape=[(10000, 794)]\n",
      "[ 2018-04-20 01:11:26,020][cascade_classifier.transform] group_dims=[794]\n",
      "[ 2018-04-20 01:11:26,021][cascade_classifier.transform] X_test.shape=(10000, 794)\n",
      "[ 2018-04-20 01:11:26,036][cascade_classifier.transform] [layer=0] look_indexs=[0], X_cur_test.shape=(10000, 794)\n"
     ]
    },
    {
     "name": "stdout",
     "output_type": "stream",
     "text": [
      "('Test Accuracy of ExtraTrees = 97.860000 %', 14, 'fois')\n"
     ]
    },
    {
     "name": "stderr",
     "output_type": "stream",
     "text": [
      "[ 2018-04-20 01:11:30,621][cascade_classifier.fit_transform] X_groups_train.shape=[(60000, 794)],y_train.shape=(60000,),X_groups_test.shape=[(10000, 794)],y_test.shape=(10000,)\n",
      "[ 2018-04-20 01:11:30,707][cascade_classifier.fit_transform] group_dims=[794]\n",
      "[ 2018-04-20 01:11:30,708][cascade_classifier.fit_transform] group_starts=[0]\n",
      "[ 2018-04-20 01:11:30,710][cascade_classifier.fit_transform] group_ends=[794]\n",
      "[ 2018-04-20 01:11:30,711][cascade_classifier.fit_transform] X_train.shape=(60000, 794),X_test.shape=(10000, 794)\n",
      "[ 2018-04-20 01:11:30,800][cascade_classifier.fit_transform] [layer=0] look_indexs=[0], X_cur_train.shape=(60000, 794), X_cur_test.shape=(10000, 794)\n",
      "[ 2018-04-20 01:11:33,443][kfold_wrapper.log_eval_metrics] Accuracy(layer_0 - estimator_0 - 10_folds.train_0.predict)=97.90%\n",
      "[ 2018-04-20 01:11:36,234][kfold_wrapper.log_eval_metrics] Accuracy(layer_0 - estimator_0 - 10_folds.train_1.predict)=97.88%\n",
      "[ 2018-04-20 01:11:38,998][kfold_wrapper.log_eval_metrics] Accuracy(layer_0 - estimator_0 - 10_folds.train_2.predict)=98.10%\n",
      "[ 2018-04-20 01:11:41,790][kfold_wrapper.log_eval_metrics] Accuracy(layer_0 - estimator_0 - 10_folds.train_3.predict)=97.75%\n",
      "[ 2018-04-20 01:11:44,548][kfold_wrapper.log_eval_metrics] Accuracy(layer_0 - estimator_0 - 10_folds.train_4.predict)=97.97%\n",
      "[ 2018-04-20 01:11:47,323][kfold_wrapper.log_eval_metrics] Accuracy(layer_0 - estimator_0 - 10_folds.train_5.predict)=97.30%\n",
      "[ 2018-04-20 01:11:50,115][kfold_wrapper.log_eval_metrics] Accuracy(layer_0 - estimator_0 - 10_folds.train_6.predict)=97.78%\n",
      "[ 2018-04-20 01:11:52,934][kfold_wrapper.log_eval_metrics] Accuracy(layer_0 - estimator_0 - 10_folds.train_7.predict)=97.62%\n",
      "[ 2018-04-20 01:11:55,748][kfold_wrapper.log_eval_metrics] Accuracy(layer_0 - estimator_0 - 10_folds.train_8.predict)=97.65%\n",
      "[ 2018-04-20 01:11:58,562][kfold_wrapper.log_eval_metrics] Accuracy(layer_0 - estimator_0 - 10_folds.train_9.predict)=97.41%\n",
      "[ 2018-04-20 01:11:58,825][kfold_wrapper.log_eval_metrics] Accuracy(layer_0 - estimator_0 - 10_folds.train_cv.predict)=97.74%\n",
      "[ 2018-04-20 01:11:58,827][kfold_wrapper.log_eval_metrics] Accuracy(layer_0 - estimator_0 - 10_folds.test.predict)=97.86%\n",
      "[ 2018-04-20 01:11:58,844][cascade_classifier.calc_accuracy] Accuracy(layer_0 - train.classifier_average)=97.74%\n",
      "[ 2018-04-20 01:11:58,846][cascade_classifier.calc_accuracy] Accuracy(layer_0 - test.classifier_average)=97.86%\n",
      "[ 2018-04-20 01:11:58,848][cascade_classifier.fit_transform] [Result][Reach Max Layer] opt_layer_num=1, accuracy_train=97.74%, accuracy_test=97.86%\n",
      "[ 2018-04-20 01:11:58,851][cascade_classifier.transform] X_groups_test.shape=[(10000, 794)]\n",
      "[ 2018-04-20 01:11:58,868][cascade_classifier.transform] group_dims=[794]\n",
      "[ 2018-04-20 01:11:58,869][cascade_classifier.transform] X_test.shape=(10000, 794)\n",
      "[ 2018-04-20 01:11:58,884][cascade_classifier.transform] [layer=0] look_indexs=[0], X_cur_test.shape=(10000, 794)\n"
     ]
    },
    {
     "name": "stdout",
     "output_type": "stream",
     "text": [
      "('Test Accuracy of ExtraTrees = 97.860000 %', 15, 'fois')\n"
     ]
    },
    {
     "name": "stderr",
     "output_type": "stream",
     "text": [
      "[ 2018-04-20 01:12:03,393][cascade_classifier.fit_transform] X_groups_train.shape=[(60000, 794)],y_train.shape=(60000,),X_groups_test.shape=[(10000, 794)],y_test.shape=(10000,)\n",
      "[ 2018-04-20 01:12:03,480][cascade_classifier.fit_transform] group_dims=[794]\n",
      "[ 2018-04-20 01:12:03,482][cascade_classifier.fit_transform] group_starts=[0]\n",
      "[ 2018-04-20 01:12:03,483][cascade_classifier.fit_transform] group_ends=[794]\n",
      "[ 2018-04-20 01:12:03,484][cascade_classifier.fit_transform] X_train.shape=(60000, 794),X_test.shape=(10000, 794)\n",
      "[ 2018-04-20 01:12:03,573][cascade_classifier.fit_transform] [layer=0] look_indexs=[0], X_cur_train.shape=(60000, 794), X_cur_test.shape=(10000, 794)\n",
      "[ 2018-04-20 01:12:06,151][kfold_wrapper.log_eval_metrics] Accuracy(layer_0 - estimator_0 - 10_folds.train_0.predict)=97.85%\n",
      "[ 2018-04-20 01:12:08,806][kfold_wrapper.log_eval_metrics] Accuracy(layer_0 - estimator_0 - 10_folds.train_1.predict)=97.87%\n",
      "[ 2018-04-20 01:12:11,527][kfold_wrapper.log_eval_metrics] Accuracy(layer_0 - estimator_0 - 10_folds.train_2.predict)=98.08%\n",
      "[ 2018-04-20 01:12:14,428][kfold_wrapper.log_eval_metrics] Accuracy(layer_0 - estimator_0 - 10_folds.train_3.predict)=97.80%\n",
      "[ 2018-04-20 01:12:17,264][kfold_wrapper.log_eval_metrics] Accuracy(layer_0 - estimator_0 - 10_folds.train_4.predict)=97.87%\n",
      "[ 2018-04-20 01:12:20,056][kfold_wrapper.log_eval_metrics] Accuracy(layer_0 - estimator_0 - 10_folds.train_5.predict)=97.20%\n",
      "[ 2018-04-20 01:12:22,837][kfold_wrapper.log_eval_metrics] Accuracy(layer_0 - estimator_0 - 10_folds.train_6.predict)=97.78%\n",
      "[ 2018-04-20 01:12:25,580][kfold_wrapper.log_eval_metrics] Accuracy(layer_0 - estimator_0 - 10_folds.train_7.predict)=97.68%\n",
      "[ 2018-04-20 01:12:28,427][kfold_wrapper.log_eval_metrics] Accuracy(layer_0 - estimator_0 - 10_folds.train_8.predict)=97.77%\n",
      "[ 2018-04-20 01:12:31,223][kfold_wrapper.log_eval_metrics] Accuracy(layer_0 - estimator_0 - 10_folds.train_9.predict)=97.40%\n",
      "[ 2018-04-20 01:12:31,487][kfold_wrapper.log_eval_metrics] Accuracy(layer_0 - estimator_0 - 10_folds.train_cv.predict)=97.73%\n",
      "[ 2018-04-20 01:12:31,490][kfold_wrapper.log_eval_metrics] Accuracy(layer_0 - estimator_0 - 10_folds.test.predict)=97.89%\n",
      "[ 2018-04-20 01:12:31,516][cascade_classifier.calc_accuracy] Accuracy(layer_0 - train.classifier_average)=97.73%\n",
      "[ 2018-04-20 01:12:31,518][cascade_classifier.calc_accuracy] Accuracy(layer_0 - test.classifier_average)=97.89%\n",
      "[ 2018-04-20 01:12:31,519][cascade_classifier.fit_transform] [Result][Reach Max Layer] opt_layer_num=1, accuracy_train=97.73%, accuracy_test=97.89%\n",
      "[ 2018-04-20 01:12:31,523][cascade_classifier.transform] X_groups_test.shape=[(10000, 794)]\n",
      "[ 2018-04-20 01:12:31,542][cascade_classifier.transform] group_dims=[794]\n",
      "[ 2018-04-20 01:12:31,543][cascade_classifier.transform] X_test.shape=(10000, 794)\n",
      "[ 2018-04-20 01:12:31,558][cascade_classifier.transform] [layer=0] look_indexs=[0], X_cur_test.shape=(10000, 794)\n"
     ]
    },
    {
     "name": "stdout",
     "output_type": "stream",
     "text": [
      "('Test Accuracy of ExtraTrees = 97.890000 %', 16, 'fois')\n"
     ]
    },
    {
     "name": "stderr",
     "output_type": "stream",
     "text": [
      "[ 2018-04-20 01:12:36,117][cascade_classifier.fit_transform] X_groups_train.shape=[(60000, 794)],y_train.shape=(60000,),X_groups_test.shape=[(10000, 794)],y_test.shape=(10000,)\n",
      "[ 2018-04-20 01:12:36,204][cascade_classifier.fit_transform] group_dims=[794]\n",
      "[ 2018-04-20 01:12:36,206][cascade_classifier.fit_transform] group_starts=[0]\n",
      "[ 2018-04-20 01:12:36,207][cascade_classifier.fit_transform] group_ends=[794]\n",
      "[ 2018-04-20 01:12:36,208][cascade_classifier.fit_transform] X_train.shape=(60000, 794),X_test.shape=(10000, 794)\n",
      "[ 2018-04-20 01:12:36,298][cascade_classifier.fit_transform] [layer=0] look_indexs=[0], X_cur_train.shape=(60000, 794), X_cur_test.shape=(10000, 794)\n",
      "[ 2018-04-20 01:12:38,824][kfold_wrapper.log_eval_metrics] Accuracy(layer_0 - estimator_0 - 10_folds.train_0.predict)=97.97%\n",
      "[ 2018-04-20 01:12:41,606][kfold_wrapper.log_eval_metrics] Accuracy(layer_0 - estimator_0 - 10_folds.train_1.predict)=97.97%\n",
      "[ 2018-04-20 01:12:44,570][kfold_wrapper.log_eval_metrics] Accuracy(layer_0 - estimator_0 - 10_folds.train_2.predict)=98.08%\n",
      "[ 2018-04-20 01:12:47,247][kfold_wrapper.log_eval_metrics] Accuracy(layer_0 - estimator_0 - 10_folds.train_3.predict)=97.73%\n",
      "[ 2018-04-20 01:12:50,018][kfold_wrapper.log_eval_metrics] Accuracy(layer_0 - estimator_0 - 10_folds.train_4.predict)=97.88%\n",
      "[ 2018-04-20 01:12:52,806][kfold_wrapper.log_eval_metrics] Accuracy(layer_0 - estimator_0 - 10_folds.train_5.predict)=97.38%\n",
      "[ 2018-04-20 01:12:55,475][kfold_wrapper.log_eval_metrics] Accuracy(layer_0 - estimator_0 - 10_folds.train_6.predict)=98.03%\n",
      "[ 2018-04-20 01:12:58,285][kfold_wrapper.log_eval_metrics] Accuracy(layer_0 - estimator_0 - 10_folds.train_7.predict)=97.72%\n",
      "[ 2018-04-20 01:13:00,984][kfold_wrapper.log_eval_metrics] Accuracy(layer_0 - estimator_0 - 10_folds.train_8.predict)=97.78%\n",
      "[ 2018-04-20 01:13:03,748][kfold_wrapper.log_eval_metrics] Accuracy(layer_0 - estimator_0 - 10_folds.train_9.predict)=97.33%\n",
      "[ 2018-04-20 01:13:04,018][kfold_wrapper.log_eval_metrics] Accuracy(layer_0 - estimator_0 - 10_folds.train_cv.predict)=97.79%\n",
      "[ 2018-04-20 01:13:04,020][kfold_wrapper.log_eval_metrics] Accuracy(layer_0 - estimator_0 - 10_folds.test.predict)=97.96%\n",
      "[ 2018-04-20 01:13:04,042][cascade_classifier.calc_accuracy] Accuracy(layer_0 - train.classifier_average)=97.79%\n",
      "[ 2018-04-20 01:13:04,044][cascade_classifier.calc_accuracy] Accuracy(layer_0 - test.classifier_average)=97.96%\n",
      "[ 2018-04-20 01:13:04,045][cascade_classifier.fit_transform] [Result][Reach Max Layer] opt_layer_num=1, accuracy_train=97.79%, accuracy_test=97.96%\n",
      "[ 2018-04-20 01:13:04,048][cascade_classifier.transform] X_groups_test.shape=[(10000, 794)]\n",
      "[ 2018-04-20 01:13:04,058][cascade_classifier.transform] group_dims=[794]\n",
      "[ 2018-04-20 01:13:04,059][cascade_classifier.transform] X_test.shape=(10000, 794)\n",
      "[ 2018-04-20 01:13:04,065][cascade_classifier.transform] [layer=0] look_indexs=[0], X_cur_test.shape=(10000, 794)\n"
     ]
    },
    {
     "name": "stdout",
     "output_type": "stream",
     "text": [
      "('Test Accuracy of ExtraTrees = 97.960000 %', 17, 'fois')\n"
     ]
    },
    {
     "name": "stderr",
     "output_type": "stream",
     "text": [
      "[ 2018-04-20 01:13:08,608][cascade_classifier.fit_transform] X_groups_train.shape=[(60000, 794)],y_train.shape=(60000,),X_groups_test.shape=[(10000, 794)],y_test.shape=(10000,)\n",
      "[ 2018-04-20 01:13:08,689][cascade_classifier.fit_transform] group_dims=[794]\n",
      "[ 2018-04-20 01:13:08,691][cascade_classifier.fit_transform] group_starts=[0]\n",
      "[ 2018-04-20 01:13:08,692][cascade_classifier.fit_transform] group_ends=[794]\n",
      "[ 2018-04-20 01:13:08,693][cascade_classifier.fit_transform] X_train.shape=(60000, 794),X_test.shape=(10000, 794)\n",
      "[ 2018-04-20 01:13:08,775][cascade_classifier.fit_transform] [layer=0] look_indexs=[0], X_cur_train.shape=(60000, 794), X_cur_test.shape=(10000, 794)\n",
      "[ 2018-04-20 01:13:11,304][kfold_wrapper.log_eval_metrics] Accuracy(layer_0 - estimator_0 - 10_folds.train_0.predict)=97.90%\n",
      "[ 2018-04-20 01:13:13,994][kfold_wrapper.log_eval_metrics] Accuracy(layer_0 - estimator_0 - 10_folds.train_1.predict)=97.78%\n",
      "[ 2018-04-20 01:13:16,784][kfold_wrapper.log_eval_metrics] Accuracy(layer_0 - estimator_0 - 10_folds.train_2.predict)=98.13%\n",
      "[ 2018-04-20 01:13:19,662][kfold_wrapper.log_eval_metrics] Accuracy(layer_0 - estimator_0 - 10_folds.train_3.predict)=97.85%\n",
      "[ 2018-04-20 01:13:22,465][kfold_wrapper.log_eval_metrics] Accuracy(layer_0 - estimator_0 - 10_folds.train_4.predict)=97.75%\n",
      "[ 2018-04-20 01:13:25,201][kfold_wrapper.log_eval_metrics] Accuracy(layer_0 - estimator_0 - 10_folds.train_5.predict)=97.30%\n",
      "[ 2018-04-20 01:13:28,177][kfold_wrapper.log_eval_metrics] Accuracy(layer_0 - estimator_0 - 10_folds.train_6.predict)=97.83%\n",
      "[ 2018-04-20 01:13:30,939][kfold_wrapper.log_eval_metrics] Accuracy(layer_0 - estimator_0 - 10_folds.train_7.predict)=97.85%\n",
      "[ 2018-04-20 01:13:33,641][kfold_wrapper.log_eval_metrics] Accuracy(layer_0 - estimator_0 - 10_folds.train_8.predict)=97.80%\n",
      "[ 2018-04-20 01:13:36,353][kfold_wrapper.log_eval_metrics] Accuracy(layer_0 - estimator_0 - 10_folds.train_9.predict)=97.48%\n",
      "[ 2018-04-20 01:13:36,630][kfold_wrapper.log_eval_metrics] Accuracy(layer_0 - estimator_0 - 10_folds.train_cv.predict)=97.77%\n",
      "[ 2018-04-20 01:13:36,633][kfold_wrapper.log_eval_metrics] Accuracy(layer_0 - estimator_0 - 10_folds.test.predict)=97.94%\n",
      "[ 2018-04-20 01:13:36,658][cascade_classifier.calc_accuracy] Accuracy(layer_0 - train.classifier_average)=97.77%\n",
      "[ 2018-04-20 01:13:36,660][cascade_classifier.calc_accuracy] Accuracy(layer_0 - test.classifier_average)=97.94%\n",
      "[ 2018-04-20 01:13:36,661][cascade_classifier.fit_transform] [Result][Reach Max Layer] opt_layer_num=1, accuracy_train=97.77%, accuracy_test=97.94%\n",
      "[ 2018-04-20 01:13:36,664][cascade_classifier.transform] X_groups_test.shape=[(10000, 794)]\n",
      "[ 2018-04-20 01:13:36,675][cascade_classifier.transform] group_dims=[794]\n",
      "[ 2018-04-20 01:13:36,676][cascade_classifier.transform] X_test.shape=(10000, 794)\n",
      "[ 2018-04-20 01:13:36,682][cascade_classifier.transform] [layer=0] look_indexs=[0], X_cur_test.shape=(10000, 794)\n"
     ]
    },
    {
     "name": "stdout",
     "output_type": "stream",
     "text": [
      "('Test Accuracy of ExtraTrees = 97.940000 %', 18, 'fois')\n"
     ]
    },
    {
     "name": "stderr",
     "output_type": "stream",
     "text": [
      "[ 2018-04-20 01:13:41,560][cascade_classifier.fit_transform] X_groups_train.shape=[(60000, 794)],y_train.shape=(60000,),X_groups_test.shape=[(10000, 794)],y_test.shape=(10000,)\n",
      "[ 2018-04-20 01:13:41,639][cascade_classifier.fit_transform] group_dims=[794]\n",
      "[ 2018-04-20 01:13:41,640][cascade_classifier.fit_transform] group_starts=[0]\n",
      "[ 2018-04-20 01:13:41,641][cascade_classifier.fit_transform] group_ends=[794]\n",
      "[ 2018-04-20 01:13:41,642][cascade_classifier.fit_transform] X_train.shape=(60000, 794),X_test.shape=(10000, 794)\n",
      "[ 2018-04-20 01:13:41,724][cascade_classifier.fit_transform] [layer=0] look_indexs=[0], X_cur_train.shape=(60000, 794), X_cur_test.shape=(10000, 794)\n",
      "[ 2018-04-20 01:13:44,255][kfold_wrapper.log_eval_metrics] Accuracy(layer_0 - estimator_0 - 10_folds.train_0.predict)=97.92%\n",
      "[ 2018-04-20 01:13:47,119][kfold_wrapper.log_eval_metrics] Accuracy(layer_0 - estimator_0 - 10_folds.train_1.predict)=97.87%\n",
      "[ 2018-04-20 01:13:50,051][kfold_wrapper.log_eval_metrics] Accuracy(layer_0 - estimator_0 - 10_folds.train_2.predict)=98.20%\n",
      "[ 2018-04-20 01:13:52,840][kfold_wrapper.log_eval_metrics] Accuracy(layer_0 - estimator_0 - 10_folds.train_3.predict)=97.80%\n",
      "[ 2018-04-20 01:13:55,631][kfold_wrapper.log_eval_metrics] Accuracy(layer_0 - estimator_0 - 10_folds.train_4.predict)=97.82%\n",
      "[ 2018-04-20 01:13:58,441][kfold_wrapper.log_eval_metrics] Accuracy(layer_0 - estimator_0 - 10_folds.train_5.predict)=97.23%\n",
      "[ 2018-04-20 01:14:01,237][kfold_wrapper.log_eval_metrics] Accuracy(layer_0 - estimator_0 - 10_folds.train_6.predict)=97.78%\n",
      "[ 2018-04-20 01:14:04,029][kfold_wrapper.log_eval_metrics] Accuracy(layer_0 - estimator_0 - 10_folds.train_7.predict)=97.82%\n",
      "[ 2018-04-20 01:14:06,905][kfold_wrapper.log_eval_metrics] Accuracy(layer_0 - estimator_0 - 10_folds.train_8.predict)=97.78%\n",
      "[ 2018-04-20 01:14:09,706][kfold_wrapper.log_eval_metrics] Accuracy(layer_0 - estimator_0 - 10_folds.train_9.predict)=97.68%\n",
      "[ 2018-04-20 01:14:09,985][kfold_wrapper.log_eval_metrics] Accuracy(layer_0 - estimator_0 - 10_folds.train_cv.predict)=97.79%\n",
      "[ 2018-04-20 01:14:09,988][kfold_wrapper.log_eval_metrics] Accuracy(layer_0 - estimator_0 - 10_folds.test.predict)=97.95%\n",
      "[ 2018-04-20 01:14:10,009][cascade_classifier.calc_accuracy] Accuracy(layer_0 - train.classifier_average)=97.79%\n",
      "[ 2018-04-20 01:14:10,012][cascade_classifier.calc_accuracy] Accuracy(layer_0 - test.classifier_average)=97.95%\n",
      "[ 2018-04-20 01:14:10,013][cascade_classifier.fit_transform] [Result][Reach Max Layer] opt_layer_num=1, accuracy_train=97.79%, accuracy_test=97.95%\n",
      "[ 2018-04-20 01:14:10,015][cascade_classifier.transform] X_groups_test.shape=[(10000, 794)]\n",
      "[ 2018-04-20 01:14:10,025][cascade_classifier.transform] group_dims=[794]\n",
      "[ 2018-04-20 01:14:10,027][cascade_classifier.transform] X_test.shape=(10000, 794)\n",
      "[ 2018-04-20 01:14:10,033][cascade_classifier.transform] [layer=0] look_indexs=[0], X_cur_test.shape=(10000, 794)\n"
     ]
    },
    {
     "name": "stdout",
     "output_type": "stream",
     "text": [
      "('Test Accuracy of ExtraTrees = 97.950000 %', 19, 'fois')\n"
     ]
    }
   ],
   "source": [
    "# deep\n",
    "for i in range (20):\n",
    "    X_train,X_test=update(X_train,X_test)\n",
    "    X_test_enc, X_train_enc=newdata(X_test_enc, X_train_enc)\n",
    "\n",
    "    X_train=X_train_enc\n",
    "    X_test=X_test_enc \n",
    "    X_train_enc, X_test_enc = gc.fit_transform(X_train, y_train, X_test=X_test, y_test=y_test)\n",
    "    affiche()"
   ]
  },
  {
   "cell_type": "code",
   "execution_count": null,
   "metadata": {
    "collapsed": true
   },
   "outputs": [],
   "source": []
  },
  {
   "cell_type": "markdown",
   "metadata": {
    "collapsed": true
   },
   "source": [
    "# ('Test Accuracy of ExtraTrees = 97.960000 %', 17, 'fois')"
   ]
  },
  {
   "cell_type": "code",
   "execution_count": null,
   "metadata": {
    "collapsed": true
   },
   "outputs": [],
   "source": []
  }
 ],
 "metadata": {
  "kernelspec": {
   "display_name": "Python 2",
   "language": "python",
   "name": "python2"
  },
  "language_info": {
   "codemirror_mode": {
    "name": "ipython",
    "version": 2
   },
   "file_extension": ".py",
   "mimetype": "text/x-python",
   "name": "python",
   "nbconvert_exporter": "python",
   "pygments_lexer": "ipython2",
   "version": "2.7.13"
  }
 },
 "nbformat": 4,
 "nbformat_minor": 2
}
