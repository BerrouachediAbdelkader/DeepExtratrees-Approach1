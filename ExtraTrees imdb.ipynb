{
 "cells": [
  {
   "cell_type": "code",
   "execution_count": 24,
   "metadata": {
    "collapsed": true
   },
   "outputs": [],
   "source": [
    "#imports \n",
    "import numpy as np\n",
    "import pandas as pd\n",
    "from math import sqrt \n",
    "from pprint import pprint\n",
    "from numpy import array"
   ]
  },
  {
   "cell_type": "code",
   "execution_count": 25,
   "metadata": {
    "collapsed": true
   },
   "outputs": [],
   "source": [
    "# load data\n",
    "from keras.datasets import imdb\n",
    "from keras.preprocessing import sequence\n",
    "top_words = 5000\n",
    "(X_train, y_train), (X_test, y_test) = imdb.load_data(num_words=top_words)\n",
    "max_review_length = 500\n",
    "X_train = sequence.pad_sequences(X_train, maxlen=max_review_length)\n",
    "X_test = sequence.pad_sequences(X_test, maxlen=max_review_length) "
   ]
  },
  {
   "cell_type": "code",
   "execution_count": 30,
   "metadata": {
    "collapsed": true
   },
   "outputs": [],
   "source": [
    "# Extratrees Deep\n",
    "import argparse\n",
    "import sys\n",
    "import pickle\n",
    "from sklearn.metrics import accuracy_score\n",
    "sys.path.insert(0, \"lib\")\n",
    "from gcforest.gcforest import GCForest\n",
    "from gcforest.utils.config_utils import load_json\n",
    "config = load_json(\"./examples/imbd.json\")    \n",
    "gc = GCForest(config)"
   ]
  },
  {
   "cell_type": "code",
   "execution_count": 31,
   "metadata": {},
   "outputs": [
    {
     "data": {
      "text/plain": [
       "2"
      ]
     },
     "execution_count": 31,
     "metadata": {},
     "output_type": "execute_result"
    }
   ],
   "source": [
    "# count of class\n",
    "len(np.unique(y_train))"
   ]
  },
  {
   "cell_type": "code",
   "execution_count": 32,
   "metadata": {},
   "outputs": [
    {
     "name": "stderr",
     "output_type": "stream",
     "text": [
      "[ 2018-04-20 00:50:13,156][cascade_classifier.fit_transform] X_groups_train.shape=[(25000, 500)],y_train.shape=(25000,),X_groups_test.shape=[(25000, 500)],y_test.shape=(25000,)\n",
      "[ 2018-04-20 00:50:13,205][cascade_classifier.fit_transform] group_dims=[500]\n",
      "[ 2018-04-20 00:50:13,207][cascade_classifier.fit_transform] group_starts=[0]\n",
      "[ 2018-04-20 00:50:13,208][cascade_classifier.fit_transform] group_ends=[500]\n",
      "[ 2018-04-20 00:50:13,209][cascade_classifier.fit_transform] X_train.shape=(25000, 500),X_test.shape=(25000, 500)\n",
      "[ 2018-04-20 00:50:13,282][cascade_classifier.fit_transform] [layer=0] look_indexs=[0], X_cur_train.shape=(25000, 500), X_cur_test.shape=(25000, 500)\n",
      "[ 2018-04-20 00:50:14,794][kfold_wrapper.log_eval_metrics] Accuracy(layer_0 - estimator_0 - 10_folds.train_0.predict)=52.04%\n",
      "[ 2018-04-20 00:50:16,763][kfold_wrapper.log_eval_metrics] Accuracy(layer_0 - estimator_0 - 10_folds.train_1.predict)=52.36%\n",
      "[ 2018-04-20 00:50:18,651][kfold_wrapper.log_eval_metrics] Accuracy(layer_0 - estimator_0 - 10_folds.train_2.predict)=53.08%\n",
      "[ 2018-04-20 00:50:20,546][kfold_wrapper.log_eval_metrics] Accuracy(layer_0 - estimator_0 - 10_folds.train_3.predict)=52.48%\n",
      "[ 2018-04-20 00:50:22,360][kfold_wrapper.log_eval_metrics] Accuracy(layer_0 - estimator_0 - 10_folds.train_4.predict)=51.48%\n",
      "[ 2018-04-20 00:50:24,283][kfold_wrapper.log_eval_metrics] Accuracy(layer_0 - estimator_0 - 10_folds.train_5.predict)=53.28%\n",
      "[ 2018-04-20 00:50:26,060][kfold_wrapper.log_eval_metrics] Accuracy(layer_0 - estimator_0 - 10_folds.train_6.predict)=52.68%\n",
      "[ 2018-04-20 00:50:27,889][kfold_wrapper.log_eval_metrics] Accuracy(layer_0 - estimator_0 - 10_folds.train_7.predict)=53.16%\n",
      "[ 2018-04-20 00:50:29,675][kfold_wrapper.log_eval_metrics] Accuracy(layer_0 - estimator_0 - 10_folds.train_8.predict)=51.16%\n",
      "[ 2018-04-20 00:50:31,866][kfold_wrapper.log_eval_metrics] Accuracy(layer_0 - estimator_0 - 10_folds.train_9.predict)=52.60%\n",
      "[ 2018-04-20 00:50:32,289][kfold_wrapper.log_eval_metrics] Accuracy(layer_0 - estimator_0 - 10_folds.train_cv.predict)=52.43%\n",
      "[ 2018-04-20 00:50:32,291][kfold_wrapper.log_eval_metrics] Accuracy(layer_0 - estimator_0 - 10_folds.test.predict)=52.65%\n",
      "[ 2018-04-20 00:50:32,294][cascade_classifier.calc_accuracy] Accuracy(layer_0 - train.classifier_average)=52.43%\n",
      "[ 2018-04-20 00:50:32,297][cascade_classifier.calc_accuracy] Accuracy(layer_0 - test.classifier_average)=52.65%\n",
      "[ 2018-04-20 00:50:32,298][cascade_classifier.fit_transform] [Result][Reach Max Layer] opt_layer_num=1, accuracy_train=52.43%, accuracy_test=52.65%\n"
     ]
    }
   ],
   "source": [
    " # X_enc is the concatenated predict_proba result of ExtraTrees\n",
    "\n",
    "X_train_enc, X_test_enc = gc.fit_transform(X_train, y_train, X_test=X_test, y_test=y_test)\n",
    "     "
   ]
  },
  {
   "cell_type": "code",
   "execution_count": 33,
   "metadata": {},
   "outputs": [
    {
     "name": "stderr",
     "output_type": "stream",
     "text": [
      "[ 2018-04-20 00:50:48,707][cascade_classifier.transform] X_groups_test.shape=[(25000, 500)]\n",
      "[ 2018-04-20 00:50:48,746][cascade_classifier.transform] group_dims=[500]\n",
      "[ 2018-04-20 00:50:48,748][cascade_classifier.transform] X_test.shape=(25000, 500)\n",
      "[ 2018-04-20 00:50:48,795][cascade_classifier.transform] [layer=0] look_indexs=[0], X_cur_test.shape=(25000, 500)\n"
     ]
    },
    {
     "name": "stdout",
     "output_type": "stream",
     "text": [
      "Test Accuracy of ExtraTrees = 52.656000 %\n"
     ]
    }
   ],
   "source": [
    "# predict\n",
    "y_pred = gc.predict(X_test)\n",
    "acc = accuracy_score(y_test, y_pred)\n",
    "print(\"Test Accuracy of ExtraTrees = {:.6f} %\".format(acc * 100))"
   ]
  },
  {
   "cell_type": "code",
   "execution_count": 34,
   "metadata": {},
   "outputs": [
    {
     "name": "stderr",
     "output_type": "stream",
     "text": [
      "[ 2018-04-20 00:50:55,992][cascade_classifier.transform] X_groups_test.shape=[(25000, 500)]\n",
      "[ 2018-04-20 00:50:56,023][cascade_classifier.transform] group_dims=[500]\n",
      "[ 2018-04-20 00:50:56,024][cascade_classifier.transform] X_test.shape=(25000, 500)\n",
      "[ 2018-04-20 00:50:56,057][cascade_classifier.transform] [layer=0] look_indexs=[0], X_cur_test.shape=(25000, 500)\n"
     ]
    }
   ],
   "source": [
    "# Make data + Estimators\n",
    "X_test_enc = gc.transform(X_test)\n",
    "X_train_enc = X_train_enc.reshape((X_train_enc.shape[0], -1))\n",
    "X_test_enc = X_test_enc.reshape((X_test_enc.shape[0], -1))\n",
    "X_train_origin = X_train.reshape((X_train.shape[0], -1))\n",
    "X_test_origin = X_test.reshape((X_test.shape[0], -1))\n",
    "X_train_enc = np.hstack((X_train_origin, X_train_enc))\n",
    "X_test_enc = np.hstack((X_test_origin, X_test_enc))"
   ]
  },
  {
   "cell_type": "code",
   "execution_count": 35,
   "metadata": {},
   "outputs": [
    {
     "name": "stderr",
     "output_type": "stream",
     "text": [
      "[ 2018-04-20 00:51:03,393][cascade_classifier.fit_transform] X_groups_train.shape=[(25000, 502)],y_train.shape=(25000,),X_groups_test.shape=[(25000, 502)],y_test.shape=(25000,)\n",
      "[ 2018-04-20 00:51:03,486][cascade_classifier.fit_transform] group_dims=[502]\n",
      "[ 2018-04-20 00:51:03,487][cascade_classifier.fit_transform] group_starts=[0]\n",
      "[ 2018-04-20 00:51:03,488][cascade_classifier.fit_transform] group_ends=[502]\n",
      "[ 2018-04-20 00:51:03,490][cascade_classifier.fit_transform] X_train.shape=(25000, 502),X_test.shape=(25000, 502)\n",
      "[ 2018-04-20 00:51:03,570][cascade_classifier.fit_transform] [layer=0] look_indexs=[0], X_cur_train.shape=(25000, 502), X_cur_test.shape=(25000, 502)\n",
      "[ 2018-04-20 00:51:05,205][kfold_wrapper.log_eval_metrics] Accuracy(layer_0 - estimator_0 - 10_folds.train_0.predict)=53.28%\n",
      "[ 2018-04-20 00:51:07,098][kfold_wrapper.log_eval_metrics] Accuracy(layer_0 - estimator_0 - 10_folds.train_1.predict)=52.32%\n",
      "[ 2018-04-20 00:51:09,055][kfold_wrapper.log_eval_metrics] Accuracy(layer_0 - estimator_0 - 10_folds.train_2.predict)=50.56%\n",
      "[ 2018-04-20 00:51:11,099][kfold_wrapper.log_eval_metrics] Accuracy(layer_0 - estimator_0 - 10_folds.train_3.predict)=51.92%\n",
      "[ 2018-04-20 00:51:13,251][kfold_wrapper.log_eval_metrics] Accuracy(layer_0 - estimator_0 - 10_folds.train_4.predict)=52.68%\n",
      "[ 2018-04-20 00:51:15,228][kfold_wrapper.log_eval_metrics] Accuracy(layer_0 - estimator_0 - 10_folds.train_5.predict)=52.72%\n",
      "[ 2018-04-20 00:51:17,220][kfold_wrapper.log_eval_metrics] Accuracy(layer_0 - estimator_0 - 10_folds.train_6.predict)=52.64%\n",
      "[ 2018-04-20 00:51:19,173][kfold_wrapper.log_eval_metrics] Accuracy(layer_0 - estimator_0 - 10_folds.train_7.predict)=51.96%\n",
      "[ 2018-04-20 00:51:21,167][kfold_wrapper.log_eval_metrics] Accuracy(layer_0 - estimator_0 - 10_folds.train_8.predict)=51.40%\n",
      "[ 2018-04-20 00:51:25,203][kfold_wrapper.log_eval_metrics] Accuracy(layer_0 - estimator_0 - 10_folds.train_9.predict)=52.68%\n",
      "[ 2018-04-20 00:51:25,509][kfold_wrapper.log_eval_metrics] Accuracy(layer_0 - estimator_0 - 10_folds.train_cv.predict)=52.22%\n",
      "[ 2018-04-20 00:51:25,511][kfold_wrapper.log_eval_metrics] Accuracy(layer_0 - estimator_0 - 10_folds.test.predict)=53.08%\n",
      "[ 2018-04-20 00:51:25,527][cascade_classifier.calc_accuracy] Accuracy(layer_0 - train.classifier_average)=52.22%\n",
      "[ 2018-04-20 00:51:25,528][cascade_classifier.calc_accuracy] Accuracy(layer_0 - test.classifier_average)=53.08%\n",
      "[ 2018-04-20 00:51:25,529][cascade_classifier.fit_transform] [Result][Reach Max Layer] opt_layer_num=1, accuracy_train=52.22%, accuracy_test=53.08%\n"
     ]
    }
   ],
   "source": [
    "X_train=X_train_enc\n",
    "X_test=X_test_enc \n",
    "X_train_enc, X_test_enc = gc.fit_transform(X_train, y_train, X_test=X_test, y_test=y_test)"
   ]
  },
  {
   "cell_type": "code",
   "execution_count": 36,
   "metadata": {},
   "outputs": [
    {
     "name": "stdout",
     "output_type": "stream",
     "text": [
      "X_train_enc.shape=(25000, 2), X_test_enc.shape=(25000, 2)\n"
     ]
    }
   ],
   "source": [
    "print(\"X_train_enc.shape={}, X_test_enc.shape={}\".format(X_train_enc.shape, X_test_enc.shape))"
   ]
  },
  {
   "cell_type": "code",
   "execution_count": 37,
   "metadata": {},
   "outputs": [
    {
     "name": "stdout",
     "output_type": "stream",
     "text": [
      "X_train_enc.shape=(25000, 502), X_test_enc.shape=(25000, 502)\n"
     ]
    }
   ],
   "source": [
    "print(\"X_train_enc.shape={}, X_test_enc.shape={}\".format(X_train.shape, X_test.shape))"
   ]
  },
  {
   "cell_type": "code",
   "execution_count": 38,
   "metadata": {
    "collapsed": true
   },
   "outputs": [],
   "source": [
    "def update(X_train,X_test):\n",
    "    # update Estimators\n",
    "    M = np.delete(X_train, (-1), axis=1)\n",
    "    X_train= np.delete(M, (-1), axis=1)\n",
    "    M = np.delete(X_test, (-1), axis=1)\n",
    "    X_test = np.delete(M, (-1), axis=1)\n",
    "    return X_train,X_test"
   ]
  },
  {
   "cell_type": "code",
   "execution_count": 39,
   "metadata": {
    "collapsed": true
   },
   "outputs": [],
   "source": [
    "def newdata(X_test_enc, X_train_enc):\n",
    "    # Make Data + Estimators\n",
    "    X_train_origin = X_train.reshape((X_train.shape[0], -1))\n",
    "    X_test_origin = X_test.reshape((X_test.shape[0], -1))\n",
    "    X_train_enc = np.hstack((X_train_origin, X_train_enc))\n",
    "    X_test_enc = np.hstack((X_test_origin, X_test_enc))\n",
    "    return X_test_enc, X_train_enc\n",
    "\n",
    "def affiche():\n",
    "    # predict\n",
    "    y_pred = gc.predict(X_test)\n",
    "    acc = accuracy_score(y_test, y_pred)\n",
    "    print(\"Test Accuracy of ExtraTrees = {:.6f} %\".format(acc * 100),i,'fois')"
   ]
  },
  {
   "cell_type": "code",
   "execution_count": 40,
   "metadata": {},
   "outputs": [
    {
     "name": "stderr",
     "output_type": "stream",
     "text": [
      "[ 2018-04-20 00:51:39,871][cascade_classifier.fit_transform] X_groups_train.shape=[(25000, 502)],y_train.shape=(25000,),X_groups_test.shape=[(25000, 502)],y_test.shape=(25000,)\n",
      "[ 2018-04-20 00:51:39,949][cascade_classifier.fit_transform] group_dims=[502]\n",
      "[ 2018-04-20 00:51:39,953][cascade_classifier.fit_transform] group_starts=[0]\n",
      "[ 2018-04-20 00:51:39,954][cascade_classifier.fit_transform] group_ends=[502]\n",
      "[ 2018-04-20 00:51:39,955][cascade_classifier.fit_transform] X_train.shape=(25000, 502),X_test.shape=(25000, 502)\n",
      "[ 2018-04-20 00:51:40,033][cascade_classifier.fit_transform] [layer=0] look_indexs=[0], X_cur_train.shape=(25000, 502), X_cur_test.shape=(25000, 502)\n",
      "[ 2018-04-20 00:51:41,616][kfold_wrapper.log_eval_metrics] Accuracy(layer_0 - estimator_0 - 10_folds.train_0.predict)=52.00%\n",
      "[ 2018-04-20 00:51:43,470][kfold_wrapper.log_eval_metrics] Accuracy(layer_0 - estimator_0 - 10_folds.train_1.predict)=52.52%\n",
      "[ 2018-04-20 00:51:45,448][kfold_wrapper.log_eval_metrics] Accuracy(layer_0 - estimator_0 - 10_folds.train_2.predict)=50.56%\n",
      "[ 2018-04-20 00:51:47,389][kfold_wrapper.log_eval_metrics] Accuracy(layer_0 - estimator_0 - 10_folds.train_3.predict)=51.52%\n",
      "[ 2018-04-20 00:51:49,383][kfold_wrapper.log_eval_metrics] Accuracy(layer_0 - estimator_0 - 10_folds.train_4.predict)=52.84%\n",
      "[ 2018-04-20 00:51:51,380][kfold_wrapper.log_eval_metrics] Accuracy(layer_0 - estimator_0 - 10_folds.train_5.predict)=51.48%\n",
      "[ 2018-04-20 00:51:53,573][kfold_wrapper.log_eval_metrics] Accuracy(layer_0 - estimator_0 - 10_folds.train_6.predict)=51.52%\n",
      "[ 2018-04-20 00:51:55,377][kfold_wrapper.log_eval_metrics] Accuracy(layer_0 - estimator_0 - 10_folds.train_7.predict)=52.16%\n",
      "[ 2018-04-20 00:51:57,372][kfold_wrapper.log_eval_metrics] Accuracy(layer_0 - estimator_0 - 10_folds.train_8.predict)=51.80%\n",
      "[ 2018-04-20 00:51:59,346][kfold_wrapper.log_eval_metrics] Accuracy(layer_0 - estimator_0 - 10_folds.train_9.predict)=53.52%\n",
      "[ 2018-04-20 00:51:59,764][kfold_wrapper.log_eval_metrics] Accuracy(layer_0 - estimator_0 - 10_folds.train_cv.predict)=51.99%\n",
      "[ 2018-04-20 00:51:59,766][kfold_wrapper.log_eval_metrics] Accuracy(layer_0 - estimator_0 - 10_folds.test.predict)=52.71%\n",
      "[ 2018-04-20 00:51:59,789][cascade_classifier.calc_accuracy] Accuracy(layer_0 - train.classifier_average)=51.99%\n",
      "[ 2018-04-20 00:51:59,790][cascade_classifier.calc_accuracy] Accuracy(layer_0 - test.classifier_average)=52.71%\n",
      "[ 2018-04-20 00:51:59,792][cascade_classifier.fit_transform] [Result][Reach Max Layer] opt_layer_num=1, accuracy_train=51.99%, accuracy_test=52.71%\n",
      "[ 2018-04-20 00:51:59,795][cascade_classifier.transform] X_groups_test.shape=[(25000, 502)]\n",
      "[ 2018-04-20 00:51:59,839][cascade_classifier.transform] group_dims=[502]\n",
      "[ 2018-04-20 00:51:59,841][cascade_classifier.transform] X_test.shape=(25000, 502)\n",
      "[ 2018-04-20 00:51:59,882][cascade_classifier.transform] [layer=0] look_indexs=[0], X_cur_test.shape=(25000, 502)\n"
     ]
    },
    {
     "name": "stdout",
     "output_type": "stream",
     "text": [
      "('Test Accuracy of ExtraTrees = 52.728000 %', 0, 'fois')\n"
     ]
    },
    {
     "name": "stderr",
     "output_type": "stream",
     "text": [
      "[ 2018-04-20 00:52:04,852][cascade_classifier.fit_transform] X_groups_train.shape=[(25000, 502)],y_train.shape=(25000,),X_groups_test.shape=[(25000, 502)],y_test.shape=(25000,)\n",
      "[ 2018-04-20 00:52:04,931][cascade_classifier.fit_transform] group_dims=[502]\n",
      "[ 2018-04-20 00:52:04,933][cascade_classifier.fit_transform] group_starts=[0]\n",
      "[ 2018-04-20 00:52:04,934][cascade_classifier.fit_transform] group_ends=[502]\n",
      "[ 2018-04-20 00:52:04,935][cascade_classifier.fit_transform] X_train.shape=(25000, 502),X_test.shape=(25000, 502)\n",
      "[ 2018-04-20 00:52:05,014][cascade_classifier.fit_transform] [layer=0] look_indexs=[0], X_cur_train.shape=(25000, 502), X_cur_test.shape=(25000, 502)\n",
      "[ 2018-04-20 00:52:06,632][kfold_wrapper.log_eval_metrics] Accuracy(layer_0 - estimator_0 - 10_folds.train_0.predict)=53.60%\n",
      "[ 2018-04-20 00:52:08,560][kfold_wrapper.log_eval_metrics] Accuracy(layer_0 - estimator_0 - 10_folds.train_1.predict)=50.76%\n",
      "[ 2018-04-20 00:52:10,525][kfold_wrapper.log_eval_metrics] Accuracy(layer_0 - estimator_0 - 10_folds.train_2.predict)=52.68%\n",
      "[ 2018-04-20 00:52:12,615][kfold_wrapper.log_eval_metrics] Accuracy(layer_0 - estimator_0 - 10_folds.train_3.predict)=49.48%\n",
      "[ 2018-04-20 00:52:14,989][kfold_wrapper.log_eval_metrics] Accuracy(layer_0 - estimator_0 - 10_folds.train_4.predict)=51.84%\n",
      "[ 2018-04-20 00:52:17,259][kfold_wrapper.log_eval_metrics] Accuracy(layer_0 - estimator_0 - 10_folds.train_5.predict)=52.12%\n",
      "[ 2018-04-20 00:52:19,337][kfold_wrapper.log_eval_metrics] Accuracy(layer_0 - estimator_0 - 10_folds.train_6.predict)=50.76%\n",
      "[ 2018-04-20 00:52:21,403][kfold_wrapper.log_eval_metrics] Accuracy(layer_0 - estimator_0 - 10_folds.train_7.predict)=51.80%\n",
      "[ 2018-04-20 00:52:23,502][kfold_wrapper.log_eval_metrics] Accuracy(layer_0 - estimator_0 - 10_folds.train_8.predict)=51.60%\n",
      "[ 2018-04-20 00:52:25,521][kfold_wrapper.log_eval_metrics] Accuracy(layer_0 - estimator_0 - 10_folds.train_9.predict)=54.08%\n",
      "[ 2018-04-20 00:52:25,915][kfold_wrapper.log_eval_metrics] Accuracy(layer_0 - estimator_0 - 10_folds.train_cv.predict)=51.87%\n",
      "[ 2018-04-20 00:52:25,918][kfold_wrapper.log_eval_metrics] Accuracy(layer_0 - estimator_0 - 10_folds.test.predict)=52.64%\n",
      "[ 2018-04-20 00:52:25,933][cascade_classifier.calc_accuracy] Accuracy(layer_0 - train.classifier_average)=51.87%\n",
      "[ 2018-04-20 00:52:25,935][cascade_classifier.calc_accuracy] Accuracy(layer_0 - test.classifier_average)=52.64%\n",
      "[ 2018-04-20 00:52:25,937][cascade_classifier.fit_transform] [Result][Reach Max Layer] opt_layer_num=1, accuracy_train=51.87%, accuracy_test=52.64%\n",
      "[ 2018-04-20 00:52:25,940][cascade_classifier.transform] X_groups_test.shape=[(25000, 502)]\n",
      "[ 2018-04-20 00:52:25,990][cascade_classifier.transform] group_dims=[502]\n",
      "[ 2018-04-20 00:52:25,992][cascade_classifier.transform] X_test.shape=(25000, 502)\n",
      "[ 2018-04-20 00:52:26,035][cascade_classifier.transform] [layer=0] look_indexs=[0], X_cur_test.shape=(25000, 502)\n"
     ]
    },
    {
     "name": "stdout",
     "output_type": "stream",
     "text": [
      "('Test Accuracy of ExtraTrees = 52.624000 %', 1, 'fois')\n"
     ]
    },
    {
     "name": "stderr",
     "output_type": "stream",
     "text": [
      "[ 2018-04-20 00:52:30,426][cascade_classifier.fit_transform] X_groups_train.shape=[(25000, 502)],y_train.shape=(25000,),X_groups_test.shape=[(25000, 502)],y_test.shape=(25000,)\n",
      "[ 2018-04-20 00:52:30,507][cascade_classifier.fit_transform] group_dims=[502]\n",
      "[ 2018-04-20 00:52:30,508][cascade_classifier.fit_transform] group_starts=[0]\n",
      "[ 2018-04-20 00:52:30,509][cascade_classifier.fit_transform] group_ends=[502]\n",
      "[ 2018-04-20 00:52:30,510][cascade_classifier.fit_transform] X_train.shape=(25000, 502),X_test.shape=(25000, 502)\n",
      "[ 2018-04-20 00:52:30,591][cascade_classifier.fit_transform] [layer=0] look_indexs=[0], X_cur_train.shape=(25000, 502), X_cur_test.shape=(25000, 502)\n",
      "[ 2018-04-20 00:52:32,244][kfold_wrapper.log_eval_metrics] Accuracy(layer_0 - estimator_0 - 10_folds.train_0.predict)=53.48%\n",
      "[ 2018-04-20 00:52:34,139][kfold_wrapper.log_eval_metrics] Accuracy(layer_0 - estimator_0 - 10_folds.train_1.predict)=51.84%\n",
      "[ 2018-04-20 00:52:35,886][kfold_wrapper.log_eval_metrics] Accuracy(layer_0 - estimator_0 - 10_folds.train_2.predict)=50.08%\n",
      "[ 2018-04-20 00:52:37,725][kfold_wrapper.log_eval_metrics] Accuracy(layer_0 - estimator_0 - 10_folds.train_3.predict)=50.84%\n",
      "[ 2018-04-20 00:52:39,674][kfold_wrapper.log_eval_metrics] Accuracy(layer_0 - estimator_0 - 10_folds.train_4.predict)=52.60%\n",
      "[ 2018-04-20 00:52:41,672][kfold_wrapper.log_eval_metrics] Accuracy(layer_0 - estimator_0 - 10_folds.train_5.predict)=53.00%\n",
      "[ 2018-04-20 00:52:43,515][kfold_wrapper.log_eval_metrics] Accuracy(layer_0 - estimator_0 - 10_folds.train_6.predict)=50.48%\n",
      "[ 2018-04-20 00:52:45,462][kfold_wrapper.log_eval_metrics] Accuracy(layer_0 - estimator_0 - 10_folds.train_7.predict)=51.08%\n",
      "[ 2018-04-20 00:52:47,498][kfold_wrapper.log_eval_metrics] Accuracy(layer_0 - estimator_0 - 10_folds.train_8.predict)=51.20%\n",
      "[ 2018-04-20 00:52:49,387][kfold_wrapper.log_eval_metrics] Accuracy(layer_0 - estimator_0 - 10_folds.train_9.predict)=54.32%\n",
      "[ 2018-04-20 00:52:49,801][kfold_wrapper.log_eval_metrics] Accuracy(layer_0 - estimator_0 - 10_folds.train_cv.predict)=51.89%\n",
      "[ 2018-04-20 00:52:49,803][kfold_wrapper.log_eval_metrics] Accuracy(layer_0 - estimator_0 - 10_folds.test.predict)=52.79%\n",
      "[ 2018-04-20 00:52:49,818][cascade_classifier.calc_accuracy] Accuracy(layer_0 - train.classifier_average)=51.89%\n",
      "[ 2018-04-20 00:52:49,820][cascade_classifier.calc_accuracy] Accuracy(layer_0 - test.classifier_average)=52.79%\n",
      "[ 2018-04-20 00:52:49,821][cascade_classifier.fit_transform] [Result][Reach Max Layer] opt_layer_num=1, accuracy_train=51.89%, accuracy_test=52.79%\n",
      "[ 2018-04-20 00:52:49,824][cascade_classifier.transform] X_groups_test.shape=[(25000, 502)]\n",
      "[ 2018-04-20 00:52:49,867][cascade_classifier.transform] group_dims=[502]\n",
      "[ 2018-04-20 00:52:49,869][cascade_classifier.transform] X_test.shape=(25000, 502)\n",
      "[ 2018-04-20 00:52:49,909][cascade_classifier.transform] [layer=0] look_indexs=[0], X_cur_test.shape=(25000, 502)\n"
     ]
    },
    {
     "name": "stdout",
     "output_type": "stream",
     "text": [
      "('Test Accuracy of ExtraTrees = 52.780000 %', 2, 'fois')\n"
     ]
    },
    {
     "name": "stderr",
     "output_type": "stream",
     "text": [
      "[ 2018-04-20 00:52:54,342][cascade_classifier.fit_transform] X_groups_train.shape=[(25000, 502)],y_train.shape=(25000,),X_groups_test.shape=[(25000, 502)],y_test.shape=(25000,)\n",
      "[ 2018-04-20 00:52:54,424][cascade_classifier.fit_transform] group_dims=[502]\n",
      "[ 2018-04-20 00:52:54,425][cascade_classifier.fit_transform] group_starts=[0]\n",
      "[ 2018-04-20 00:52:54,426][cascade_classifier.fit_transform] group_ends=[502]\n",
      "[ 2018-04-20 00:52:54,427][cascade_classifier.fit_transform] X_train.shape=(25000, 502),X_test.shape=(25000, 502)\n",
      "[ 2018-04-20 00:52:54,509][cascade_classifier.fit_transform] [layer=0] look_indexs=[0], X_cur_train.shape=(25000, 502), X_cur_test.shape=(25000, 502)\n",
      "[ 2018-04-20 00:52:56,110][kfold_wrapper.log_eval_metrics] Accuracy(layer_0 - estimator_0 - 10_folds.train_0.predict)=52.44%\n",
      "[ 2018-04-20 00:52:58,104][kfold_wrapper.log_eval_metrics] Accuracy(layer_0 - estimator_0 - 10_folds.train_1.predict)=54.16%\n",
      "[ 2018-04-20 00:53:00,089][kfold_wrapper.log_eval_metrics] Accuracy(layer_0 - estimator_0 - 10_folds.train_2.predict)=50.76%\n",
      "[ 2018-04-20 00:53:01,842][kfold_wrapper.log_eval_metrics] Accuracy(layer_0 - estimator_0 - 10_folds.train_3.predict)=52.96%\n",
      "[ 2018-04-20 00:53:03,682][kfold_wrapper.log_eval_metrics] Accuracy(layer_0 - estimator_0 - 10_folds.train_4.predict)=51.76%\n",
      "[ 2018-04-20 00:53:05,507][kfold_wrapper.log_eval_metrics] Accuracy(layer_0 - estimator_0 - 10_folds.train_5.predict)=50.80%\n",
      "[ 2018-04-20 00:53:07,476][kfold_wrapper.log_eval_metrics] Accuracy(layer_0 - estimator_0 - 10_folds.train_6.predict)=53.72%\n",
      "[ 2018-04-20 00:53:09,392][kfold_wrapper.log_eval_metrics] Accuracy(layer_0 - estimator_0 - 10_folds.train_7.predict)=52.56%\n",
      "[ 2018-04-20 00:53:11,432][kfold_wrapper.log_eval_metrics] Accuracy(layer_0 - estimator_0 - 10_folds.train_8.predict)=50.96%\n",
      "[ 2018-04-20 00:53:13,532][kfold_wrapper.log_eval_metrics] Accuracy(layer_0 - estimator_0 - 10_folds.train_9.predict)=53.28%\n",
      "[ 2018-04-20 00:53:13,796][kfold_wrapper.log_eval_metrics] Accuracy(layer_0 - estimator_0 - 10_folds.train_cv.predict)=52.34%\n",
      "[ 2018-04-20 00:53:13,798][kfold_wrapper.log_eval_metrics] Accuracy(layer_0 - estimator_0 - 10_folds.test.predict)=53.06%\n",
      "[ 2018-04-20 00:53:13,808][cascade_classifier.calc_accuracy] Accuracy(layer_0 - train.classifier_average)=52.34%\n",
      "[ 2018-04-20 00:53:13,809][cascade_classifier.calc_accuracy] Accuracy(layer_0 - test.classifier_average)=53.06%\n",
      "[ 2018-04-20 00:53:13,810][cascade_classifier.fit_transform] [Result][Reach Max Layer] opt_layer_num=1, accuracy_train=52.34%, accuracy_test=53.06%\n",
      "[ 2018-04-20 00:53:13,812][cascade_classifier.transform] X_groups_test.shape=[(25000, 502)]\n",
      "[ 2018-04-20 00:53:13,854][cascade_classifier.transform] group_dims=[502]\n",
      "[ 2018-04-20 00:53:13,855][cascade_classifier.transform] X_test.shape=(25000, 502)\n",
      "[ 2018-04-20 00:53:13,893][cascade_classifier.transform] [layer=0] look_indexs=[0], X_cur_test.shape=(25000, 502)\n"
     ]
    },
    {
     "name": "stdout",
     "output_type": "stream",
     "text": [
      "('Test Accuracy of ExtraTrees = 53.080000 %', 3, 'fois')\n"
     ]
    },
    {
     "name": "stderr",
     "output_type": "stream",
     "text": [
      "[ 2018-04-20 00:53:18,560][cascade_classifier.fit_transform] X_groups_train.shape=[(25000, 502)],y_train.shape=(25000,),X_groups_test.shape=[(25000, 502)],y_test.shape=(25000,)\n",
      "[ 2018-04-20 00:53:18,641][cascade_classifier.fit_transform] group_dims=[502]\n",
      "[ 2018-04-20 00:53:18,643][cascade_classifier.fit_transform] group_starts=[0]\n",
      "[ 2018-04-20 00:53:18,644][cascade_classifier.fit_transform] group_ends=[502]\n",
      "[ 2018-04-20 00:53:18,646][cascade_classifier.fit_transform] X_train.shape=(25000, 502),X_test.shape=(25000, 502)\n",
      "[ 2018-04-20 00:53:18,724][cascade_classifier.fit_transform] [layer=0] look_indexs=[0], X_cur_train.shape=(25000, 502), X_cur_test.shape=(25000, 502)\n",
      "[ 2018-04-20 00:53:20,353][kfold_wrapper.log_eval_metrics] Accuracy(layer_0 - estimator_0 - 10_folds.train_0.predict)=53.44%\n",
      "[ 2018-04-20 00:53:22,367][kfold_wrapper.log_eval_metrics] Accuracy(layer_0 - estimator_0 - 10_folds.train_1.predict)=53.84%\n",
      "[ 2018-04-20 00:53:24,376][kfold_wrapper.log_eval_metrics] Accuracy(layer_0 - estimator_0 - 10_folds.train_2.predict)=51.80%\n",
      "[ 2018-04-20 00:53:26,392][kfold_wrapper.log_eval_metrics] Accuracy(layer_0 - estimator_0 - 10_folds.train_3.predict)=51.24%\n",
      "[ 2018-04-20 00:53:28,374][kfold_wrapper.log_eval_metrics] Accuracy(layer_0 - estimator_0 - 10_folds.train_4.predict)=51.92%\n",
      "[ 2018-04-20 00:53:30,441][kfold_wrapper.log_eval_metrics] Accuracy(layer_0 - estimator_0 - 10_folds.train_5.predict)=50.92%\n",
      "[ 2018-04-20 00:53:32,419][kfold_wrapper.log_eval_metrics] Accuracy(layer_0 - estimator_0 - 10_folds.train_6.predict)=53.84%\n",
      "[ 2018-04-20 00:53:34,383][kfold_wrapper.log_eval_metrics] Accuracy(layer_0 - estimator_0 - 10_folds.train_7.predict)=51.00%\n",
      "[ 2018-04-20 00:53:36,552][kfold_wrapper.log_eval_metrics] Accuracy(layer_0 - estimator_0 - 10_folds.train_8.predict)=51.52%\n",
      "[ 2018-04-20 00:53:38,640][kfold_wrapper.log_eval_metrics] Accuracy(layer_0 - estimator_0 - 10_folds.train_9.predict)=51.96%\n",
      "[ 2018-04-20 00:53:39,034][kfold_wrapper.log_eval_metrics] Accuracy(layer_0 - estimator_0 - 10_folds.train_cv.predict)=52.15%\n",
      "[ 2018-04-20 00:53:39,036][kfold_wrapper.log_eval_metrics] Accuracy(layer_0 - estimator_0 - 10_folds.test.predict)=53.06%\n",
      "[ 2018-04-20 00:53:39,050][cascade_classifier.calc_accuracy] Accuracy(layer_0 - train.classifier_average)=52.15%\n",
      "[ 2018-04-20 00:53:39,052][cascade_classifier.calc_accuracy] Accuracy(layer_0 - test.classifier_average)=53.06%\n",
      "[ 2018-04-20 00:53:39,053][cascade_classifier.fit_transform] [Result][Reach Max Layer] opt_layer_num=1, accuracy_train=52.15%, accuracy_test=53.06%\n",
      "[ 2018-04-20 00:53:39,056][cascade_classifier.transform] X_groups_test.shape=[(25000, 502)]\n",
      "[ 2018-04-20 00:53:39,101][cascade_classifier.transform] group_dims=[502]\n",
      "[ 2018-04-20 00:53:39,103][cascade_classifier.transform] X_test.shape=(25000, 502)\n",
      "[ 2018-04-20 00:53:39,145][cascade_classifier.transform] [layer=0] look_indexs=[0], X_cur_test.shape=(25000, 502)\n"
     ]
    },
    {
     "name": "stdout",
     "output_type": "stream",
     "text": [
      "('Test Accuracy of ExtraTrees = 53.072000 %', 4, 'fois')\n"
     ]
    },
    {
     "name": "stderr",
     "output_type": "stream",
     "text": [
      "[ 2018-04-20 00:53:43,627][cascade_classifier.fit_transform] X_groups_train.shape=[(25000, 502)],y_train.shape=(25000,),X_groups_test.shape=[(25000, 502)],y_test.shape=(25000,)\n",
      "[ 2018-04-20 00:53:43,705][cascade_classifier.fit_transform] group_dims=[502]\n",
      "[ 2018-04-20 00:53:43,706][cascade_classifier.fit_transform] group_starts=[0]\n",
      "[ 2018-04-20 00:53:43,708][cascade_classifier.fit_transform] group_ends=[502]\n",
      "[ 2018-04-20 00:53:43,709][cascade_classifier.fit_transform] X_train.shape=(25000, 502),X_test.shape=(25000, 502)\n",
      "[ 2018-04-20 00:53:43,791][cascade_classifier.fit_transform] [layer=0] look_indexs=[0], X_cur_train.shape=(25000, 502), X_cur_test.shape=(25000, 502)\n",
      "[ 2018-04-20 00:53:45,350][kfold_wrapper.log_eval_metrics] Accuracy(layer_0 - estimator_0 - 10_folds.train_0.predict)=52.08%\n",
      "[ 2018-04-20 00:53:47,174][kfold_wrapper.log_eval_metrics] Accuracy(layer_0 - estimator_0 - 10_folds.train_1.predict)=51.40%\n",
      "[ 2018-04-20 00:53:49,146][kfold_wrapper.log_eval_metrics] Accuracy(layer_0 - estimator_0 - 10_folds.train_2.predict)=51.00%\n",
      "[ 2018-04-20 00:53:50,946][kfold_wrapper.log_eval_metrics] Accuracy(layer_0 - estimator_0 - 10_folds.train_3.predict)=52.08%\n",
      "[ 2018-04-20 00:53:52,839][kfold_wrapper.log_eval_metrics] Accuracy(layer_0 - estimator_0 - 10_folds.train_4.predict)=53.76%\n",
      "[ 2018-04-20 00:53:54,974][kfold_wrapper.log_eval_metrics] Accuracy(layer_0 - estimator_0 - 10_folds.train_5.predict)=51.04%\n",
      "[ 2018-04-20 00:53:56,916][kfold_wrapper.log_eval_metrics] Accuracy(layer_0 - estimator_0 - 10_folds.train_6.predict)=50.92%\n",
      "[ 2018-04-20 00:53:58,870][kfold_wrapper.log_eval_metrics] Accuracy(layer_0 - estimator_0 - 10_folds.train_7.predict)=52.12%\n",
      "[ 2018-04-20 00:54:00,880][kfold_wrapper.log_eval_metrics] Accuracy(layer_0 - estimator_0 - 10_folds.train_8.predict)=50.84%\n",
      "[ 2018-04-20 00:54:02,848][kfold_wrapper.log_eval_metrics] Accuracy(layer_0 - estimator_0 - 10_folds.train_9.predict)=51.72%\n",
      "[ 2018-04-20 00:54:03,114][kfold_wrapper.log_eval_metrics] Accuracy(layer_0 - estimator_0 - 10_folds.train_cv.predict)=51.70%\n",
      "[ 2018-04-20 00:54:03,116][kfold_wrapper.log_eval_metrics] Accuracy(layer_0 - estimator_0 - 10_folds.test.predict)=52.80%\n",
      "[ 2018-04-20 00:54:03,128][cascade_classifier.calc_accuracy] Accuracy(layer_0 - train.classifier_average)=51.70%\n",
      "[ 2018-04-20 00:54:03,129][cascade_classifier.calc_accuracy] Accuracy(layer_0 - test.classifier_average)=52.80%\n",
      "[ 2018-04-20 00:54:03,130][cascade_classifier.fit_transform] [Result][Reach Max Layer] opt_layer_num=1, accuracy_train=51.70%, accuracy_test=52.80%\n",
      "[ 2018-04-20 00:54:03,132][cascade_classifier.transform] X_groups_test.shape=[(25000, 502)]\n",
      "[ 2018-04-20 00:54:03,171][cascade_classifier.transform] group_dims=[502]\n",
      "[ 2018-04-20 00:54:03,172][cascade_classifier.transform] X_test.shape=(25000, 502)\n",
      "[ 2018-04-20 00:54:03,211][cascade_classifier.transform] [layer=0] look_indexs=[0], X_cur_test.shape=(25000, 502)\n"
     ]
    },
    {
     "name": "stdout",
     "output_type": "stream",
     "text": [
      "('Test Accuracy of ExtraTrees = 52.796000 %', 5, 'fois')\n"
     ]
    },
    {
     "name": "stderr",
     "output_type": "stream",
     "text": [
      "[ 2018-04-20 00:54:07,554][cascade_classifier.fit_transform] X_groups_train.shape=[(25000, 502)],y_train.shape=(25000,),X_groups_test.shape=[(25000, 502)],y_test.shape=(25000,)\n",
      "[ 2018-04-20 00:54:07,639][cascade_classifier.fit_transform] group_dims=[502]\n",
      "[ 2018-04-20 00:54:07,641][cascade_classifier.fit_transform] group_starts=[0]\n",
      "[ 2018-04-20 00:54:07,642][cascade_classifier.fit_transform] group_ends=[502]\n",
      "[ 2018-04-20 00:54:07,643][cascade_classifier.fit_transform] X_train.shape=(25000, 502),X_test.shape=(25000, 502)\n",
      "[ 2018-04-20 00:54:07,725][cascade_classifier.fit_transform] [layer=0] look_indexs=[0], X_cur_train.shape=(25000, 502), X_cur_test.shape=(25000, 502)\n",
      "[ 2018-04-20 00:54:09,303][kfold_wrapper.log_eval_metrics] Accuracy(layer_0 - estimator_0 - 10_folds.train_0.predict)=53.48%\n",
      "[ 2018-04-20 00:54:11,348][kfold_wrapper.log_eval_metrics] Accuracy(layer_0 - estimator_0 - 10_folds.train_1.predict)=51.56%\n",
      "[ 2018-04-20 00:54:13,343][kfold_wrapper.log_eval_metrics] Accuracy(layer_0 - estimator_0 - 10_folds.train_2.predict)=50.68%\n",
      "[ 2018-04-20 00:54:15,431][kfold_wrapper.log_eval_metrics] Accuracy(layer_0 - estimator_0 - 10_folds.train_3.predict)=50.92%\n",
      "[ 2018-04-20 00:54:17,407][kfold_wrapper.log_eval_metrics] Accuracy(layer_0 - estimator_0 - 10_folds.train_4.predict)=53.20%\n",
      "[ 2018-04-20 00:54:19,514][kfold_wrapper.log_eval_metrics] Accuracy(layer_0 - estimator_0 - 10_folds.train_5.predict)=51.08%\n",
      "[ 2018-04-20 00:54:21,877][kfold_wrapper.log_eval_metrics] Accuracy(layer_0 - estimator_0 - 10_folds.train_6.predict)=51.92%\n",
      "[ 2018-04-20 00:54:23,871][kfold_wrapper.log_eval_metrics] Accuracy(layer_0 - estimator_0 - 10_folds.train_7.predict)=52.76%\n",
      "[ 2018-04-20 00:54:25,727][kfold_wrapper.log_eval_metrics] Accuracy(layer_0 - estimator_0 - 10_folds.train_8.predict)=50.24%\n",
      "[ 2018-04-20 00:54:27,633][kfold_wrapper.log_eval_metrics] Accuracy(layer_0 - estimator_0 - 10_folds.train_9.predict)=53.92%\n",
      "[ 2018-04-20 00:54:27,915][kfold_wrapper.log_eval_metrics] Accuracy(layer_0 - estimator_0 - 10_folds.train_cv.predict)=51.98%\n",
      "[ 2018-04-20 00:54:27,916][kfold_wrapper.log_eval_metrics] Accuracy(layer_0 - estimator_0 - 10_folds.test.predict)=52.97%\n",
      "[ 2018-04-20 00:54:27,926][cascade_classifier.calc_accuracy] Accuracy(layer_0 - train.classifier_average)=51.98%\n",
      "[ 2018-04-20 00:54:27,927][cascade_classifier.calc_accuracy] Accuracy(layer_0 - test.classifier_average)=52.97%\n",
      "[ 2018-04-20 00:54:27,927][cascade_classifier.fit_transform] [Result][Reach Max Layer] opt_layer_num=1, accuracy_train=51.98%, accuracy_test=52.97%\n",
      "[ 2018-04-20 00:54:27,929][cascade_classifier.transform] X_groups_test.shape=[(25000, 502)]\n",
      "[ 2018-04-20 00:54:27,971][cascade_classifier.transform] group_dims=[502]\n",
      "[ 2018-04-20 00:54:27,972][cascade_classifier.transform] X_test.shape=(25000, 502)\n",
      "[ 2018-04-20 00:54:28,010][cascade_classifier.transform] [layer=0] look_indexs=[0], X_cur_test.shape=(25000, 502)\n"
     ]
    },
    {
     "name": "stdout",
     "output_type": "stream",
     "text": [
      "('Test Accuracy of ExtraTrees = 52.944000 %', 6, 'fois')\n"
     ]
    },
    {
     "name": "stderr",
     "output_type": "stream",
     "text": [
      "[ 2018-04-20 00:54:32,182][cascade_classifier.fit_transform] X_groups_train.shape=[(25000, 502)],y_train.shape=(25000,),X_groups_test.shape=[(25000, 502)],y_test.shape=(25000,)\n",
      "[ 2018-04-20 00:54:32,260][cascade_classifier.fit_transform] group_dims=[502]\n",
      "[ 2018-04-20 00:54:32,261][cascade_classifier.fit_transform] group_starts=[0]\n",
      "[ 2018-04-20 00:54:32,262][cascade_classifier.fit_transform] group_ends=[502]\n",
      "[ 2018-04-20 00:54:32,263][cascade_classifier.fit_transform] X_train.shape=(25000, 502),X_test.shape=(25000, 502)\n",
      "[ 2018-04-20 00:54:32,341][cascade_classifier.fit_transform] [layer=0] look_indexs=[0], X_cur_train.shape=(25000, 502), X_cur_test.shape=(25000, 502)\n",
      "[ 2018-04-20 00:54:33,933][kfold_wrapper.log_eval_metrics] Accuracy(layer_0 - estimator_0 - 10_folds.train_0.predict)=53.04%\n",
      "[ 2018-04-20 00:54:35,807][kfold_wrapper.log_eval_metrics] Accuracy(layer_0 - estimator_0 - 10_folds.train_1.predict)=50.40%\n",
      "[ 2018-04-20 00:54:37,636][kfold_wrapper.log_eval_metrics] Accuracy(layer_0 - estimator_0 - 10_folds.train_2.predict)=51.40%\n",
      "[ 2018-04-20 00:54:39,447][kfold_wrapper.log_eval_metrics] Accuracy(layer_0 - estimator_0 - 10_folds.train_3.predict)=52.12%\n",
      "[ 2018-04-20 00:54:41,504][kfold_wrapper.log_eval_metrics] Accuracy(layer_0 - estimator_0 - 10_folds.train_4.predict)=52.08%\n",
      "[ 2018-04-20 00:54:43,445][kfold_wrapper.log_eval_metrics] Accuracy(layer_0 - estimator_0 - 10_folds.train_5.predict)=50.96%\n",
      "[ 2018-04-20 00:54:45,455][kfold_wrapper.log_eval_metrics] Accuracy(layer_0 - estimator_0 - 10_folds.train_6.predict)=52.96%\n",
      "[ 2018-04-20 00:54:47,410][kfold_wrapper.log_eval_metrics] Accuracy(layer_0 - estimator_0 - 10_folds.train_7.predict)=52.16%\n",
      "[ 2018-04-20 00:54:49,413][kfold_wrapper.log_eval_metrics] Accuracy(layer_0 - estimator_0 - 10_folds.train_8.predict)=52.48%\n",
      "[ 2018-04-20 00:54:51,385][kfold_wrapper.log_eval_metrics] Accuracy(layer_0 - estimator_0 - 10_folds.train_9.predict)=55.56%\n",
      "[ 2018-04-20 00:54:51,812][kfold_wrapper.log_eval_metrics] Accuracy(layer_0 - estimator_0 - 10_folds.train_cv.predict)=52.32%\n",
      "[ 2018-04-20 00:54:51,814][kfold_wrapper.log_eval_metrics] Accuracy(layer_0 - estimator_0 - 10_folds.test.predict)=52.86%\n",
      "[ 2018-04-20 00:54:51,831][cascade_classifier.calc_accuracy] Accuracy(layer_0 - train.classifier_average)=52.32%\n",
      "[ 2018-04-20 00:54:51,833][cascade_classifier.calc_accuracy] Accuracy(layer_0 - test.classifier_average)=52.86%\n",
      "[ 2018-04-20 00:54:51,837][cascade_classifier.fit_transform] [Result][Reach Max Layer] opt_layer_num=1, accuracy_train=52.32%, accuracy_test=52.86%\n",
      "[ 2018-04-20 00:54:51,841][cascade_classifier.transform] X_groups_test.shape=[(25000, 502)]\n",
      "[ 2018-04-20 00:54:51,885][cascade_classifier.transform] group_dims=[502]\n",
      "[ 2018-04-20 00:54:51,887][cascade_classifier.transform] X_test.shape=(25000, 502)\n",
      "[ 2018-04-20 00:54:51,928][cascade_classifier.transform] [layer=0] look_indexs=[0], X_cur_test.shape=(25000, 502)\n"
     ]
    },
    {
     "name": "stdout",
     "output_type": "stream",
     "text": [
      "('Test Accuracy of ExtraTrees = 52.840000 %', 7, 'fois')\n"
     ]
    },
    {
     "name": "stderr",
     "output_type": "stream",
     "text": [
      "[ 2018-04-20 00:54:56,783][cascade_classifier.fit_transform] X_groups_train.shape=[(25000, 502)],y_train.shape=(25000,),X_groups_test.shape=[(25000, 502)],y_test.shape=(25000,)\n",
      "[ 2018-04-20 00:54:56,860][cascade_classifier.fit_transform] group_dims=[502]\n",
      "[ 2018-04-20 00:54:56,862][cascade_classifier.fit_transform] group_starts=[0]\n",
      "[ 2018-04-20 00:54:56,862][cascade_classifier.fit_transform] group_ends=[502]\n",
      "[ 2018-04-20 00:54:56,863][cascade_classifier.fit_transform] X_train.shape=(25000, 502),X_test.shape=(25000, 502)\n",
      "[ 2018-04-20 00:54:56,940][cascade_classifier.fit_transform] [layer=0] look_indexs=[0], X_cur_train.shape=(25000, 502), X_cur_test.shape=(25000, 502)\n",
      "[ 2018-04-20 00:54:58,953][kfold_wrapper.log_eval_metrics] Accuracy(layer_0 - estimator_0 - 10_folds.train_0.predict)=51.72%\n",
      "[ 2018-04-20 00:55:01,073][kfold_wrapper.log_eval_metrics] Accuracy(layer_0 - estimator_0 - 10_folds.train_1.predict)=51.88%\n",
      "[ 2018-04-20 00:55:02,916][kfold_wrapper.log_eval_metrics] Accuracy(layer_0 - estimator_0 - 10_folds.train_2.predict)=50.24%\n",
      "[ 2018-04-20 00:55:04,804][kfold_wrapper.log_eval_metrics] Accuracy(layer_0 - estimator_0 - 10_folds.train_3.predict)=49.72%\n",
      "[ 2018-04-20 00:55:06,686][kfold_wrapper.log_eval_metrics] Accuracy(layer_0 - estimator_0 - 10_folds.train_4.predict)=52.24%\n",
      "[ 2018-04-20 00:55:08,656][kfold_wrapper.log_eval_metrics] Accuracy(layer_0 - estimator_0 - 10_folds.train_5.predict)=52.12%\n",
      "[ 2018-04-20 00:55:10,713][kfold_wrapper.log_eval_metrics] Accuracy(layer_0 - estimator_0 - 10_folds.train_6.predict)=53.64%\n",
      "[ 2018-04-20 00:55:12,972][kfold_wrapper.log_eval_metrics] Accuracy(layer_0 - estimator_0 - 10_folds.train_7.predict)=53.04%\n",
      "[ 2018-04-20 00:55:14,883][kfold_wrapper.log_eval_metrics] Accuracy(layer_0 - estimator_0 - 10_folds.train_8.predict)=50.56%\n",
      "[ 2018-04-20 00:55:16,731][kfold_wrapper.log_eval_metrics] Accuracy(layer_0 - estimator_0 - 10_folds.train_9.predict)=53.76%\n",
      "[ 2018-04-20 00:55:17,132][kfold_wrapper.log_eval_metrics] Accuracy(layer_0 - estimator_0 - 10_folds.train_cv.predict)=51.89%\n",
      "[ 2018-04-20 00:55:17,134][kfold_wrapper.log_eval_metrics] Accuracy(layer_0 - estimator_0 - 10_folds.test.predict)=53.12%\n",
      "[ 2018-04-20 00:55:17,149][cascade_classifier.calc_accuracy] Accuracy(layer_0 - train.classifier_average)=51.89%\n",
      "[ 2018-04-20 00:55:17,151][cascade_classifier.calc_accuracy] Accuracy(layer_0 - test.classifier_average)=53.12%\n",
      "[ 2018-04-20 00:55:17,152][cascade_classifier.fit_transform] [Result][Reach Max Layer] opt_layer_num=1, accuracy_train=51.89%, accuracy_test=53.12%\n",
      "[ 2018-04-20 00:55:17,156][cascade_classifier.transform] X_groups_test.shape=[(25000, 502)]\n",
      "[ 2018-04-20 00:55:17,201][cascade_classifier.transform] group_dims=[502]\n",
      "[ 2018-04-20 00:55:17,202][cascade_classifier.transform] X_test.shape=(25000, 502)\n",
      "[ 2018-04-20 00:55:17,246][cascade_classifier.transform] [layer=0] look_indexs=[0], X_cur_test.shape=(25000, 502)\n"
     ]
    },
    {
     "name": "stdout",
     "output_type": "stream",
     "text": [
      "('Test Accuracy of ExtraTrees = 53.104000 %', 8, 'fois')\n"
     ]
    },
    {
     "name": "stderr",
     "output_type": "stream",
     "text": [
      "[ 2018-04-20 00:55:21,851][cascade_classifier.fit_transform] X_groups_train.shape=[(25000, 502)],y_train.shape=(25000,),X_groups_test.shape=[(25000, 502)],y_test.shape=(25000,)\n",
      "[ 2018-04-20 00:55:21,933][cascade_classifier.fit_transform] group_dims=[502]\n",
      "[ 2018-04-20 00:55:21,935][cascade_classifier.fit_transform] group_starts=[0]\n",
      "[ 2018-04-20 00:55:21,936][cascade_classifier.fit_transform] group_ends=[502]\n",
      "[ 2018-04-20 00:55:21,937][cascade_classifier.fit_transform] X_train.shape=(25000, 502),X_test.shape=(25000, 502)\n",
      "[ 2018-04-20 00:55:22,023][cascade_classifier.fit_transform] [layer=0] look_indexs=[0], X_cur_train.shape=(25000, 502), X_cur_test.shape=(25000, 502)\n",
      "[ 2018-04-20 00:55:23,703][kfold_wrapper.log_eval_metrics] Accuracy(layer_0 - estimator_0 - 10_folds.train_0.predict)=52.24%\n",
      "[ 2018-04-20 00:55:25,601][kfold_wrapper.log_eval_metrics] Accuracy(layer_0 - estimator_0 - 10_folds.train_1.predict)=53.16%\n",
      "[ 2018-04-20 00:55:27,759][kfold_wrapper.log_eval_metrics] Accuracy(layer_0 - estimator_0 - 10_folds.train_2.predict)=51.64%\n",
      "[ 2018-04-20 00:55:29,763][kfold_wrapper.log_eval_metrics] Accuracy(layer_0 - estimator_0 - 10_folds.train_3.predict)=50.04%\n",
      "[ 2018-04-20 00:55:31,650][kfold_wrapper.log_eval_metrics] Accuracy(layer_0 - estimator_0 - 10_folds.train_4.predict)=53.24%\n",
      "[ 2018-04-20 00:55:33,662][kfold_wrapper.log_eval_metrics] Accuracy(layer_0 - estimator_0 - 10_folds.train_5.predict)=52.88%\n",
      "[ 2018-04-20 00:55:35,667][kfold_wrapper.log_eval_metrics] Accuracy(layer_0 - estimator_0 - 10_folds.train_6.predict)=52.80%\n",
      "[ 2018-04-20 00:55:37,767][kfold_wrapper.log_eval_metrics] Accuracy(layer_0 - estimator_0 - 10_folds.train_7.predict)=52.28%\n",
      "[ 2018-04-20 00:55:39,747][kfold_wrapper.log_eval_metrics] Accuracy(layer_0 - estimator_0 - 10_folds.train_8.predict)=50.08%\n",
      "[ 2018-04-20 00:55:41,628][kfold_wrapper.log_eval_metrics] Accuracy(layer_0 - estimator_0 - 10_folds.train_9.predict)=53.40%\n",
      "[ 2018-04-20 00:55:41,897][kfold_wrapper.log_eval_metrics] Accuracy(layer_0 - estimator_0 - 10_folds.train_cv.predict)=52.18%\n",
      "[ 2018-04-20 00:55:41,899][kfold_wrapper.log_eval_metrics] Accuracy(layer_0 - estimator_0 - 10_folds.test.predict)=52.70%\n",
      "[ 2018-04-20 00:55:41,911][cascade_classifier.calc_accuracy] Accuracy(layer_0 - train.classifier_average)=52.18%\n",
      "[ 2018-04-20 00:55:41,913][cascade_classifier.calc_accuracy] Accuracy(layer_0 - test.classifier_average)=52.70%\n",
      "[ 2018-04-20 00:55:41,914][cascade_classifier.fit_transform] [Result][Reach Max Layer] opt_layer_num=1, accuracy_train=52.18%, accuracy_test=52.70%\n",
      "[ 2018-04-20 00:55:41,916][cascade_classifier.transform] X_groups_test.shape=[(25000, 502)]\n",
      "[ 2018-04-20 00:55:41,956][cascade_classifier.transform] group_dims=[502]\n",
      "[ 2018-04-20 00:55:41,957][cascade_classifier.transform] X_test.shape=(25000, 502)\n",
      "[ 2018-04-20 00:55:41,998][cascade_classifier.transform] [layer=0] look_indexs=[0], X_cur_test.shape=(25000, 502)\n"
     ]
    },
    {
     "name": "stdout",
     "output_type": "stream",
     "text": [
      "('Test Accuracy of ExtraTrees = 52.684000 %', 9, 'fois')\n"
     ]
    },
    {
     "name": "stderr",
     "output_type": "stream",
     "text": [
      "[ 2018-04-20 00:55:46,463][cascade_classifier.fit_transform] X_groups_train.shape=[(25000, 502)],y_train.shape=(25000,),X_groups_test.shape=[(25000, 502)],y_test.shape=(25000,)\n",
      "[ 2018-04-20 00:55:46,540][cascade_classifier.fit_transform] group_dims=[502]\n",
      "[ 2018-04-20 00:55:46,542][cascade_classifier.fit_transform] group_starts=[0]\n",
      "[ 2018-04-20 00:55:46,543][cascade_classifier.fit_transform] group_ends=[502]\n",
      "[ 2018-04-20 00:55:46,544][cascade_classifier.fit_transform] X_train.shape=(25000, 502),X_test.shape=(25000, 502)\n",
      "[ 2018-04-20 00:55:46,622][cascade_classifier.fit_transform] [layer=0] look_indexs=[0], X_cur_train.shape=(25000, 502), X_cur_test.shape=(25000, 502)\n",
      "[ 2018-04-20 00:55:48,354][kfold_wrapper.log_eval_metrics] Accuracy(layer_0 - estimator_0 - 10_folds.train_0.predict)=52.72%\n",
      "[ 2018-04-20 00:55:50,333][kfold_wrapper.log_eval_metrics] Accuracy(layer_0 - estimator_0 - 10_folds.train_1.predict)=52.08%\n",
      "[ 2018-04-20 00:55:52,293][kfold_wrapper.log_eval_metrics] Accuracy(layer_0 - estimator_0 - 10_folds.train_2.predict)=51.64%\n",
      "[ 2018-04-20 00:55:54,248][kfold_wrapper.log_eval_metrics] Accuracy(layer_0 - estimator_0 - 10_folds.train_3.predict)=50.24%\n",
      "[ 2018-04-20 00:55:56,287][kfold_wrapper.log_eval_metrics] Accuracy(layer_0 - estimator_0 - 10_folds.train_4.predict)=52.08%\n",
      "[ 2018-04-20 00:55:58,179][kfold_wrapper.log_eval_metrics] Accuracy(layer_0 - estimator_0 - 10_folds.train_5.predict)=51.16%\n",
      "[ 2018-04-20 00:56:00,121][kfold_wrapper.log_eval_metrics] Accuracy(layer_0 - estimator_0 - 10_folds.train_6.predict)=53.08%\n",
      "[ 2018-04-20 00:56:02,207][kfold_wrapper.log_eval_metrics] Accuracy(layer_0 - estimator_0 - 10_folds.train_7.predict)=51.56%\n",
      "[ 2018-04-20 00:56:04,182][kfold_wrapper.log_eval_metrics] Accuracy(layer_0 - estimator_0 - 10_folds.train_8.predict)=49.76%\n",
      "[ 2018-04-20 00:56:06,223][kfold_wrapper.log_eval_metrics] Accuracy(layer_0 - estimator_0 - 10_folds.train_9.predict)=51.60%\n",
      "[ 2018-04-20 00:56:06,507][kfold_wrapper.log_eval_metrics] Accuracy(layer_0 - estimator_0 - 10_folds.train_cv.predict)=51.59%\n",
      "[ 2018-04-20 00:56:06,509][kfold_wrapper.log_eval_metrics] Accuracy(layer_0 - estimator_0 - 10_folds.test.predict)=52.67%\n",
      "[ 2018-04-20 00:56:06,521][cascade_classifier.calc_accuracy] Accuracy(layer_0 - train.classifier_average)=51.59%\n",
      "[ 2018-04-20 00:56:06,523][cascade_classifier.calc_accuracy] Accuracy(layer_0 - test.classifier_average)=52.67%\n",
      "[ 2018-04-20 00:56:06,524][cascade_classifier.fit_transform] [Result][Reach Max Layer] opt_layer_num=1, accuracy_train=51.59%, accuracy_test=52.67%\n",
      "[ 2018-04-20 00:56:06,527][cascade_classifier.transform] X_groups_test.shape=[(25000, 502)]\n",
      "[ 2018-04-20 00:56:06,569][cascade_classifier.transform] group_dims=[502]\n",
      "[ 2018-04-20 00:56:06,571][cascade_classifier.transform] X_test.shape=(25000, 502)\n",
      "[ 2018-04-20 00:56:06,614][cascade_classifier.transform] [layer=0] look_indexs=[0], X_cur_test.shape=(25000, 502)\n"
     ]
    },
    {
     "name": "stdout",
     "output_type": "stream",
     "text": [
      "('Test Accuracy of ExtraTrees = 52.716000 %', 10, 'fois')\n"
     ]
    },
    {
     "name": "stderr",
     "output_type": "stream",
     "text": [
      "[ 2018-04-20 00:56:11,471][cascade_classifier.fit_transform] X_groups_train.shape=[(25000, 502)],y_train.shape=(25000,),X_groups_test.shape=[(25000, 502)],y_test.shape=(25000,)\n",
      "[ 2018-04-20 00:56:11,551][cascade_classifier.fit_transform] group_dims=[502]\n",
      "[ 2018-04-20 00:56:11,553][cascade_classifier.fit_transform] group_starts=[0]\n",
      "[ 2018-04-20 00:56:11,554][cascade_classifier.fit_transform] group_ends=[502]\n",
      "[ 2018-04-20 00:56:11,555][cascade_classifier.fit_transform] X_train.shape=(25000, 502),X_test.shape=(25000, 502)\n",
      "[ 2018-04-20 00:56:11,635][cascade_classifier.fit_transform] [layer=0] look_indexs=[0], X_cur_train.shape=(25000, 502), X_cur_test.shape=(25000, 502)\n",
      "[ 2018-04-20 00:56:13,237][kfold_wrapper.log_eval_metrics] Accuracy(layer_0 - estimator_0 - 10_folds.train_0.predict)=52.80%\n",
      "[ 2018-04-20 00:56:15,095][kfold_wrapper.log_eval_metrics] Accuracy(layer_0 - estimator_0 - 10_folds.train_1.predict)=52.16%\n",
      "[ 2018-04-20 00:56:17,031][kfold_wrapper.log_eval_metrics] Accuracy(layer_0 - estimator_0 - 10_folds.train_2.predict)=50.84%\n",
      "[ 2018-04-20 00:56:18,906][kfold_wrapper.log_eval_metrics] Accuracy(layer_0 - estimator_0 - 10_folds.train_3.predict)=49.76%\n",
      "[ 2018-04-20 00:56:20,927][kfold_wrapper.log_eval_metrics] Accuracy(layer_0 - estimator_0 - 10_folds.train_4.predict)=52.00%\n",
      "[ 2018-04-20 00:56:22,873][kfold_wrapper.log_eval_metrics] Accuracy(layer_0 - estimator_0 - 10_folds.train_5.predict)=52.28%\n",
      "[ 2018-04-20 00:56:25,458][kfold_wrapper.log_eval_metrics] Accuracy(layer_0 - estimator_0 - 10_folds.train_6.predict)=52.84%\n",
      "[ 2018-04-20 00:56:27,605][kfold_wrapper.log_eval_metrics] Accuracy(layer_0 - estimator_0 - 10_folds.train_7.predict)=53.04%\n",
      "[ 2018-04-20 00:56:29,552][kfold_wrapper.log_eval_metrics] Accuracy(layer_0 - estimator_0 - 10_folds.train_8.predict)=53.00%\n",
      "[ 2018-04-20 00:56:33,538][kfold_wrapper.log_eval_metrics] Accuracy(layer_0 - estimator_0 - 10_folds.train_9.predict)=53.36%\n",
      "[ 2018-04-20 00:56:33,846][kfold_wrapper.log_eval_metrics] Accuracy(layer_0 - estimator_0 - 10_folds.train_cv.predict)=52.21%\n",
      "[ 2018-04-20 00:56:33,848][kfold_wrapper.log_eval_metrics] Accuracy(layer_0 - estimator_0 - 10_folds.test.predict)=52.85%\n",
      "[ 2018-04-20 00:56:33,863][cascade_classifier.calc_accuracy] Accuracy(layer_0 - train.classifier_average)=52.21%\n",
      "[ 2018-04-20 00:56:33,865][cascade_classifier.calc_accuracy] Accuracy(layer_0 - test.classifier_average)=52.85%\n",
      "[ 2018-04-20 00:56:33,866][cascade_classifier.fit_transform] [Result][Reach Max Layer] opt_layer_num=1, accuracy_train=52.21%, accuracy_test=52.85%\n",
      "[ 2018-04-20 00:56:33,869][cascade_classifier.transform] X_groups_test.shape=[(25000, 502)]\n",
      "[ 2018-04-20 00:56:33,916][cascade_classifier.transform] group_dims=[502]\n",
      "[ 2018-04-20 00:56:33,917][cascade_classifier.transform] X_test.shape=(25000, 502)\n",
      "[ 2018-04-20 00:56:33,960][cascade_classifier.transform] [layer=0] look_indexs=[0], X_cur_test.shape=(25000, 502)\n"
     ]
    },
    {
     "name": "stdout",
     "output_type": "stream",
     "text": [
      "('Test Accuracy of ExtraTrees = 52.848000 %', 11, 'fois')\n"
     ]
    },
    {
     "name": "stderr",
     "output_type": "stream",
     "text": [
      "[ 2018-04-20 00:56:38,769][cascade_classifier.fit_transform] X_groups_train.shape=[(25000, 502)],y_train.shape=(25000,),X_groups_test.shape=[(25000, 502)],y_test.shape=(25000,)\n",
      "[ 2018-04-20 00:56:38,845][cascade_classifier.fit_transform] group_dims=[502]\n",
      "[ 2018-04-20 00:56:38,847][cascade_classifier.fit_transform] group_starts=[0]\n",
      "[ 2018-04-20 00:56:38,848][cascade_classifier.fit_transform] group_ends=[502]\n",
      "[ 2018-04-20 00:56:38,849][cascade_classifier.fit_transform] X_train.shape=(25000, 502),X_test.shape=(25000, 502)\n",
      "[ 2018-04-20 00:56:38,926][cascade_classifier.fit_transform] [layer=0] look_indexs=[0], X_cur_train.shape=(25000, 502), X_cur_test.shape=(25000, 502)\n",
      "[ 2018-04-20 00:56:40,502][kfold_wrapper.log_eval_metrics] Accuracy(layer_0 - estimator_0 - 10_folds.train_0.predict)=51.96%\n",
      "[ 2018-04-20 00:56:42,518][kfold_wrapper.log_eval_metrics] Accuracy(layer_0 - estimator_0 - 10_folds.train_1.predict)=53.36%\n",
      "[ 2018-04-20 00:56:44,456][kfold_wrapper.log_eval_metrics] Accuracy(layer_0 - estimator_0 - 10_folds.train_2.predict)=51.36%\n",
      "[ 2018-04-20 00:56:46,694][kfold_wrapper.log_eval_metrics] Accuracy(layer_0 - estimator_0 - 10_folds.train_3.predict)=51.52%\n",
      "[ 2018-04-20 00:56:48,694][kfold_wrapper.log_eval_metrics] Accuracy(layer_0 - estimator_0 - 10_folds.train_4.predict)=51.64%\n",
      "[ 2018-04-20 00:56:50,640][kfold_wrapper.log_eval_metrics] Accuracy(layer_0 - estimator_0 - 10_folds.train_5.predict)=51.48%\n",
      "[ 2018-04-20 00:56:53,028][kfold_wrapper.log_eval_metrics] Accuracy(layer_0 - estimator_0 - 10_folds.train_6.predict)=51.32%\n",
      "[ 2018-04-20 00:56:54,879][kfold_wrapper.log_eval_metrics] Accuracy(layer_0 - estimator_0 - 10_folds.train_7.predict)=51.56%\n",
      "[ 2018-04-20 00:56:56,687][kfold_wrapper.log_eval_metrics] Accuracy(layer_0 - estimator_0 - 10_folds.train_8.predict)=52.16%\n",
      "[ 2018-04-20 00:56:58,537][kfold_wrapper.log_eval_metrics] Accuracy(layer_0 - estimator_0 - 10_folds.train_9.predict)=53.44%\n",
      "[ 2018-04-20 00:56:58,820][kfold_wrapper.log_eval_metrics] Accuracy(layer_0 - estimator_0 - 10_folds.train_cv.predict)=51.98%\n",
      "[ 2018-04-20 00:56:58,822][kfold_wrapper.log_eval_metrics] Accuracy(layer_0 - estimator_0 - 10_folds.test.predict)=53.09%\n",
      "[ 2018-04-20 00:56:58,840][cascade_classifier.calc_accuracy] Accuracy(layer_0 - train.classifier_average)=51.98%\n",
      "[ 2018-04-20 00:56:58,842][cascade_classifier.calc_accuracy] Accuracy(layer_0 - test.classifier_average)=53.09%\n",
      "[ 2018-04-20 00:56:58,843][cascade_classifier.fit_transform] [Result][Reach Max Layer] opt_layer_num=1, accuracy_train=51.98%, accuracy_test=53.09%\n",
      "[ 2018-04-20 00:56:58,846][cascade_classifier.transform] X_groups_test.shape=[(25000, 502)]\n",
      "[ 2018-04-20 00:56:58,892][cascade_classifier.transform] group_dims=[502]\n",
      "[ 2018-04-20 00:56:58,893][cascade_classifier.transform] X_test.shape=(25000, 502)\n",
      "[ 2018-04-20 00:56:58,938][cascade_classifier.transform] [layer=0] look_indexs=[0], X_cur_test.shape=(25000, 502)\n"
     ]
    },
    {
     "name": "stdout",
     "output_type": "stream",
     "text": [
      "('Test Accuracy of ExtraTrees = 53.048000 %', 12, 'fois')\n"
     ]
    },
    {
     "name": "stderr",
     "output_type": "stream",
     "text": [
      "[ 2018-04-20 00:57:03,793][cascade_classifier.fit_transform] X_groups_train.shape=[(25000, 502)],y_train.shape=(25000,),X_groups_test.shape=[(25000, 502)],y_test.shape=(25000,)\n",
      "[ 2018-04-20 00:57:03,874][cascade_classifier.fit_transform] group_dims=[502]\n",
      "[ 2018-04-20 00:57:03,876][cascade_classifier.fit_transform] group_starts=[0]\n",
      "[ 2018-04-20 00:57:03,877][cascade_classifier.fit_transform] group_ends=[502]\n",
      "[ 2018-04-20 00:57:03,878][cascade_classifier.fit_transform] X_train.shape=(25000, 502),X_test.shape=(25000, 502)\n",
      "[ 2018-04-20 00:57:03,960][cascade_classifier.fit_transform] [layer=0] look_indexs=[0], X_cur_train.shape=(25000, 502), X_cur_test.shape=(25000, 502)\n",
      "[ 2018-04-20 00:57:05,714][kfold_wrapper.log_eval_metrics] Accuracy(layer_0 - estimator_0 - 10_folds.train_0.predict)=53.72%\n",
      "[ 2018-04-20 00:57:07,612][kfold_wrapper.log_eval_metrics] Accuracy(layer_0 - estimator_0 - 10_folds.train_1.predict)=51.60%\n",
      "[ 2018-04-20 00:57:09,678][kfold_wrapper.log_eval_metrics] Accuracy(layer_0 - estimator_0 - 10_folds.train_2.predict)=50.52%\n",
      "[ 2018-04-20 00:57:11,920][kfold_wrapper.log_eval_metrics] Accuracy(layer_0 - estimator_0 - 10_folds.train_3.predict)=52.84%\n",
      "[ 2018-04-20 00:57:13,874][kfold_wrapper.log_eval_metrics] Accuracy(layer_0 - estimator_0 - 10_folds.train_4.predict)=52.32%\n",
      "[ 2018-04-20 00:57:15,739][kfold_wrapper.log_eval_metrics] Accuracy(layer_0 - estimator_0 - 10_folds.train_5.predict)=51.72%\n",
      "[ 2018-04-20 00:57:17,709][kfold_wrapper.log_eval_metrics] Accuracy(layer_0 - estimator_0 - 10_folds.train_6.predict)=51.52%\n",
      "[ 2018-04-20 00:57:19,491][kfold_wrapper.log_eval_metrics] Accuracy(layer_0 - estimator_0 - 10_folds.train_7.predict)=50.96%\n",
      "[ 2018-04-20 00:57:21,433][kfold_wrapper.log_eval_metrics] Accuracy(layer_0 - estimator_0 - 10_folds.train_8.predict)=52.16%\n",
      "[ 2018-04-20 00:57:23,438][kfold_wrapper.log_eval_metrics] Accuracy(layer_0 - estimator_0 - 10_folds.train_9.predict)=52.96%\n",
      "[ 2018-04-20 00:57:23,844][kfold_wrapper.log_eval_metrics] Accuracy(layer_0 - estimator_0 - 10_folds.train_cv.predict)=52.03%\n",
      "[ 2018-04-20 00:57:23,847][kfold_wrapper.log_eval_metrics] Accuracy(layer_0 - estimator_0 - 10_folds.test.predict)=52.86%\n",
      "[ 2018-04-20 00:57:23,864][cascade_classifier.calc_accuracy] Accuracy(layer_0 - train.classifier_average)=52.03%\n",
      "[ 2018-04-20 00:57:23,867][cascade_classifier.calc_accuracy] Accuracy(layer_0 - test.classifier_average)=52.86%\n",
      "[ 2018-04-20 00:57:23,868][cascade_classifier.fit_transform] [Result][Reach Max Layer] opt_layer_num=1, accuracy_train=52.03%, accuracy_test=52.86%\n",
      "[ 2018-04-20 00:57:23,871][cascade_classifier.transform] X_groups_test.shape=[(25000, 502)]\n",
      "[ 2018-04-20 00:57:23,918][cascade_classifier.transform] group_dims=[502]\n",
      "[ 2018-04-20 00:57:23,919][cascade_classifier.transform] X_test.shape=(25000, 502)\n",
      "[ 2018-04-20 00:57:23,962][cascade_classifier.transform] [layer=0] look_indexs=[0], X_cur_test.shape=(25000, 502)\n"
     ]
    },
    {
     "name": "stdout",
     "output_type": "stream",
     "text": [
      "('Test Accuracy of ExtraTrees = 52.848000 %', 13, 'fois')\n"
     ]
    },
    {
     "name": "stderr",
     "output_type": "stream",
     "text": [
      "[ 2018-04-20 00:57:28,315][cascade_classifier.fit_transform] X_groups_train.shape=[(25000, 502)],y_train.shape=(25000,),X_groups_test.shape=[(25000, 502)],y_test.shape=(25000,)\n",
      "[ 2018-04-20 00:57:28,395][cascade_classifier.fit_transform] group_dims=[502]\n",
      "[ 2018-04-20 00:57:28,396][cascade_classifier.fit_transform] group_starts=[0]\n",
      "[ 2018-04-20 00:57:28,397][cascade_classifier.fit_transform] group_ends=[502]\n",
      "[ 2018-04-20 00:57:28,398][cascade_classifier.fit_transform] X_train.shape=(25000, 502),X_test.shape=(25000, 502)\n",
      "[ 2018-04-20 00:57:28,480][cascade_classifier.fit_transform] [layer=0] look_indexs=[0], X_cur_train.shape=(25000, 502), X_cur_test.shape=(25000, 502)\n",
      "[ 2018-04-20 00:57:30,103][kfold_wrapper.log_eval_metrics] Accuracy(layer_0 - estimator_0 - 10_folds.train_0.predict)=53.04%\n",
      "[ 2018-04-20 00:57:32,222][kfold_wrapper.log_eval_metrics] Accuracy(layer_0 - estimator_0 - 10_folds.train_1.predict)=51.84%\n",
      "[ 2018-04-20 00:57:34,268][kfold_wrapper.log_eval_metrics] Accuracy(layer_0 - estimator_0 - 10_folds.train_2.predict)=50.96%\n",
      "[ 2018-04-20 00:57:36,292][kfold_wrapper.log_eval_metrics] Accuracy(layer_0 - estimator_0 - 10_folds.train_3.predict)=49.80%\n",
      "[ 2018-04-20 00:57:38,163][kfold_wrapper.log_eval_metrics] Accuracy(layer_0 - estimator_0 - 10_folds.train_4.predict)=53.60%\n",
      "[ 2018-04-20 00:57:40,194][kfold_wrapper.log_eval_metrics] Accuracy(layer_0 - estimator_0 - 10_folds.train_5.predict)=51.40%\n",
      "[ 2018-04-20 00:57:42,162][kfold_wrapper.log_eval_metrics] Accuracy(layer_0 - estimator_0 - 10_folds.train_6.predict)=53.92%\n",
      "[ 2018-04-20 00:57:44,168][kfold_wrapper.log_eval_metrics] Accuracy(layer_0 - estimator_0 - 10_folds.train_7.predict)=52.84%\n",
      "[ 2018-04-20 00:57:46,194][kfold_wrapper.log_eval_metrics] Accuracy(layer_0 - estimator_0 - 10_folds.train_8.predict)=51.76%\n",
      "[ 2018-04-20 00:57:48,146][kfold_wrapper.log_eval_metrics] Accuracy(layer_0 - estimator_0 - 10_folds.train_9.predict)=52.20%\n",
      "[ 2018-04-20 00:57:48,547][kfold_wrapper.log_eval_metrics] Accuracy(layer_0 - estimator_0 - 10_folds.train_cv.predict)=52.14%\n",
      "[ 2018-04-20 00:57:48,550][kfold_wrapper.log_eval_metrics] Accuracy(layer_0 - estimator_0 - 10_folds.test.predict)=52.96%\n",
      "[ 2018-04-20 00:57:48,568][cascade_classifier.calc_accuracy] Accuracy(layer_0 - train.classifier_average)=52.14%\n",
      "[ 2018-04-20 00:57:48,570][cascade_classifier.calc_accuracy] Accuracy(layer_0 - test.classifier_average)=52.96%\n",
      "[ 2018-04-20 00:57:48,571][cascade_classifier.fit_transform] [Result][Reach Max Layer] opt_layer_num=1, accuracy_train=52.14%, accuracy_test=52.96%\n",
      "[ 2018-04-20 00:57:48,575][cascade_classifier.transform] X_groups_test.shape=[(25000, 502)]\n",
      "[ 2018-04-20 00:57:48,622][cascade_classifier.transform] group_dims=[502]\n",
      "[ 2018-04-20 00:57:48,623][cascade_classifier.transform] X_test.shape=(25000, 502)\n",
      "[ 2018-04-20 00:57:48,668][cascade_classifier.transform] [layer=0] look_indexs=[0], X_cur_test.shape=(25000, 502)\n"
     ]
    },
    {
     "name": "stdout",
     "output_type": "stream",
     "text": [
      "('Test Accuracy of ExtraTrees = 52.980000 %', 14, 'fois')\n"
     ]
    },
    {
     "name": "stderr",
     "output_type": "stream",
     "text": [
      "[ 2018-04-20 00:57:53,278][cascade_classifier.fit_transform] X_groups_train.shape=[(25000, 502)],y_train.shape=(25000,),X_groups_test.shape=[(25000, 502)],y_test.shape=(25000,)\n",
      "[ 2018-04-20 00:57:53,354][cascade_classifier.fit_transform] group_dims=[502]\n",
      "[ 2018-04-20 00:57:53,356][cascade_classifier.fit_transform] group_starts=[0]\n",
      "[ 2018-04-20 00:57:53,357][cascade_classifier.fit_transform] group_ends=[502]\n",
      "[ 2018-04-20 00:57:53,358][cascade_classifier.fit_transform] X_train.shape=(25000, 502),X_test.shape=(25000, 502)\n",
      "[ 2018-04-20 00:57:53,436][cascade_classifier.fit_transform] [layer=0] look_indexs=[0], X_cur_train.shape=(25000, 502), X_cur_test.shape=(25000, 502)\n",
      "[ 2018-04-20 00:57:55,242][kfold_wrapper.log_eval_metrics] Accuracy(layer_0 - estimator_0 - 10_folds.train_0.predict)=52.88%\n",
      "[ 2018-04-20 00:57:57,387][kfold_wrapper.log_eval_metrics] Accuracy(layer_0 - estimator_0 - 10_folds.train_1.predict)=50.96%\n",
      "[ 2018-04-20 00:57:59,340][kfold_wrapper.log_eval_metrics] Accuracy(layer_0 - estimator_0 - 10_folds.train_2.predict)=52.08%\n",
      "[ 2018-04-20 00:58:01,343][kfold_wrapper.log_eval_metrics] Accuracy(layer_0 - estimator_0 - 10_folds.train_3.predict)=51.44%\n",
      "[ 2018-04-20 00:58:03,426][kfold_wrapper.log_eval_metrics] Accuracy(layer_0 - estimator_0 - 10_folds.train_4.predict)=51.52%\n",
      "[ 2018-04-20 00:58:05,392][kfold_wrapper.log_eval_metrics] Accuracy(layer_0 - estimator_0 - 10_folds.train_5.predict)=51.80%\n",
      "[ 2018-04-20 00:58:07,430][kfold_wrapper.log_eval_metrics] Accuracy(layer_0 - estimator_0 - 10_folds.train_6.predict)=53.16%\n",
      "[ 2018-04-20 00:58:09,357][kfold_wrapper.log_eval_metrics] Accuracy(layer_0 - estimator_0 - 10_folds.train_7.predict)=52.12%\n",
      "[ 2018-04-20 00:58:11,192][kfold_wrapper.log_eval_metrics] Accuracy(layer_0 - estimator_0 - 10_folds.train_8.predict)=50.28%\n",
      "[ 2018-04-20 00:58:13,111][kfold_wrapper.log_eval_metrics] Accuracy(layer_0 - estimator_0 - 10_folds.train_9.predict)=53.04%\n",
      "[ 2018-04-20 00:58:13,392][kfold_wrapper.log_eval_metrics] Accuracy(layer_0 - estimator_0 - 10_folds.train_cv.predict)=51.93%\n",
      "[ 2018-04-20 00:58:13,394][kfold_wrapper.log_eval_metrics] Accuracy(layer_0 - estimator_0 - 10_folds.test.predict)=52.98%\n",
      "[ 2018-04-20 00:58:13,406][cascade_classifier.calc_accuracy] Accuracy(layer_0 - train.classifier_average)=51.93%\n",
      "[ 2018-04-20 00:58:13,408][cascade_classifier.calc_accuracy] Accuracy(layer_0 - test.classifier_average)=52.98%\n",
      "[ 2018-04-20 00:58:13,410][cascade_classifier.fit_transform] [Result][Reach Max Layer] opt_layer_num=1, accuracy_train=51.93%, accuracy_test=52.98%\n",
      "[ 2018-04-20 00:58:13,413][cascade_classifier.transform] X_groups_test.shape=[(25000, 502)]\n",
      "[ 2018-04-20 00:58:13,454][cascade_classifier.transform] group_dims=[502]\n",
      "[ 2018-04-20 00:58:13,455][cascade_classifier.transform] X_test.shape=(25000, 502)\n",
      "[ 2018-04-20 00:58:13,494][cascade_classifier.transform] [layer=0] look_indexs=[0], X_cur_test.shape=(25000, 502)\n"
     ]
    },
    {
     "name": "stdout",
     "output_type": "stream",
     "text": [
      "('Test Accuracy of ExtraTrees = 52.996000 %', 15, 'fois')\n"
     ]
    },
    {
     "name": "stderr",
     "output_type": "stream",
     "text": [
      "[ 2018-04-20 00:58:18,503][cascade_classifier.fit_transform] X_groups_train.shape=[(25000, 502)],y_train.shape=(25000,),X_groups_test.shape=[(25000, 502)],y_test.shape=(25000,)\n",
      "[ 2018-04-20 00:58:18,580][cascade_classifier.fit_transform] group_dims=[502]\n",
      "[ 2018-04-20 00:58:18,582][cascade_classifier.fit_transform] group_starts=[0]\n",
      "[ 2018-04-20 00:58:18,583][cascade_classifier.fit_transform] group_ends=[502]\n",
      "[ 2018-04-20 00:58:18,584][cascade_classifier.fit_transform] X_train.shape=(25000, 502),X_test.shape=(25000, 502)\n",
      "[ 2018-04-20 00:58:18,664][cascade_classifier.fit_transform] [layer=0] look_indexs=[0], X_cur_train.shape=(25000, 502), X_cur_test.shape=(25000, 502)\n",
      "[ 2018-04-20 00:58:20,267][kfold_wrapper.log_eval_metrics] Accuracy(layer_0 - estimator_0 - 10_folds.train_0.predict)=52.88%\n",
      "[ 2018-04-20 00:58:22,132][kfold_wrapper.log_eval_metrics] Accuracy(layer_0 - estimator_0 - 10_folds.train_1.predict)=51.88%\n",
      "[ 2018-04-20 00:58:23,987][kfold_wrapper.log_eval_metrics] Accuracy(layer_0 - estimator_0 - 10_folds.train_2.predict)=51.56%\n",
      "[ 2018-04-20 00:58:25,992][kfold_wrapper.log_eval_metrics] Accuracy(layer_0 - estimator_0 - 10_folds.train_3.predict)=52.56%\n",
      "[ 2018-04-20 00:58:27,983][kfold_wrapper.log_eval_metrics] Accuracy(layer_0 - estimator_0 - 10_folds.train_4.predict)=51.64%\n",
      "[ 2018-04-20 00:58:29,882][kfold_wrapper.log_eval_metrics] Accuracy(layer_0 - estimator_0 - 10_folds.train_5.predict)=51.44%\n",
      "[ 2018-04-20 00:58:31,900][kfold_wrapper.log_eval_metrics] Accuracy(layer_0 - estimator_0 - 10_folds.train_6.predict)=53.20%\n",
      "[ 2018-04-20 00:58:33,858][kfold_wrapper.log_eval_metrics] Accuracy(layer_0 - estimator_0 - 10_folds.train_7.predict)=52.48%\n",
      "[ 2018-04-20 00:58:35,821][kfold_wrapper.log_eval_metrics] Accuracy(layer_0 - estimator_0 - 10_folds.train_8.predict)=49.88%\n",
      "[ 2018-04-20 00:58:37,809][kfold_wrapper.log_eval_metrics] Accuracy(layer_0 - estimator_0 - 10_folds.train_9.predict)=51.52%\n",
      "[ 2018-04-20 00:58:38,096][kfold_wrapper.log_eval_metrics] Accuracy(layer_0 - estimator_0 - 10_folds.train_cv.predict)=51.90%\n",
      "[ 2018-04-20 00:58:38,098][kfold_wrapper.log_eval_metrics] Accuracy(layer_0 - estimator_0 - 10_folds.test.predict)=53.07%\n",
      "[ 2018-04-20 00:58:38,116][cascade_classifier.calc_accuracy] Accuracy(layer_0 - train.classifier_average)=51.90%\n",
      "[ 2018-04-20 00:58:38,118][cascade_classifier.calc_accuracy] Accuracy(layer_0 - test.classifier_average)=53.07%\n",
      "[ 2018-04-20 00:58:38,119][cascade_classifier.fit_transform] [Result][Reach Max Layer] opt_layer_num=1, accuracy_train=51.90%, accuracy_test=53.07%\n",
      "[ 2018-04-20 00:58:38,122][cascade_classifier.transform] X_groups_test.shape=[(25000, 502)]\n",
      "[ 2018-04-20 00:58:38,167][cascade_classifier.transform] group_dims=[502]\n",
      "[ 2018-04-20 00:58:38,168][cascade_classifier.transform] X_test.shape=(25000, 502)\n",
      "[ 2018-04-20 00:58:38,210][cascade_classifier.transform] [layer=0] look_indexs=[0], X_cur_test.shape=(25000, 502)\n"
     ]
    },
    {
     "name": "stdout",
     "output_type": "stream",
     "text": [
      "('Test Accuracy of ExtraTrees = 53.112000 %', 16, 'fois')\n"
     ]
    },
    {
     "name": "stderr",
     "output_type": "stream",
     "text": [
      "[ 2018-04-20 00:58:42,767][cascade_classifier.fit_transform] X_groups_train.shape=[(25000, 502)],y_train.shape=(25000,),X_groups_test.shape=[(25000, 502)],y_test.shape=(25000,)\n",
      "[ 2018-04-20 00:58:42,848][cascade_classifier.fit_transform] group_dims=[502]\n",
      "[ 2018-04-20 00:58:42,849][cascade_classifier.fit_transform] group_starts=[0]\n",
      "[ 2018-04-20 00:58:42,849][cascade_classifier.fit_transform] group_ends=[502]\n",
      "[ 2018-04-20 00:58:42,850][cascade_classifier.fit_transform] X_train.shape=(25000, 502),X_test.shape=(25000, 502)\n",
      "[ 2018-04-20 00:58:42,932][cascade_classifier.fit_transform] [layer=0] look_indexs=[0], X_cur_train.shape=(25000, 502), X_cur_test.shape=(25000, 502)\n",
      "[ 2018-04-20 00:58:44,608][kfold_wrapper.log_eval_metrics] Accuracy(layer_0 - estimator_0 - 10_folds.train_0.predict)=55.28%\n",
      "[ 2018-04-20 00:58:46,646][kfold_wrapper.log_eval_metrics] Accuracy(layer_0 - estimator_0 - 10_folds.train_1.predict)=52.72%\n",
      "[ 2018-04-20 00:58:48,559][kfold_wrapper.log_eval_metrics] Accuracy(layer_0 - estimator_0 - 10_folds.train_2.predict)=51.28%\n",
      "[ 2018-04-20 00:58:50,493][kfold_wrapper.log_eval_metrics] Accuracy(layer_0 - estimator_0 - 10_folds.train_3.predict)=50.48%\n",
      "[ 2018-04-20 00:58:52,428][kfold_wrapper.log_eval_metrics] Accuracy(layer_0 - estimator_0 - 10_folds.train_4.predict)=52.84%\n",
      "[ 2018-04-20 00:58:54,322][kfold_wrapper.log_eval_metrics] Accuracy(layer_0 - estimator_0 - 10_folds.train_5.predict)=50.80%\n",
      "[ 2018-04-20 00:58:56,320][kfold_wrapper.log_eval_metrics] Accuracy(layer_0 - estimator_0 - 10_folds.train_6.predict)=53.32%\n",
      "[ 2018-04-20 00:58:58,685][kfold_wrapper.log_eval_metrics] Accuracy(layer_0 - estimator_0 - 10_folds.train_7.predict)=51.96%\n",
      "[ 2018-04-20 00:59:00,770][kfold_wrapper.log_eval_metrics] Accuracy(layer_0 - estimator_0 - 10_folds.train_8.predict)=51.92%\n",
      "[ 2018-04-20 00:59:02,613][kfold_wrapper.log_eval_metrics] Accuracy(layer_0 - estimator_0 - 10_folds.train_9.predict)=51.28%\n",
      "[ 2018-04-20 00:59:03,026][kfold_wrapper.log_eval_metrics] Accuracy(layer_0 - estimator_0 - 10_folds.train_cv.predict)=52.19%\n",
      "[ 2018-04-20 00:59:03,028][kfold_wrapper.log_eval_metrics] Accuracy(layer_0 - estimator_0 - 10_folds.test.predict)=52.65%\n",
      "[ 2018-04-20 00:59:03,041][cascade_classifier.calc_accuracy] Accuracy(layer_0 - train.classifier_average)=52.19%\n",
      "[ 2018-04-20 00:59:03,043][cascade_classifier.calc_accuracy] Accuracy(layer_0 - test.classifier_average)=52.65%\n",
      "[ 2018-04-20 00:59:03,045][cascade_classifier.fit_transform] [Result][Reach Max Layer] opt_layer_num=1, accuracy_train=52.19%, accuracy_test=52.65%\n",
      "[ 2018-04-20 00:59:03,047][cascade_classifier.transform] X_groups_test.shape=[(25000, 502)]\n",
      "[ 2018-04-20 00:59:03,090][cascade_classifier.transform] group_dims=[502]\n",
      "[ 2018-04-20 00:59:03,092][cascade_classifier.transform] X_test.shape=(25000, 502)\n",
      "[ 2018-04-20 00:59:03,131][cascade_classifier.transform] [layer=0] look_indexs=[0], X_cur_test.shape=(25000, 502)\n"
     ]
    },
    {
     "name": "stdout",
     "output_type": "stream",
     "text": [
      "('Test Accuracy of ExtraTrees = 52.640000 %', 17, 'fois')\n"
     ]
    },
    {
     "name": "stderr",
     "output_type": "stream",
     "text": [
      "[ 2018-04-20 00:59:07,951][cascade_classifier.fit_transform] X_groups_train.shape=[(25000, 502)],y_train.shape=(25000,),X_groups_test.shape=[(25000, 502)],y_test.shape=(25000,)\n",
      "[ 2018-04-20 00:59:08,030][cascade_classifier.fit_transform] group_dims=[502]\n",
      "[ 2018-04-20 00:59:08,031][cascade_classifier.fit_transform] group_starts=[0]\n",
      "[ 2018-04-20 00:59:08,032][cascade_classifier.fit_transform] group_ends=[502]\n",
      "[ 2018-04-20 00:59:08,032][cascade_classifier.fit_transform] X_train.shape=(25000, 502),X_test.shape=(25000, 502)\n",
      "[ 2018-04-20 00:59:08,111][cascade_classifier.fit_transform] [layer=0] look_indexs=[0], X_cur_train.shape=(25000, 502), X_cur_test.shape=(25000, 502)\n",
      "[ 2018-04-20 00:59:09,815][kfold_wrapper.log_eval_metrics] Accuracy(layer_0 - estimator_0 - 10_folds.train_0.predict)=52.20%\n",
      "[ 2018-04-20 00:59:11,695][kfold_wrapper.log_eval_metrics] Accuracy(layer_0 - estimator_0 - 10_folds.train_1.predict)=52.32%\n",
      "[ 2018-04-20 00:59:13,487][kfold_wrapper.log_eval_metrics] Accuracy(layer_0 - estimator_0 - 10_folds.train_2.predict)=52.44%\n",
      "[ 2018-04-20 00:59:15,364][kfold_wrapper.log_eval_metrics] Accuracy(layer_0 - estimator_0 - 10_folds.train_3.predict)=50.64%\n",
      "[ 2018-04-20 00:59:17,355][kfold_wrapper.log_eval_metrics] Accuracy(layer_0 - estimator_0 - 10_folds.train_4.predict)=53.28%\n",
      "[ 2018-04-20 00:59:19,542][kfold_wrapper.log_eval_metrics] Accuracy(layer_0 - estimator_0 - 10_folds.train_5.predict)=51.64%\n",
      "[ 2018-04-20 00:59:21,541][kfold_wrapper.log_eval_metrics] Accuracy(layer_0 - estimator_0 - 10_folds.train_6.predict)=52.04%\n",
      "[ 2018-04-20 00:59:23,401][kfold_wrapper.log_eval_metrics] Accuracy(layer_0 - estimator_0 - 10_folds.train_7.predict)=52.04%\n",
      "[ 2018-04-20 00:59:25,219][kfold_wrapper.log_eval_metrics] Accuracy(layer_0 - estimator_0 - 10_folds.train_8.predict)=52.24%\n",
      "[ 2018-04-20 00:59:27,081][kfold_wrapper.log_eval_metrics] Accuracy(layer_0 - estimator_0 - 10_folds.train_9.predict)=52.28%\n",
      "[ 2018-04-20 00:59:27,479][kfold_wrapper.log_eval_metrics] Accuracy(layer_0 - estimator_0 - 10_folds.train_cv.predict)=52.11%\n",
      "[ 2018-04-20 00:59:27,482][kfold_wrapper.log_eval_metrics] Accuracy(layer_0 - estimator_0 - 10_folds.test.predict)=53.18%\n",
      "[ 2018-04-20 00:59:27,497][cascade_classifier.calc_accuracy] Accuracy(layer_0 - train.classifier_average)=52.11%\n",
      "[ 2018-04-20 00:59:27,499][cascade_classifier.calc_accuracy] Accuracy(layer_0 - test.classifier_average)=53.18%\n",
      "[ 2018-04-20 00:59:27,500][cascade_classifier.fit_transform] [Result][Reach Max Layer] opt_layer_num=1, accuracy_train=52.11%, accuracy_test=53.18%\n",
      "[ 2018-04-20 00:59:27,504][cascade_classifier.transform] X_groups_test.shape=[(25000, 502)]\n",
      "[ 2018-04-20 00:59:27,551][cascade_classifier.transform] group_dims=[502]\n",
      "[ 2018-04-20 00:59:27,553][cascade_classifier.transform] X_test.shape=(25000, 502)\n",
      "[ 2018-04-20 00:59:27,594][cascade_classifier.transform] [layer=0] look_indexs=[0], X_cur_test.shape=(25000, 502)\n"
     ]
    },
    {
     "name": "stdout",
     "output_type": "stream",
     "text": [
      "('Test Accuracy of ExtraTrees = 53.172000 %', 18, 'fois')\n"
     ]
    },
    {
     "name": "stderr",
     "output_type": "stream",
     "text": [
      "[ 2018-04-20 00:59:31,934][cascade_classifier.fit_transform] X_groups_train.shape=[(25000, 502)],y_train.shape=(25000,),X_groups_test.shape=[(25000, 502)],y_test.shape=(25000,)\n",
      "[ 2018-04-20 00:59:32,011][cascade_classifier.fit_transform] group_dims=[502]\n",
      "[ 2018-04-20 00:59:32,013][cascade_classifier.fit_transform] group_starts=[0]\n",
      "[ 2018-04-20 00:59:32,014][cascade_classifier.fit_transform] group_ends=[502]\n",
      "[ 2018-04-20 00:59:32,015][cascade_classifier.fit_transform] X_train.shape=(25000, 502),X_test.shape=(25000, 502)\n",
      "[ 2018-04-20 00:59:32,093][cascade_classifier.fit_transform] [layer=0] look_indexs=[0], X_cur_train.shape=(25000, 502), X_cur_test.shape=(25000, 502)\n",
      "[ 2018-04-20 00:59:33,674][kfold_wrapper.log_eval_metrics] Accuracy(layer_0 - estimator_0 - 10_folds.train_0.predict)=53.60%\n",
      "[ 2018-04-20 00:59:35,723][kfold_wrapper.log_eval_metrics] Accuracy(layer_0 - estimator_0 - 10_folds.train_1.predict)=50.88%\n",
      "[ 2018-04-20 00:59:37,745][kfold_wrapper.log_eval_metrics] Accuracy(layer_0 - estimator_0 - 10_folds.train_2.predict)=49.72%\n",
      "[ 2018-04-20 00:59:39,855][kfold_wrapper.log_eval_metrics] Accuracy(layer_0 - estimator_0 - 10_folds.train_3.predict)=50.92%\n",
      "[ 2018-04-20 00:59:41,652][kfold_wrapper.log_eval_metrics] Accuracy(layer_0 - estimator_0 - 10_folds.train_4.predict)=51.40%\n",
      "[ 2018-04-20 00:59:43,632][kfold_wrapper.log_eval_metrics] Accuracy(layer_0 - estimator_0 - 10_folds.train_5.predict)=52.12%\n",
      "[ 2018-04-20 00:59:45,720][kfold_wrapper.log_eval_metrics] Accuracy(layer_0 - estimator_0 - 10_folds.train_6.predict)=52.72%\n",
      "[ 2018-04-20 00:59:47,583][kfold_wrapper.log_eval_metrics] Accuracy(layer_0 - estimator_0 - 10_folds.train_7.predict)=55.04%\n",
      "[ 2018-04-20 00:59:49,420][kfold_wrapper.log_eval_metrics] Accuracy(layer_0 - estimator_0 - 10_folds.train_8.predict)=51.40%\n",
      "[ 2018-04-20 00:59:51,257][kfold_wrapper.log_eval_metrics] Accuracy(layer_0 - estimator_0 - 10_folds.train_9.predict)=52.52%\n",
      "[ 2018-04-20 00:59:51,677][kfold_wrapper.log_eval_metrics] Accuracy(layer_0 - estimator_0 - 10_folds.train_cv.predict)=52.03%\n",
      "[ 2018-04-20 00:59:51,680][kfold_wrapper.log_eval_metrics] Accuracy(layer_0 - estimator_0 - 10_folds.test.predict)=52.96%\n",
      "[ 2018-04-20 00:59:51,699][cascade_classifier.calc_accuracy] Accuracy(layer_0 - train.classifier_average)=52.03%\n",
      "[ 2018-04-20 00:59:51,701][cascade_classifier.calc_accuracy] Accuracy(layer_0 - test.classifier_average)=52.96%\n",
      "[ 2018-04-20 00:59:51,702][cascade_classifier.fit_transform] [Result][Reach Max Layer] opt_layer_num=1, accuracy_train=52.03%, accuracy_test=52.96%\n",
      "[ 2018-04-20 00:59:51,706][cascade_classifier.transform] X_groups_test.shape=[(25000, 502)]\n",
      "[ 2018-04-20 00:59:51,751][cascade_classifier.transform] group_dims=[502]\n",
      "[ 2018-04-20 00:59:51,753][cascade_classifier.transform] X_test.shape=(25000, 502)\n",
      "[ 2018-04-20 00:59:51,797][cascade_classifier.transform] [layer=0] look_indexs=[0], X_cur_test.shape=(25000, 502)\n"
     ]
    },
    {
     "name": "stdout",
     "output_type": "stream",
     "text": [
      "('Test Accuracy of ExtraTrees = 52.944000 %', 19, 'fois')\n"
     ]
    }
   ],
   "source": [
    "# Deep\n",
    "for i in range (20):\n",
    "    X_train,X_test=update(X_train,X_test)\n",
    "    X_test_enc, X_train_enc=newdata(X_test_enc, X_train_enc)\n",
    "\n",
    "    X_train=X_train_enc\n",
    "    X_test=X_test_enc \n",
    "    X_train_enc, X_test_enc = gc.fit_transform(X_train, y_train, X_test=X_test, y_test=y_test)\n",
    "    affiche()"
   ]
  },
  {
   "cell_type": "code",
   "execution_count": null,
   "metadata": {
    "collapsed": true
   },
   "outputs": [],
   "source": []
  },
  {
   "cell_type": "markdown",
   "metadata": {},
   "source": [
    "# ('Test Accuracy of ExtraTrees = 53.172000 %', 18, 'fois')"
   ]
  },
  {
   "cell_type": "code",
   "execution_count": null,
   "metadata": {
    "collapsed": true
   },
   "outputs": [],
   "source": []
  }
 ],
 "metadata": {
  "kernelspec": {
   "display_name": "Python 2",
   "language": "python",
   "name": "python2"
  },
  "language_info": {
   "codemirror_mode": {
    "name": "ipython",
    "version": 2
   },
   "file_extension": ".py",
   "mimetype": "text/x-python",
   "name": "python",
   "nbconvert_exporter": "python",
   "pygments_lexer": "ipython2",
   "version": "2.7.13"
  }
 },
 "nbformat": 4,
 "nbformat_minor": 2
}
