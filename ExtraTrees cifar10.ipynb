{
 "cells": [
  {
   "cell_type": "code",
   "execution_count": 1,
   "metadata": {
    "collapsed": true
   },
   "outputs": [],
   "source": [
    "#  imports \n",
    "import numpy as np\n",
    "import pandas as pd\n",
    "from math import sqrt \n",
    "from pprint import pprint\n",
    "from numpy import array"
   ]
  },
  {
   "cell_type": "code",
   "execution_count": 5,
   "metadata": {},
   "outputs": [
    {
     "name": "stderr",
     "output_type": "stream",
     "text": [
      "Using TensorFlow backend.\n"
     ]
    },
    {
     "name": "stdout",
     "output_type": "stream",
     "text": [
      "Downloading data from http://www.cs.toronto.edu/~kriz/cifar-10-python.tar.gz\n",
      "170393600/170498071 [============================>.] - ETA: 0s"
     ]
    }
   ],
   "source": [
    "# load data \n",
    "from keras.datasets import cifar10\n",
    "\n",
    "cls_names = ('airplane', 'automobile', 'bird', 'cat', 'deer', 'dog', 'frog', 'horse', 'ship', 'truck')\n",
    "\n",
    "\"\"\"\n",
    "X_train.shape: (50000, 3, 32, 32)\n",
    "X_test.shape: (10000, 3, 32, 32)\n",
    "y: 10 labels\n",
    "\"\"\"\n",
    "(X_train, y_train), (X_test, y_test) = cifar10.load_data()\n",
    "y_train = y_train.reshape((y_train.shape[0]))\n",
    "y_test = y_test.reshape((y_test.shape[0]))"
   ]
  },
  {
   "cell_type": "code",
   "execution_count": 6,
   "metadata": {
    "collapsed": true
   },
   "outputs": [],
   "source": [
    "# rechape data (..,...)\n",
    "X_train = np.reshape(X_train, (X_train.shape[0], -1))\n",
    "X_test = np.reshape(X_test, (X_test.shape[0], -1))"
   ]
  },
  {
   "cell_type": "code",
   "execution_count": 7,
   "metadata": {},
   "outputs": [
    {
     "data": {
      "text/plain": [
       "(50000, 3072)"
      ]
     },
     "execution_count": 7,
     "metadata": {},
     "output_type": "execute_result"
    }
   ],
   "source": [
    "# new train reshape \n",
    "X_train.shape"
   ]
  },
  {
   "cell_type": "code",
   "execution_count": 8,
   "metadata": {
    "collapsed": true
   },
   "outputs": [],
   "source": [
    "# Extratrees deep\n",
    "import argparse\n",
    "import sys\n",
    "import pickle\n",
    "from sklearn.metrics import accuracy_score\n",
    "sys.path.insert(0, \"lib\")\n",
    "from gcforest.gcforest import GCForest\n",
    "from gcforest.utils.config_utils import load_json\n",
    "config = load_json(\"./examples/cifar10.json\")  \n",
    "gc = GCForest(config)"
   ]
  },
  {
   "cell_type": "code",
   "execution_count": 9,
   "metadata": {},
   "outputs": [
    {
     "data": {
      "text/plain": [
       "10"
      ]
     },
     "execution_count": 9,
     "metadata": {},
     "output_type": "execute_result"
    }
   ],
   "source": [
    "# count of class\n",
    "len(np.unique(y_train))"
   ]
  },
  {
   "cell_type": "code",
   "execution_count": 10,
   "metadata": {},
   "outputs": [
    {
     "name": "stderr",
     "output_type": "stream",
     "text": [
      "[ 2018-04-19 23:46:00,834][cascade_classifier.fit_transform] X_groups_train.shape=[(50000, 3072)],y_train.shape=(50000,),X_groups_test.shape=[(10000, 3072)],y_test.shape=(10000,)\n",
      "[ 2018-04-19 23:46:00,922][cascade_classifier.fit_transform] group_dims=[3072]\n",
      "[ 2018-04-19 23:46:00,924][cascade_classifier.fit_transform] group_starts=[0]\n",
      "[ 2018-04-19 23:46:00,925][cascade_classifier.fit_transform] group_ends=[3072]\n",
      "[ 2018-04-19 23:46:00,926][cascade_classifier.fit_transform] X_train.shape=(50000, 3072),X_test.shape=(10000, 3072)\n",
      "[ 2018-04-19 23:46:01,299][cascade_classifier.fit_transform] [layer=0] look_indexs=[0], X_cur_train.shape=(50000, 3072), X_cur_test.shape=(10000, 3072)\n",
      "[ 2018-04-19 23:46:06,938][kfold_wrapper.log_eval_metrics] Accuracy(layer_0 - estimator_0 - 10_folds.train_0.predict)=46.14%\n",
      "[ 2018-04-19 23:46:13,068][kfold_wrapper.log_eval_metrics] Accuracy(layer_0 - estimator_0 - 10_folds.train_1.predict)=46.40%\n",
      "[ 2018-04-19 23:46:19,146][kfold_wrapper.log_eval_metrics] Accuracy(layer_0 - estimator_0 - 10_folds.train_2.predict)=46.08%\n",
      "[ 2018-04-19 23:46:25,704][kfold_wrapper.log_eval_metrics] Accuracy(layer_0 - estimator_0 - 10_folds.train_3.predict)=47.62%\n",
      "[ 2018-04-19 23:46:31,385][kfold_wrapper.log_eval_metrics] Accuracy(layer_0 - estimator_0 - 10_folds.train_4.predict)=46.82%\n",
      "[ 2018-04-19 23:46:37,002][kfold_wrapper.log_eval_metrics] Accuracy(layer_0 - estimator_0 - 10_folds.train_5.predict)=46.36%\n",
      "[ 2018-04-19 23:46:42,813][kfold_wrapper.log_eval_metrics] Accuracy(layer_0 - estimator_0 - 10_folds.train_6.predict)=45.72%\n",
      "[ 2018-04-19 23:46:48,648][kfold_wrapper.log_eval_metrics] Accuracy(layer_0 - estimator_0 - 10_folds.train_7.predict)=46.58%\n",
      "[ 2018-04-19 23:46:54,675][kfold_wrapper.log_eval_metrics] Accuracy(layer_0 - estimator_0 - 10_folds.train_8.predict)=46.54%\n",
      "[ 2018-04-19 23:47:00,556][kfold_wrapper.log_eval_metrics] Accuracy(layer_0 - estimator_0 - 10_folds.train_9.predict)=46.02%\n",
      "[ 2018-04-19 23:47:00,970][kfold_wrapper.log_eval_metrics] Accuracy(layer_0 - estimator_0 - 10_folds.train_cv.predict)=46.43%\n",
      "[ 2018-04-19 23:47:00,973][kfold_wrapper.log_eval_metrics] Accuracy(layer_0 - estimator_0 - 10_folds.test.predict)=49.46%\n",
      "[ 2018-04-19 23:47:00,989][cascade_classifier.calc_accuracy] Accuracy(layer_0 - train.classifier_average)=46.43%\n",
      "[ 2018-04-19 23:47:00,992][cascade_classifier.calc_accuracy] Accuracy(layer_0 - test.classifier_average)=49.46%\n",
      "[ 2018-04-19 23:47:00,993][cascade_classifier.fit_transform] [Result][Reach Max Layer] opt_layer_num=1, accuracy_train=46.43%, accuracy_test=49.46%\n"
     ]
    }
   ],
   "source": [
    "             # X_enc is the concatenated predict_proba result of ExtraTrees\n",
    "\n",
    "X_train_enc, X_test_enc = gc.fit_transform(X_train, y_train, X_test=X_test, y_test=y_test)\n",
    "     "
   ]
  },
  {
   "cell_type": "code",
   "execution_count": 11,
   "metadata": {},
   "outputs": [
    {
     "name": "stderr",
     "output_type": "stream",
     "text": [
      "[ 2018-04-19 23:48:58,346][cascade_classifier.transform] X_groups_test.shape=[(10000, 3072)]\n",
      "[ 2018-04-19 23:48:58,367][cascade_classifier.transform] group_dims=[3072]\n",
      "[ 2018-04-19 23:48:58,368][cascade_classifier.transform] X_test.shape=(10000, 3072)\n",
      "[ 2018-04-19 23:48:58,460][cascade_classifier.transform] [layer=0] look_indexs=[0], X_cur_test.shape=(10000, 3072)\n"
     ]
    },
    {
     "name": "stdout",
     "output_type": "stream",
     "text": [
      "Test Accuracy of ExtraTrees = 49.490000 %\n"
     ]
    }
   ],
   "source": [
    "# predict\n",
    "y_pred = gc.predict(X_test)\n",
    "acc = accuracy_score(y_test, y_pred)\n",
    "print(\"Test Accuracy of ExtraTrees = {:.6f} %\".format(acc * 100))"
   ]
  },
  {
   "cell_type": "code",
   "execution_count": 12,
   "metadata": {},
   "outputs": [
    {
     "name": "stderr",
     "output_type": "stream",
     "text": [
      "[ 2018-04-19 23:49:05,607][cascade_classifier.transform] X_groups_test.shape=[(10000, 3072)]\n",
      "[ 2018-04-19 23:49:05,615][cascade_classifier.transform] group_dims=[3072]\n",
      "[ 2018-04-19 23:49:05,616][cascade_classifier.transform] X_test.shape=(10000, 3072)\n",
      "[ 2018-04-19 23:49:05,704][cascade_classifier.transform] [layer=0] look_indexs=[0], X_cur_test.shape=(10000, 3072)\n"
     ]
    }
   ],
   "source": [
    "# Make data + estimator\n",
    "X_test_enc = gc.transform(X_test)\n",
    "X_train_enc = X_train_enc.reshape((X_train_enc.shape[0], -1))\n",
    "X_test_enc = X_test_enc.reshape((X_test_enc.shape[0], -1))\n",
    "X_train_origin = X_train.reshape((X_train.shape[0], -1))\n",
    "X_test_origin = X_test.reshape((X_test.shape[0], -1))\n",
    "X_train_enc = np.hstack((X_train_origin, X_train_enc))\n",
    "X_test_enc = np.hstack((X_test_origin, X_test_enc))"
   ]
  },
  {
   "cell_type": "code",
   "execution_count": 13,
   "metadata": {},
   "outputs": [
    {
     "name": "stderr",
     "output_type": "stream",
     "text": [
      "[ 2018-04-19 23:49:19,303][cascade_classifier.fit_transform] X_groups_train.shape=[(50000, 3082)],y_train.shape=(50000,),X_groups_test.shape=[(10000, 3082)],y_test.shape=(10000,)\n",
      "[ 2018-04-19 23:49:19,646][cascade_classifier.fit_transform] group_dims=[3082]\n",
      "[ 2018-04-19 23:49:19,648][cascade_classifier.fit_transform] group_starts=[0]\n",
      "[ 2018-04-19 23:49:19,649][cascade_classifier.fit_transform] group_ends=[3082]\n",
      "[ 2018-04-19 23:49:19,650][cascade_classifier.fit_transform] X_train.shape=(50000, 3082),X_test.shape=(10000, 3082)\n",
      "[ 2018-04-19 23:49:20,042][cascade_classifier.fit_transform] [layer=0] look_indexs=[0], X_cur_train.shape=(50000, 3082), X_cur_test.shape=(10000, 3082)\n",
      "[ 2018-04-19 23:49:25,477][kfold_wrapper.log_eval_metrics] Accuracy(layer_0 - estimator_0 - 10_folds.train_0.predict)=47.12%\n",
      "[ 2018-04-19 23:49:31,134][kfold_wrapper.log_eval_metrics] Accuracy(layer_0 - estimator_0 - 10_folds.train_1.predict)=46.96%\n",
      "[ 2018-04-19 23:49:36,646][kfold_wrapper.log_eval_metrics] Accuracy(layer_0 - estimator_0 - 10_folds.train_2.predict)=46.88%\n",
      "[ 2018-04-19 23:49:42,170][kfold_wrapper.log_eval_metrics] Accuracy(layer_0 - estimator_0 - 10_folds.train_3.predict)=48.64%\n",
      "[ 2018-04-19 23:49:48,663][kfold_wrapper.log_eval_metrics] Accuracy(layer_0 - estimator_0 - 10_folds.train_4.predict)=46.16%\n",
      "[ 2018-04-19 23:49:54,299][kfold_wrapper.log_eval_metrics] Accuracy(layer_0 - estimator_0 - 10_folds.train_5.predict)=47.90%\n",
      "[ 2018-04-19 23:50:00,061][kfold_wrapper.log_eval_metrics] Accuracy(layer_0 - estimator_0 - 10_folds.train_6.predict)=47.26%\n",
      "[ 2018-04-19 23:50:06,240][kfold_wrapper.log_eval_metrics] Accuracy(layer_0 - estimator_0 - 10_folds.train_7.predict)=46.74%\n",
      "[ 2018-04-19 23:50:11,833][kfold_wrapper.log_eval_metrics] Accuracy(layer_0 - estimator_0 - 10_folds.train_8.predict)=47.26%\n",
      "[ 2018-04-19 23:50:17,450][kfold_wrapper.log_eval_metrics] Accuracy(layer_0 - estimator_0 - 10_folds.train_9.predict)=46.44%\n",
      "[ 2018-04-19 23:50:17,749][kfold_wrapper.log_eval_metrics] Accuracy(layer_0 - estimator_0 - 10_folds.train_cv.predict)=47.14%\n",
      "[ 2018-04-19 23:50:17,751][kfold_wrapper.log_eval_metrics] Accuracy(layer_0 - estimator_0 - 10_folds.test.predict)=49.91%\n",
      "[ 2018-04-19 23:50:17,817][cascade_classifier.calc_accuracy] Accuracy(layer_0 - train.classifier_average)=47.14%\n",
      "[ 2018-04-19 23:50:17,819][cascade_classifier.calc_accuracy] Accuracy(layer_0 - test.classifier_average)=49.91%\n",
      "[ 2018-04-19 23:50:17,820][cascade_classifier.fit_transform] [Result][Reach Max Layer] opt_layer_num=1, accuracy_train=47.14%, accuracy_test=49.91%\n"
     ]
    }
   ],
   "source": [
    "X_train=X_train_enc\n",
    "X_test=X_test_enc \n",
    "X_train_enc, X_test_enc = gc.fit_transform(X_train, y_train, X_test=X_test, y_test=y_test)"
   ]
  },
  {
   "cell_type": "code",
   "execution_count": 14,
   "metadata": {},
   "outputs": [
    {
     "name": "stdout",
     "output_type": "stream",
     "text": [
      "X_train_enc.shape=(50000, 10), X_test_enc.shape=(10000, 10)\n"
     ]
    }
   ],
   "source": [
    "print(\"X_train_enc.shape={}, X_test_enc.shape={}\".format(X_train_enc.shape, X_test_enc.shape))"
   ]
  },
  {
   "cell_type": "code",
   "execution_count": 15,
   "metadata": {},
   "outputs": [
    {
     "name": "stdout",
     "output_type": "stream",
     "text": [
      "X_train_enc.shape=(50000, 3082), X_test_enc.shape=(10000, 3082)\n"
     ]
    }
   ],
   "source": [
    "print(\"X_train_enc.shape={}, X_test_enc.shape={}\".format(X_train.shape, X_test.shape))"
   ]
  },
  {
   "cell_type": "code",
   "execution_count": 16,
   "metadata": {
    "collapsed": true
   },
   "outputs": [],
   "source": [
    "def update(X_train,X_test):\n",
    "    # update Estimators\n",
    "    for i in range(5):\n",
    "        M = np.delete(X_train, (-1), axis=1)\n",
    "        X_train= np.delete(M, (-1), axis=1)\n",
    "        M = np.delete(X_test, (-1), axis=1)\n",
    "        X_test = np.delete(M, (-1), axis=1)\n",
    "    return X_train,X_test"
   ]
  },
  {
   "cell_type": "code",
   "execution_count": 17,
   "metadata": {},
   "outputs": [
    {
     "name": "stdout",
     "output_type": "stream",
     "text": [
      "X_train_enc.shape=(50000, 3082), X_test_enc.shape=(10000, 3082)\n"
     ]
    }
   ],
   "source": [
    "print(\"X_train_enc.shape={}, X_test_enc.shape={}\".format(X_train.shape, X_test.shape))"
   ]
  },
  {
   "cell_type": "code",
   "execution_count": 18,
   "metadata": {
    "collapsed": true
   },
   "outputs": [],
   "source": [
    "def newdata(X_test_enc, X_train_enc):\n",
    "    # Make Data + Estimators\n",
    "    X_train_origin = X_train.reshape((X_train.shape[0], -1))\n",
    "    X_test_origin = X_test.reshape((X_test.shape[0], -1))\n",
    "    X_train_enc = np.hstack((X_train_origin, X_train_enc))\n",
    "    X_test_enc = np.hstack((X_test_origin, X_test_enc))\n",
    "    return X_test_enc, X_train_enc\n",
    "\n",
    "def affiche():\n",
    "    # predict\n",
    "    y_pred = gc.predict(X_test)\n",
    "    acc = accuracy_score(y_test, y_pred)\n",
    "    print(\"Test Accuracy of Extratrees = {:.6f} %\".format(acc * 100),i,'fois')"
   ]
  },
  {
   "cell_type": "code",
   "execution_count": 19,
   "metadata": {},
   "outputs": [
    {
     "name": "stderr",
     "output_type": "stream",
     "text": [
      "[ 2018-04-19 23:50:31,896][cascade_classifier.fit_transform] X_groups_train.shape=[(50000, 3082)],y_train.shape=(50000,),X_groups_test.shape=[(10000, 3082)],y_test.shape=(10000,)\n",
      "[ 2018-04-19 23:50:32,181][cascade_classifier.fit_transform] group_dims=[3082]\n",
      "[ 2018-04-19 23:50:32,183][cascade_classifier.fit_transform] group_starts=[0]\n",
      "[ 2018-04-19 23:50:32,184][cascade_classifier.fit_transform] group_ends=[3082]\n",
      "[ 2018-04-19 23:50:32,185][cascade_classifier.fit_transform] X_train.shape=(50000, 3082),X_test.shape=(10000, 3082)\n",
      "[ 2018-04-19 23:50:32,471][cascade_classifier.fit_transform] [layer=0] look_indexs=[0], X_cur_train.shape=(50000, 3082), X_cur_test.shape=(10000, 3082)\n",
      "[ 2018-04-19 23:50:37,959][kfold_wrapper.log_eval_metrics] Accuracy(layer_0 - estimator_0 - 10_folds.train_0.predict)=47.22%\n",
      "[ 2018-04-19 23:50:43,843][kfold_wrapper.log_eval_metrics] Accuracy(layer_0 - estimator_0 - 10_folds.train_1.predict)=47.60%\n",
      "[ 2018-04-19 23:50:49,827][kfold_wrapper.log_eval_metrics] Accuracy(layer_0 - estimator_0 - 10_folds.train_2.predict)=45.66%\n",
      "[ 2018-04-19 23:50:55,225][kfold_wrapper.log_eval_metrics] Accuracy(layer_0 - estimator_0 - 10_folds.train_3.predict)=48.76%\n",
      "[ 2018-04-19 23:51:01,091][kfold_wrapper.log_eval_metrics] Accuracy(layer_0 - estimator_0 - 10_folds.train_4.predict)=47.04%\n",
      "[ 2018-04-19 23:51:06,791][kfold_wrapper.log_eval_metrics] Accuracy(layer_0 - estimator_0 - 10_folds.train_5.predict)=47.92%\n",
      "[ 2018-04-19 23:51:12,563][kfold_wrapper.log_eval_metrics] Accuracy(layer_0 - estimator_0 - 10_folds.train_6.predict)=47.50%\n",
      "[ 2018-04-19 23:51:18,426][kfold_wrapper.log_eval_metrics] Accuracy(layer_0 - estimator_0 - 10_folds.train_7.predict)=46.78%\n",
      "[ 2018-04-19 23:51:24,284][kfold_wrapper.log_eval_metrics] Accuracy(layer_0 - estimator_0 - 10_folds.train_8.predict)=47.14%\n",
      "[ 2018-04-19 23:51:29,937][kfold_wrapper.log_eval_metrics] Accuracy(layer_0 - estimator_0 - 10_folds.train_9.predict)=46.56%\n",
      "[ 2018-04-19 23:51:30,221][kfold_wrapper.log_eval_metrics] Accuracy(layer_0 - estimator_0 - 10_folds.train_cv.predict)=47.22%\n",
      "[ 2018-04-19 23:51:30,224][kfold_wrapper.log_eval_metrics] Accuracy(layer_0 - estimator_0 - 10_folds.test.predict)=50.41%\n",
      "[ 2018-04-19 23:51:30,342][cascade_classifier.calc_accuracy] Accuracy(layer_0 - train.classifier_average)=47.22%\n",
      "[ 2018-04-19 23:51:30,344][cascade_classifier.calc_accuracy] Accuracy(layer_0 - test.classifier_average)=50.41%\n",
      "[ 2018-04-19 23:51:30,345][cascade_classifier.fit_transform] [Result][Reach Max Layer] opt_layer_num=1, accuracy_train=47.22%, accuracy_test=50.41%\n",
      "[ 2018-04-19 23:51:30,350][cascade_classifier.transform] X_groups_test.shape=[(10000, 3082)]\n",
      "[ 2018-04-19 23:51:30,394][cascade_classifier.transform] group_dims=[3082]\n",
      "[ 2018-04-19 23:51:30,396][cascade_classifier.transform] X_test.shape=(10000, 3082)\n",
      "[ 2018-04-19 23:51:30,431][cascade_classifier.transform] [layer=0] look_indexs=[0], X_cur_test.shape=(10000, 3082)\n"
     ]
    },
    {
     "name": "stdout",
     "output_type": "stream",
     "text": [
      "('Test Accuracy of Extratrees = 50.430000 %', 0, 'fois')\n"
     ]
    },
    {
     "name": "stderr",
     "output_type": "stream",
     "text": [
      "[ 2018-04-19 23:51:39,997][cascade_classifier.fit_transform] X_groups_train.shape=[(50000, 3082)],y_train.shape=(50000,),X_groups_test.shape=[(10000, 3082)],y_test.shape=(10000,)\n",
      "[ 2018-04-19 23:51:40,094][cascade_classifier.fit_transform] group_dims=[3082]\n",
      "[ 2018-04-19 23:51:40,096][cascade_classifier.fit_transform] group_starts=[0]\n",
      "[ 2018-04-19 23:51:40,097][cascade_classifier.fit_transform] group_ends=[3082]\n",
      "[ 2018-04-19 23:51:40,098][cascade_classifier.fit_transform] X_train.shape=(50000, 3082),X_test.shape=(10000, 3082)\n",
      "[ 2018-04-19 23:51:40,378][cascade_classifier.fit_transform] [layer=0] look_indexs=[0], X_cur_train.shape=(50000, 3082), X_cur_test.shape=(10000, 3082)\n",
      "[ 2018-04-19 23:51:45,964][kfold_wrapper.log_eval_metrics] Accuracy(layer_0 - estimator_0 - 10_folds.train_0.predict)=47.44%\n",
      "[ 2018-04-19 23:51:51,836][kfold_wrapper.log_eval_metrics] Accuracy(layer_0 - estimator_0 - 10_folds.train_1.predict)=47.46%\n",
      "[ 2018-04-19 23:51:57,382][kfold_wrapper.log_eval_metrics] Accuracy(layer_0 - estimator_0 - 10_folds.train_2.predict)=47.26%\n",
      "[ 2018-04-19 23:52:03,213][kfold_wrapper.log_eval_metrics] Accuracy(layer_0 - estimator_0 - 10_folds.train_3.predict)=47.82%\n",
      "[ 2018-04-19 23:52:08,819][kfold_wrapper.log_eval_metrics] Accuracy(layer_0 - estimator_0 - 10_folds.train_4.predict)=47.00%\n",
      "[ 2018-04-19 23:52:14,304][kfold_wrapper.log_eval_metrics] Accuracy(layer_0 - estimator_0 - 10_folds.train_5.predict)=47.92%\n",
      "[ 2018-04-19 23:52:20,046][kfold_wrapper.log_eval_metrics] Accuracy(layer_0 - estimator_0 - 10_folds.train_6.predict)=46.50%\n",
      "[ 2018-04-19 23:52:25,871][kfold_wrapper.log_eval_metrics] Accuracy(layer_0 - estimator_0 - 10_folds.train_7.predict)=47.46%\n",
      "[ 2018-04-19 23:52:31,750][kfold_wrapper.log_eval_metrics] Accuracy(layer_0 - estimator_0 - 10_folds.train_8.predict)=47.46%\n",
      "[ 2018-04-19 23:52:37,574][kfold_wrapper.log_eval_metrics] Accuracy(layer_0 - estimator_0 - 10_folds.train_9.predict)=47.02%\n",
      "[ 2018-04-19 23:52:37,853][kfold_wrapper.log_eval_metrics] Accuracy(layer_0 - estimator_0 - 10_folds.train_cv.predict)=47.33%\n",
      "[ 2018-04-19 23:52:37,855][kfold_wrapper.log_eval_metrics] Accuracy(layer_0 - estimator_0 - 10_folds.test.predict)=50.58%\n",
      "[ 2018-04-19 23:52:37,937][cascade_classifier.calc_accuracy] Accuracy(layer_0 - train.classifier_average)=47.33%\n",
      "[ 2018-04-19 23:52:37,939][cascade_classifier.calc_accuracy] Accuracy(layer_0 - test.classifier_average)=50.58%\n",
      "[ 2018-04-19 23:52:37,940][cascade_classifier.fit_transform] [Result][Reach Max Layer] opt_layer_num=1, accuracy_train=47.33%, accuracy_test=50.58%\n",
      "[ 2018-04-19 23:52:37,943][cascade_classifier.transform] X_groups_test.shape=[(10000, 3082)]\n",
      "[ 2018-04-19 23:52:37,979][cascade_classifier.transform] group_dims=[3082]\n",
      "[ 2018-04-19 23:52:37,981][cascade_classifier.transform] X_test.shape=(10000, 3082)\n",
      "[ 2018-04-19 23:52:37,999][cascade_classifier.transform] [layer=0] look_indexs=[0], X_cur_test.shape=(10000, 3082)\n"
     ]
    },
    {
     "name": "stdout",
     "output_type": "stream",
     "text": [
      "('Test Accuracy of Extratrees = 50.580000 %', 1, 'fois')\n"
     ]
    },
    {
     "name": "stderr",
     "output_type": "stream",
     "text": [
      "[ 2018-04-19 23:52:47,518][cascade_classifier.fit_transform] X_groups_train.shape=[(50000, 3082)],y_train.shape=(50000,),X_groups_test.shape=[(10000, 3082)],y_test.shape=(10000,)\n",
      "[ 2018-04-19 23:52:47,784][cascade_classifier.fit_transform] group_dims=[3082]\n",
      "[ 2018-04-19 23:52:47,786][cascade_classifier.fit_transform] group_starts=[0]\n",
      "[ 2018-04-19 23:52:47,787][cascade_classifier.fit_transform] group_ends=[3082]\n",
      "[ 2018-04-19 23:52:47,788][cascade_classifier.fit_transform] X_train.shape=(50000, 3082),X_test.shape=(10000, 3082)\n",
      "[ 2018-04-19 23:52:48,059][cascade_classifier.fit_transform] [layer=0] look_indexs=[0], X_cur_train.shape=(50000, 3082), X_cur_test.shape=(10000, 3082)\n",
      "[ 2018-04-19 23:52:53,657][kfold_wrapper.log_eval_metrics] Accuracy(layer_0 - estimator_0 - 10_folds.train_0.predict)=47.40%\n",
      "[ 2018-04-19 23:52:58,988][kfold_wrapper.log_eval_metrics] Accuracy(layer_0 - estimator_0 - 10_folds.train_1.predict)=47.48%\n",
      "[ 2018-04-19 23:53:04,729][kfold_wrapper.log_eval_metrics] Accuracy(layer_0 - estimator_0 - 10_folds.train_2.predict)=46.74%\n",
      "[ 2018-04-19 23:53:10,269][kfold_wrapper.log_eval_metrics] Accuracy(layer_0 - estimator_0 - 10_folds.train_3.predict)=47.96%\n",
      "[ 2018-04-19 23:53:16,215][kfold_wrapper.log_eval_metrics] Accuracy(layer_0 - estimator_0 - 10_folds.train_4.predict)=47.18%\n",
      "[ 2018-04-19 23:53:22,079][kfold_wrapper.log_eval_metrics] Accuracy(layer_0 - estimator_0 - 10_folds.train_5.predict)=47.98%\n",
      "[ 2018-04-19 23:53:27,711][kfold_wrapper.log_eval_metrics] Accuracy(layer_0 - estimator_0 - 10_folds.train_6.predict)=46.98%\n",
      "[ 2018-04-19 23:53:33,455][kfold_wrapper.log_eval_metrics] Accuracy(layer_0 - estimator_0 - 10_folds.train_7.predict)=47.62%\n",
      "[ 2018-04-19 23:53:39,293][kfold_wrapper.log_eval_metrics] Accuracy(layer_0 - estimator_0 - 10_folds.train_8.predict)=46.78%\n",
      "[ 2018-04-19 23:53:44,894][kfold_wrapper.log_eval_metrics] Accuracy(layer_0 - estimator_0 - 10_folds.train_9.predict)=47.42%\n",
      "[ 2018-04-19 23:53:45,184][kfold_wrapper.log_eval_metrics] Accuracy(layer_0 - estimator_0 - 10_folds.train_cv.predict)=47.35%\n",
      "[ 2018-04-19 23:53:45,187][kfold_wrapper.log_eval_metrics] Accuracy(layer_0 - estimator_0 - 10_folds.test.predict)=50.23%\n",
      "[ 2018-04-19 23:53:45,263][cascade_classifier.calc_accuracy] Accuracy(layer_0 - train.classifier_average)=47.35%\n",
      "[ 2018-04-19 23:53:45,265][cascade_classifier.calc_accuracy] Accuracy(layer_0 - test.classifier_average)=50.23%\n",
      "[ 2018-04-19 23:53:45,266][cascade_classifier.fit_transform] [Result][Reach Max Layer] opt_layer_num=1, accuracy_train=47.35%, accuracy_test=50.23%\n",
      "[ 2018-04-19 23:53:45,271][cascade_classifier.transform] X_groups_test.shape=[(10000, 3082)]\n",
      "[ 2018-04-19 23:53:45,308][cascade_classifier.transform] group_dims=[3082]\n",
      "[ 2018-04-19 23:53:45,310][cascade_classifier.transform] X_test.shape=(10000, 3082)\n",
      "[ 2018-04-19 23:53:45,328][cascade_classifier.transform] [layer=0] look_indexs=[0], X_cur_test.shape=(10000, 3082)\n"
     ]
    },
    {
     "name": "stdout",
     "output_type": "stream",
     "text": [
      "('Test Accuracy of Extratrees = 50.220000 %', 2, 'fois')\n"
     ]
    },
    {
     "name": "stderr",
     "output_type": "stream",
     "text": [
      "[ 2018-04-19 23:53:54,374][cascade_classifier.fit_transform] X_groups_train.shape=[(50000, 3082)],y_train.shape=(50000,),X_groups_test.shape=[(10000, 3082)],y_test.shape=(10000,)\n",
      "[ 2018-04-19 23:53:54,590][cascade_classifier.fit_transform] group_dims=[3082]\n",
      "[ 2018-04-19 23:53:54,591][cascade_classifier.fit_transform] group_starts=[0]\n",
      "[ 2018-04-19 23:53:54,592][cascade_classifier.fit_transform] group_ends=[3082]\n",
      "[ 2018-04-19 23:53:54,593][cascade_classifier.fit_transform] X_train.shape=(50000, 3082),X_test.shape=(10000, 3082)\n",
      "[ 2018-04-19 23:53:54,856][cascade_classifier.fit_transform] [layer=0] look_indexs=[0], X_cur_train.shape=(50000, 3082), X_cur_test.shape=(10000, 3082)\n",
      "[ 2018-04-19 23:54:00,439][kfold_wrapper.log_eval_metrics] Accuracy(layer_0 - estimator_0 - 10_folds.train_0.predict)=48.12%\n",
      "[ 2018-04-19 23:54:06,332][kfold_wrapper.log_eval_metrics] Accuracy(layer_0 - estimator_0 - 10_folds.train_1.predict)=47.88%\n",
      "[ 2018-04-19 23:54:12,197][kfold_wrapper.log_eval_metrics] Accuracy(layer_0 - estimator_0 - 10_folds.train_2.predict)=47.56%\n",
      "[ 2018-04-19 23:54:18,054][kfold_wrapper.log_eval_metrics] Accuracy(layer_0 - estimator_0 - 10_folds.train_3.predict)=47.66%\n",
      "[ 2018-04-19 23:54:23,699][kfold_wrapper.log_eval_metrics] Accuracy(layer_0 - estimator_0 - 10_folds.train_4.predict)=47.12%\n",
      "[ 2018-04-19 23:54:29,521][kfold_wrapper.log_eval_metrics] Accuracy(layer_0 - estimator_0 - 10_folds.train_5.predict)=47.90%\n",
      "[ 2018-04-19 23:54:35,199][kfold_wrapper.log_eval_metrics] Accuracy(layer_0 - estimator_0 - 10_folds.train_6.predict)=47.08%\n",
      "[ 2018-04-19 23:54:41,164][kfold_wrapper.log_eval_metrics] Accuracy(layer_0 - estimator_0 - 10_folds.train_7.predict)=47.22%\n",
      "[ 2018-04-19 23:54:46,925][kfold_wrapper.log_eval_metrics] Accuracy(layer_0 - estimator_0 - 10_folds.train_8.predict)=47.10%\n",
      "[ 2018-04-19 23:54:52,704][kfold_wrapper.log_eval_metrics] Accuracy(layer_0 - estimator_0 - 10_folds.train_9.predict)=46.76%\n",
      "[ 2018-04-19 23:54:53,131][kfold_wrapper.log_eval_metrics] Accuracy(layer_0 - estimator_0 - 10_folds.train_cv.predict)=47.44%\n",
      "[ 2018-04-19 23:54:53,133][kfold_wrapper.log_eval_metrics] Accuracy(layer_0 - estimator_0 - 10_folds.test.predict)=50.92%\n",
      "[ 2018-04-19 23:54:53,194][cascade_classifier.calc_accuracy] Accuracy(layer_0 - train.classifier_average)=47.44%\n",
      "[ 2018-04-19 23:54:53,196][cascade_classifier.calc_accuracy] Accuracy(layer_0 - test.classifier_average)=50.92%\n",
      "[ 2018-04-19 23:54:53,198][cascade_classifier.fit_transform] [Result][Reach Max Layer] opt_layer_num=1, accuracy_train=47.44%, accuracy_test=50.92%\n",
      "[ 2018-04-19 23:54:53,204][cascade_classifier.transform] X_groups_test.shape=[(10000, 3082)]\n",
      "[ 2018-04-19 23:54:53,249][cascade_classifier.transform] group_dims=[3082]\n",
      "[ 2018-04-19 23:54:53,250][cascade_classifier.transform] X_test.shape=(10000, 3082)\n",
      "[ 2018-04-19 23:54:53,277][cascade_classifier.transform] [layer=0] look_indexs=[0], X_cur_test.shape=(10000, 3082)\n"
     ]
    },
    {
     "name": "stdout",
     "output_type": "stream",
     "text": [
      "('Test Accuracy of Extratrees = 50.910000 %', 3, 'fois')\n"
     ]
    },
    {
     "name": "stderr",
     "output_type": "stream",
     "text": [
      "[ 2018-04-19 23:55:01,895][cascade_classifier.fit_transform] X_groups_train.shape=[(50000, 3082)],y_train.shape=(50000,),X_groups_test.shape=[(10000, 3082)],y_test.shape=(10000,)\n",
      "[ 2018-04-19 23:55:02,008][cascade_classifier.fit_transform] group_dims=[3082]\n",
      "[ 2018-04-19 23:55:02,010][cascade_classifier.fit_transform] group_starts=[0]\n",
      "[ 2018-04-19 23:55:02,011][cascade_classifier.fit_transform] group_ends=[3082]\n",
      "[ 2018-04-19 23:55:02,012][cascade_classifier.fit_transform] X_train.shape=(50000, 3082),X_test.shape=(10000, 3082)\n",
      "[ 2018-04-19 23:55:02,279][cascade_classifier.fit_transform] [layer=0] look_indexs=[0], X_cur_train.shape=(50000, 3082), X_cur_test.shape=(10000, 3082)\n",
      "[ 2018-04-19 23:55:07,670][kfold_wrapper.log_eval_metrics] Accuracy(layer_0 - estimator_0 - 10_folds.train_0.predict)=47.24%\n",
      "[ 2018-04-19 23:55:13,292][kfold_wrapper.log_eval_metrics] Accuracy(layer_0 - estimator_0 - 10_folds.train_1.predict)=46.98%\n",
      "[ 2018-04-19 23:55:19,014][kfold_wrapper.log_eval_metrics] Accuracy(layer_0 - estimator_0 - 10_folds.train_2.predict)=47.18%\n",
      "[ 2018-04-19 23:55:24,801][kfold_wrapper.log_eval_metrics] Accuracy(layer_0 - estimator_0 - 10_folds.train_3.predict)=47.86%\n",
      "[ 2018-04-19 23:55:30,700][kfold_wrapper.log_eval_metrics] Accuracy(layer_0 - estimator_0 - 10_folds.train_4.predict)=46.98%\n",
      "[ 2018-04-19 23:55:36,450][kfold_wrapper.log_eval_metrics] Accuracy(layer_0 - estimator_0 - 10_folds.train_5.predict)=47.32%\n",
      "[ 2018-04-19 23:55:42,032][kfold_wrapper.log_eval_metrics] Accuracy(layer_0 - estimator_0 - 10_folds.train_6.predict)=46.88%\n",
      "[ 2018-04-19 23:55:47,643][kfold_wrapper.log_eval_metrics] Accuracy(layer_0 - estimator_0 - 10_folds.train_7.predict)=47.14%\n",
      "[ 2018-04-19 23:55:53,075][kfold_wrapper.log_eval_metrics] Accuracy(layer_0 - estimator_0 - 10_folds.train_8.predict)=47.04%\n",
      "[ 2018-04-19 23:55:58,884][kfold_wrapper.log_eval_metrics] Accuracy(layer_0 - estimator_0 - 10_folds.train_9.predict)=46.98%\n",
      "[ 2018-04-19 23:55:59,309][kfold_wrapper.log_eval_metrics] Accuracy(layer_0 - estimator_0 - 10_folds.train_cv.predict)=47.16%\n",
      "[ 2018-04-19 23:55:59,312][kfold_wrapper.log_eval_metrics] Accuracy(layer_0 - estimator_0 - 10_folds.test.predict)=50.37%\n",
      "[ 2018-04-19 23:55:59,388][cascade_classifier.calc_accuracy] Accuracy(layer_0 - train.classifier_average)=47.16%\n",
      "[ 2018-04-19 23:55:59,390][cascade_classifier.calc_accuracy] Accuracy(layer_0 - test.classifier_average)=50.37%\n",
      "[ 2018-04-19 23:55:59,391][cascade_classifier.fit_transform] [Result][Reach Max Layer] opt_layer_num=1, accuracy_train=47.16%, accuracy_test=50.37%\n",
      "[ 2018-04-19 23:55:59,394][cascade_classifier.transform] X_groups_test.shape=[(10000, 3082)]\n",
      "[ 2018-04-19 23:55:59,433][cascade_classifier.transform] group_dims=[3082]\n",
      "[ 2018-04-19 23:55:59,435][cascade_classifier.transform] X_test.shape=(10000, 3082)\n",
      "[ 2018-04-19 23:55:59,462][cascade_classifier.transform] [layer=0] look_indexs=[0], X_cur_test.shape=(10000, 3082)\n"
     ]
    },
    {
     "name": "stdout",
     "output_type": "stream",
     "text": [
      "('Test Accuracy of Extratrees = 50.340000 %', 4, 'fois')\n"
     ]
    },
    {
     "name": "stderr",
     "output_type": "stream",
     "text": [
      "[ 2018-04-19 23:56:07,311][cascade_classifier.fit_transform] X_groups_train.shape=[(50000, 3082)],y_train.shape=(50000,),X_groups_test.shape=[(10000, 3082)],y_test.shape=(10000,)\n",
      "[ 2018-04-19 23:56:07,429][cascade_classifier.fit_transform] group_dims=[3082]\n",
      "[ 2018-04-19 23:56:07,431][cascade_classifier.fit_transform] group_starts=[0]\n",
      "[ 2018-04-19 23:56:07,432][cascade_classifier.fit_transform] group_ends=[3082]\n",
      "[ 2018-04-19 23:56:07,433][cascade_classifier.fit_transform] X_train.shape=(50000, 3082),X_test.shape=(10000, 3082)\n",
      "[ 2018-04-19 23:56:07,702][cascade_classifier.fit_transform] [layer=0] look_indexs=[0], X_cur_train.shape=(50000, 3082), X_cur_test.shape=(10000, 3082)\n",
      "[ 2018-04-19 23:56:13,177][kfold_wrapper.log_eval_metrics] Accuracy(layer_0 - estimator_0 - 10_folds.train_0.predict)=46.70%\n",
      "[ 2018-04-19 23:56:18,891][kfold_wrapper.log_eval_metrics] Accuracy(layer_0 - estimator_0 - 10_folds.train_1.predict)=47.04%\n",
      "[ 2018-04-19 23:56:24,416][kfold_wrapper.log_eval_metrics] Accuracy(layer_0 - estimator_0 - 10_folds.train_2.predict)=46.66%\n",
      "[ 2018-04-19 23:56:30,139][kfold_wrapper.log_eval_metrics] Accuracy(layer_0 - estimator_0 - 10_folds.train_3.predict)=47.46%\n",
      "[ 2018-04-19 23:56:35,702][kfold_wrapper.log_eval_metrics] Accuracy(layer_0 - estimator_0 - 10_folds.train_4.predict)=47.10%\n",
      "[ 2018-04-19 23:56:41,550][kfold_wrapper.log_eval_metrics] Accuracy(layer_0 - estimator_0 - 10_folds.train_5.predict)=47.60%\n",
      "[ 2018-04-19 23:56:47,063][kfold_wrapper.log_eval_metrics] Accuracy(layer_0 - estimator_0 - 10_folds.train_6.predict)=47.04%\n",
      "[ 2018-04-19 23:56:52,681][kfold_wrapper.log_eval_metrics] Accuracy(layer_0 - estimator_0 - 10_folds.train_7.predict)=46.38%\n",
      "[ 2018-04-19 23:56:58,309][kfold_wrapper.log_eval_metrics] Accuracy(layer_0 - estimator_0 - 10_folds.train_8.predict)=47.80%\n",
      "[ 2018-04-19 23:57:03,802][kfold_wrapper.log_eval_metrics] Accuracy(layer_0 - estimator_0 - 10_folds.train_9.predict)=47.52%\n",
      "[ 2018-04-19 23:57:04,118][kfold_wrapper.log_eval_metrics] Accuracy(layer_0 - estimator_0 - 10_folds.train_cv.predict)=47.13%\n",
      "[ 2018-04-19 23:57:04,120][kfold_wrapper.log_eval_metrics] Accuracy(layer_0 - estimator_0 - 10_folds.test.predict)=50.49%\n",
      "[ 2018-04-19 23:57:04,186][cascade_classifier.calc_accuracy] Accuracy(layer_0 - train.classifier_average)=47.13%\n",
      "[ 2018-04-19 23:57:04,188][cascade_classifier.calc_accuracy] Accuracy(layer_0 - test.classifier_average)=50.49%\n",
      "[ 2018-04-19 23:57:04,190][cascade_classifier.fit_transform] [Result][Reach Max Layer] opt_layer_num=1, accuracy_train=47.13%, accuracy_test=50.49%\n",
      "[ 2018-04-19 23:57:04,193][cascade_classifier.transform] X_groups_test.shape=[(10000, 3082)]\n",
      "[ 2018-04-19 23:57:04,227][cascade_classifier.transform] group_dims=[3082]\n",
      "[ 2018-04-19 23:57:04,228][cascade_classifier.transform] X_test.shape=(10000, 3082)\n",
      "[ 2018-04-19 23:57:04,258][cascade_classifier.transform] [layer=0] look_indexs=[0], X_cur_test.shape=(10000, 3082)\n"
     ]
    },
    {
     "name": "stdout",
     "output_type": "stream",
     "text": [
      "('Test Accuracy of Extratrees = 50.510000 %', 5, 'fois')\n"
     ]
    },
    {
     "name": "stderr",
     "output_type": "stream",
     "text": [
      "[ 2018-04-19 23:57:12,031][cascade_classifier.fit_transform] X_groups_train.shape=[(50000, 3082)],y_train.shape=(50000,),X_groups_test.shape=[(10000, 3082)],y_test.shape=(10000,)\n",
      "[ 2018-04-19 23:57:12,132][cascade_classifier.fit_transform] group_dims=[3082]\n",
      "[ 2018-04-19 23:57:12,134][cascade_classifier.fit_transform] group_starts=[0]\n",
      "[ 2018-04-19 23:57:12,135][cascade_classifier.fit_transform] group_ends=[3082]\n",
      "[ 2018-04-19 23:57:12,136][cascade_classifier.fit_transform] X_train.shape=(50000, 3082),X_test.shape=(10000, 3082)\n",
      "[ 2018-04-19 23:57:12,393][cascade_classifier.fit_transform] [layer=0] look_indexs=[0], X_cur_train.shape=(50000, 3082), X_cur_test.shape=(10000, 3082)\n",
      "[ 2018-04-19 23:57:17,612][kfold_wrapper.log_eval_metrics] Accuracy(layer_0 - estimator_0 - 10_folds.train_0.predict)=47.56%\n",
      "[ 2018-04-19 23:57:23,560][kfold_wrapper.log_eval_metrics] Accuracy(layer_0 - estimator_0 - 10_folds.train_1.predict)=47.62%\n",
      "[ 2018-04-19 23:57:29,261][kfold_wrapper.log_eval_metrics] Accuracy(layer_0 - estimator_0 - 10_folds.train_2.predict)=47.64%\n",
      "[ 2018-04-19 23:57:34,856][kfold_wrapper.log_eval_metrics] Accuracy(layer_0 - estimator_0 - 10_folds.train_3.predict)=48.42%\n",
      "[ 2018-04-19 23:57:40,642][kfold_wrapper.log_eval_metrics] Accuracy(layer_0 - estimator_0 - 10_folds.train_4.predict)=46.54%\n",
      "[ 2018-04-19 23:57:46,091][kfold_wrapper.log_eval_metrics] Accuracy(layer_0 - estimator_0 - 10_folds.train_5.predict)=48.54%\n",
      "[ 2018-04-19 23:57:51,714][kfold_wrapper.log_eval_metrics] Accuracy(layer_0 - estimator_0 - 10_folds.train_6.predict)=46.54%\n",
      "[ 2018-04-19 23:57:57,384][kfold_wrapper.log_eval_metrics] Accuracy(layer_0 - estimator_0 - 10_folds.train_7.predict)=46.86%\n",
      "[ 2018-04-19 23:58:03,026][kfold_wrapper.log_eval_metrics] Accuracy(layer_0 - estimator_0 - 10_folds.train_8.predict)=47.46%\n",
      "[ 2018-04-19 23:58:08,791][kfold_wrapper.log_eval_metrics] Accuracy(layer_0 - estimator_0 - 10_folds.train_9.predict)=46.36%\n",
      "[ 2018-04-19 23:58:09,108][kfold_wrapper.log_eval_metrics] Accuracy(layer_0 - estimator_0 - 10_folds.train_cv.predict)=47.35%\n",
      "[ 2018-04-19 23:58:09,110][kfold_wrapper.log_eval_metrics] Accuracy(layer_0 - estimator_0 - 10_folds.test.predict)=50.33%\n",
      "[ 2018-04-19 23:58:09,193][cascade_classifier.calc_accuracy] Accuracy(layer_0 - train.classifier_average)=47.35%\n",
      "[ 2018-04-19 23:58:09,196][cascade_classifier.calc_accuracy] Accuracy(layer_0 - test.classifier_average)=50.33%\n",
      "[ 2018-04-19 23:58:09,197][cascade_classifier.fit_transform] [Result][Reach Max Layer] opt_layer_num=1, accuracy_train=47.35%, accuracy_test=50.33%\n",
      "[ 2018-04-19 23:58:09,200][cascade_classifier.transform] X_groups_test.shape=[(10000, 3082)]\n",
      "[ 2018-04-19 23:58:09,241][cascade_classifier.transform] group_dims=[3082]\n",
      "[ 2018-04-19 23:58:09,242][cascade_classifier.transform] X_test.shape=(10000, 3082)\n",
      "[ 2018-04-19 23:58:09,265][cascade_classifier.transform] [layer=0] look_indexs=[0], X_cur_test.shape=(10000, 3082)\n"
     ]
    },
    {
     "name": "stdout",
     "output_type": "stream",
     "text": [
      "('Test Accuracy of Extratrees = 50.350000 %', 6, 'fois')\n"
     ]
    },
    {
     "name": "stderr",
     "output_type": "stream",
     "text": [
      "[ 2018-04-19 23:58:18,372][cascade_classifier.fit_transform] X_groups_train.shape=[(50000, 3082)],y_train.shape=(50000,),X_groups_test.shape=[(10000, 3082)],y_test.shape=(10000,)\n",
      "[ 2018-04-19 23:58:18,513][cascade_classifier.fit_transform] group_dims=[3082]\n",
      "[ 2018-04-19 23:58:18,515][cascade_classifier.fit_transform] group_starts=[0]\n",
      "[ 2018-04-19 23:58:18,516][cascade_classifier.fit_transform] group_ends=[3082]\n",
      "[ 2018-04-19 23:58:18,517][cascade_classifier.fit_transform] X_train.shape=(50000, 3082),X_test.shape=(10000, 3082)\n",
      "[ 2018-04-19 23:58:18,785][cascade_classifier.fit_transform] [layer=0] look_indexs=[0], X_cur_train.shape=(50000, 3082), X_cur_test.shape=(10000, 3082)\n",
      "[ 2018-04-19 23:58:24,179][kfold_wrapper.log_eval_metrics] Accuracy(layer_0 - estimator_0 - 10_folds.train_0.predict)=46.82%\n",
      "[ 2018-04-19 23:58:29,747][kfold_wrapper.log_eval_metrics] Accuracy(layer_0 - estimator_0 - 10_folds.train_1.predict)=46.62%\n",
      "[ 2018-04-19 23:58:35,339][kfold_wrapper.log_eval_metrics] Accuracy(layer_0 - estimator_0 - 10_folds.train_2.predict)=47.50%\n",
      "[ 2018-04-19 23:58:40,965][kfold_wrapper.log_eval_metrics] Accuracy(layer_0 - estimator_0 - 10_folds.train_3.predict)=47.86%\n",
      "[ 2018-04-19 23:58:46,547][kfold_wrapper.log_eval_metrics] Accuracy(layer_0 - estimator_0 - 10_folds.train_4.predict)=46.64%\n",
      "[ 2018-04-19 23:58:52,310][kfold_wrapper.log_eval_metrics] Accuracy(layer_0 - estimator_0 - 10_folds.train_5.predict)=47.48%\n",
      "[ 2018-04-19 23:58:57,993][kfold_wrapper.log_eval_metrics] Accuracy(layer_0 - estimator_0 - 10_folds.train_6.predict)=46.42%\n",
      "[ 2018-04-19 23:59:03,713][kfold_wrapper.log_eval_metrics] Accuracy(layer_0 - estimator_0 - 10_folds.train_7.predict)=46.82%\n",
      "[ 2018-04-19 23:59:09,314][kfold_wrapper.log_eval_metrics] Accuracy(layer_0 - estimator_0 - 10_folds.train_8.predict)=47.32%\n",
      "[ 2018-04-19 23:59:14,991][kfold_wrapper.log_eval_metrics] Accuracy(layer_0 - estimator_0 - 10_folds.train_9.predict)=46.80%\n",
      "[ 2018-04-19 23:59:15,377][kfold_wrapper.log_eval_metrics] Accuracy(layer_0 - estimator_0 - 10_folds.train_cv.predict)=47.03%\n",
      "[ 2018-04-19 23:59:15,379][kfold_wrapper.log_eval_metrics] Accuracy(layer_0 - estimator_0 - 10_folds.test.predict)=50.25%\n",
      "[ 2018-04-19 23:59:15,429][cascade_classifier.calc_accuracy] Accuracy(layer_0 - train.classifier_average)=47.03%\n",
      "[ 2018-04-19 23:59:15,433][cascade_classifier.calc_accuracy] Accuracy(layer_0 - test.classifier_average)=50.25%\n",
      "[ 2018-04-19 23:59:15,434][cascade_classifier.fit_transform] [Result][Reach Max Layer] opt_layer_num=1, accuracy_train=47.03%, accuracy_test=50.25%\n",
      "[ 2018-04-19 23:59:15,437][cascade_classifier.transform] X_groups_test.shape=[(10000, 3082)]\n",
      "[ 2018-04-19 23:59:15,472][cascade_classifier.transform] group_dims=[3082]\n",
      "[ 2018-04-19 23:59:15,473][cascade_classifier.transform] X_test.shape=(10000, 3082)\n",
      "[ 2018-04-19 23:59:15,491][cascade_classifier.transform] [layer=0] look_indexs=[0], X_cur_test.shape=(10000, 3082)\n"
     ]
    },
    {
     "name": "stdout",
     "output_type": "stream",
     "text": [
      "('Test Accuracy of Extratrees = 50.290000 %', 7, 'fois')\n"
     ]
    },
    {
     "name": "stderr",
     "output_type": "stream",
     "text": [
      "[ 2018-04-19 23:59:23,274][cascade_classifier.fit_transform] X_groups_train.shape=[(50000, 3082)],y_train.shape=(50000,),X_groups_test.shape=[(10000, 3082)],y_test.shape=(10000,)\n",
      "[ 2018-04-19 23:59:23,374][cascade_classifier.fit_transform] group_dims=[3082]\n",
      "[ 2018-04-19 23:59:23,376][cascade_classifier.fit_transform] group_starts=[0]\n",
      "[ 2018-04-19 23:59:23,377][cascade_classifier.fit_transform] group_ends=[3082]\n",
      "[ 2018-04-19 23:59:23,378][cascade_classifier.fit_transform] X_train.shape=(50000, 3082),X_test.shape=(10000, 3082)\n",
      "[ 2018-04-19 23:59:23,635][cascade_classifier.fit_transform] [layer=0] look_indexs=[0], X_cur_train.shape=(50000, 3082), X_cur_test.shape=(10000, 3082)\n",
      "[ 2018-04-19 23:59:29,012][kfold_wrapper.log_eval_metrics] Accuracy(layer_0 - estimator_0 - 10_folds.train_0.predict)=47.82%\n",
      "[ 2018-04-19 23:59:34,890][kfold_wrapper.log_eval_metrics] Accuracy(layer_0 - estimator_0 - 10_folds.train_1.predict)=46.88%\n",
      "[ 2018-04-19 23:59:40,569][kfold_wrapper.log_eval_metrics] Accuracy(layer_0 - estimator_0 - 10_folds.train_2.predict)=47.30%\n",
      "[ 2018-04-19 23:59:46,332][kfold_wrapper.log_eval_metrics] Accuracy(layer_0 - estimator_0 - 10_folds.train_3.predict)=47.94%\n",
      "[ 2018-04-19 23:59:51,839][kfold_wrapper.log_eval_metrics] Accuracy(layer_0 - estimator_0 - 10_folds.train_4.predict)=47.20%\n",
      "[ 2018-04-19 23:59:57,755][kfold_wrapper.log_eval_metrics] Accuracy(layer_0 - estimator_0 - 10_folds.train_5.predict)=47.60%\n",
      "[ 2018-04-20 00:00:03,582][kfold_wrapper.log_eval_metrics] Accuracy(layer_0 - estimator_0 - 10_folds.train_6.predict)=46.70%\n",
      "[ 2018-04-20 00:00:09,503][kfold_wrapper.log_eval_metrics] Accuracy(layer_0 - estimator_0 - 10_folds.train_7.predict)=47.06%\n",
      "[ 2018-04-20 00:00:15,046][kfold_wrapper.log_eval_metrics] Accuracy(layer_0 - estimator_0 - 10_folds.train_8.predict)=47.20%\n",
      "[ 2018-04-20 00:00:20,634][kfold_wrapper.log_eval_metrics] Accuracy(layer_0 - estimator_0 - 10_folds.train_9.predict)=47.42%\n",
      "[ 2018-04-20 00:00:21,073][kfold_wrapper.log_eval_metrics] Accuracy(layer_0 - estimator_0 - 10_folds.train_cv.predict)=47.31%\n",
      "[ 2018-04-20 00:00:21,075][kfold_wrapper.log_eval_metrics] Accuracy(layer_0 - estimator_0 - 10_folds.test.predict)=50.66%\n",
      "[ 2018-04-20 00:00:21,133][cascade_classifier.calc_accuracy] Accuracy(layer_0 - train.classifier_average)=47.31%\n",
      "[ 2018-04-20 00:00:21,135][cascade_classifier.calc_accuracy] Accuracy(layer_0 - test.classifier_average)=50.66%\n",
      "[ 2018-04-20 00:00:21,136][cascade_classifier.fit_transform] [Result][Reach Max Layer] opt_layer_num=1, accuracy_train=47.31%, accuracy_test=50.66%\n",
      "[ 2018-04-20 00:00:21,140][cascade_classifier.transform] X_groups_test.shape=[(10000, 3082)]\n",
      "[ 2018-04-20 00:00:21,180][cascade_classifier.transform] group_dims=[3082]\n",
      "[ 2018-04-20 00:00:21,181][cascade_classifier.transform] X_test.shape=(10000, 3082)\n",
      "[ 2018-04-20 00:00:21,199][cascade_classifier.transform] [layer=0] look_indexs=[0], X_cur_test.shape=(10000, 3082)\n"
     ]
    },
    {
     "name": "stdout",
     "output_type": "stream",
     "text": [
      "('Test Accuracy of Extratrees = 50.630000 %', 8, 'fois')\n"
     ]
    },
    {
     "name": "stderr",
     "output_type": "stream",
     "text": [
      "[ 2018-04-20 00:00:30,066][cascade_classifier.fit_transform] X_groups_train.shape=[(50000, 3082)],y_train.shape=(50000,),X_groups_test.shape=[(10000, 3082)],y_test.shape=(10000,)\n",
      "[ 2018-04-20 00:00:30,165][cascade_classifier.fit_transform] group_dims=[3082]\n",
      "[ 2018-04-20 00:00:30,166][cascade_classifier.fit_transform] group_starts=[0]\n",
      "[ 2018-04-20 00:00:30,168][cascade_classifier.fit_transform] group_ends=[3082]\n",
      "[ 2018-04-20 00:00:30,169][cascade_classifier.fit_transform] X_train.shape=(50000, 3082),X_test.shape=(10000, 3082)\n",
      "[ 2018-04-20 00:00:30,430][cascade_classifier.fit_transform] [layer=0] look_indexs=[0], X_cur_train.shape=(50000, 3082), X_cur_test.shape=(10000, 3082)\n",
      "[ 2018-04-20 00:00:35,787][kfold_wrapper.log_eval_metrics] Accuracy(layer_0 - estimator_0 - 10_folds.train_0.predict)=47.40%\n",
      "[ 2018-04-20 00:00:41,421][kfold_wrapper.log_eval_metrics] Accuracy(layer_0 - estimator_0 - 10_folds.train_1.predict)=46.64%\n",
      "[ 2018-04-20 00:00:47,363][kfold_wrapper.log_eval_metrics] Accuracy(layer_0 - estimator_0 - 10_folds.train_2.predict)=47.72%\n",
      "[ 2018-04-20 00:00:53,124][kfold_wrapper.log_eval_metrics] Accuracy(layer_0 - estimator_0 - 10_folds.train_3.predict)=48.36%\n",
      "[ 2018-04-20 00:00:58,835][kfold_wrapper.log_eval_metrics] Accuracy(layer_0 - estimator_0 - 10_folds.train_4.predict)=47.12%\n",
      "[ 2018-04-20 00:01:04,332][kfold_wrapper.log_eval_metrics] Accuracy(layer_0 - estimator_0 - 10_folds.train_5.predict)=47.86%\n",
      "[ 2018-04-20 00:01:09,203][kfold_wrapper.log_eval_metrics] Accuracy(layer_0 - estimator_0 - 10_folds.train_6.predict)=46.00%\n",
      "[ 2018-04-20 00:01:15,026][kfold_wrapper.log_eval_metrics] Accuracy(layer_0 - estimator_0 - 10_folds.train_7.predict)=46.64%\n",
      "[ 2018-04-20 00:01:20,767][kfold_wrapper.log_eval_metrics] Accuracy(layer_0 - estimator_0 - 10_folds.train_8.predict)=47.68%\n",
      "[ 2018-04-20 00:01:26,587][kfold_wrapper.log_eval_metrics] Accuracy(layer_0 - estimator_0 - 10_folds.train_9.predict)=46.46%\n",
      "[ 2018-04-20 00:01:27,008][kfold_wrapper.log_eval_metrics] Accuracy(layer_0 - estimator_0 - 10_folds.train_cv.predict)=47.19%\n",
      "[ 2018-04-20 00:01:27,010][kfold_wrapper.log_eval_metrics] Accuracy(layer_0 - estimator_0 - 10_folds.test.predict)=50.37%\n",
      "[ 2018-04-20 00:01:27,082][cascade_classifier.calc_accuracy] Accuracy(layer_0 - train.classifier_average)=47.19%\n",
      "[ 2018-04-20 00:01:27,084][cascade_classifier.calc_accuracy] Accuracy(layer_0 - test.classifier_average)=50.37%\n",
      "[ 2018-04-20 00:01:27,085][cascade_classifier.fit_transform] [Result][Reach Max Layer] opt_layer_num=1, accuracy_train=47.19%, accuracy_test=50.37%\n",
      "[ 2018-04-20 00:01:27,088][cascade_classifier.transform] X_groups_test.shape=[(10000, 3082)]\n",
      "[ 2018-04-20 00:01:27,128][cascade_classifier.transform] group_dims=[3082]\n",
      "[ 2018-04-20 00:01:27,129][cascade_classifier.transform] X_test.shape=(10000, 3082)\n",
      "[ 2018-04-20 00:01:27,147][cascade_classifier.transform] [layer=0] look_indexs=[0], X_cur_test.shape=(10000, 3082)\n"
     ]
    },
    {
     "name": "stdout",
     "output_type": "stream",
     "text": [
      "('Test Accuracy of Extratrees = 50.400000 %', 9, 'fois')\n"
     ]
    },
    {
     "name": "stderr",
     "output_type": "stream",
     "text": [
      "[ 2018-04-20 00:01:35,387][cascade_classifier.fit_transform] X_groups_train.shape=[(50000, 3082)],y_train.shape=(50000,),X_groups_test.shape=[(10000, 3082)],y_test.shape=(10000,)\n",
      "[ 2018-04-20 00:01:35,491][cascade_classifier.fit_transform] group_dims=[3082]\n",
      "[ 2018-04-20 00:01:35,492][cascade_classifier.fit_transform] group_starts=[0]\n",
      "[ 2018-04-20 00:01:35,493][cascade_classifier.fit_transform] group_ends=[3082]\n",
      "[ 2018-04-20 00:01:35,494][cascade_classifier.fit_transform] X_train.shape=(50000, 3082),X_test.shape=(10000, 3082)\n",
      "[ 2018-04-20 00:01:35,762][cascade_classifier.fit_transform] [layer=0] look_indexs=[0], X_cur_train.shape=(50000, 3082), X_cur_test.shape=(10000, 3082)\n",
      "[ 2018-04-20 00:01:41,243][kfold_wrapper.log_eval_metrics] Accuracy(layer_0 - estimator_0 - 10_folds.train_0.predict)=47.18%\n",
      "[ 2018-04-20 00:01:46,868][kfold_wrapper.log_eval_metrics] Accuracy(layer_0 - estimator_0 - 10_folds.train_1.predict)=46.74%\n",
      "[ 2018-04-20 00:01:52,673][kfold_wrapper.log_eval_metrics] Accuracy(layer_0 - estimator_0 - 10_folds.train_2.predict)=47.28%\n",
      "[ 2018-04-20 00:01:58,424][kfold_wrapper.log_eval_metrics] Accuracy(layer_0 - estimator_0 - 10_folds.train_3.predict)=47.10%\n",
      "[ 2018-04-20 00:02:04,365][kfold_wrapper.log_eval_metrics] Accuracy(layer_0 - estimator_0 - 10_folds.train_4.predict)=47.40%\n",
      "[ 2018-04-20 00:02:10,109][kfold_wrapper.log_eval_metrics] Accuracy(layer_0 - estimator_0 - 10_folds.train_5.predict)=47.76%\n",
      "[ 2018-04-20 00:02:15,741][kfold_wrapper.log_eval_metrics] Accuracy(layer_0 - estimator_0 - 10_folds.train_6.predict)=46.42%\n",
      "[ 2018-04-20 00:02:21,472][kfold_wrapper.log_eval_metrics] Accuracy(layer_0 - estimator_0 - 10_folds.train_7.predict)=47.06%\n",
      "[ 2018-04-20 00:02:27,281][kfold_wrapper.log_eval_metrics] Accuracy(layer_0 - estimator_0 - 10_folds.train_8.predict)=47.52%\n",
      "[ 2018-04-20 00:02:33,040][kfold_wrapper.log_eval_metrics] Accuracy(layer_0 - estimator_0 - 10_folds.train_9.predict)=46.36%\n",
      "[ 2018-04-20 00:02:33,327][kfold_wrapper.log_eval_metrics] Accuracy(layer_0 - estimator_0 - 10_folds.train_cv.predict)=47.08%\n",
      "[ 2018-04-20 00:02:33,330][kfold_wrapper.log_eval_metrics] Accuracy(layer_0 - estimator_0 - 10_folds.test.predict)=50.73%\n",
      "[ 2018-04-20 00:02:33,391][cascade_classifier.calc_accuracy] Accuracy(layer_0 - train.classifier_average)=47.08%\n",
      "[ 2018-04-20 00:02:33,393][cascade_classifier.calc_accuracy] Accuracy(layer_0 - test.classifier_average)=50.73%\n",
      "[ 2018-04-20 00:02:33,395][cascade_classifier.fit_transform] [Result][Reach Max Layer] opt_layer_num=1, accuracy_train=47.08%, accuracy_test=50.73%\n",
      "[ 2018-04-20 00:02:33,398][cascade_classifier.transform] X_groups_test.shape=[(10000, 3082)]\n",
      "[ 2018-04-20 00:02:33,435][cascade_classifier.transform] group_dims=[3082]\n",
      "[ 2018-04-20 00:02:33,437][cascade_classifier.transform] X_test.shape=(10000, 3082)\n",
      "[ 2018-04-20 00:02:33,454][cascade_classifier.transform] [layer=0] look_indexs=[0], X_cur_test.shape=(10000, 3082)\n"
     ]
    },
    {
     "name": "stdout",
     "output_type": "stream",
     "text": [
      "('Test Accuracy of Extratrees = 50.730000 %', 10, 'fois')\n"
     ]
    },
    {
     "name": "stderr",
     "output_type": "stream",
     "text": [
      "[ 2018-04-20 00:02:41,993][cascade_classifier.fit_transform] X_groups_train.shape=[(50000, 3082)],y_train.shape=(50000,),X_groups_test.shape=[(10000, 3082)],y_test.shape=(10000,)\n",
      "[ 2018-04-20 00:02:42,095][cascade_classifier.fit_transform] group_dims=[3082]\n",
      "[ 2018-04-20 00:02:42,096][cascade_classifier.fit_transform] group_starts=[0]\n",
      "[ 2018-04-20 00:02:42,097][cascade_classifier.fit_transform] group_ends=[3082]\n",
      "[ 2018-04-20 00:02:42,098][cascade_classifier.fit_transform] X_train.shape=(50000, 3082),X_test.shape=(10000, 3082)\n",
      "[ 2018-04-20 00:02:42,354][cascade_classifier.fit_transform] [layer=0] look_indexs=[0], X_cur_train.shape=(50000, 3082), X_cur_test.shape=(10000, 3082)\n",
      "[ 2018-04-20 00:02:47,877][kfold_wrapper.log_eval_metrics] Accuracy(layer_0 - estimator_0 - 10_folds.train_0.predict)=47.22%\n",
      "[ 2018-04-20 00:02:53,584][kfold_wrapper.log_eval_metrics] Accuracy(layer_0 - estimator_0 - 10_folds.train_1.predict)=47.26%\n",
      "[ 2018-04-20 00:02:59,325][kfold_wrapper.log_eval_metrics] Accuracy(layer_0 - estimator_0 - 10_folds.train_2.predict)=47.82%\n",
      "[ 2018-04-20 00:03:05,048][kfold_wrapper.log_eval_metrics] Accuracy(layer_0 - estimator_0 - 10_folds.train_3.predict)=47.54%\n",
      "[ 2018-04-20 00:03:10,593][kfold_wrapper.log_eval_metrics] Accuracy(layer_0 - estimator_0 - 10_folds.train_4.predict)=47.10%\n",
      "[ 2018-04-20 00:03:16,236][kfold_wrapper.log_eval_metrics] Accuracy(layer_0 - estimator_0 - 10_folds.train_5.predict)=47.76%\n",
      "[ 2018-04-20 00:03:21,864][kfold_wrapper.log_eval_metrics] Accuracy(layer_0 - estimator_0 - 10_folds.train_6.predict)=46.88%\n",
      "[ 2018-04-20 00:03:27,705][kfold_wrapper.log_eval_metrics] Accuracy(layer_0 - estimator_0 - 10_folds.train_7.predict)=47.48%\n",
      "[ 2018-04-20 00:03:33,350][kfold_wrapper.log_eval_metrics] Accuracy(layer_0 - estimator_0 - 10_folds.train_8.predict)=47.80%\n",
      "[ 2018-04-20 00:03:39,000][kfold_wrapper.log_eval_metrics] Accuracy(layer_0 - estimator_0 - 10_folds.train_9.predict)=46.64%\n",
      "[ 2018-04-20 00:03:39,421][kfold_wrapper.log_eval_metrics] Accuracy(layer_0 - estimator_0 - 10_folds.train_cv.predict)=47.35%\n",
      "[ 2018-04-20 00:03:39,423][kfold_wrapper.log_eval_metrics] Accuracy(layer_0 - estimator_0 - 10_folds.test.predict)=50.49%\n",
      "[ 2018-04-20 00:03:39,487][cascade_classifier.calc_accuracy] Accuracy(layer_0 - train.classifier_average)=47.35%\n",
      "[ 2018-04-20 00:03:39,489][cascade_classifier.calc_accuracy] Accuracy(layer_0 - test.classifier_average)=50.49%\n",
      "[ 2018-04-20 00:03:39,491][cascade_classifier.fit_transform] [Result][Reach Max Layer] opt_layer_num=1, accuracy_train=47.35%, accuracy_test=50.49%\n",
      "[ 2018-04-20 00:03:39,494][cascade_classifier.transform] X_groups_test.shape=[(10000, 3082)]\n",
      "[ 2018-04-20 00:03:39,525][cascade_classifier.transform] group_dims=[3082]\n",
      "[ 2018-04-20 00:03:39,526][cascade_classifier.transform] X_test.shape=(10000, 3082)\n",
      "[ 2018-04-20 00:03:39,553][cascade_classifier.transform] [layer=0] look_indexs=[0], X_cur_test.shape=(10000, 3082)\n"
     ]
    },
    {
     "name": "stdout",
     "output_type": "stream",
     "text": [
      "('Test Accuracy of Extratrees = 50.500000 %', 11, 'fois')\n"
     ]
    },
    {
     "name": "stderr",
     "output_type": "stream",
     "text": [
      "[ 2018-04-20 00:03:46,927][cascade_classifier.fit_transform] X_groups_train.shape=[(50000, 3082)],y_train.shape=(50000,),X_groups_test.shape=[(10000, 3082)],y_test.shape=(10000,)\n",
      "[ 2018-04-20 00:03:47,049][cascade_classifier.fit_transform] group_dims=[3082]\n",
      "[ 2018-04-20 00:03:47,051][cascade_classifier.fit_transform] group_starts=[0]\n",
      "[ 2018-04-20 00:03:47,052][cascade_classifier.fit_transform] group_ends=[3082]\n",
      "[ 2018-04-20 00:03:47,053][cascade_classifier.fit_transform] X_train.shape=(50000, 3082),X_test.shape=(10000, 3082)\n",
      "[ 2018-04-20 00:03:47,331][cascade_classifier.fit_transform] [layer=0] look_indexs=[0], X_cur_train.shape=(50000, 3082), X_cur_test.shape=(10000, 3082)\n",
      "[ 2018-04-20 00:03:52,830][kfold_wrapper.log_eval_metrics] Accuracy(layer_0 - estimator_0 - 10_folds.train_0.predict)=47.06%\n",
      "[ 2018-04-20 00:03:58,510][kfold_wrapper.log_eval_metrics] Accuracy(layer_0 - estimator_0 - 10_folds.train_1.predict)=47.08%\n",
      "[ 2018-04-20 00:04:04,330][kfold_wrapper.log_eval_metrics] Accuracy(layer_0 - estimator_0 - 10_folds.train_2.predict)=46.74%\n",
      "[ 2018-04-20 00:04:09,964][kfold_wrapper.log_eval_metrics] Accuracy(layer_0 - estimator_0 - 10_folds.train_3.predict)=47.96%\n",
      "[ 2018-04-20 00:04:15,924][kfold_wrapper.log_eval_metrics] Accuracy(layer_0 - estimator_0 - 10_folds.train_4.predict)=47.36%\n",
      "[ 2018-04-20 00:04:21,682][kfold_wrapper.log_eval_metrics] Accuracy(layer_0 - estimator_0 - 10_folds.train_5.predict)=47.52%\n",
      "[ 2018-04-20 00:04:27,396][kfold_wrapper.log_eval_metrics] Accuracy(layer_0 - estimator_0 - 10_folds.train_6.predict)=47.10%\n",
      "[ 2018-04-20 00:04:32,911][kfold_wrapper.log_eval_metrics] Accuracy(layer_0 - estimator_0 - 10_folds.train_7.predict)=47.36%\n",
      "[ 2018-04-20 00:04:38,629][kfold_wrapper.log_eval_metrics] Accuracy(layer_0 - estimator_0 - 10_folds.train_8.predict)=46.60%\n",
      "[ 2018-04-20 00:04:44,293][kfold_wrapper.log_eval_metrics] Accuracy(layer_0 - estimator_0 - 10_folds.train_9.predict)=47.34%\n",
      "[ 2018-04-20 00:04:44,615][kfold_wrapper.log_eval_metrics] Accuracy(layer_0 - estimator_0 - 10_folds.train_cv.predict)=47.21%\n",
      "[ 2018-04-20 00:04:44,618][kfold_wrapper.log_eval_metrics] Accuracy(layer_0 - estimator_0 - 10_folds.test.predict)=50.38%\n",
      "[ 2018-04-20 00:04:44,687][cascade_classifier.calc_accuracy] Accuracy(layer_0 - train.classifier_average)=47.21%\n",
      "[ 2018-04-20 00:04:44,689][cascade_classifier.calc_accuracy] Accuracy(layer_0 - test.classifier_average)=50.38%\n",
      "[ 2018-04-20 00:04:44,690][cascade_classifier.fit_transform] [Result][Reach Max Layer] opt_layer_num=1, accuracy_train=47.21%, accuracy_test=50.38%\n",
      "[ 2018-04-20 00:04:44,694][cascade_classifier.transform] X_groups_test.shape=[(10000, 3082)]\n",
      "[ 2018-04-20 00:04:44,735][cascade_classifier.transform] group_dims=[3082]\n",
      "[ 2018-04-20 00:04:44,736][cascade_classifier.transform] X_test.shape=(10000, 3082)\n",
      "[ 2018-04-20 00:04:44,754][cascade_classifier.transform] [layer=0] look_indexs=[0], X_cur_test.shape=(10000, 3082)\n"
     ]
    },
    {
     "name": "stdout",
     "output_type": "stream",
     "text": [
      "('Test Accuracy of Extratrees = 50.380000 %', 12, 'fois')\n"
     ]
    },
    {
     "name": "stderr",
     "output_type": "stream",
     "text": [
      "[ 2018-04-20 00:04:53,035][cascade_classifier.fit_transform] X_groups_train.shape=[(50000, 3082)],y_train.shape=(50000,),X_groups_test.shape=[(10000, 3082)],y_test.shape=(10000,)\n",
      "[ 2018-04-20 00:04:53,138][cascade_classifier.fit_transform] group_dims=[3082]\n",
      "[ 2018-04-20 00:04:53,140][cascade_classifier.fit_transform] group_starts=[0]\n",
      "[ 2018-04-20 00:04:53,142][cascade_classifier.fit_transform] group_ends=[3082]\n",
      "[ 2018-04-20 00:04:53,143][cascade_classifier.fit_transform] X_train.shape=(50000, 3082),X_test.shape=(10000, 3082)\n",
      "[ 2018-04-20 00:04:53,395][cascade_classifier.fit_transform] [layer=0] look_indexs=[0], X_cur_train.shape=(50000, 3082), X_cur_test.shape=(10000, 3082)\n",
      "[ 2018-04-20 00:04:58,899][kfold_wrapper.log_eval_metrics] Accuracy(layer_0 - estimator_0 - 10_folds.train_0.predict)=47.44%\n",
      "[ 2018-04-20 00:05:04,722][kfold_wrapper.log_eval_metrics] Accuracy(layer_0 - estimator_0 - 10_folds.train_1.predict)=46.92%\n",
      "[ 2018-04-20 00:05:10,547][kfold_wrapper.log_eval_metrics] Accuracy(layer_0 - estimator_0 - 10_folds.train_2.predict)=47.84%\n",
      "[ 2018-04-20 00:05:16,161][kfold_wrapper.log_eval_metrics] Accuracy(layer_0 - estimator_0 - 10_folds.train_3.predict)=48.84%\n",
      "[ 2018-04-20 00:05:21,739][kfold_wrapper.log_eval_metrics] Accuracy(layer_0 - estimator_0 - 10_folds.train_4.predict)=47.00%\n",
      "[ 2018-04-20 00:05:27,466][kfold_wrapper.log_eval_metrics] Accuracy(layer_0 - estimator_0 - 10_folds.train_5.predict)=47.56%\n",
      "[ 2018-04-20 00:05:33,206][kfold_wrapper.log_eval_metrics] Accuracy(layer_0 - estimator_0 - 10_folds.train_6.predict)=46.78%\n",
      "[ 2018-04-20 00:05:38,955][kfold_wrapper.log_eval_metrics] Accuracy(layer_0 - estimator_0 - 10_folds.train_7.predict)=46.52%\n",
      "[ 2018-04-20 00:05:44,669][kfold_wrapper.log_eval_metrics] Accuracy(layer_0 - estimator_0 - 10_folds.train_8.predict)=48.02%\n",
      "[ 2018-04-20 00:05:50,192][kfold_wrapper.log_eval_metrics] Accuracy(layer_0 - estimator_0 - 10_folds.train_9.predict)=47.18%\n",
      "[ 2018-04-20 00:05:50,501][kfold_wrapper.log_eval_metrics] Accuracy(layer_0 - estimator_0 - 10_folds.train_cv.predict)=47.41%\n",
      "[ 2018-04-20 00:05:50,503][kfold_wrapper.log_eval_metrics] Accuracy(layer_0 - estimator_0 - 10_folds.test.predict)=50.30%\n",
      "[ 2018-04-20 00:05:50,558][cascade_classifier.calc_accuracy] Accuracy(layer_0 - train.classifier_average)=47.41%\n",
      "[ 2018-04-20 00:05:50,560][cascade_classifier.calc_accuracy] Accuracy(layer_0 - test.classifier_average)=50.30%\n",
      "[ 2018-04-20 00:05:50,561][cascade_classifier.fit_transform] [Result][Reach Max Layer] opt_layer_num=1, accuracy_train=47.41%, accuracy_test=50.30%\n",
      "[ 2018-04-20 00:05:50,563][cascade_classifier.transform] X_groups_test.shape=[(10000, 3082)]\n",
      "[ 2018-04-20 00:05:50,598][cascade_classifier.transform] group_dims=[3082]\n",
      "[ 2018-04-20 00:05:50,599][cascade_classifier.transform] X_test.shape=(10000, 3082)\n",
      "[ 2018-04-20 00:05:50,617][cascade_classifier.transform] [layer=0] look_indexs=[0], X_cur_test.shape=(10000, 3082)\n"
     ]
    },
    {
     "name": "stdout",
     "output_type": "stream",
     "text": [
      "('Test Accuracy of Extratrees = 50.220000 %', 13, 'fois')\n"
     ]
    },
    {
     "name": "stderr",
     "output_type": "stream",
     "text": [
      "[ 2018-04-20 00:05:59,004][cascade_classifier.fit_transform] X_groups_train.shape=[(50000, 3082)],y_train.shape=(50000,),X_groups_test.shape=[(10000, 3082)],y_test.shape=(10000,)\n",
      "[ 2018-04-20 00:05:59,103][cascade_classifier.fit_transform] group_dims=[3082]\n",
      "[ 2018-04-20 00:05:59,104][cascade_classifier.fit_transform] group_starts=[0]\n",
      "[ 2018-04-20 00:05:59,105][cascade_classifier.fit_transform] group_ends=[3082]\n",
      "[ 2018-04-20 00:05:59,106][cascade_classifier.fit_transform] X_train.shape=(50000, 3082),X_test.shape=(10000, 3082)\n",
      "[ 2018-04-20 00:05:59,365][cascade_classifier.fit_transform] [layer=0] look_indexs=[0], X_cur_train.shape=(50000, 3082), X_cur_test.shape=(10000, 3082)\n",
      "[ 2018-04-20 00:06:04,771][kfold_wrapper.log_eval_metrics] Accuracy(layer_0 - estimator_0 - 10_folds.train_0.predict)=47.58%\n",
      "[ 2018-04-20 00:06:10,489][kfold_wrapper.log_eval_metrics] Accuracy(layer_0 - estimator_0 - 10_folds.train_1.predict)=47.18%\n",
      "[ 2018-04-20 00:06:16,288][kfold_wrapper.log_eval_metrics] Accuracy(layer_0 - estimator_0 - 10_folds.train_2.predict)=47.50%\n",
      "[ 2018-04-20 00:06:21,857][kfold_wrapper.log_eval_metrics] Accuracy(layer_0 - estimator_0 - 10_folds.train_3.predict)=47.66%\n",
      "[ 2018-04-20 00:06:27,539][kfold_wrapper.log_eval_metrics] Accuracy(layer_0 - estimator_0 - 10_folds.train_4.predict)=47.74%\n",
      "[ 2018-04-20 00:06:33,086][kfold_wrapper.log_eval_metrics] Accuracy(layer_0 - estimator_0 - 10_folds.train_5.predict)=47.60%\n",
      "[ 2018-04-20 00:06:38,780][kfold_wrapper.log_eval_metrics] Accuracy(layer_0 - estimator_0 - 10_folds.train_6.predict)=46.48%\n",
      "[ 2018-04-20 00:06:44,324][kfold_wrapper.log_eval_metrics] Accuracy(layer_0 - estimator_0 - 10_folds.train_7.predict)=47.54%\n",
      "[ 2018-04-20 00:06:50,021][kfold_wrapper.log_eval_metrics] Accuracy(layer_0 - estimator_0 - 10_folds.train_8.predict)=47.38%\n",
      "[ 2018-04-20 00:06:55,886][kfold_wrapper.log_eval_metrics] Accuracy(layer_0 - estimator_0 - 10_folds.train_9.predict)=47.34%\n",
      "[ 2018-04-20 00:06:56,178][kfold_wrapper.log_eval_metrics] Accuracy(layer_0 - estimator_0 - 10_folds.train_cv.predict)=47.40%\n",
      "[ 2018-04-20 00:06:56,180][kfold_wrapper.log_eval_metrics] Accuracy(layer_0 - estimator_0 - 10_folds.test.predict)=50.39%\n",
      "[ 2018-04-20 00:06:56,234][cascade_classifier.calc_accuracy] Accuracy(layer_0 - train.classifier_average)=47.40%\n",
      "[ 2018-04-20 00:06:56,236][cascade_classifier.calc_accuracy] Accuracy(layer_0 - test.classifier_average)=50.39%\n",
      "[ 2018-04-20 00:06:56,237][cascade_classifier.fit_transform] [Result][Reach Max Layer] opt_layer_num=1, accuracy_train=47.40%, accuracy_test=50.39%\n",
      "[ 2018-04-20 00:06:56,240][cascade_classifier.transform] X_groups_test.shape=[(10000, 3082)]\n",
      "[ 2018-04-20 00:06:56,275][cascade_classifier.transform] group_dims=[3082]\n",
      "[ 2018-04-20 00:06:56,276][cascade_classifier.transform] X_test.shape=(10000, 3082)\n",
      "[ 2018-04-20 00:06:56,295][cascade_classifier.transform] [layer=0] look_indexs=[0], X_cur_test.shape=(10000, 3082)\n"
     ]
    },
    {
     "name": "stdout",
     "output_type": "stream",
     "text": [
      "('Test Accuracy of Extratrees = 50.380000 %', 14, 'fois')\n"
     ]
    },
    {
     "name": "stderr",
     "output_type": "stream",
     "text": [
      "[ 2018-04-20 00:07:03,940][cascade_classifier.fit_transform] X_groups_train.shape=[(50000, 3082)],y_train.shape=(50000,),X_groups_test.shape=[(10000, 3082)],y_test.shape=(10000,)\n",
      "[ 2018-04-20 00:07:04,043][cascade_classifier.fit_transform] group_dims=[3082]\n",
      "[ 2018-04-20 00:07:04,044][cascade_classifier.fit_transform] group_starts=[0]\n",
      "[ 2018-04-20 00:07:04,045][cascade_classifier.fit_transform] group_ends=[3082]\n",
      "[ 2018-04-20 00:07:04,047][cascade_classifier.fit_transform] X_train.shape=(50000, 3082),X_test.shape=(10000, 3082)\n",
      "[ 2018-04-20 00:07:04,309][cascade_classifier.fit_transform] [layer=0] look_indexs=[0], X_cur_train.shape=(50000, 3082), X_cur_test.shape=(10000, 3082)\n",
      "[ 2018-04-20 00:07:09,587][kfold_wrapper.log_eval_metrics] Accuracy(layer_0 - estimator_0 - 10_folds.train_0.predict)=47.52%\n",
      "[ 2018-04-20 00:07:15,533][kfold_wrapper.log_eval_metrics] Accuracy(layer_0 - estimator_0 - 10_folds.train_1.predict)=47.22%\n",
      "[ 2018-04-20 00:07:21,425][kfold_wrapper.log_eval_metrics] Accuracy(layer_0 - estimator_0 - 10_folds.train_2.predict)=47.30%\n",
      "[ 2018-04-20 00:07:27,039][kfold_wrapper.log_eval_metrics] Accuracy(layer_0 - estimator_0 - 10_folds.train_3.predict)=47.92%\n",
      "[ 2018-04-20 00:07:32,658][kfold_wrapper.log_eval_metrics] Accuracy(layer_0 - estimator_0 - 10_folds.train_4.predict)=47.80%\n",
      "[ 2018-04-20 00:07:38,215][kfold_wrapper.log_eval_metrics] Accuracy(layer_0 - estimator_0 - 10_folds.train_5.predict)=47.62%\n",
      "[ 2018-04-20 00:07:43,881][kfold_wrapper.log_eval_metrics] Accuracy(layer_0 - estimator_0 - 10_folds.train_6.predict)=46.32%\n",
      "[ 2018-04-20 00:07:49,505][kfold_wrapper.log_eval_metrics] Accuracy(layer_0 - estimator_0 - 10_folds.train_7.predict)=46.94%\n",
      "[ 2018-04-20 00:07:55,157][kfold_wrapper.log_eval_metrics] Accuracy(layer_0 - estimator_0 - 10_folds.train_8.predict)=47.96%\n",
      "[ 2018-04-20 00:08:00,868][kfold_wrapper.log_eval_metrics] Accuracy(layer_0 - estimator_0 - 10_folds.train_9.predict)=47.74%\n",
      "[ 2018-04-20 00:08:01,183][kfold_wrapper.log_eval_metrics] Accuracy(layer_0 - estimator_0 - 10_folds.train_cv.predict)=47.43%\n",
      "[ 2018-04-20 00:08:01,185][kfold_wrapper.log_eval_metrics] Accuracy(layer_0 - estimator_0 - 10_folds.test.predict)=50.42%\n",
      "[ 2018-04-20 00:08:01,252][cascade_classifier.calc_accuracy] Accuracy(layer_0 - train.classifier_average)=47.43%\n",
      "[ 2018-04-20 00:08:01,254][cascade_classifier.calc_accuracy] Accuracy(layer_0 - test.classifier_average)=50.42%\n",
      "[ 2018-04-20 00:08:01,255][cascade_classifier.fit_transform] [Result][Reach Max Layer] opt_layer_num=1, accuracy_train=47.43%, accuracy_test=50.42%\n",
      "[ 2018-04-20 00:08:01,259][cascade_classifier.transform] X_groups_test.shape=[(10000, 3082)]\n",
      "[ 2018-04-20 00:08:01,304][cascade_classifier.transform] group_dims=[3082]\n",
      "[ 2018-04-20 00:08:01,305][cascade_classifier.transform] X_test.shape=(10000, 3082)\n",
      "[ 2018-04-20 00:08:01,337][cascade_classifier.transform] [layer=0] look_indexs=[0], X_cur_test.shape=(10000, 3082)\n"
     ]
    },
    {
     "name": "stdout",
     "output_type": "stream",
     "text": [
      "('Test Accuracy of Extratrees = 50.420000 %', 15, 'fois')\n"
     ]
    },
    {
     "name": "stderr",
     "output_type": "stream",
     "text": [
      "[ 2018-04-20 00:08:08,899][cascade_classifier.fit_transform] X_groups_train.shape=[(50000, 3082)],y_train.shape=(50000,),X_groups_test.shape=[(10000, 3082)],y_test.shape=(10000,)\n",
      "[ 2018-04-20 00:08:08,998][cascade_classifier.fit_transform] group_dims=[3082]\n",
      "[ 2018-04-20 00:08:09,000][cascade_classifier.fit_transform] group_starts=[0]\n",
      "[ 2018-04-20 00:08:09,001][cascade_classifier.fit_transform] group_ends=[3082]\n",
      "[ 2018-04-20 00:08:09,002][cascade_classifier.fit_transform] X_train.shape=(50000, 3082),X_test.shape=(10000, 3082)\n",
      "[ 2018-04-20 00:08:09,264][cascade_classifier.fit_transform] [layer=0] look_indexs=[0], X_cur_train.shape=(50000, 3082), X_cur_test.shape=(10000, 3082)\n",
      "[ 2018-04-20 00:08:14,639][kfold_wrapper.log_eval_metrics] Accuracy(layer_0 - estimator_0 - 10_folds.train_0.predict)=47.48%\n",
      "[ 2018-04-20 00:08:20,762][kfold_wrapper.log_eval_metrics] Accuracy(layer_0 - estimator_0 - 10_folds.train_1.predict)=47.88%\n",
      "[ 2018-04-20 00:08:26,547][kfold_wrapper.log_eval_metrics] Accuracy(layer_0 - estimator_0 - 10_folds.train_2.predict)=46.86%\n",
      "[ 2018-04-20 00:08:32,296][kfold_wrapper.log_eval_metrics] Accuracy(layer_0 - estimator_0 - 10_folds.train_3.predict)=48.62%\n",
      "[ 2018-04-20 00:08:38,132][kfold_wrapper.log_eval_metrics] Accuracy(layer_0 - estimator_0 - 10_folds.train_4.predict)=47.36%\n",
      "[ 2018-04-20 00:08:44,106][kfold_wrapper.log_eval_metrics] Accuracy(layer_0 - estimator_0 - 10_folds.train_5.predict)=48.06%\n",
      "[ 2018-04-20 00:08:49,993][kfold_wrapper.log_eval_metrics] Accuracy(layer_0 - estimator_0 - 10_folds.train_6.predict)=46.48%\n",
      "[ 2018-04-20 00:08:55,497][kfold_wrapper.log_eval_metrics] Accuracy(layer_0 - estimator_0 - 10_folds.train_7.predict)=46.98%\n",
      "[ 2018-04-20 00:09:01,233][kfold_wrapper.log_eval_metrics] Accuracy(layer_0 - estimator_0 - 10_folds.train_8.predict)=47.68%\n",
      "[ 2018-04-20 00:09:06,891][kfold_wrapper.log_eval_metrics] Accuracy(layer_0 - estimator_0 - 10_folds.train_9.predict)=46.60%\n",
      "[ 2018-04-20 00:09:07,183][kfold_wrapper.log_eval_metrics] Accuracy(layer_0 - estimator_0 - 10_folds.train_cv.predict)=47.40%\n",
      "[ 2018-04-20 00:09:07,185][kfold_wrapper.log_eval_metrics] Accuracy(layer_0 - estimator_0 - 10_folds.test.predict)=50.65%\n",
      "[ 2018-04-20 00:09:07,253][cascade_classifier.calc_accuracy] Accuracy(layer_0 - train.classifier_average)=47.40%\n",
      "[ 2018-04-20 00:09:07,256][cascade_classifier.calc_accuracy] Accuracy(layer_0 - test.classifier_average)=50.65%\n",
      "[ 2018-04-20 00:09:07,257][cascade_classifier.fit_transform] [Result][Reach Max Layer] opt_layer_num=1, accuracy_train=47.40%, accuracy_test=50.65%\n",
      "[ 2018-04-20 00:09:07,260][cascade_classifier.transform] X_groups_test.shape=[(10000, 3082)]\n",
      "[ 2018-04-20 00:09:07,301][cascade_classifier.transform] group_dims=[3082]\n",
      "[ 2018-04-20 00:09:07,303][cascade_classifier.transform] X_test.shape=(10000, 3082)\n",
      "[ 2018-04-20 00:09:07,360][cascade_classifier.transform] [layer=0] look_indexs=[0], X_cur_test.shape=(10000, 3082)\n"
     ]
    },
    {
     "name": "stdout",
     "output_type": "stream",
     "text": [
      "('Test Accuracy of Extratrees = 50.670000 %', 16, 'fois')\n"
     ]
    },
    {
     "name": "stderr",
     "output_type": "stream",
     "text": [
      "[ 2018-04-20 00:09:15,702][cascade_classifier.fit_transform] X_groups_train.shape=[(50000, 3082)],y_train.shape=(50000,),X_groups_test.shape=[(10000, 3082)],y_test.shape=(10000,)\n",
      "[ 2018-04-20 00:09:15,802][cascade_classifier.fit_transform] group_dims=[3082]\n",
      "[ 2018-04-20 00:09:15,803][cascade_classifier.fit_transform] group_starts=[0]\n",
      "[ 2018-04-20 00:09:15,804][cascade_classifier.fit_transform] group_ends=[3082]\n",
      "[ 2018-04-20 00:09:15,805][cascade_classifier.fit_transform] X_train.shape=(50000, 3082),X_test.shape=(10000, 3082)\n",
      "[ 2018-04-20 00:09:16,065][cascade_classifier.fit_transform] [layer=0] look_indexs=[0], X_cur_train.shape=(50000, 3082), X_cur_test.shape=(10000, 3082)\n",
      "[ 2018-04-20 00:09:21,604][kfold_wrapper.log_eval_metrics] Accuracy(layer_0 - estimator_0 - 10_folds.train_0.predict)=47.10%\n",
      "[ 2018-04-20 00:09:27,492][kfold_wrapper.log_eval_metrics] Accuracy(layer_0 - estimator_0 - 10_folds.train_1.predict)=47.60%\n",
      "[ 2018-04-20 00:09:33,223][kfold_wrapper.log_eval_metrics] Accuracy(layer_0 - estimator_0 - 10_folds.train_2.predict)=47.26%\n",
      "[ 2018-04-20 00:09:38,820][kfold_wrapper.log_eval_metrics] Accuracy(layer_0 - estimator_0 - 10_folds.train_3.predict)=47.54%\n",
      "[ 2018-04-20 00:09:44,503][kfold_wrapper.log_eval_metrics] Accuracy(layer_0 - estimator_0 - 10_folds.train_4.predict)=47.28%\n",
      "[ 2018-04-20 00:09:50,118][kfold_wrapper.log_eval_metrics] Accuracy(layer_0 - estimator_0 - 10_folds.train_5.predict)=47.76%\n",
      "[ 2018-04-20 00:09:55,845][kfold_wrapper.log_eval_metrics] Accuracy(layer_0 - estimator_0 - 10_folds.train_6.predict)=46.62%\n",
      "[ 2018-04-20 00:10:01,357][kfold_wrapper.log_eval_metrics] Accuracy(layer_0 - estimator_0 - 10_folds.train_7.predict)=46.98%\n",
      "[ 2018-04-20 00:10:07,077][kfold_wrapper.log_eval_metrics] Accuracy(layer_0 - estimator_0 - 10_folds.train_8.predict)=47.52%\n",
      "[ 2018-04-20 00:10:12,914][kfold_wrapper.log_eval_metrics] Accuracy(layer_0 - estimator_0 - 10_folds.train_9.predict)=47.20%\n",
      "[ 2018-04-20 00:10:13,347][kfold_wrapper.log_eval_metrics] Accuracy(layer_0 - estimator_0 - 10_folds.train_cv.predict)=47.29%\n",
      "[ 2018-04-20 00:10:13,350][kfold_wrapper.log_eval_metrics] Accuracy(layer_0 - estimator_0 - 10_folds.test.predict)=50.49%\n",
      "[ 2018-04-20 00:10:13,405][cascade_classifier.calc_accuracy] Accuracy(layer_0 - train.classifier_average)=47.29%\n",
      "[ 2018-04-20 00:10:13,407][cascade_classifier.calc_accuracy] Accuracy(layer_0 - test.classifier_average)=50.49%\n",
      "[ 2018-04-20 00:10:13,408][cascade_classifier.fit_transform] [Result][Reach Max Layer] opt_layer_num=1, accuracy_train=47.29%, accuracy_test=50.49%\n",
      "[ 2018-04-20 00:10:13,411][cascade_classifier.transform] X_groups_test.shape=[(10000, 3082)]\n",
      "[ 2018-04-20 00:10:13,447][cascade_classifier.transform] group_dims=[3082]\n",
      "[ 2018-04-20 00:10:13,448][cascade_classifier.transform] X_test.shape=(10000, 3082)\n",
      "[ 2018-04-20 00:10:13,469][cascade_classifier.transform] [layer=0] look_indexs=[0], X_cur_test.shape=(10000, 3082)\n"
     ]
    },
    {
     "name": "stdout",
     "output_type": "stream",
     "text": [
      "('Test Accuracy of Extratrees = 50.480000 %', 17, 'fois')\n"
     ]
    },
    {
     "name": "stderr",
     "output_type": "stream",
     "text": [
      "[ 2018-04-20 00:10:22,413][cascade_classifier.fit_transform] X_groups_train.shape=[(50000, 3082)],y_train.shape=(50000,),X_groups_test.shape=[(10000, 3082)],y_test.shape=(10000,)\n",
      "[ 2018-04-20 00:10:22,533][cascade_classifier.fit_transform] group_dims=[3082]\n",
      "[ 2018-04-20 00:10:22,535][cascade_classifier.fit_transform] group_starts=[0]\n",
      "[ 2018-04-20 00:10:22,536][cascade_classifier.fit_transform] group_ends=[3082]\n",
      "[ 2018-04-20 00:10:22,537][cascade_classifier.fit_transform] X_train.shape=(50000, 3082),X_test.shape=(10000, 3082)\n",
      "[ 2018-04-20 00:10:22,794][cascade_classifier.fit_transform] [layer=0] look_indexs=[0], X_cur_train.shape=(50000, 3082), X_cur_test.shape=(10000, 3082)\n",
      "[ 2018-04-20 00:10:28,268][kfold_wrapper.log_eval_metrics] Accuracy(layer_0 - estimator_0 - 10_folds.train_0.predict)=47.62%\n",
      "[ 2018-04-20 00:10:33,917][kfold_wrapper.log_eval_metrics] Accuracy(layer_0 - estimator_0 - 10_folds.train_1.predict)=47.34%\n",
      "[ 2018-04-20 00:10:39,665][kfold_wrapper.log_eval_metrics] Accuracy(layer_0 - estimator_0 - 10_folds.train_2.predict)=47.14%\n",
      "[ 2018-04-20 00:10:45,294][kfold_wrapper.log_eval_metrics] Accuracy(layer_0 - estimator_0 - 10_folds.train_3.predict)=48.04%\n",
      "[ 2018-04-20 00:10:51,243][kfold_wrapper.log_eval_metrics] Accuracy(layer_0 - estimator_0 - 10_folds.train_4.predict)=47.40%\n",
      "[ 2018-04-20 00:10:56,950][kfold_wrapper.log_eval_metrics] Accuracy(layer_0 - estimator_0 - 10_folds.train_5.predict)=48.10%\n",
      "[ 2018-04-20 00:11:02,707][kfold_wrapper.log_eval_metrics] Accuracy(layer_0 - estimator_0 - 10_folds.train_6.predict)=46.24%\n",
      "[ 2018-04-20 00:11:08,434][kfold_wrapper.log_eval_metrics] Accuracy(layer_0 - estimator_0 - 10_folds.train_7.predict)=46.34%\n",
      "[ 2018-04-20 00:11:14,182][kfold_wrapper.log_eval_metrics] Accuracy(layer_0 - estimator_0 - 10_folds.train_8.predict)=47.96%\n",
      "[ 2018-04-20 00:11:19,807][kfold_wrapper.log_eval_metrics] Accuracy(layer_0 - estimator_0 - 10_folds.train_9.predict)=46.94%\n",
      "[ 2018-04-20 00:11:20,219][kfold_wrapper.log_eval_metrics] Accuracy(layer_0 - estimator_0 - 10_folds.train_cv.predict)=47.31%\n",
      "[ 2018-04-20 00:11:20,222][kfold_wrapper.log_eval_metrics] Accuracy(layer_0 - estimator_0 - 10_folds.test.predict)=50.53%\n",
      "[ 2018-04-20 00:11:20,287][cascade_classifier.calc_accuracy] Accuracy(layer_0 - train.classifier_average)=47.31%\n",
      "[ 2018-04-20 00:11:20,289][cascade_classifier.calc_accuracy] Accuracy(layer_0 - test.classifier_average)=50.53%\n",
      "[ 2018-04-20 00:11:20,290][cascade_classifier.fit_transform] [Result][Reach Max Layer] opt_layer_num=1, accuracy_train=47.31%, accuracy_test=50.53%\n",
      "[ 2018-04-20 00:11:20,293][cascade_classifier.transform] X_groups_test.shape=[(10000, 3082)]\n",
      "[ 2018-04-20 00:11:20,329][cascade_classifier.transform] group_dims=[3082]\n",
      "[ 2018-04-20 00:11:20,331][cascade_classifier.transform] X_test.shape=(10000, 3082)\n",
      "[ 2018-04-20 00:11:20,359][cascade_classifier.transform] [layer=0] look_indexs=[0], X_cur_test.shape=(10000, 3082)\n"
     ]
    },
    {
     "name": "stdout",
     "output_type": "stream",
     "text": [
      "('Test Accuracy of Extratrees = 50.520000 %', 18, 'fois')\n"
     ]
    },
    {
     "name": "stderr",
     "output_type": "stream",
     "text": [
      "[ 2018-04-20 00:11:28,317][cascade_classifier.fit_transform] X_groups_train.shape=[(50000, 3082)],y_train.shape=(50000,),X_groups_test.shape=[(10000, 3082)],y_test.shape=(10000,)\n",
      "[ 2018-04-20 00:11:28,416][cascade_classifier.fit_transform] group_dims=[3082]\n",
      "[ 2018-04-20 00:11:28,418][cascade_classifier.fit_transform] group_starts=[0]\n",
      "[ 2018-04-20 00:11:28,419][cascade_classifier.fit_transform] group_ends=[3082]\n",
      "[ 2018-04-20 00:11:28,420][cascade_classifier.fit_transform] X_train.shape=(50000, 3082),X_test.shape=(10000, 3082)\n",
      "[ 2018-04-20 00:11:28,678][cascade_classifier.fit_transform] [layer=0] look_indexs=[0], X_cur_train.shape=(50000, 3082), X_cur_test.shape=(10000, 3082)\n",
      "[ 2018-04-20 00:11:34,056][kfold_wrapper.log_eval_metrics] Accuracy(layer_0 - estimator_0 - 10_folds.train_0.predict)=47.28%\n",
      "[ 2018-04-20 00:11:39,748][kfold_wrapper.log_eval_metrics] Accuracy(layer_0 - estimator_0 - 10_folds.train_1.predict)=46.70%\n",
      "[ 2018-04-20 00:11:45,494][kfold_wrapper.log_eval_metrics] Accuracy(layer_0 - estimator_0 - 10_folds.train_2.predict)=47.62%\n",
      "[ 2018-04-20 00:11:51,191][kfold_wrapper.log_eval_metrics] Accuracy(layer_0 - estimator_0 - 10_folds.train_3.predict)=48.44%\n",
      "[ 2018-04-20 00:11:56,810][kfold_wrapper.log_eval_metrics] Accuracy(layer_0 - estimator_0 - 10_folds.train_4.predict)=46.60%\n",
      "[ 2018-04-20 00:12:02,526][kfold_wrapper.log_eval_metrics] Accuracy(layer_0 - estimator_0 - 10_folds.train_5.predict)=47.58%\n",
      "[ 2018-04-20 00:12:07,999][kfold_wrapper.log_eval_metrics] Accuracy(layer_0 - estimator_0 - 10_folds.train_6.predict)=46.52%\n",
      "[ 2018-04-20 00:12:13,777][kfold_wrapper.log_eval_metrics] Accuracy(layer_0 - estimator_0 - 10_folds.train_7.predict)=47.08%\n",
      "[ 2018-04-20 00:12:19,285][kfold_wrapper.log_eval_metrics] Accuracy(layer_0 - estimator_0 - 10_folds.train_8.predict)=47.22%\n",
      "[ 2018-04-20 00:12:24,901][kfold_wrapper.log_eval_metrics] Accuracy(layer_0 - estimator_0 - 10_folds.train_9.predict)=47.56%\n",
      "[ 2018-04-20 00:12:25,359][kfold_wrapper.log_eval_metrics] Accuracy(layer_0 - estimator_0 - 10_folds.train_cv.predict)=47.26%\n",
      "[ 2018-04-20 00:12:25,362][kfold_wrapper.log_eval_metrics] Accuracy(layer_0 - estimator_0 - 10_folds.test.predict)=50.49%\n",
      "[ 2018-04-20 00:12:25,429][cascade_classifier.calc_accuracy] Accuracy(layer_0 - train.classifier_average)=47.26%\n",
      "[ 2018-04-20 00:12:25,433][cascade_classifier.calc_accuracy] Accuracy(layer_0 - test.classifier_average)=50.49%\n",
      "[ 2018-04-20 00:12:25,434][cascade_classifier.fit_transform] [Result][Reach Max Layer] opt_layer_num=1, accuracy_train=47.26%, accuracy_test=50.49%\n",
      "[ 2018-04-20 00:12:25,437][cascade_classifier.transform] X_groups_test.shape=[(10000, 3082)]\n",
      "[ 2018-04-20 00:12:25,472][cascade_classifier.transform] group_dims=[3082]\n",
      "[ 2018-04-20 00:12:25,474][cascade_classifier.transform] X_test.shape=(10000, 3082)\n",
      "[ 2018-04-20 00:12:25,501][cascade_classifier.transform] [layer=0] look_indexs=[0], X_cur_test.shape=(10000, 3082)\n"
     ]
    },
    {
     "name": "stdout",
     "output_type": "stream",
     "text": [
      "('Test Accuracy of Extratrees = 50.500000 %', 19, 'fois')\n"
     ]
    }
   ],
   "source": [
    "# Deep\n",
    "for i in range (20):\n",
    "    X_train,X_test=update(X_train,X_test)\n",
    "    X_test_enc, X_train_enc=newdata(X_test_enc, X_train_enc)\n",
    "\n",
    "    X_train=X_train_enc\n",
    "    X_test=X_test_enc \n",
    "    X_train_enc, X_test_enc = gc.fit_transform(X_train, y_train, X_test=X_test, y_test=y_test)\n",
    "    affiche()"
   ]
  },
  {
   "cell_type": "code",
   "execution_count": null,
   "metadata": {
    "collapsed": true
   },
   "outputs": [],
   "source": []
  },
  {
   "cell_type": "markdown",
   "metadata": {
    "collapsed": true
   },
   "source": [
    "# ('Test Accuracy of Extratrees = 50.910000 %', 3, 'fois')"
   ]
  },
  {
   "cell_type": "code",
   "execution_count": null,
   "metadata": {
    "collapsed": true
   },
   "outputs": [],
   "source": []
  },
  {
   "cell_type": "code",
   "execution_count": null,
   "metadata": {
    "collapsed": true
   },
   "outputs": [],
   "source": []
  },
  {
   "cell_type": "code",
   "execution_count": null,
   "metadata": {
    "collapsed": true
   },
   "outputs": [],
   "source": []
  }
 ],
 "metadata": {
  "kernelspec": {
   "display_name": "Python 2",
   "language": "python",
   "name": "python2"
  },
  "language_info": {
   "codemirror_mode": {
    "name": "ipython",
    "version": 2
   },
   "file_extension": ".py",
   "mimetype": "text/x-python",
   "name": "python",
   "nbconvert_exporter": "python",
   "pygments_lexer": "ipython2",
   "version": "2.7.13"
  }
 },
 "nbformat": 4,
 "nbformat_minor": 2
}
