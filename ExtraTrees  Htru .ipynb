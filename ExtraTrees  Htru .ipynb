{
 "cells": [
  {
   "cell_type": "code",
   "execution_count": 6,
   "metadata": {
    "collapsed": true
   },
   "outputs": [],
   "source": [
    "#Imports \n",
    "import numpy as np\n",
    "import pandas as pd\n",
    "from math import sqrt \n",
    "from pprint import pprint\n",
    "from numpy import array"
   ]
  },
  {
   "cell_type": "code",
   "execution_count": 7,
   "metadata": {
    "collapsed": true
   },
   "outputs": [],
   "source": [
    "# load data\n",
    "import names\n",
    "df = pd.read_csv(\"htru.csv\", names = names.names)"
   ]
  },
  {
   "cell_type": "code",
   "execution_count": 8,
   "metadata": {},
   "outputs": [
    {
     "data": {
      "text/html": [
       "<div>\n",
       "<style>\n",
       "    .dataframe thead tr:only-child th {\n",
       "        text-align: right;\n",
       "    }\n",
       "\n",
       "    .dataframe thead th {\n",
       "        text-align: left;\n",
       "    }\n",
       "\n",
       "    .dataframe tbody tr th {\n",
       "        vertical-align: top;\n",
       "    }\n",
       "</style>\n",
       "<table border=\"1\" class=\"dataframe\">\n",
       "  <thead>\n",
       "    <tr style=\"text-align: right;\">\n",
       "      <th></th>\n",
       "      <th>Profile_mean</th>\n",
       "      <th>Profile_stdev</th>\n",
       "      <th>Profile_skewness</th>\n",
       "      <th>Profile_kurtosis</th>\n",
       "      <th>DM_mean</th>\n",
       "      <th>DM_stdev</th>\n",
       "      <th>DM_skewness</th>\n",
       "      <th>DM_kurtosis</th>\n",
       "      <th>class</th>\n",
       "    </tr>\n",
       "  </thead>\n",
       "  <tbody>\n",
       "    <tr>\n",
       "      <th>0</th>\n",
       "      <td>140.562500</td>\n",
       "      <td>55.683782</td>\n",
       "      <td>-0.234571</td>\n",
       "      <td>-0.699648</td>\n",
       "      <td>3.199833</td>\n",
       "      <td>19.110426</td>\n",
       "      <td>7.975532</td>\n",
       "      <td>74.242225</td>\n",
       "      <td>0</td>\n",
       "    </tr>\n",
       "    <tr>\n",
       "      <th>1</th>\n",
       "      <td>102.507812</td>\n",
       "      <td>58.882430</td>\n",
       "      <td>0.465318</td>\n",
       "      <td>-0.515088</td>\n",
       "      <td>1.677258</td>\n",
       "      <td>14.860146</td>\n",
       "      <td>10.576487</td>\n",
       "      <td>127.393580</td>\n",
       "      <td>0</td>\n",
       "    </tr>\n",
       "    <tr>\n",
       "      <th>2</th>\n",
       "      <td>103.015625</td>\n",
       "      <td>39.341649</td>\n",
       "      <td>0.323328</td>\n",
       "      <td>1.051164</td>\n",
       "      <td>3.121237</td>\n",
       "      <td>21.744669</td>\n",
       "      <td>7.735822</td>\n",
       "      <td>63.171909</td>\n",
       "      <td>0</td>\n",
       "    </tr>\n",
       "    <tr>\n",
       "      <th>3</th>\n",
       "      <td>136.750000</td>\n",
       "      <td>57.178449</td>\n",
       "      <td>-0.068415</td>\n",
       "      <td>-0.636238</td>\n",
       "      <td>3.642977</td>\n",
       "      <td>20.959280</td>\n",
       "      <td>6.896499</td>\n",
       "      <td>53.593661</td>\n",
       "      <td>0</td>\n",
       "    </tr>\n",
       "    <tr>\n",
       "      <th>4</th>\n",
       "      <td>88.726562</td>\n",
       "      <td>40.672225</td>\n",
       "      <td>0.600866</td>\n",
       "      <td>1.123492</td>\n",
       "      <td>1.178930</td>\n",
       "      <td>11.468720</td>\n",
       "      <td>14.269573</td>\n",
       "      <td>252.567306</td>\n",
       "      <td>0</td>\n",
       "    </tr>\n",
       "  </tbody>\n",
       "</table>\n",
       "</div>"
      ],
      "text/plain": [
       "   Profile_mean  Profile_stdev  Profile_skewness  Profile_kurtosis   DM_mean  \\\n",
       "0    140.562500      55.683782         -0.234571         -0.699648  3.199833   \n",
       "1    102.507812      58.882430          0.465318         -0.515088  1.677258   \n",
       "2    103.015625      39.341649          0.323328          1.051164  3.121237   \n",
       "3    136.750000      57.178449         -0.068415         -0.636238  3.642977   \n",
       "4     88.726562      40.672225          0.600866          1.123492  1.178930   \n",
       "\n",
       "    DM_stdev  DM_skewness  DM_kurtosis  class  \n",
       "0  19.110426     7.975532    74.242225      0  \n",
       "1  14.860146    10.576487   127.393580      0  \n",
       "2  21.744669     7.735822    63.171909      0  \n",
       "3  20.959280     6.896499    53.593661      0  \n",
       "4  11.468720    14.269573   252.567306      0  "
      ]
     },
     "execution_count": 8,
     "metadata": {},
     "output_type": "execute_result"
    }
   ],
   "source": [
    "# first 5 \n",
    "df.head()"
   ]
  },
  {
   "cell_type": "code",
   "execution_count": 9,
   "metadata": {
    "collapsed": true
   },
   "outputs": [],
   "source": [
    "# df to values\n",
    "df = df.values"
   ]
  },
  {
   "cell_type": "code",
   "execution_count": 13,
   "metadata": {
    "collapsed": true
   },
   "outputs": [],
   "source": [
    "# deep Extratrees \n",
    "import argparse\n",
    "import sys\n",
    "import pickle\n",
    "from sklearn.metrics import accuracy_score\n",
    "sys.path.insert(0, \"lib\")\n",
    "from gcforest.gcforest import GCForest\n",
    "from gcforest.gcforest import GCForest\n",
    "from gcforest.utils.config_utils import load_json\n",
    "config = load_json(\"./examples/htru.json\")   \n",
    "gc = GCForest(config)"
   ]
  },
  {
   "cell_type": "code",
   "execution_count": 15,
   "metadata": {
    "collapsed": true
   },
   "outputs": [],
   "source": [
    "# train test \n",
    "from sklearn.cross_validation import train_test_split\n",
    "y = df[:,8]\n",
    "X = df[:,0:8]\n",
    "\n",
    "X_train,X_test,y_train,y_test = train_test_split(X, y, test_size=0.3, random_state=0)"
   ]
  },
  {
   "cell_type": "code",
   "execution_count": 16,
   "metadata": {},
   "outputs": [
    {
     "data": {
      "text/plain": [
       "2"
      ]
     },
     "execution_count": 16,
     "metadata": {},
     "output_type": "execute_result"
    }
   ],
   "source": [
    "# count of class\n",
    "len(np.unique(y_train))"
   ]
  },
  {
   "cell_type": "code",
   "execution_count": 17,
   "metadata": {},
   "outputs": [
    {
     "name": "stderr",
     "output_type": "stream",
     "text": [
      "[ 2018-04-19 23:35:54,053][cascade_classifier.fit_transform] X_groups_train.shape=[(12528, 8)],y_train.shape=(12528,),X_groups_test.shape=[(5370, 8)],y_test.shape=(5370,)\n",
      "[ 2018-04-19 23:35:54,056][cascade_classifier.fit_transform] group_dims=[8]\n",
      "[ 2018-04-19 23:35:54,058][cascade_classifier.fit_transform] group_starts=[0]\n",
      "[ 2018-04-19 23:35:54,059][cascade_classifier.fit_transform] group_ends=[8]\n",
      "[ 2018-04-19 23:35:54,061][cascade_classifier.fit_transform] X_train.shape=(12528, 8),X_test.shape=(5370, 8)\n",
      "[ 2018-04-19 23:35:54,064][cascade_classifier.fit_transform] [layer=0] look_indexs=[0], X_cur_train.shape=(12528, 8), X_cur_test.shape=(5370, 8)\n",
      "[ 2018-04-19 23:35:54,960][kfold_wrapper.log_eval_metrics] Accuracy(layer_0 - estimator_0 - 10_folds.train_0.predict)=98.09%\n",
      "[ 2018-04-19 23:35:56,041][kfold_wrapper.log_eval_metrics] Accuracy(layer_0 - estimator_0 - 10_folds.train_1.predict)=98.09%\n",
      "[ 2018-04-19 23:35:57,090][kfold_wrapper.log_eval_metrics] Accuracy(layer_0 - estimator_0 - 10_folds.train_2.predict)=98.72%\n",
      "[ 2018-04-19 23:35:58,168][kfold_wrapper.log_eval_metrics] Accuracy(layer_0 - estimator_0 - 10_folds.train_3.predict)=97.13%\n",
      "[ 2018-04-19 23:35:59,232][kfold_wrapper.log_eval_metrics] Accuracy(layer_0 - estimator_0 - 10_folds.train_4.predict)=97.45%\n",
      "[ 2018-04-19 23:36:00,278][kfold_wrapper.log_eval_metrics] Accuracy(layer_0 - estimator_0 - 10_folds.train_5.predict)=98.00%\n",
      "[ 2018-04-19 23:36:01,315][kfold_wrapper.log_eval_metrics] Accuracy(layer_0 - estimator_0 - 10_folds.train_6.predict)=97.84%\n",
      "[ 2018-04-19 23:36:02,414][kfold_wrapper.log_eval_metrics] Accuracy(layer_0 - estimator_0 - 10_folds.train_7.predict)=97.60%\n",
      "[ 2018-04-19 23:36:03,505][kfold_wrapper.log_eval_metrics] Accuracy(layer_0 - estimator_0 - 10_folds.train_8.predict)=97.92%\n",
      "[ 2018-04-19 23:36:04,570][kfold_wrapper.log_eval_metrics] Accuracy(layer_0 - estimator_0 - 10_folds.train_9.predict)=97.84%\n",
      "[ 2018-04-19 23:36:04,835][kfold_wrapper.log_eval_metrics] Accuracy(layer_0 - estimator_0 - 10_folds.train_cv.predict)=97.87%\n",
      "[ 2018-04-19 23:36:04,837][kfold_wrapper.log_eval_metrics] Accuracy(layer_0 - estimator_0 - 10_folds.test.predict)=98.06%\n",
      "[ 2018-04-19 23:36:04,839][cascade_classifier.calc_accuracy] Accuracy(layer_0 - train.classifier_average)=97.87%\n",
      "[ 2018-04-19 23:36:04,840][cascade_classifier.calc_accuracy] Accuracy(layer_0 - test.classifier_average)=98.06%\n",
      "[ 2018-04-19 23:36:04,842][cascade_classifier.fit_transform] [Result][Reach Max Layer] opt_layer_num=1, accuracy_train=97.87%, accuracy_test=98.06%\n"
     ]
    }
   ],
   "source": [
    "        # X_enc is the concatenated predict_proba result of ExtraTrees\n",
    "        \n",
    "X_train_enc, X_test_enc = gc.fit_transform(X_train, y_train, X_test=X_test, y_test=y_test)\n",
    " "
   ]
  },
  {
   "cell_type": "code",
   "execution_count": 19,
   "metadata": {},
   "outputs": [
    {
     "name": "stderr",
     "output_type": "stream",
     "text": [
      "[ 2018-04-19 23:36:32,715][cascade_classifier.transform] X_groups_test.shape=[(5370, 8)]\n",
      "[ 2018-04-19 23:36:32,717][cascade_classifier.transform] group_dims=[8]\n",
      "[ 2018-04-19 23:36:32,719][cascade_classifier.transform] X_test.shape=(5370, 8)\n",
      "[ 2018-04-19 23:36:32,722][cascade_classifier.transform] [layer=0] look_indexs=[0], X_cur_test.shape=(5370, 8)\n"
     ]
    },
    {
     "name": "stdout",
     "output_type": "stream",
     "text": [
      "Test Accuracy of ExtraTrees = 98.063315 %\n"
     ]
    }
   ],
   "source": [
    "# predict\n",
    "y_pred = gc.predict(X_test)\n",
    "acc = accuracy_score(y_test, y_pred)\n",
    "print(\"Test Accuracy of ExtraTrees = {:.6f} %\".format(acc * 100))"
   ]
  },
  {
   "cell_type": "code",
   "execution_count": 20,
   "metadata": {},
   "outputs": [
    {
     "name": "stdout",
     "output_type": "stream",
     "text": [
      "X_train_enc.shape=(12528, 2), X_test_enc.shape=(5370, 2)\n"
     ]
    }
   ],
   "source": [
    "print(\"X_train_enc.shape={}, X_test_enc.shape={}\".format(X_train_enc.shape, X_test_enc.shape))"
   ]
  },
  {
   "cell_type": "code",
   "execution_count": 21,
   "metadata": {},
   "outputs": [
    {
     "name": "stdout",
     "output_type": "stream",
     "text": [
      "X_train.shape=(12528, 8), X_test.shape=(5370, 8)\n"
     ]
    }
   ],
   "source": [
    "print(\"X_train.shape={}, X_test.shape={}\".format(X_train.shape, X_test.shape))"
   ]
  },
  {
   "cell_type": "code",
   "execution_count": 22,
   "metadata": {},
   "outputs": [
    {
     "name": "stderr",
     "output_type": "stream",
     "text": [
      "[ 2018-04-19 23:36:38,588][cascade_classifier.transform] X_groups_test.shape=[(5370, 8)]\n",
      "[ 2018-04-19 23:36:38,591][cascade_classifier.transform] group_dims=[8]\n",
      "[ 2018-04-19 23:36:38,593][cascade_classifier.transform] X_test.shape=(5370, 8)\n",
      "[ 2018-04-19 23:36:38,595][cascade_classifier.transform] [layer=0] look_indexs=[0], X_cur_test.shape=(5370, 8)\n"
     ]
    }
   ],
   "source": [
    "# Make Data + Estimators\n",
    "X_test_enc = gc.transform(X_test)\n",
    "X_train_enc = X_train_enc.reshape((X_train_enc.shape[0], -1))\n",
    "X_test_enc = X_test_enc.reshape((X_test_enc.shape[0], -1))\n",
    "X_train_origin = X_train.reshape((X_train.shape[0], -1))\n",
    "X_test_origin = X_test.reshape((X_test.shape[0], -1))\n",
    "X_train_enc = np.hstack((X_train_origin, X_train_enc))\n",
    "X_test_enc = np.hstack((X_test_origin, X_test_enc))"
   ]
  },
  {
   "cell_type": "code",
   "execution_count": 23,
   "metadata": {},
   "outputs": [
    {
     "name": "stdout",
     "output_type": "stream",
     "text": [
      "X_train_enc.shape=(12528, 10), X_test_enc.shape=(5370, 10)\n"
     ]
    }
   ],
   "source": [
    "print(\"X_train_enc.shape={}, X_test_enc.shape={}\".format(X_train_enc.shape, X_test_enc.shape))"
   ]
  },
  {
   "cell_type": "code",
   "execution_count": 24,
   "metadata": {},
   "outputs": [
    {
     "name": "stderr",
     "output_type": "stream",
     "text": [
      "[ 2018-04-19 23:36:41,209][cascade_classifier.fit_transform] X_groups_train.shape=[(12528, 10)],y_train.shape=(12528,),X_groups_test.shape=[(5370, 10)],y_test.shape=(5370,)\n",
      "[ 2018-04-19 23:36:41,211][cascade_classifier.fit_transform] group_dims=[10]\n",
      "[ 2018-04-19 23:36:41,212][cascade_classifier.fit_transform] group_starts=[0]\n",
      "[ 2018-04-19 23:36:41,214][cascade_classifier.fit_transform] group_ends=[10]\n",
      "[ 2018-04-19 23:36:41,215][cascade_classifier.fit_transform] X_train.shape=(12528, 10),X_test.shape=(5370, 10)\n",
      "[ 2018-04-19 23:36:41,217][cascade_classifier.fit_transform] [layer=0] look_indexs=[0], X_cur_train.shape=(12528, 10), X_cur_test.shape=(5370, 10)\n",
      "[ 2018-04-19 23:36:42,020][kfold_wrapper.log_eval_metrics] Accuracy(layer_0 - estimator_0 - 10_folds.train_0.predict)=98.09%\n",
      "[ 2018-04-19 23:36:43,073][kfold_wrapper.log_eval_metrics] Accuracy(layer_0 - estimator_0 - 10_folds.train_1.predict)=97.85%\n",
      "[ 2018-04-19 23:36:44,165][kfold_wrapper.log_eval_metrics] Accuracy(layer_0 - estimator_0 - 10_folds.train_2.predict)=98.72%\n",
      "[ 2018-04-19 23:36:45,280][kfold_wrapper.log_eval_metrics] Accuracy(layer_0 - estimator_0 - 10_folds.train_3.predict)=97.21%\n",
      "[ 2018-04-19 23:36:46,355][kfold_wrapper.log_eval_metrics] Accuracy(layer_0 - estimator_0 - 10_folds.train_4.predict)=97.21%\n",
      "[ 2018-04-19 23:36:47,537][kfold_wrapper.log_eval_metrics] Accuracy(layer_0 - estimator_0 - 10_folds.train_5.predict)=98.00%\n",
      "[ 2018-04-19 23:36:48,609][kfold_wrapper.log_eval_metrics] Accuracy(layer_0 - estimator_0 - 10_folds.train_6.predict)=98.00%\n",
      "[ 2018-04-19 23:36:49,680][kfold_wrapper.log_eval_metrics] Accuracy(layer_0 - estimator_0 - 10_folds.train_7.predict)=97.92%\n",
      "[ 2018-04-19 23:36:50,732][kfold_wrapper.log_eval_metrics] Accuracy(layer_0 - estimator_0 - 10_folds.train_8.predict)=98.16%\n",
      "[ 2018-04-19 23:36:51,856][kfold_wrapper.log_eval_metrics] Accuracy(layer_0 - estimator_0 - 10_folds.train_9.predict)=97.92%\n",
      "[ 2018-04-19 23:36:52,117][kfold_wrapper.log_eval_metrics] Accuracy(layer_0 - estimator_0 - 10_folds.train_cv.predict)=97.91%\n",
      "[ 2018-04-19 23:36:52,119][kfold_wrapper.log_eval_metrics] Accuracy(layer_0 - estimator_0 - 10_folds.test.predict)=97.95%\n",
      "[ 2018-04-19 23:36:52,127][cascade_classifier.calc_accuracy] Accuracy(layer_0 - train.classifier_average)=97.91%\n",
      "[ 2018-04-19 23:36:52,129][cascade_classifier.calc_accuracy] Accuracy(layer_0 - test.classifier_average)=97.95%\n",
      "[ 2018-04-19 23:36:52,130][cascade_classifier.fit_transform] [Result][Reach Max Layer] opt_layer_num=1, accuracy_train=97.91%, accuracy_test=97.95%\n"
     ]
    }
   ],
   "source": [
    "# New data\n",
    "X_train=X_train_enc\n",
    "X_test=X_test_enc \n",
    "X_train_enc, X_test_enc = gc.fit_transform(X_train, y_train, X_test=X_test, y_test=y_test)"
   ]
  },
  {
   "cell_type": "code",
   "execution_count": 26,
   "metadata": {
    "collapsed": true
   },
   "outputs": [],
   "source": [
    "def update(X_train,X_test):\n",
    "    # update Estimators\n",
    "    M = np.delete(X_train, (-1), axis=1)\n",
    "    X_train= np.delete(M, (-1), axis=1)\n",
    "    M = np.delete(X_test, (-1), axis=1)\n",
    "    X_test = np.delete(M, (-1), axis=1)\n",
    "    return X_train,X_test\n",
    "\n",
    "def newdata(X_test_enc, X_train_enc):\n",
    "    # Make Data + Estimators\n",
    "    X_train_origin = X_train.reshape((X_train.shape[0], -1))\n",
    "    X_test_origin = X_test.reshape((X_test.shape[0], -1))\n",
    "    X_train_enc = np.hstack((X_train_origin, X_train_enc))\n",
    "    X_test_enc = np.hstack((X_test_origin, X_test_enc))\n",
    "    return X_test_enc, X_train_enc"
   ]
  },
  {
   "cell_type": "code",
   "execution_count": 27,
   "metadata": {
    "collapsed": true
   },
   "outputs": [],
   "source": [
    "def affiche():\n",
    "    # predict\n",
    "    y_pred = gc.predict(X_test)\n",
    "    acc = accuracy_score(y_test, y_pred)\n",
    "    print(\"Test Accuracy of ExtraTrees = {:.6f} %\".format(acc * 100),i,'fois')"
   ]
  },
  {
   "cell_type": "code",
   "execution_count": 28,
   "metadata": {},
   "outputs": [
    {
     "name": "stderr",
     "output_type": "stream",
     "text": [
      "[ 2018-04-19 23:36:58,197][cascade_classifier.fit_transform] X_groups_train.shape=[(12528, 10)],y_train.shape=(12528,),X_groups_test.shape=[(5370, 10)],y_test.shape=(5370,)\n",
      "[ 2018-04-19 23:36:58,199][cascade_classifier.fit_transform] group_dims=[10]\n",
      "[ 2018-04-19 23:36:58,200][cascade_classifier.fit_transform] group_starts=[0]\n",
      "[ 2018-04-19 23:36:58,202][cascade_classifier.fit_transform] group_ends=[10]\n",
      "[ 2018-04-19 23:36:58,204][cascade_classifier.fit_transform] X_train.shape=(12528, 10),X_test.shape=(5370, 10)\n",
      "[ 2018-04-19 23:36:58,206][cascade_classifier.fit_transform] [layer=0] look_indexs=[0], X_cur_train.shape=(12528, 10), X_cur_test.shape=(5370, 10)\n",
      "[ 2018-04-19 23:36:59,130][kfold_wrapper.log_eval_metrics] Accuracy(layer_0 - estimator_0 - 10_folds.train_0.predict)=98.09%\n",
      "[ 2018-04-19 23:37:00,192][kfold_wrapper.log_eval_metrics] Accuracy(layer_0 - estimator_0 - 10_folds.train_1.predict)=97.85%\n",
      "[ 2018-04-19 23:37:01,292][kfold_wrapper.log_eval_metrics] Accuracy(layer_0 - estimator_0 - 10_folds.train_2.predict)=98.80%\n",
      "[ 2018-04-19 23:37:02,379][kfold_wrapper.log_eval_metrics] Accuracy(layer_0 - estimator_0 - 10_folds.train_3.predict)=97.21%\n",
      "[ 2018-04-19 23:37:03,469][kfold_wrapper.log_eval_metrics] Accuracy(layer_0 - estimator_0 - 10_folds.train_4.predict)=96.97%\n",
      "[ 2018-04-19 23:37:04,680][kfold_wrapper.log_eval_metrics] Accuracy(layer_0 - estimator_0 - 10_folds.train_5.predict)=98.08%\n",
      "[ 2018-04-19 23:37:05,739][kfold_wrapper.log_eval_metrics] Accuracy(layer_0 - estimator_0 - 10_folds.train_6.predict)=98.00%\n",
      "[ 2018-04-19 23:37:06,867][kfold_wrapper.log_eval_metrics] Accuracy(layer_0 - estimator_0 - 10_folds.train_7.predict)=97.76%\n",
      "[ 2018-04-19 23:37:07,959][kfold_wrapper.log_eval_metrics] Accuracy(layer_0 - estimator_0 - 10_folds.train_8.predict)=97.92%\n",
      "[ 2018-04-19 23:37:09,106][kfold_wrapper.log_eval_metrics] Accuracy(layer_0 - estimator_0 - 10_folds.train_9.predict)=97.68%\n",
      "[ 2018-04-19 23:37:09,368][kfold_wrapper.log_eval_metrics] Accuracy(layer_0 - estimator_0 - 10_folds.train_cv.predict)=97.84%\n",
      "[ 2018-04-19 23:37:09,369][kfold_wrapper.log_eval_metrics] Accuracy(layer_0 - estimator_0 - 10_folds.test.predict)=98.12%\n",
      "[ 2018-04-19 23:37:09,382][cascade_classifier.calc_accuracy] Accuracy(layer_0 - train.classifier_average)=97.84%\n",
      "[ 2018-04-19 23:37:09,384][cascade_classifier.calc_accuracy] Accuracy(layer_0 - test.classifier_average)=98.12%\n",
      "[ 2018-04-19 23:37:09,385][cascade_classifier.fit_transform] [Result][Reach Max Layer] opt_layer_num=1, accuracy_train=97.84%, accuracy_test=98.12%\n",
      "[ 2018-04-19 23:37:09,386][cascade_classifier.transform] X_groups_test.shape=[(5370, 10)]\n",
      "[ 2018-04-19 23:37:09,388][cascade_classifier.transform] group_dims=[10]\n",
      "[ 2018-04-19 23:37:09,389][cascade_classifier.transform] X_test.shape=(5370, 10)\n",
      "[ 2018-04-19 23:37:09,390][cascade_classifier.transform] [layer=0] look_indexs=[0], X_cur_test.shape=(5370, 10)\n",
      "[ 2018-04-19 23:37:11,839][cascade_classifier.fit_transform] X_groups_train.shape=[(12528, 10)],y_train.shape=(12528,),X_groups_test.shape=[(5370, 10)],y_test.shape=(5370,)\n",
      "[ 2018-04-19 23:37:11,840][cascade_classifier.fit_transform] group_dims=[10]\n",
      "[ 2018-04-19 23:37:11,842][cascade_classifier.fit_transform] group_starts=[0]\n",
      "[ 2018-04-19 23:37:11,843][cascade_classifier.fit_transform] group_ends=[10]\n",
      "[ 2018-04-19 23:37:11,844][cascade_classifier.fit_transform] X_train.shape=(12528, 10),X_test.shape=(5370, 10)\n",
      "[ 2018-04-19 23:37:11,846][cascade_classifier.fit_transform] [layer=0] look_indexs=[0], X_cur_train.shape=(12528, 10), X_cur_test.shape=(5370, 10)\n"
     ]
    },
    {
     "name": "stdout",
     "output_type": "stream",
     "text": [
      "('Test Accuracy of ExtraTrees = 98.119181 %', 0, 'fois')\n"
     ]
    },
    {
     "name": "stderr",
     "output_type": "stream",
     "text": [
      "[ 2018-04-19 23:37:12,684][kfold_wrapper.log_eval_metrics] Accuracy(layer_0 - estimator_0 - 10_folds.train_0.predict)=98.25%\n",
      "[ 2018-04-19 23:37:13,893][kfold_wrapper.log_eval_metrics] Accuracy(layer_0 - estimator_0 - 10_folds.train_1.predict)=98.17%\n",
      "[ 2018-04-19 23:37:14,972][kfold_wrapper.log_eval_metrics] Accuracy(layer_0 - estimator_0 - 10_folds.train_2.predict)=98.80%\n",
      "[ 2018-04-19 23:37:16,015][kfold_wrapper.log_eval_metrics] Accuracy(layer_0 - estimator_0 - 10_folds.train_3.predict)=97.45%\n",
      "[ 2018-04-19 23:37:17,087][kfold_wrapper.log_eval_metrics] Accuracy(layer_0 - estimator_0 - 10_folds.train_4.predict)=97.29%\n",
      "[ 2018-04-19 23:37:18,129][kfold_wrapper.log_eval_metrics] Accuracy(layer_0 - estimator_0 - 10_folds.train_5.predict)=98.16%\n",
      "[ 2018-04-19 23:37:19,180][kfold_wrapper.log_eval_metrics] Accuracy(layer_0 - estimator_0 - 10_folds.train_6.predict)=97.60%\n",
      "[ 2018-04-19 23:37:20,258][kfold_wrapper.log_eval_metrics] Accuracy(layer_0 - estimator_0 - 10_folds.train_7.predict)=97.68%\n",
      "[ 2018-04-19 23:37:21,328][kfold_wrapper.log_eval_metrics] Accuracy(layer_0 - estimator_0 - 10_folds.train_8.predict)=97.92%\n",
      "[ 2018-04-19 23:37:22,393][kfold_wrapper.log_eval_metrics] Accuracy(layer_0 - estimator_0 - 10_folds.train_9.predict)=98.16%\n",
      "[ 2018-04-19 23:37:22,633][kfold_wrapper.log_eval_metrics] Accuracy(layer_0 - estimator_0 - 10_folds.train_cv.predict)=97.95%\n",
      "[ 2018-04-19 23:37:22,635][kfold_wrapper.log_eval_metrics] Accuracy(layer_0 - estimator_0 - 10_folds.test.predict)=98.03%\n",
      "[ 2018-04-19 23:37:22,646][cascade_classifier.calc_accuracy] Accuracy(layer_0 - train.classifier_average)=97.95%\n",
      "[ 2018-04-19 23:37:22,648][cascade_classifier.calc_accuracy] Accuracy(layer_0 - test.classifier_average)=98.03%\n",
      "[ 2018-04-19 23:37:22,649][cascade_classifier.fit_transform] [Result][Reach Max Layer] opt_layer_num=1, accuracy_train=97.95%, accuracy_test=98.03%\n",
      "[ 2018-04-19 23:37:22,651][cascade_classifier.transform] X_groups_test.shape=[(5370, 10)]\n",
      "[ 2018-04-19 23:37:22,652][cascade_classifier.transform] group_dims=[10]\n",
      "[ 2018-04-19 23:37:22,653][cascade_classifier.transform] X_test.shape=(5370, 10)\n",
      "[ 2018-04-19 23:37:22,655][cascade_classifier.transform] [layer=0] look_indexs=[0], X_cur_test.shape=(5370, 10)\n",
      "[ 2018-04-19 23:37:25,134][cascade_classifier.fit_transform] X_groups_train.shape=[(12528, 10)],y_train.shape=(12528,),X_groups_test.shape=[(5370, 10)],y_test.shape=(5370,)\n",
      "[ 2018-04-19 23:37:25,136][cascade_classifier.fit_transform] group_dims=[10]\n",
      "[ 2018-04-19 23:37:25,137][cascade_classifier.fit_transform] group_starts=[0]\n",
      "[ 2018-04-19 23:37:25,139][cascade_classifier.fit_transform] group_ends=[10]\n",
      "[ 2018-04-19 23:37:25,140][cascade_classifier.fit_transform] X_train.shape=(12528, 10),X_test.shape=(5370, 10)\n",
      "[ 2018-04-19 23:37:25,142][cascade_classifier.fit_transform] [layer=0] look_indexs=[0], X_cur_train.shape=(12528, 10), X_cur_test.shape=(5370, 10)\n"
     ]
    },
    {
     "name": "stdout",
     "output_type": "stream",
     "text": [
      "('Test Accuracy of ExtraTrees = 98.026071 %', 1, 'fois')\n"
     ]
    },
    {
     "name": "stderr",
     "output_type": "stream",
     "text": [
      "[ 2018-04-19 23:37:26,044][kfold_wrapper.log_eval_metrics] Accuracy(layer_0 - estimator_0 - 10_folds.train_0.predict)=98.17%\n",
      "[ 2018-04-19 23:37:27,054][kfold_wrapper.log_eval_metrics] Accuracy(layer_0 - estimator_0 - 10_folds.train_1.predict)=97.93%\n",
      "[ 2018-04-19 23:37:28,227][kfold_wrapper.log_eval_metrics] Accuracy(layer_0 - estimator_0 - 10_folds.train_2.predict)=98.64%\n",
      "[ 2018-04-19 23:37:29,293][kfold_wrapper.log_eval_metrics] Accuracy(layer_0 - estimator_0 - 10_folds.train_3.predict)=97.45%\n",
      "[ 2018-04-19 23:37:30,365][kfold_wrapper.log_eval_metrics] Accuracy(layer_0 - estimator_0 - 10_folds.train_4.predict)=97.21%\n",
      "[ 2018-04-19 23:37:31,467][kfold_wrapper.log_eval_metrics] Accuracy(layer_0 - estimator_0 - 10_folds.train_5.predict)=98.16%\n",
      "[ 2018-04-19 23:37:32,555][kfold_wrapper.log_eval_metrics] Accuracy(layer_0 - estimator_0 - 10_folds.train_6.predict)=97.60%\n",
      "[ 2018-04-19 23:37:33,652][kfold_wrapper.log_eval_metrics] Accuracy(layer_0 - estimator_0 - 10_folds.train_7.predict)=97.52%\n",
      "[ 2018-04-19 23:37:34,717][kfold_wrapper.log_eval_metrics] Accuracy(layer_0 - estimator_0 - 10_folds.train_8.predict)=97.84%\n",
      "[ 2018-04-19 23:37:35,793][kfold_wrapper.log_eval_metrics] Accuracy(layer_0 - estimator_0 - 10_folds.train_9.predict)=98.08%\n",
      "[ 2018-04-19 23:37:36,042][kfold_wrapper.log_eval_metrics] Accuracy(layer_0 - estimator_0 - 10_folds.train_cv.predict)=97.86%\n",
      "[ 2018-04-19 23:37:36,044][kfold_wrapper.log_eval_metrics] Accuracy(layer_0 - estimator_0 - 10_folds.test.predict)=98.03%\n",
      "[ 2018-04-19 23:37:36,056][cascade_classifier.calc_accuracy] Accuracy(layer_0 - train.classifier_average)=97.86%\n",
      "[ 2018-04-19 23:37:36,057][cascade_classifier.calc_accuracy] Accuracy(layer_0 - test.classifier_average)=98.03%\n",
      "[ 2018-04-19 23:37:36,059][cascade_classifier.fit_transform] [Result][Reach Max Layer] opt_layer_num=1, accuracy_train=97.86%, accuracy_test=98.03%\n",
      "[ 2018-04-19 23:37:36,060][cascade_classifier.transform] X_groups_test.shape=[(5370, 10)]\n",
      "[ 2018-04-19 23:37:36,061][cascade_classifier.transform] group_dims=[10]\n",
      "[ 2018-04-19 23:37:36,063][cascade_classifier.transform] X_test.shape=(5370, 10)\n",
      "[ 2018-04-19 23:37:36,064][cascade_classifier.transform] [layer=0] look_indexs=[0], X_cur_test.shape=(5370, 10)\n",
      "[ 2018-04-19 23:37:38,675][cascade_classifier.fit_transform] X_groups_train.shape=[(12528, 10)],y_train.shape=(12528,),X_groups_test.shape=[(5370, 10)],y_test.shape=(5370,)\n",
      "[ 2018-04-19 23:37:38,678][cascade_classifier.fit_transform] group_dims=[10]\n",
      "[ 2018-04-19 23:37:38,679][cascade_classifier.fit_transform] group_starts=[0]\n",
      "[ 2018-04-19 23:37:38,680][cascade_classifier.fit_transform] group_ends=[10]\n",
      "[ 2018-04-19 23:37:38,681][cascade_classifier.fit_transform] X_train.shape=(12528, 10),X_test.shape=(5370, 10)\n",
      "[ 2018-04-19 23:37:38,683][cascade_classifier.fit_transform] [layer=0] look_indexs=[0], X_cur_train.shape=(12528, 10), X_cur_test.shape=(5370, 10)\n"
     ]
    },
    {
     "name": "stdout",
     "output_type": "stream",
     "text": [
      "('Test Accuracy of ExtraTrees = 98.026071 %', 2, 'fois')\n"
     ]
    },
    {
     "name": "stderr",
     "output_type": "stream",
     "text": [
      "[ 2018-04-19 23:37:39,495][kfold_wrapper.log_eval_metrics] Accuracy(layer_0 - estimator_0 - 10_folds.train_0.predict)=98.09%\n",
      "[ 2018-04-19 23:37:40,588][kfold_wrapper.log_eval_metrics] Accuracy(layer_0 - estimator_0 - 10_folds.train_1.predict)=98.41%\n",
      "[ 2018-04-19 23:37:41,662][kfold_wrapper.log_eval_metrics] Accuracy(layer_0 - estimator_0 - 10_folds.train_2.predict)=98.72%\n",
      "[ 2018-04-19 23:37:42,706][kfold_wrapper.log_eval_metrics] Accuracy(layer_0 - estimator_0 - 10_folds.train_3.predict)=97.61%\n",
      "[ 2018-04-19 23:37:43,776][kfold_wrapper.log_eval_metrics] Accuracy(layer_0 - estimator_0 - 10_folds.train_4.predict)=97.53%\n",
      "[ 2018-04-19 23:37:44,908][kfold_wrapper.log_eval_metrics] Accuracy(layer_0 - estimator_0 - 10_folds.train_5.predict)=98.00%\n",
      "[ 2018-04-19 23:37:45,967][kfold_wrapper.log_eval_metrics] Accuracy(layer_0 - estimator_0 - 10_folds.train_6.predict)=97.84%\n",
      "[ 2018-04-19 23:37:47,074][kfold_wrapper.log_eval_metrics] Accuracy(layer_0 - estimator_0 - 10_folds.train_7.predict)=97.84%\n",
      "[ 2018-04-19 23:37:48,232][kfold_wrapper.log_eval_metrics] Accuracy(layer_0 - estimator_0 - 10_folds.train_8.predict)=97.68%\n",
      "[ 2018-04-19 23:37:49,343][kfold_wrapper.log_eval_metrics] Accuracy(layer_0 - estimator_0 - 10_folds.train_9.predict)=97.92%\n",
      "[ 2018-04-19 23:37:49,583][kfold_wrapper.log_eval_metrics] Accuracy(layer_0 - estimator_0 - 10_folds.train_cv.predict)=97.96%\n",
      "[ 2018-04-19 23:37:49,585][kfold_wrapper.log_eval_metrics] Accuracy(layer_0 - estimator_0 - 10_folds.test.predict)=98.10%\n",
      "[ 2018-04-19 23:37:49,595][cascade_classifier.calc_accuracy] Accuracy(layer_0 - train.classifier_average)=97.96%\n",
      "[ 2018-04-19 23:37:49,597][cascade_classifier.calc_accuracy] Accuracy(layer_0 - test.classifier_average)=98.10%\n",
      "[ 2018-04-19 23:37:49,598][cascade_classifier.fit_transform] [Result][Reach Max Layer] opt_layer_num=1, accuracy_train=97.96%, accuracy_test=98.10%\n",
      "[ 2018-04-19 23:37:49,599][cascade_classifier.transform] X_groups_test.shape=[(5370, 10)]\n",
      "[ 2018-04-19 23:37:49,601][cascade_classifier.transform] group_dims=[10]\n",
      "[ 2018-04-19 23:37:49,602][cascade_classifier.transform] X_test.shape=(5370, 10)\n",
      "[ 2018-04-19 23:37:49,603][cascade_classifier.transform] [layer=0] look_indexs=[0], X_cur_test.shape=(5370, 10)\n",
      "[ 2018-04-19 23:37:52,244][cascade_classifier.fit_transform] X_groups_train.shape=[(12528, 10)],y_train.shape=(12528,),X_groups_test.shape=[(5370, 10)],y_test.shape=(5370,)\n",
      "[ 2018-04-19 23:37:52,246][cascade_classifier.fit_transform] group_dims=[10]\n",
      "[ 2018-04-19 23:37:52,247][cascade_classifier.fit_transform] group_starts=[0]\n",
      "[ 2018-04-19 23:37:52,248][cascade_classifier.fit_transform] group_ends=[10]\n",
      "[ 2018-04-19 23:37:52,249][cascade_classifier.fit_transform] X_train.shape=(12528, 10),X_test.shape=(5370, 10)\n",
      "[ 2018-04-19 23:37:52,251][cascade_classifier.fit_transform] [layer=0] look_indexs=[0], X_cur_train.shape=(12528, 10), X_cur_test.shape=(5370, 10)\n"
     ]
    },
    {
     "name": "stdout",
     "output_type": "stream",
     "text": [
      "('Test Accuracy of ExtraTrees = 98.100559 %', 3, 'fois')\n"
     ]
    },
    {
     "name": "stderr",
     "output_type": "stream",
     "text": [
      "[ 2018-04-19 23:37:53,084][kfold_wrapper.log_eval_metrics] Accuracy(layer_0 - estimator_0 - 10_folds.train_0.predict)=98.09%\n",
      "[ 2018-04-19 23:37:54,147][kfold_wrapper.log_eval_metrics] Accuracy(layer_0 - estimator_0 - 10_folds.train_1.predict)=97.93%\n",
      "[ 2018-04-19 23:37:55,221][kfold_wrapper.log_eval_metrics] Accuracy(layer_0 - estimator_0 - 10_folds.train_2.predict)=98.48%\n",
      "[ 2018-04-19 23:37:56,315][kfold_wrapper.log_eval_metrics] Accuracy(layer_0 - estimator_0 - 10_folds.train_3.predict)=97.61%\n",
      "[ 2018-04-19 23:37:57,506][kfold_wrapper.log_eval_metrics] Accuracy(layer_0 - estimator_0 - 10_folds.train_4.predict)=97.21%\n",
      "[ 2018-04-19 23:37:58,557][kfold_wrapper.log_eval_metrics] Accuracy(layer_0 - estimator_0 - 10_folds.train_5.predict)=97.92%\n",
      "[ 2018-04-19 23:37:59,591][kfold_wrapper.log_eval_metrics] Accuracy(layer_0 - estimator_0 - 10_folds.train_6.predict)=97.92%\n",
      "[ 2018-04-19 23:38:00,654][kfold_wrapper.log_eval_metrics] Accuracy(layer_0 - estimator_0 - 10_folds.train_7.predict)=97.60%\n",
      "[ 2018-04-19 23:38:01,748][kfold_wrapper.log_eval_metrics] Accuracy(layer_0 - estimator_0 - 10_folds.train_8.predict)=97.84%\n",
      "[ 2018-04-19 23:38:02,892][kfold_wrapper.log_eval_metrics] Accuracy(layer_0 - estimator_0 - 10_folds.train_9.predict)=97.76%\n",
      "[ 2018-04-19 23:38:03,136][kfold_wrapper.log_eval_metrics] Accuracy(layer_0 - estimator_0 - 10_folds.train_cv.predict)=97.84%\n",
      "[ 2018-04-19 23:38:03,138][kfold_wrapper.log_eval_metrics] Accuracy(layer_0 - estimator_0 - 10_folds.test.predict)=98.08%\n",
      "[ 2018-04-19 23:38:03,149][cascade_classifier.calc_accuracy] Accuracy(layer_0 - train.classifier_average)=97.84%\n",
      "[ 2018-04-19 23:38:03,151][cascade_classifier.calc_accuracy] Accuracy(layer_0 - test.classifier_average)=98.08%\n",
      "[ 2018-04-19 23:38:03,152][cascade_classifier.fit_transform] [Result][Reach Max Layer] opt_layer_num=1, accuracy_train=97.84%, accuracy_test=98.08%\n",
      "[ 2018-04-19 23:38:03,154][cascade_classifier.transform] X_groups_test.shape=[(5370, 10)]\n",
      "[ 2018-04-19 23:38:03,155][cascade_classifier.transform] group_dims=[10]\n",
      "[ 2018-04-19 23:38:03,156][cascade_classifier.transform] X_test.shape=(5370, 10)\n",
      "[ 2018-04-19 23:38:03,158][cascade_classifier.transform] [layer=0] look_indexs=[0], X_cur_test.shape=(5370, 10)\n",
      "[ 2018-04-19 23:38:05,610][cascade_classifier.fit_transform] X_groups_train.shape=[(12528, 10)],y_train.shape=(12528,),X_groups_test.shape=[(5370, 10)],y_test.shape=(5370,)\n",
      "[ 2018-04-19 23:38:05,613][cascade_classifier.fit_transform] group_dims=[10]\n",
      "[ 2018-04-19 23:38:05,614][cascade_classifier.fit_transform] group_starts=[0]\n",
      "[ 2018-04-19 23:38:05,615][cascade_classifier.fit_transform] group_ends=[10]\n",
      "[ 2018-04-19 23:38:05,616][cascade_classifier.fit_transform] X_train.shape=(12528, 10),X_test.shape=(5370, 10)\n",
      "[ 2018-04-19 23:38:05,619][cascade_classifier.fit_transform] [layer=0] look_indexs=[0], X_cur_train.shape=(12528, 10), X_cur_test.shape=(5370, 10)\n"
     ]
    },
    {
     "name": "stdout",
     "output_type": "stream",
     "text": [
      "('Test Accuracy of ExtraTrees = 98.081937 %', 4, 'fois')\n"
     ]
    },
    {
     "name": "stderr",
     "output_type": "stream",
     "text": [
      "[ 2018-04-19 23:38:06,471][kfold_wrapper.log_eval_metrics] Accuracy(layer_0 - estimator_0 - 10_folds.train_0.predict)=98.01%\n",
      "[ 2018-04-19 23:38:07,532][kfold_wrapper.log_eval_metrics] Accuracy(layer_0 - estimator_0 - 10_folds.train_1.predict)=98.41%\n",
      "[ 2018-04-19 23:38:08,610][kfold_wrapper.log_eval_metrics] Accuracy(layer_0 - estimator_0 - 10_folds.train_2.predict)=98.64%\n",
      "[ 2018-04-19 23:38:09,712][kfold_wrapper.log_eval_metrics] Accuracy(layer_0 - estimator_0 - 10_folds.train_3.predict)=97.37%\n",
      "[ 2018-04-19 23:38:10,792][kfold_wrapper.log_eval_metrics] Accuracy(layer_0 - estimator_0 - 10_folds.train_4.predict)=97.61%\n",
      "[ 2018-04-19 23:38:11,979][kfold_wrapper.log_eval_metrics] Accuracy(layer_0 - estimator_0 - 10_folds.train_5.predict)=98.16%\n",
      "[ 2018-04-19 23:38:13,049][kfold_wrapper.log_eval_metrics] Accuracy(layer_0 - estimator_0 - 10_folds.train_6.predict)=97.76%\n",
      "[ 2018-04-19 23:38:14,180][kfold_wrapper.log_eval_metrics] Accuracy(layer_0 - estimator_0 - 10_folds.train_7.predict)=97.60%\n",
      "[ 2018-04-19 23:38:15,248][kfold_wrapper.log_eval_metrics] Accuracy(layer_0 - estimator_0 - 10_folds.train_8.predict)=97.92%\n",
      "[ 2018-04-19 23:38:16,295][kfold_wrapper.log_eval_metrics] Accuracy(layer_0 - estimator_0 - 10_folds.train_9.predict)=98.16%\n",
      "[ 2018-04-19 23:38:16,676][kfold_wrapper.log_eval_metrics] Accuracy(layer_0 - estimator_0 - 10_folds.train_cv.predict)=97.96%\n",
      "[ 2018-04-19 23:38:16,678][kfold_wrapper.log_eval_metrics] Accuracy(layer_0 - estimator_0 - 10_folds.test.predict)=97.99%\n",
      "[ 2018-04-19 23:38:16,688][cascade_classifier.calc_accuracy] Accuracy(layer_0 - train.classifier_average)=97.96%\n",
      "[ 2018-04-19 23:38:16,690][cascade_classifier.calc_accuracy] Accuracy(layer_0 - test.classifier_average)=97.99%\n",
      "[ 2018-04-19 23:38:16,692][cascade_classifier.fit_transform] [Result][Reach Max Layer] opt_layer_num=1, accuracy_train=97.96%, accuracy_test=97.99%\n",
      "[ 2018-04-19 23:38:16,693][cascade_classifier.transform] X_groups_test.shape=[(5370, 10)]\n",
      "[ 2018-04-19 23:38:16,695][cascade_classifier.transform] group_dims=[10]\n",
      "[ 2018-04-19 23:38:16,696][cascade_classifier.transform] X_test.shape=(5370, 10)\n",
      "[ 2018-04-19 23:38:16,697][cascade_classifier.transform] [layer=0] look_indexs=[0], X_cur_test.shape=(5370, 10)\n",
      "[ 2018-04-19 23:38:19,214][cascade_classifier.fit_transform] X_groups_train.shape=[(12528, 10)],y_train.shape=(12528,),X_groups_test.shape=[(5370, 10)],y_test.shape=(5370,)\n",
      "[ 2018-04-19 23:38:19,216][cascade_classifier.fit_transform] group_dims=[10]\n",
      "[ 2018-04-19 23:38:19,217][cascade_classifier.fit_transform] group_starts=[0]\n",
      "[ 2018-04-19 23:38:19,218][cascade_classifier.fit_transform] group_ends=[10]\n",
      "[ 2018-04-19 23:38:19,220][cascade_classifier.fit_transform] X_train.shape=(12528, 10),X_test.shape=(5370, 10)\n",
      "[ 2018-04-19 23:38:19,221][cascade_classifier.fit_transform] [layer=0] look_indexs=[0], X_cur_train.shape=(12528, 10), X_cur_test.shape=(5370, 10)\n"
     ]
    },
    {
     "name": "stdout",
     "output_type": "stream",
     "text": [
      "('Test Accuracy of ExtraTrees = 97.988827 %', 5, 'fois')\n"
     ]
    },
    {
     "name": "stderr",
     "output_type": "stream",
     "text": [
      "[ 2018-04-19 23:38:20,068][kfold_wrapper.log_eval_metrics] Accuracy(layer_0 - estimator_0 - 10_folds.train_0.predict)=97.93%\n",
      "[ 2018-04-19 23:38:21,137][kfold_wrapper.log_eval_metrics] Accuracy(layer_0 - estimator_0 - 10_folds.train_1.predict)=98.09%\n",
      "[ 2018-04-19 23:38:22,282][kfold_wrapper.log_eval_metrics] Accuracy(layer_0 - estimator_0 - 10_folds.train_2.predict)=98.48%\n",
      "[ 2018-04-19 23:38:23,366][kfold_wrapper.log_eval_metrics] Accuracy(layer_0 - estimator_0 - 10_folds.train_3.predict)=97.37%\n",
      "[ 2018-04-19 23:38:24,436][kfold_wrapper.log_eval_metrics] Accuracy(layer_0 - estimator_0 - 10_folds.train_4.predict)=97.29%\n",
      "[ 2018-04-19 23:38:25,622][kfold_wrapper.log_eval_metrics] Accuracy(layer_0 - estimator_0 - 10_folds.train_5.predict)=98.00%\n",
      "[ 2018-04-19 23:38:26,669][kfold_wrapper.log_eval_metrics] Accuracy(layer_0 - estimator_0 - 10_folds.train_6.predict)=97.76%\n",
      "[ 2018-04-19 23:38:27,755][kfold_wrapper.log_eval_metrics] Accuracy(layer_0 - estimator_0 - 10_folds.train_7.predict)=97.44%\n",
      "[ 2018-04-19 23:38:28,861][kfold_wrapper.log_eval_metrics] Accuracy(layer_0 - estimator_0 - 10_folds.train_8.predict)=97.92%\n",
      "[ 2018-04-19 23:38:30,008][kfold_wrapper.log_eval_metrics] Accuracy(layer_0 - estimator_0 - 10_folds.train_9.predict)=98.08%\n",
      "[ 2018-04-19 23:38:30,374][kfold_wrapper.log_eval_metrics] Accuracy(layer_0 - estimator_0 - 10_folds.train_cv.predict)=97.84%\n",
      "[ 2018-04-19 23:38:30,376][kfold_wrapper.log_eval_metrics] Accuracy(layer_0 - estimator_0 - 10_folds.test.predict)=98.06%\n",
      "[ 2018-04-19 23:38:30,386][cascade_classifier.calc_accuracy] Accuracy(layer_0 - train.classifier_average)=97.84%\n",
      "[ 2018-04-19 23:38:30,388][cascade_classifier.calc_accuracy] Accuracy(layer_0 - test.classifier_average)=98.06%\n",
      "[ 2018-04-19 23:38:30,389][cascade_classifier.fit_transform] [Result][Reach Max Layer] opt_layer_num=1, accuracy_train=97.84%, accuracy_test=98.06%\n",
      "[ 2018-04-19 23:38:30,390][cascade_classifier.transform] X_groups_test.shape=[(5370, 10)]\n",
      "[ 2018-04-19 23:38:30,392][cascade_classifier.transform] group_dims=[10]\n",
      "[ 2018-04-19 23:38:30,393][cascade_classifier.transform] X_test.shape=(5370, 10)\n",
      "[ 2018-04-19 23:38:30,395][cascade_classifier.transform] [layer=0] look_indexs=[0], X_cur_test.shape=(5370, 10)\n",
      "[ 2018-04-19 23:38:32,874][cascade_classifier.fit_transform] X_groups_train.shape=[(12528, 10)],y_train.shape=(12528,),X_groups_test.shape=[(5370, 10)],y_test.shape=(5370,)\n",
      "[ 2018-04-19 23:38:32,876][cascade_classifier.fit_transform] group_dims=[10]\n",
      "[ 2018-04-19 23:38:32,877][cascade_classifier.fit_transform] group_starts=[0]\n",
      "[ 2018-04-19 23:38:32,879][cascade_classifier.fit_transform] group_ends=[10]\n",
      "[ 2018-04-19 23:38:32,880][cascade_classifier.fit_transform] X_train.shape=(12528, 10),X_test.shape=(5370, 10)\n",
      "[ 2018-04-19 23:38:32,882][cascade_classifier.fit_transform] [layer=0] look_indexs=[0], X_cur_train.shape=(12528, 10), X_cur_test.shape=(5370, 10)\n"
     ]
    },
    {
     "name": "stdout",
     "output_type": "stream",
     "text": [
      "('Test Accuracy of ExtraTrees = 98.081937 %', 6, 'fois')\n"
     ]
    },
    {
     "name": "stderr",
     "output_type": "stream",
     "text": [
      "[ 2018-04-19 23:38:33,743][kfold_wrapper.log_eval_metrics] Accuracy(layer_0 - estimator_0 - 10_folds.train_0.predict)=97.93%\n",
      "[ 2018-04-19 23:38:34,853][kfold_wrapper.log_eval_metrics] Accuracy(layer_0 - estimator_0 - 10_folds.train_1.predict)=98.17%\n",
      "[ 2018-04-19 23:38:35,894][kfold_wrapper.log_eval_metrics] Accuracy(layer_0 - estimator_0 - 10_folds.train_2.predict)=98.80%\n",
      "[ 2018-04-19 23:38:36,936][kfold_wrapper.log_eval_metrics] Accuracy(layer_0 - estimator_0 - 10_folds.train_3.predict)=97.53%\n",
      "[ 2018-04-19 23:38:38,021][kfold_wrapper.log_eval_metrics] Accuracy(layer_0 - estimator_0 - 10_folds.train_4.predict)=97.21%\n",
      "[ 2018-04-19 23:38:39,133][kfold_wrapper.log_eval_metrics] Accuracy(layer_0 - estimator_0 - 10_folds.train_5.predict)=98.24%\n",
      "[ 2018-04-19 23:38:40,241][kfold_wrapper.log_eval_metrics] Accuracy(layer_0 - estimator_0 - 10_folds.train_6.predict)=97.76%\n",
      "[ 2018-04-19 23:38:41,338][kfold_wrapper.log_eval_metrics] Accuracy(layer_0 - estimator_0 - 10_folds.train_7.predict)=97.84%\n",
      "[ 2018-04-19 23:38:42,401][kfold_wrapper.log_eval_metrics] Accuracy(layer_0 - estimator_0 - 10_folds.train_8.predict)=97.68%\n",
      "[ 2018-04-19 23:38:43,482][kfold_wrapper.log_eval_metrics] Accuracy(layer_0 - estimator_0 - 10_folds.train_9.predict)=97.92%\n",
      "[ 2018-04-19 23:38:43,863][kfold_wrapper.log_eval_metrics] Accuracy(layer_0 - estimator_0 - 10_folds.train_cv.predict)=97.91%\n",
      "[ 2018-04-19 23:38:43,865][kfold_wrapper.log_eval_metrics] Accuracy(layer_0 - estimator_0 - 10_folds.test.predict)=98.16%\n",
      "[ 2018-04-19 23:38:43,874][cascade_classifier.calc_accuracy] Accuracy(layer_0 - train.classifier_average)=97.91%\n",
      "[ 2018-04-19 23:38:43,876][cascade_classifier.calc_accuracy] Accuracy(layer_0 - test.classifier_average)=98.16%\n",
      "[ 2018-04-19 23:38:43,877][cascade_classifier.fit_transform] [Result][Reach Max Layer] opt_layer_num=1, accuracy_train=97.91%, accuracy_test=98.16%\n",
      "[ 2018-04-19 23:38:43,879][cascade_classifier.transform] X_groups_test.shape=[(5370, 10)]\n",
      "[ 2018-04-19 23:38:43,880][cascade_classifier.transform] group_dims=[10]\n",
      "[ 2018-04-19 23:38:43,881][cascade_classifier.transform] X_test.shape=(5370, 10)\n",
      "[ 2018-04-19 23:38:43,883][cascade_classifier.transform] [layer=0] look_indexs=[0], X_cur_test.shape=(5370, 10)\n",
      "[ 2018-04-19 23:38:46,390][cascade_classifier.fit_transform] X_groups_train.shape=[(12528, 10)],y_train.shape=(12528,),X_groups_test.shape=[(5370, 10)],y_test.shape=(5370,)\n",
      "[ 2018-04-19 23:38:46,392][cascade_classifier.fit_transform] group_dims=[10]\n",
      "[ 2018-04-19 23:38:46,393][cascade_classifier.fit_transform] group_starts=[0]\n",
      "[ 2018-04-19 23:38:46,395][cascade_classifier.fit_transform] group_ends=[10]\n",
      "[ 2018-04-19 23:38:46,396][cascade_classifier.fit_transform] X_train.shape=(12528, 10),X_test.shape=(5370, 10)\n",
      "[ 2018-04-19 23:38:46,398][cascade_classifier.fit_transform] [layer=0] look_indexs=[0], X_cur_train.shape=(12528, 10), X_cur_test.shape=(5370, 10)\n"
     ]
    },
    {
     "name": "stdout",
     "output_type": "stream",
     "text": [
      "('Test Accuracy of ExtraTrees = 98.156425 %', 7, 'fois')\n"
     ]
    },
    {
     "name": "stderr",
     "output_type": "stream",
     "text": [
      "[ 2018-04-19 23:38:47,213][kfold_wrapper.log_eval_metrics] Accuracy(layer_0 - estimator_0 - 10_folds.train_0.predict)=98.01%\n",
      "[ 2018-04-19 23:38:48,321][kfold_wrapper.log_eval_metrics] Accuracy(layer_0 - estimator_0 - 10_folds.train_1.predict)=97.61%\n",
      "[ 2018-04-19 23:38:49,423][kfold_wrapper.log_eval_metrics] Accuracy(layer_0 - estimator_0 - 10_folds.train_2.predict)=98.56%\n",
      "[ 2018-04-19 23:38:50,484][kfold_wrapper.log_eval_metrics] Accuracy(layer_0 - estimator_0 - 10_folds.train_3.predict)=97.37%\n",
      "[ 2018-04-19 23:38:51,552][kfold_wrapper.log_eval_metrics] Accuracy(layer_0 - estimator_0 - 10_folds.train_4.predict)=97.21%\n",
      "[ 2018-04-19 23:38:52,664][kfold_wrapper.log_eval_metrics] Accuracy(layer_0 - estimator_0 - 10_folds.train_5.predict)=98.16%\n",
      "[ 2018-04-19 23:38:53,733][kfold_wrapper.log_eval_metrics] Accuracy(layer_0 - estimator_0 - 10_folds.train_6.predict)=97.60%\n",
      "[ 2018-04-19 23:38:54,823][kfold_wrapper.log_eval_metrics] Accuracy(layer_0 - estimator_0 - 10_folds.train_7.predict)=97.36%\n",
      "[ 2018-04-19 23:38:55,887][kfold_wrapper.log_eval_metrics] Accuracy(layer_0 - estimator_0 - 10_folds.train_8.predict)=97.52%\n",
      "[ 2018-04-19 23:38:57,078][kfold_wrapper.log_eval_metrics] Accuracy(layer_0 - estimator_0 - 10_folds.train_9.predict)=98.00%\n",
      "[ 2018-04-19 23:38:57,341][kfold_wrapper.log_eval_metrics] Accuracy(layer_0 - estimator_0 - 10_folds.train_cv.predict)=97.74%\n",
      "[ 2018-04-19 23:38:57,343][kfold_wrapper.log_eval_metrics] Accuracy(layer_0 - estimator_0 - 10_folds.test.predict)=98.03%\n",
      "[ 2018-04-19 23:38:57,348][cascade_classifier.calc_accuracy] Accuracy(layer_0 - train.classifier_average)=97.74%\n",
      "[ 2018-04-19 23:38:57,349][cascade_classifier.calc_accuracy] Accuracy(layer_0 - test.classifier_average)=98.03%\n",
      "[ 2018-04-19 23:38:57,351][cascade_classifier.fit_transform] [Result][Reach Max Layer] opt_layer_num=1, accuracy_train=97.74%, accuracy_test=98.03%\n",
      "[ 2018-04-19 23:38:57,352][cascade_classifier.transform] X_groups_test.shape=[(5370, 10)]\n",
      "[ 2018-04-19 23:38:57,354][cascade_classifier.transform] group_dims=[10]\n",
      "[ 2018-04-19 23:38:57,355][cascade_classifier.transform] X_test.shape=(5370, 10)\n",
      "[ 2018-04-19 23:38:57,356][cascade_classifier.transform] [layer=0] look_indexs=[0], X_cur_test.shape=(5370, 10)\n",
      "[ 2018-04-19 23:38:59,908][cascade_classifier.fit_transform] X_groups_train.shape=[(12528, 10)],y_train.shape=(12528,),X_groups_test.shape=[(5370, 10)],y_test.shape=(5370,)\n",
      "[ 2018-04-19 23:38:59,910][cascade_classifier.fit_transform] group_dims=[10]\n",
      "[ 2018-04-19 23:38:59,912][cascade_classifier.fit_transform] group_starts=[0]\n",
      "[ 2018-04-19 23:38:59,913][cascade_classifier.fit_transform] group_ends=[10]\n",
      "[ 2018-04-19 23:38:59,914][cascade_classifier.fit_transform] X_train.shape=(12528, 10),X_test.shape=(5370, 10)\n",
      "[ 2018-04-19 23:38:59,916][cascade_classifier.fit_transform] [layer=0] look_indexs=[0], X_cur_train.shape=(12528, 10), X_cur_test.shape=(5370, 10)\n"
     ]
    },
    {
     "name": "stdout",
     "output_type": "stream",
     "text": [
      "('Test Accuracy of ExtraTrees = 98.026071 %', 8, 'fois')\n"
     ]
    },
    {
     "name": "stderr",
     "output_type": "stream",
     "text": [
      "[ 2018-04-19 23:39:00,751][kfold_wrapper.log_eval_metrics] Accuracy(layer_0 - estimator_0 - 10_folds.train_0.predict)=98.01%\n",
      "[ 2018-04-19 23:39:01,964][kfold_wrapper.log_eval_metrics] Accuracy(layer_0 - estimator_0 - 10_folds.train_1.predict)=98.01%\n",
      "[ 2018-04-19 23:39:03,065][kfold_wrapper.log_eval_metrics] Accuracy(layer_0 - estimator_0 - 10_folds.train_2.predict)=98.48%\n",
      "[ 2018-04-19 23:39:04,205][kfold_wrapper.log_eval_metrics] Accuracy(layer_0 - estimator_0 - 10_folds.train_3.predict)=97.77%\n",
      "[ 2018-04-19 23:39:05,298][kfold_wrapper.log_eval_metrics] Accuracy(layer_0 - estimator_0 - 10_folds.train_4.predict)=97.37%\n",
      "[ 2018-04-19 23:39:06,507][kfold_wrapper.log_eval_metrics] Accuracy(layer_0 - estimator_0 - 10_folds.train_5.predict)=97.92%\n",
      "[ 2018-04-19 23:39:07,585][kfold_wrapper.log_eval_metrics] Accuracy(layer_0 - estimator_0 - 10_folds.train_6.predict)=97.68%\n",
      "[ 2018-04-19 23:39:08,671][kfold_wrapper.log_eval_metrics] Accuracy(layer_0 - estimator_0 - 10_folds.train_7.predict)=97.44%\n",
      "[ 2018-04-19 23:39:09,759][kfold_wrapper.log_eval_metrics] Accuracy(layer_0 - estimator_0 - 10_folds.train_8.predict)=97.76%\n",
      "[ 2018-04-19 23:39:10,847][kfold_wrapper.log_eval_metrics] Accuracy(layer_0 - estimator_0 - 10_folds.train_9.predict)=97.92%\n",
      "[ 2018-04-19 23:39:11,114][kfold_wrapper.log_eval_metrics] Accuracy(layer_0 - estimator_0 - 10_folds.train_cv.predict)=97.84%\n",
      "[ 2018-04-19 23:39:11,116][kfold_wrapper.log_eval_metrics] Accuracy(layer_0 - estimator_0 - 10_folds.test.predict)=98.14%\n",
      "[ 2018-04-19 23:39:11,128][cascade_classifier.calc_accuracy] Accuracy(layer_0 - train.classifier_average)=97.84%\n",
      "[ 2018-04-19 23:39:11,129][cascade_classifier.calc_accuracy] Accuracy(layer_0 - test.classifier_average)=98.14%\n",
      "[ 2018-04-19 23:39:11,131][cascade_classifier.fit_transform] [Result][Reach Max Layer] opt_layer_num=1, accuracy_train=97.84%, accuracy_test=98.14%\n",
      "[ 2018-04-19 23:39:11,132][cascade_classifier.transform] X_groups_test.shape=[(5370, 10)]\n",
      "[ 2018-04-19 23:39:11,134][cascade_classifier.transform] group_dims=[10]\n",
      "[ 2018-04-19 23:39:11,135][cascade_classifier.transform] X_test.shape=(5370, 10)\n",
      "[ 2018-04-19 23:39:11,136][cascade_classifier.transform] [layer=0] look_indexs=[0], X_cur_test.shape=(5370, 10)\n",
      "[ 2018-04-19 23:39:13,700][cascade_classifier.fit_transform] X_groups_train.shape=[(12528, 10)],y_train.shape=(12528,),X_groups_test.shape=[(5370, 10)],y_test.shape=(5370,)\n",
      "[ 2018-04-19 23:39:13,702][cascade_classifier.fit_transform] group_dims=[10]\n",
      "[ 2018-04-19 23:39:13,704][cascade_classifier.fit_transform] group_starts=[0]\n",
      "[ 2018-04-19 23:39:13,705][cascade_classifier.fit_transform] group_ends=[10]\n",
      "[ 2018-04-19 23:39:13,706][cascade_classifier.fit_transform] X_train.shape=(12528, 10),X_test.shape=(5370, 10)\n",
      "[ 2018-04-19 23:39:13,708][cascade_classifier.fit_transform] [layer=0] look_indexs=[0], X_cur_train.shape=(12528, 10), X_cur_test.shape=(5370, 10)\n"
     ]
    },
    {
     "name": "stdout",
     "output_type": "stream",
     "text": [
      "('Test Accuracy of ExtraTrees = 98.137803 %', 9, 'fois')\n"
     ]
    },
    {
     "name": "stderr",
     "output_type": "stream",
     "text": [
      "[ 2018-04-19 23:39:14,555][kfold_wrapper.log_eval_metrics] Accuracy(layer_0 - estimator_0 - 10_folds.train_0.predict)=97.93%\n",
      "[ 2018-04-19 23:39:15,687][kfold_wrapper.log_eval_metrics] Accuracy(layer_0 - estimator_0 - 10_folds.train_1.predict)=97.85%\n",
      "[ 2018-04-19 23:39:16,742][kfold_wrapper.log_eval_metrics] Accuracy(layer_0 - estimator_0 - 10_folds.train_2.predict)=98.56%\n",
      "[ 2018-04-19 23:39:17,819][kfold_wrapper.log_eval_metrics] Accuracy(layer_0 - estimator_0 - 10_folds.train_3.predict)=97.37%\n",
      "[ 2018-04-19 23:39:18,871][kfold_wrapper.log_eval_metrics] Accuracy(layer_0 - estimator_0 - 10_folds.train_4.predict)=97.29%\n",
      "[ 2018-04-19 23:39:19,938][kfold_wrapper.log_eval_metrics] Accuracy(layer_0 - estimator_0 - 10_folds.train_5.predict)=97.84%\n",
      "[ 2018-04-19 23:39:21,105][kfold_wrapper.log_eval_metrics] Accuracy(layer_0 - estimator_0 - 10_folds.train_6.predict)=97.76%\n",
      "[ 2018-04-19 23:39:22,177][kfold_wrapper.log_eval_metrics] Accuracy(layer_0 - estimator_0 - 10_folds.train_7.predict)=97.44%\n",
      "[ 2018-04-19 23:39:23,181][kfold_wrapper.log_eval_metrics] Accuracy(layer_0 - estimator_0 - 10_folds.train_8.predict)=97.76%\n",
      "[ 2018-04-19 23:39:24,263][kfold_wrapper.log_eval_metrics] Accuracy(layer_0 - estimator_0 - 10_folds.train_9.predict)=98.16%\n",
      "[ 2018-04-19 23:39:24,507][kfold_wrapper.log_eval_metrics] Accuracy(layer_0 - estimator_0 - 10_folds.train_cv.predict)=97.80%\n",
      "[ 2018-04-19 23:39:24,508][kfold_wrapper.log_eval_metrics] Accuracy(layer_0 - estimator_0 - 10_folds.test.predict)=98.19%\n",
      "[ 2018-04-19 23:39:24,514][cascade_classifier.calc_accuracy] Accuracy(layer_0 - train.classifier_average)=97.80%\n",
      "[ 2018-04-19 23:39:24,516][cascade_classifier.calc_accuracy] Accuracy(layer_0 - test.classifier_average)=98.19%\n",
      "[ 2018-04-19 23:39:24,517][cascade_classifier.fit_transform] [Result][Reach Max Layer] opt_layer_num=1, accuracy_train=97.80%, accuracy_test=98.19%\n",
      "[ 2018-04-19 23:39:24,518][cascade_classifier.transform] X_groups_test.shape=[(5370, 10)]\n",
      "[ 2018-04-19 23:39:24,520][cascade_classifier.transform] group_dims=[10]\n",
      "[ 2018-04-19 23:39:24,521][cascade_classifier.transform] X_test.shape=(5370, 10)\n",
      "[ 2018-04-19 23:39:24,522][cascade_classifier.transform] [layer=0] look_indexs=[0], X_cur_test.shape=(5370, 10)\n",
      "[ 2018-04-19 23:39:27,085][cascade_classifier.fit_transform] X_groups_train.shape=[(12528, 10)],y_train.shape=(12528,),X_groups_test.shape=[(5370, 10)],y_test.shape=(5370,)\n",
      "[ 2018-04-19 23:39:27,087][cascade_classifier.fit_transform] group_dims=[10]\n",
      "[ 2018-04-19 23:39:27,088][cascade_classifier.fit_transform] group_starts=[0]\n",
      "[ 2018-04-19 23:39:27,090][cascade_classifier.fit_transform] group_ends=[10]\n",
      "[ 2018-04-19 23:39:27,091][cascade_classifier.fit_transform] X_train.shape=(12528, 10),X_test.shape=(5370, 10)\n",
      "[ 2018-04-19 23:39:27,093][cascade_classifier.fit_transform] [layer=0] look_indexs=[0], X_cur_train.shape=(12528, 10), X_cur_test.shape=(5370, 10)\n"
     ]
    },
    {
     "name": "stdout",
     "output_type": "stream",
     "text": [
      "('Test Accuracy of ExtraTrees = 98.193669 %', 10, 'fois')\n"
     ]
    },
    {
     "name": "stderr",
     "output_type": "stream",
     "text": [
      "[ 2018-04-19 23:39:27,931][kfold_wrapper.log_eval_metrics] Accuracy(layer_0 - estimator_0 - 10_folds.train_0.predict)=97.93%\n",
      "[ 2018-04-19 23:39:28,994][kfold_wrapper.log_eval_metrics] Accuracy(layer_0 - estimator_0 - 10_folds.train_1.predict)=98.33%\n",
      "[ 2018-04-19 23:39:30,120][kfold_wrapper.log_eval_metrics] Accuracy(layer_0 - estimator_0 - 10_folds.train_2.predict)=98.41%\n",
      "[ 2018-04-19 23:39:31,177][kfold_wrapper.log_eval_metrics] Accuracy(layer_0 - estimator_0 - 10_folds.train_3.predict)=97.45%\n",
      "[ 2018-04-19 23:39:32,276][kfold_wrapper.log_eval_metrics] Accuracy(layer_0 - estimator_0 - 10_folds.train_4.predict)=97.45%\n",
      "[ 2018-04-19 23:39:33,416][kfold_wrapper.log_eval_metrics] Accuracy(layer_0 - estimator_0 - 10_folds.train_5.predict)=98.16%\n",
      "[ 2018-04-19 23:39:34,492][kfold_wrapper.log_eval_metrics] Accuracy(layer_0 - estimator_0 - 10_folds.train_6.predict)=97.68%\n",
      "[ 2018-04-19 23:39:35,683][kfold_wrapper.log_eval_metrics] Accuracy(layer_0 - estimator_0 - 10_folds.train_7.predict)=98.08%\n",
      "[ 2018-04-19 23:39:36,779][kfold_wrapper.log_eval_metrics] Accuracy(layer_0 - estimator_0 - 10_folds.train_8.predict)=97.68%\n",
      "[ 2018-04-19 23:39:37,840][kfold_wrapper.log_eval_metrics] Accuracy(layer_0 - estimator_0 - 10_folds.train_9.predict)=97.68%\n",
      "[ 2018-04-19 23:39:38,114][kfold_wrapper.log_eval_metrics] Accuracy(layer_0 - estimator_0 - 10_folds.train_cv.predict)=97.88%\n",
      "[ 2018-04-19 23:39:38,115][kfold_wrapper.log_eval_metrics] Accuracy(layer_0 - estimator_0 - 10_folds.test.predict)=98.04%\n",
      "[ 2018-04-19 23:39:38,127][cascade_classifier.calc_accuracy] Accuracy(layer_0 - train.classifier_average)=97.88%\n",
      "[ 2018-04-19 23:39:38,128][cascade_classifier.calc_accuracy] Accuracy(layer_0 - test.classifier_average)=98.04%\n",
      "[ 2018-04-19 23:39:38,130][cascade_classifier.fit_transform] [Result][Reach Max Layer] opt_layer_num=1, accuracy_train=97.88%, accuracy_test=98.04%\n",
      "[ 2018-04-19 23:39:38,131][cascade_classifier.transform] X_groups_test.shape=[(5370, 10)]\n",
      "[ 2018-04-19 23:39:38,132][cascade_classifier.transform] group_dims=[10]\n",
      "[ 2018-04-19 23:39:38,134][cascade_classifier.transform] X_test.shape=(5370, 10)\n",
      "[ 2018-04-19 23:39:38,135][cascade_classifier.transform] [layer=0] look_indexs=[0], X_cur_test.shape=(5370, 10)\n",
      "[ 2018-04-19 23:39:40,748][cascade_classifier.fit_transform] X_groups_train.shape=[(12528, 10)],y_train.shape=(12528,),X_groups_test.shape=[(5370, 10)],y_test.shape=(5370,)\n",
      "[ 2018-04-19 23:39:40,750][cascade_classifier.fit_transform] group_dims=[10]\n",
      "[ 2018-04-19 23:39:40,751][cascade_classifier.fit_transform] group_starts=[0]\n",
      "[ 2018-04-19 23:39:40,752][cascade_classifier.fit_transform] group_ends=[10]\n",
      "[ 2018-04-19 23:39:40,753][cascade_classifier.fit_transform] X_train.shape=(12528, 10),X_test.shape=(5370, 10)\n",
      "[ 2018-04-19 23:39:40,755][cascade_classifier.fit_transform] [layer=0] look_indexs=[0], X_cur_train.shape=(12528, 10), X_cur_test.shape=(5370, 10)\n"
     ]
    },
    {
     "name": "stdout",
     "output_type": "stream",
     "text": [
      "('Test Accuracy of ExtraTrees = 98.044693 %', 11, 'fois')\n"
     ]
    },
    {
     "name": "stderr",
     "output_type": "stream",
     "text": [
      "[ 2018-04-19 23:39:41,571][kfold_wrapper.log_eval_metrics] Accuracy(layer_0 - estimator_0 - 10_folds.train_0.predict)=97.69%\n",
      "[ 2018-04-19 23:39:42,652][kfold_wrapper.log_eval_metrics] Accuracy(layer_0 - estimator_0 - 10_folds.train_1.predict)=98.17%\n",
      "[ 2018-04-19 23:39:43,776][kfold_wrapper.log_eval_metrics] Accuracy(layer_0 - estimator_0 - 10_folds.train_2.predict)=98.33%\n",
      "[ 2018-04-19 23:39:44,912][kfold_wrapper.log_eval_metrics] Accuracy(layer_0 - estimator_0 - 10_folds.train_3.predict)=97.53%\n",
      "[ 2018-04-19 23:39:46,005][kfold_wrapper.log_eval_metrics] Accuracy(layer_0 - estimator_0 - 10_folds.train_4.predict)=97.13%\n",
      "[ 2018-04-19 23:39:47,097][kfold_wrapper.log_eval_metrics] Accuracy(layer_0 - estimator_0 - 10_folds.train_5.predict)=97.92%\n",
      "[ 2018-04-19 23:39:48,253][kfold_wrapper.log_eval_metrics] Accuracy(layer_0 - estimator_0 - 10_folds.train_6.predict)=97.76%\n",
      "[ 2018-04-19 23:39:49,320][kfold_wrapper.log_eval_metrics] Accuracy(layer_0 - estimator_0 - 10_folds.train_7.predict)=97.68%\n",
      "[ 2018-04-19 23:39:50,371][kfold_wrapper.log_eval_metrics] Accuracy(layer_0 - estimator_0 - 10_folds.train_8.predict)=97.60%\n",
      "[ 2018-04-19 23:39:51,431][kfold_wrapper.log_eval_metrics] Accuracy(layer_0 - estimator_0 - 10_folds.train_9.predict)=98.08%\n",
      "[ 2018-04-19 23:39:51,668][kfold_wrapper.log_eval_metrics] Accuracy(layer_0 - estimator_0 - 10_folds.train_cv.predict)=97.79%\n",
      "[ 2018-04-19 23:39:51,670][kfold_wrapper.log_eval_metrics] Accuracy(layer_0 - estimator_0 - 10_folds.test.predict)=98.08%\n",
      "[ 2018-04-19 23:39:51,680][cascade_classifier.calc_accuracy] Accuracy(layer_0 - train.classifier_average)=97.79%\n",
      "[ 2018-04-19 23:39:51,681][cascade_classifier.calc_accuracy] Accuracy(layer_0 - test.classifier_average)=98.08%\n",
      "[ 2018-04-19 23:39:51,683][cascade_classifier.fit_transform] [Result][Reach Max Layer] opt_layer_num=1, accuracy_train=97.79%, accuracy_test=98.08%\n",
      "[ 2018-04-19 23:39:51,684][cascade_classifier.transform] X_groups_test.shape=[(5370, 10)]\n",
      "[ 2018-04-19 23:39:51,685][cascade_classifier.transform] group_dims=[10]\n",
      "[ 2018-04-19 23:39:51,686][cascade_classifier.transform] X_test.shape=(5370, 10)\n",
      "[ 2018-04-19 23:39:51,687][cascade_classifier.transform] [layer=0] look_indexs=[0], X_cur_test.shape=(5370, 10)\n",
      "[ 2018-04-19 23:39:54,307][cascade_classifier.fit_transform] X_groups_train.shape=[(12528, 10)],y_train.shape=(12528,),X_groups_test.shape=[(5370, 10)],y_test.shape=(5370,)\n",
      "[ 2018-04-19 23:39:54,309][cascade_classifier.fit_transform] group_dims=[10]\n",
      "[ 2018-04-19 23:39:54,310][cascade_classifier.fit_transform] group_starts=[0]\n",
      "[ 2018-04-19 23:39:54,312][cascade_classifier.fit_transform] group_ends=[10]\n",
      "[ 2018-04-19 23:39:54,313][cascade_classifier.fit_transform] X_train.shape=(12528, 10),X_test.shape=(5370, 10)\n",
      "[ 2018-04-19 23:39:54,315][cascade_classifier.fit_transform] [layer=0] look_indexs=[0], X_cur_train.shape=(12528, 10), X_cur_test.shape=(5370, 10)\n"
     ]
    },
    {
     "name": "stdout",
     "output_type": "stream",
     "text": [
      "('Test Accuracy of ExtraTrees = 98.081937 %', 12, 'fois')\n"
     ]
    },
    {
     "name": "stderr",
     "output_type": "stream",
     "text": [
      "[ 2018-04-19 23:39:55,147][kfold_wrapper.log_eval_metrics] Accuracy(layer_0 - estimator_0 - 10_folds.train_0.predict)=98.09%\n",
      "[ 2018-04-19 23:39:56,224][kfold_wrapper.log_eval_metrics] Accuracy(layer_0 - estimator_0 - 10_folds.train_1.predict)=98.01%\n",
      "[ 2018-04-19 23:39:57,265][kfold_wrapper.log_eval_metrics] Accuracy(layer_0 - estimator_0 - 10_folds.train_2.predict)=98.25%\n",
      "[ 2018-04-19 23:39:58,361][kfold_wrapper.log_eval_metrics] Accuracy(layer_0 - estimator_0 - 10_folds.train_3.predict)=97.45%\n",
      "[ 2018-04-19 23:39:59,396][kfold_wrapper.log_eval_metrics] Accuracy(layer_0 - estimator_0 - 10_folds.train_4.predict)=97.29%\n",
      "[ 2018-04-19 23:40:00,463][kfold_wrapper.log_eval_metrics] Accuracy(layer_0 - estimator_0 - 10_folds.train_5.predict)=98.00%\n",
      "[ 2018-04-19 23:40:01,561][kfold_wrapper.log_eval_metrics] Accuracy(layer_0 - estimator_0 - 10_folds.train_6.predict)=97.92%\n",
      "[ 2018-04-19 23:40:02,645][kfold_wrapper.log_eval_metrics] Accuracy(layer_0 - estimator_0 - 10_folds.train_7.predict)=97.44%\n",
      "[ 2018-04-19 23:40:03,748][kfold_wrapper.log_eval_metrics] Accuracy(layer_0 - estimator_0 - 10_folds.train_8.predict)=97.92%\n",
      "[ 2018-04-19 23:40:04,847][kfold_wrapper.log_eval_metrics] Accuracy(layer_0 - estimator_0 - 10_folds.train_9.predict)=97.84%\n",
      "[ 2018-04-19 23:40:05,089][kfold_wrapper.log_eval_metrics] Accuracy(layer_0 - estimator_0 - 10_folds.train_cv.predict)=97.82%\n",
      "[ 2018-04-19 23:40:05,090][kfold_wrapper.log_eval_metrics] Accuracy(layer_0 - estimator_0 - 10_folds.test.predict)=98.16%\n",
      "[ 2018-04-19 23:40:05,099][cascade_classifier.calc_accuracy] Accuracy(layer_0 - train.classifier_average)=97.82%\n",
      "[ 2018-04-19 23:40:05,100][cascade_classifier.calc_accuracy] Accuracy(layer_0 - test.classifier_average)=98.16%\n",
      "[ 2018-04-19 23:40:05,102][cascade_classifier.fit_transform] [Result][Reach Max Layer] opt_layer_num=1, accuracy_train=97.82%, accuracy_test=98.16%\n",
      "[ 2018-04-19 23:40:05,103][cascade_classifier.transform] X_groups_test.shape=[(5370, 10)]\n",
      "[ 2018-04-19 23:40:05,104][cascade_classifier.transform] group_dims=[10]\n",
      "[ 2018-04-19 23:40:05,105][cascade_classifier.transform] X_test.shape=(5370, 10)\n",
      "[ 2018-04-19 23:40:05,106][cascade_classifier.transform] [layer=0] look_indexs=[0], X_cur_test.shape=(5370, 10)\n",
      "[ 2018-04-19 23:40:07,650][cascade_classifier.fit_transform] X_groups_train.shape=[(12528, 10)],y_train.shape=(12528,),X_groups_test.shape=[(5370, 10)],y_test.shape=(5370,)\n",
      "[ 2018-04-19 23:40:07,653][cascade_classifier.fit_transform] group_dims=[10]\n",
      "[ 2018-04-19 23:40:07,654][cascade_classifier.fit_transform] group_starts=[0]\n",
      "[ 2018-04-19 23:40:07,655][cascade_classifier.fit_transform] group_ends=[10]\n",
      "[ 2018-04-19 23:40:07,656][cascade_classifier.fit_transform] X_train.shape=(12528, 10),X_test.shape=(5370, 10)\n",
      "[ 2018-04-19 23:40:07,658][cascade_classifier.fit_transform] [layer=0] look_indexs=[0], X_cur_train.shape=(12528, 10), X_cur_test.shape=(5370, 10)\n"
     ]
    },
    {
     "name": "stdout",
     "output_type": "stream",
     "text": [
      "('Test Accuracy of ExtraTrees = 98.137803 %', 13, 'fois')\n"
     ]
    },
    {
     "name": "stderr",
     "output_type": "stream",
     "text": [
      "[ 2018-04-19 23:40:08,487][kfold_wrapper.log_eval_metrics] Accuracy(layer_0 - estimator_0 - 10_folds.train_0.predict)=97.93%\n",
      "[ 2018-04-19 23:40:09,607][kfold_wrapper.log_eval_metrics] Accuracy(layer_0 - estimator_0 - 10_folds.train_1.predict)=98.09%\n",
      "[ 2018-04-19 23:40:10,717][kfold_wrapper.log_eval_metrics] Accuracy(layer_0 - estimator_0 - 10_folds.train_2.predict)=98.64%\n",
      "[ 2018-04-19 23:40:11,811][kfold_wrapper.log_eval_metrics] Accuracy(layer_0 - estimator_0 - 10_folds.train_3.predict)=97.37%\n",
      "[ 2018-04-19 23:40:12,896][kfold_wrapper.log_eval_metrics] Accuracy(layer_0 - estimator_0 - 10_folds.train_4.predict)=97.53%\n",
      "[ 2018-04-19 23:40:13,996][kfold_wrapper.log_eval_metrics] Accuracy(layer_0 - estimator_0 - 10_folds.train_5.predict)=98.16%\n",
      "[ 2018-04-19 23:40:15,117][kfold_wrapper.log_eval_metrics] Accuracy(layer_0 - estimator_0 - 10_folds.train_6.predict)=97.84%\n",
      "[ 2018-04-19 23:40:16,190][kfold_wrapper.log_eval_metrics] Accuracy(layer_0 - estimator_0 - 10_folds.train_7.predict)=97.84%\n",
      "[ 2018-04-19 23:40:17,262][kfold_wrapper.log_eval_metrics] Accuracy(layer_0 - estimator_0 - 10_folds.train_8.predict)=97.76%\n",
      "[ 2018-04-19 23:40:18,355][kfold_wrapper.log_eval_metrics] Accuracy(layer_0 - estimator_0 - 10_folds.train_9.predict)=98.24%\n",
      "[ 2018-04-19 23:40:18,601][kfold_wrapper.log_eval_metrics] Accuracy(layer_0 - estimator_0 - 10_folds.train_cv.predict)=97.94%\n",
      "[ 2018-04-19 23:40:18,602][kfold_wrapper.log_eval_metrics] Accuracy(layer_0 - estimator_0 - 10_folds.test.predict)=97.99%\n",
      "[ 2018-04-19 23:40:18,611][cascade_classifier.calc_accuracy] Accuracy(layer_0 - train.classifier_average)=97.94%\n",
      "[ 2018-04-19 23:40:18,612][cascade_classifier.calc_accuracy] Accuracy(layer_0 - test.classifier_average)=97.99%\n",
      "[ 2018-04-19 23:40:18,614][cascade_classifier.fit_transform] [Result][Reach Max Layer] opt_layer_num=1, accuracy_train=97.94%, accuracy_test=97.99%\n",
      "[ 2018-04-19 23:40:18,615][cascade_classifier.transform] X_groups_test.shape=[(5370, 10)]\n",
      "[ 2018-04-19 23:40:18,616][cascade_classifier.transform] group_dims=[10]\n",
      "[ 2018-04-19 23:40:18,618][cascade_classifier.transform] X_test.shape=(5370, 10)\n",
      "[ 2018-04-19 23:40:18,619][cascade_classifier.transform] [layer=0] look_indexs=[0], X_cur_test.shape=(5370, 10)\n",
      "[ 2018-04-19 23:40:21,285][cascade_classifier.fit_transform] X_groups_train.shape=[(12528, 10)],y_train.shape=(12528,),X_groups_test.shape=[(5370, 10)],y_test.shape=(5370,)\n",
      "[ 2018-04-19 23:40:21,287][cascade_classifier.fit_transform] group_dims=[10]\n",
      "[ 2018-04-19 23:40:21,289][cascade_classifier.fit_transform] group_starts=[0]\n",
      "[ 2018-04-19 23:40:21,290][cascade_classifier.fit_transform] group_ends=[10]\n",
      "[ 2018-04-19 23:40:21,291][cascade_classifier.fit_transform] X_train.shape=(12528, 10),X_test.shape=(5370, 10)\n",
      "[ 2018-04-19 23:40:21,293][cascade_classifier.fit_transform] [layer=0] look_indexs=[0], X_cur_train.shape=(12528, 10), X_cur_test.shape=(5370, 10)\n"
     ]
    },
    {
     "name": "stdout",
     "output_type": "stream",
     "text": [
      "('Test Accuracy of ExtraTrees = 97.988827 %', 14, 'fois')\n"
     ]
    },
    {
     "name": "stderr",
     "output_type": "stream",
     "text": [
      "[ 2018-04-19 23:40:22,109][kfold_wrapper.log_eval_metrics] Accuracy(layer_0 - estimator_0 - 10_folds.train_0.predict)=98.25%\n",
      "[ 2018-04-19 23:40:23,199][kfold_wrapper.log_eval_metrics] Accuracy(layer_0 - estimator_0 - 10_folds.train_1.predict)=98.09%\n",
      "[ 2018-04-19 23:40:24,372][kfold_wrapper.log_eval_metrics] Accuracy(layer_0 - estimator_0 - 10_folds.train_2.predict)=98.41%\n",
      "[ 2018-04-19 23:40:25,451][kfold_wrapper.log_eval_metrics] Accuracy(layer_0 - estimator_0 - 10_folds.train_3.predict)=97.53%\n",
      "[ 2018-04-19 23:40:26,529][kfold_wrapper.log_eval_metrics] Accuracy(layer_0 - estimator_0 - 10_folds.train_4.predict)=97.29%\n",
      "[ 2018-04-19 23:40:27,593][kfold_wrapper.log_eval_metrics] Accuracy(layer_0 - estimator_0 - 10_folds.train_5.predict)=98.16%\n",
      "[ 2018-04-19 23:40:28,663][kfold_wrapper.log_eval_metrics] Accuracy(layer_0 - estimator_0 - 10_folds.train_6.predict)=97.76%\n",
      "[ 2018-04-19 23:40:29,728][kfold_wrapper.log_eval_metrics] Accuracy(layer_0 - estimator_0 - 10_folds.train_7.predict)=97.76%\n",
      "[ 2018-04-19 23:40:30,783][kfold_wrapper.log_eval_metrics] Accuracy(layer_0 - estimator_0 - 10_folds.train_8.predict)=97.92%\n",
      "[ 2018-04-19 23:40:31,839][kfold_wrapper.log_eval_metrics] Accuracy(layer_0 - estimator_0 - 10_folds.train_9.predict)=98.08%\n",
      "[ 2018-04-19 23:40:32,096][kfold_wrapper.log_eval_metrics] Accuracy(layer_0 - estimator_0 - 10_folds.train_cv.predict)=97.92%\n",
      "[ 2018-04-19 23:40:32,098][kfold_wrapper.log_eval_metrics] Accuracy(layer_0 - estimator_0 - 10_folds.test.predict)=97.99%\n",
      "[ 2018-04-19 23:40:32,110][cascade_classifier.calc_accuracy] Accuracy(layer_0 - train.classifier_average)=97.92%\n",
      "[ 2018-04-19 23:40:32,111][cascade_classifier.calc_accuracy] Accuracy(layer_0 - test.classifier_average)=97.99%\n",
      "[ 2018-04-19 23:40:32,112][cascade_classifier.fit_transform] [Result][Reach Max Layer] opt_layer_num=1, accuracy_train=97.92%, accuracy_test=97.99%\n",
      "[ 2018-04-19 23:40:32,114][cascade_classifier.transform] X_groups_test.shape=[(5370, 10)]\n",
      "[ 2018-04-19 23:40:32,115][cascade_classifier.transform] group_dims=[10]\n",
      "[ 2018-04-19 23:40:32,116][cascade_classifier.transform] X_test.shape=(5370, 10)\n",
      "[ 2018-04-19 23:40:32,117][cascade_classifier.transform] [layer=0] look_indexs=[0], X_cur_test.shape=(5370, 10)\n",
      "[ 2018-04-19 23:40:34,680][cascade_classifier.fit_transform] X_groups_train.shape=[(12528, 10)],y_train.shape=(12528,),X_groups_test.shape=[(5370, 10)],y_test.shape=(5370,)\n",
      "[ 2018-04-19 23:40:34,682][cascade_classifier.fit_transform] group_dims=[10]\n",
      "[ 2018-04-19 23:40:34,684][cascade_classifier.fit_transform] group_starts=[0]\n",
      "[ 2018-04-19 23:40:34,685][cascade_classifier.fit_transform] group_ends=[10]\n",
      "[ 2018-04-19 23:40:34,686][cascade_classifier.fit_transform] X_train.shape=(12528, 10),X_test.shape=(5370, 10)\n",
      "[ 2018-04-19 23:40:34,687][cascade_classifier.fit_transform] [layer=0] look_indexs=[0], X_cur_train.shape=(12528, 10), X_cur_test.shape=(5370, 10)\n"
     ]
    },
    {
     "name": "stdout",
     "output_type": "stream",
     "text": [
      "('Test Accuracy of ExtraTrees = 97.988827 %', 15, 'fois')\n"
     ]
    },
    {
     "name": "stderr",
     "output_type": "stream",
     "text": [
      "[ 2018-04-19 23:40:35,489][kfold_wrapper.log_eval_metrics] Accuracy(layer_0 - estimator_0 - 10_folds.train_0.predict)=98.01%\n",
      "[ 2018-04-19 23:40:36,588][kfold_wrapper.log_eval_metrics] Accuracy(layer_0 - estimator_0 - 10_folds.train_1.predict)=98.17%\n",
      "[ 2018-04-19 23:40:37,638][kfold_wrapper.log_eval_metrics] Accuracy(layer_0 - estimator_0 - 10_folds.train_2.predict)=98.25%\n",
      "[ 2018-04-19 23:40:38,744][kfold_wrapper.log_eval_metrics] Accuracy(layer_0 - estimator_0 - 10_folds.train_3.predict)=97.29%\n",
      "[ 2018-04-19 23:40:39,828][kfold_wrapper.log_eval_metrics] Accuracy(layer_0 - estimator_0 - 10_folds.train_4.predict)=97.13%\n",
      "[ 2018-04-19 23:40:40,904][kfold_wrapper.log_eval_metrics] Accuracy(layer_0 - estimator_0 - 10_folds.train_5.predict)=97.92%\n",
      "[ 2018-04-19 23:40:41,981][kfold_wrapper.log_eval_metrics] Accuracy(layer_0 - estimator_0 - 10_folds.train_6.predict)=97.60%\n",
      "[ 2018-04-19 23:40:43,055][kfold_wrapper.log_eval_metrics] Accuracy(layer_0 - estimator_0 - 10_folds.train_7.predict)=97.44%\n",
      "[ 2018-04-19 23:40:44,146][kfold_wrapper.log_eval_metrics] Accuracy(layer_0 - estimator_0 - 10_folds.train_8.predict)=97.92%\n",
      "[ 2018-04-19 23:40:45,258][kfold_wrapper.log_eval_metrics] Accuracy(layer_0 - estimator_0 - 10_folds.train_9.predict)=97.84%\n",
      "[ 2018-04-19 23:40:45,498][kfold_wrapper.log_eval_metrics] Accuracy(layer_0 - estimator_0 - 10_folds.train_cv.predict)=97.76%\n",
      "[ 2018-04-19 23:40:45,500][kfold_wrapper.log_eval_metrics] Accuracy(layer_0 - estimator_0 - 10_folds.test.predict)=98.08%\n",
      "[ 2018-04-19 23:40:45,508][cascade_classifier.calc_accuracy] Accuracy(layer_0 - train.classifier_average)=97.76%\n",
      "[ 2018-04-19 23:40:45,510][cascade_classifier.calc_accuracy] Accuracy(layer_0 - test.classifier_average)=98.08%\n",
      "[ 2018-04-19 23:40:45,511][cascade_classifier.fit_transform] [Result][Reach Max Layer] opt_layer_num=1, accuracy_train=97.76%, accuracy_test=98.08%\n",
      "[ 2018-04-19 23:40:45,512][cascade_classifier.transform] X_groups_test.shape=[(5370, 10)]\n",
      "[ 2018-04-19 23:40:45,514][cascade_classifier.transform] group_dims=[10]\n",
      "[ 2018-04-19 23:40:45,515][cascade_classifier.transform] X_test.shape=(5370, 10)\n",
      "[ 2018-04-19 23:40:45,516][cascade_classifier.transform] [layer=0] look_indexs=[0], X_cur_test.shape=(5370, 10)\n",
      "[ 2018-04-19 23:40:48,139][cascade_classifier.fit_transform] X_groups_train.shape=[(12528, 10)],y_train.shape=(12528,),X_groups_test.shape=[(5370, 10)],y_test.shape=(5370,)\n",
      "[ 2018-04-19 23:40:48,140][cascade_classifier.fit_transform] group_dims=[10]\n",
      "[ 2018-04-19 23:40:48,141][cascade_classifier.fit_transform] group_starts=[0]\n",
      "[ 2018-04-19 23:40:48,142][cascade_classifier.fit_transform] group_ends=[10]\n",
      "[ 2018-04-19 23:40:48,143][cascade_classifier.fit_transform] X_train.shape=(12528, 10),X_test.shape=(5370, 10)\n",
      "[ 2018-04-19 23:40:48,145][cascade_classifier.fit_transform] [layer=0] look_indexs=[0], X_cur_train.shape=(12528, 10), X_cur_test.shape=(5370, 10)\n"
     ]
    },
    {
     "name": "stdout",
     "output_type": "stream",
     "text": [
      "('Test Accuracy of ExtraTrees = 98.081937 %', 16, 'fois')\n"
     ]
    },
    {
     "name": "stderr",
     "output_type": "stream",
     "text": [
      "[ 2018-04-19 23:40:48,982][kfold_wrapper.log_eval_metrics] Accuracy(layer_0 - estimator_0 - 10_folds.train_0.predict)=97.93%\n",
      "[ 2018-04-19 23:40:50,035][kfold_wrapper.log_eval_metrics] Accuracy(layer_0 - estimator_0 - 10_folds.train_1.predict)=97.93%\n",
      "[ 2018-04-19 23:40:51,112][kfold_wrapper.log_eval_metrics] Accuracy(layer_0 - estimator_0 - 10_folds.train_2.predict)=98.80%\n",
      "[ 2018-04-19 23:40:52,208][kfold_wrapper.log_eval_metrics] Accuracy(layer_0 - estimator_0 - 10_folds.train_3.predict)=97.61%\n",
      "[ 2018-04-19 23:40:53,339][kfold_wrapper.log_eval_metrics] Accuracy(layer_0 - estimator_0 - 10_folds.train_4.predict)=97.45%\n",
      "[ 2018-04-19 23:40:54,385][kfold_wrapper.log_eval_metrics] Accuracy(layer_0 - estimator_0 - 10_folds.train_5.predict)=98.24%\n",
      "[ 2018-04-19 23:40:55,458][kfold_wrapper.log_eval_metrics] Accuracy(layer_0 - estimator_0 - 10_folds.train_6.predict)=97.60%\n",
      "[ 2018-04-19 23:40:56,569][kfold_wrapper.log_eval_metrics] Accuracy(layer_0 - estimator_0 - 10_folds.train_7.predict)=97.44%\n",
      "[ 2018-04-19 23:40:57,645][kfold_wrapper.log_eval_metrics] Accuracy(layer_0 - estimator_0 - 10_folds.train_8.predict)=97.92%\n",
      "[ 2018-04-19 23:40:58,687][kfold_wrapper.log_eval_metrics] Accuracy(layer_0 - estimator_0 - 10_folds.train_9.predict)=98.16%\n",
      "[ 2018-04-19 23:40:58,926][kfold_wrapper.log_eval_metrics] Accuracy(layer_0 - estimator_0 - 10_folds.train_cv.predict)=97.91%\n",
      "[ 2018-04-19 23:40:58,928][kfold_wrapper.log_eval_metrics] Accuracy(layer_0 - estimator_0 - 10_folds.test.predict)=97.95%\n",
      "[ 2018-04-19 23:40:58,938][cascade_classifier.calc_accuracy] Accuracy(layer_0 - train.classifier_average)=97.91%\n",
      "[ 2018-04-19 23:40:58,940][cascade_classifier.calc_accuracy] Accuracy(layer_0 - test.classifier_average)=97.95%\n",
      "[ 2018-04-19 23:40:58,941][cascade_classifier.fit_transform] [Result][Reach Max Layer] opt_layer_num=1, accuracy_train=97.91%, accuracy_test=97.95%\n",
      "[ 2018-04-19 23:40:58,942][cascade_classifier.transform] X_groups_test.shape=[(5370, 10)]\n",
      "[ 2018-04-19 23:40:58,943][cascade_classifier.transform] group_dims=[10]\n",
      "[ 2018-04-19 23:40:58,944][cascade_classifier.transform] X_test.shape=(5370, 10)\n",
      "[ 2018-04-19 23:40:58,945][cascade_classifier.transform] [layer=0] look_indexs=[0], X_cur_test.shape=(5370, 10)\n",
      "[ 2018-04-19 23:41:01,550][cascade_classifier.fit_transform] X_groups_train.shape=[(12528, 10)],y_train.shape=(12528,),X_groups_test.shape=[(5370, 10)],y_test.shape=(5370,)\n",
      "[ 2018-04-19 23:41:01,552][cascade_classifier.fit_transform] group_dims=[10]\n",
      "[ 2018-04-19 23:41:01,553][cascade_classifier.fit_transform] group_starts=[0]\n",
      "[ 2018-04-19 23:41:01,554][cascade_classifier.fit_transform] group_ends=[10]\n",
      "[ 2018-04-19 23:41:01,555][cascade_classifier.fit_transform] X_train.shape=(12528, 10),X_test.shape=(5370, 10)\n",
      "[ 2018-04-19 23:41:01,558][cascade_classifier.fit_transform] [layer=0] look_indexs=[0], X_cur_train.shape=(12528, 10), X_cur_test.shape=(5370, 10)\n"
     ]
    },
    {
     "name": "stdout",
     "output_type": "stream",
     "text": [
      "('Test Accuracy of ExtraTrees = 97.951583 %', 17, 'fois')\n"
     ]
    },
    {
     "name": "stderr",
     "output_type": "stream",
     "text": [
      "[ 2018-04-19 23:41:02,426][kfold_wrapper.log_eval_metrics] Accuracy(layer_0 - estimator_0 - 10_folds.train_0.predict)=98.01%\n",
      "[ 2018-04-19 23:41:03,520][kfold_wrapper.log_eval_metrics] Accuracy(layer_0 - estimator_0 - 10_folds.train_1.predict)=98.09%\n",
      "[ 2018-04-19 23:41:04,646][kfold_wrapper.log_eval_metrics] Accuracy(layer_0 - estimator_0 - 10_folds.train_2.predict)=98.48%\n",
      "[ 2018-04-19 23:41:05,767][kfold_wrapper.log_eval_metrics] Accuracy(layer_0 - estimator_0 - 10_folds.train_3.predict)=97.37%\n",
      "[ 2018-04-19 23:41:06,836][kfold_wrapper.log_eval_metrics] Accuracy(layer_0 - estimator_0 - 10_folds.train_4.predict)=96.97%\n",
      "[ 2018-04-19 23:41:07,876][kfold_wrapper.log_eval_metrics] Accuracy(layer_0 - estimator_0 - 10_folds.train_5.predict)=98.16%\n",
      "[ 2018-04-19 23:41:08,955][kfold_wrapper.log_eval_metrics] Accuracy(layer_0 - estimator_0 - 10_folds.train_6.predict)=97.84%\n",
      "[ 2018-04-19 23:41:10,148][kfold_wrapper.log_eval_metrics] Accuracy(layer_0 - estimator_0 - 10_folds.train_7.predict)=97.52%\n",
      "[ 2018-04-19 23:41:11,238][kfold_wrapper.log_eval_metrics] Accuracy(layer_0 - estimator_0 - 10_folds.train_8.predict)=98.00%\n",
      "[ 2018-04-19 23:41:12,307][kfold_wrapper.log_eval_metrics] Accuracy(layer_0 - estimator_0 - 10_folds.train_9.predict)=98.24%\n",
      "[ 2018-04-19 23:41:12,559][kfold_wrapper.log_eval_metrics] Accuracy(layer_0 - estimator_0 - 10_folds.train_cv.predict)=97.87%\n",
      "[ 2018-04-19 23:41:12,561][kfold_wrapper.log_eval_metrics] Accuracy(layer_0 - estimator_0 - 10_folds.test.predict)=98.06%\n",
      "[ 2018-04-19 23:41:12,571][cascade_classifier.calc_accuracy] Accuracy(layer_0 - train.classifier_average)=97.87%\n",
      "[ 2018-04-19 23:41:12,572][cascade_classifier.calc_accuracy] Accuracy(layer_0 - test.classifier_average)=98.06%\n",
      "[ 2018-04-19 23:41:12,573][cascade_classifier.fit_transform] [Result][Reach Max Layer] opt_layer_num=1, accuracy_train=97.87%, accuracy_test=98.06%\n",
      "[ 2018-04-19 23:41:12,575][cascade_classifier.transform] X_groups_test.shape=[(5370, 10)]\n",
      "[ 2018-04-19 23:41:12,576][cascade_classifier.transform] group_dims=[10]\n",
      "[ 2018-04-19 23:41:12,577][cascade_classifier.transform] X_test.shape=(5370, 10)\n",
      "[ 2018-04-19 23:41:12,578][cascade_classifier.transform] [layer=0] look_indexs=[0], X_cur_test.shape=(5370, 10)\n",
      "[ 2018-04-19 23:41:15,119][cascade_classifier.fit_transform] X_groups_train.shape=[(12528, 10)],y_train.shape=(12528,),X_groups_test.shape=[(5370, 10)],y_test.shape=(5370,)\n",
      "[ 2018-04-19 23:41:15,121][cascade_classifier.fit_transform] group_dims=[10]\n",
      "[ 2018-04-19 23:41:15,122][cascade_classifier.fit_transform] group_starts=[0]\n",
      "[ 2018-04-19 23:41:15,123][cascade_classifier.fit_transform] group_ends=[10]\n",
      "[ 2018-04-19 23:41:15,124][cascade_classifier.fit_transform] X_train.shape=(12528, 10),X_test.shape=(5370, 10)\n",
      "[ 2018-04-19 23:41:15,126][cascade_classifier.fit_transform] [layer=0] look_indexs=[0], X_cur_train.shape=(12528, 10), X_cur_test.shape=(5370, 10)\n"
     ]
    },
    {
     "name": "stdout",
     "output_type": "stream",
     "text": [
      "('Test Accuracy of ExtraTrees = 98.063315 %', 18, 'fois')\n"
     ]
    },
    {
     "name": "stderr",
     "output_type": "stream",
     "text": [
      "[ 2018-04-19 23:41:15,918][kfold_wrapper.log_eval_metrics] Accuracy(layer_0 - estimator_0 - 10_folds.train_0.predict)=98.17%\n",
      "[ 2018-04-19 23:41:17,133][kfold_wrapper.log_eval_metrics] Accuracy(layer_0 - estimator_0 - 10_folds.train_1.predict)=98.01%\n",
      "[ 2018-04-19 23:41:18,170][kfold_wrapper.log_eval_metrics] Accuracy(layer_0 - estimator_0 - 10_folds.train_2.predict)=98.56%\n",
      "[ 2018-04-19 23:41:19,255][kfold_wrapper.log_eval_metrics] Accuracy(layer_0 - estimator_0 - 10_folds.train_3.predict)=97.29%\n",
      "[ 2018-04-19 23:41:20,390][kfold_wrapper.log_eval_metrics] Accuracy(layer_0 - estimator_0 - 10_folds.train_4.predict)=97.13%\n",
      "[ 2018-04-19 23:41:21,589][kfold_wrapper.log_eval_metrics] Accuracy(layer_0 - estimator_0 - 10_folds.train_5.predict)=98.32%\n",
      "[ 2018-04-19 23:41:22,688][kfold_wrapper.log_eval_metrics] Accuracy(layer_0 - estimator_0 - 10_folds.train_6.predict)=98.16%\n",
      "[ 2018-04-19 23:41:23,785][kfold_wrapper.log_eval_metrics] Accuracy(layer_0 - estimator_0 - 10_folds.train_7.predict)=97.84%\n",
      "[ 2018-04-19 23:41:24,875][kfold_wrapper.log_eval_metrics] Accuracy(layer_0 - estimator_0 - 10_folds.train_8.predict)=98.00%\n",
      "[ 2018-04-19 23:41:25,937][kfold_wrapper.log_eval_metrics] Accuracy(layer_0 - estimator_0 - 10_folds.train_9.predict)=98.00%\n",
      "[ 2018-04-19 23:41:26,182][kfold_wrapper.log_eval_metrics] Accuracy(layer_0 - estimator_0 - 10_folds.train_cv.predict)=97.95%\n",
      "[ 2018-04-19 23:41:26,184][kfold_wrapper.log_eval_metrics] Accuracy(layer_0 - estimator_0 - 10_folds.test.predict)=98.08%\n",
      "[ 2018-04-19 23:41:26,197][cascade_classifier.calc_accuracy] Accuracy(layer_0 - train.classifier_average)=97.95%\n",
      "[ 2018-04-19 23:41:26,199][cascade_classifier.calc_accuracy] Accuracy(layer_0 - test.classifier_average)=98.08%\n",
      "[ 2018-04-19 23:41:26,201][cascade_classifier.fit_transform] [Result][Reach Max Layer] opt_layer_num=1, accuracy_train=97.95%, accuracy_test=98.08%\n",
      "[ 2018-04-19 23:41:26,202][cascade_classifier.transform] X_groups_test.shape=[(5370, 10)]\n",
      "[ 2018-04-19 23:41:26,204][cascade_classifier.transform] group_dims=[10]\n",
      "[ 2018-04-19 23:41:26,205][cascade_classifier.transform] X_test.shape=(5370, 10)\n",
      "[ 2018-04-19 23:41:26,206][cascade_classifier.transform] [layer=0] look_indexs=[0], X_cur_test.shape=(5370, 10)\n"
     ]
    },
    {
     "name": "stdout",
     "output_type": "stream",
     "text": [
      "('Test Accuracy of ExtraTrees = 98.081937 %', 19, 'fois')\n"
     ]
    }
   ],
   "source": [
    "# Deep\n",
    "for i in range (20):\n",
    "    X_train,X_test=update(X_train,X_test)\n",
    "    X_test_enc, X_train_enc=newdata(X_test_enc, X_train_enc)\n",
    "\n",
    "    X_train=X_train_enc\n",
    "    X_test=X_test_enc \n",
    "    X_train_enc, X_test_enc = gc.fit_transform(X_train, y_train, X_test=X_test, y_test=y_test)\n",
    "    affiche()"
   ]
  },
  {
   "cell_type": "code",
   "execution_count": null,
   "metadata": {
    "collapsed": true
   },
   "outputs": [],
   "source": []
  },
  {
   "cell_type": "markdown",
   "metadata": {
    "collapsed": true
   },
   "source": [
    "# ('Test Accuracy of ExtraTrees = 98.193669 %', 10, 'fois')"
   ]
  },
  {
   "cell_type": "code",
   "execution_count": null,
   "metadata": {
    "collapsed": true
   },
   "outputs": [],
   "source": []
  }
 ],
 "metadata": {
  "kernelspec": {
   "display_name": "Python 2",
   "language": "python",
   "name": "python2"
  },
  "language_info": {
   "codemirror_mode": {
    "name": "ipython",
    "version": 2
   },
   "file_extension": ".py",
   "mimetype": "text/x-python",
   "name": "python",
   "nbconvert_exporter": "python",
   "pygments_lexer": "ipython2",
   "version": "2.7.13"
  }
 },
 "nbformat": 4,
 "nbformat_minor": 2
}
