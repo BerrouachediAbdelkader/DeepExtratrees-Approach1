{
 "cells": [
  {
   "cell_type": "code",
   "execution_count": 20,
   "metadata": {
    "collapsed": true
   },
   "outputs": [],
   "source": [
    "# imports \n",
    "import numpy as np\n",
    "import pandas as pd\n",
    "from math import sqrt \n",
    "from pprint import pprint\n",
    "from numpy import array"
   ]
  },
  {
   "cell_type": "code",
   "execution_count": 21,
   "metadata": {
    "collapsed": true
   },
   "outputs": [],
   "source": [
    "# load data\n",
    "import constants\n",
    "df = pd.read_csv(\"kddcup.data_10_percent.gz\", names = constants.names)"
   ]
  },
  {
   "cell_type": "code",
   "execution_count": 22,
   "metadata": {},
   "outputs": [
    {
     "data": {
      "text/plain": [
       "(494021, 42)"
      ]
     },
     "execution_count": 22,
     "metadata": {},
     "output_type": "execute_result"
    }
   ],
   "source": [
    "# Categorical features to numeric labels\n",
    "\n",
    "from sklearn import preprocessing\n",
    "le_dicts = {}\n",
    "\n",
    "for categorical_name in constants.categorical_names:\n",
    "    le = preprocessing.LabelEncoder()\n",
    "    le.fit(df[categorical_name])\n",
    "    le_dicts[categorical_name] = dict(zip(le.transform(le.classes_), le.classes_))\n",
    "    df[categorical_name + '_num'] = le.fit_transform(df[categorical_name])\n",
    "\n",
    "df['cible'] = df.label.apply(lambda label: 1 if label == 'normal.' else 0)\n",
    "df['label_four'] = df.label.apply(lambda label: constants.label_to_four_attack_class[label])\n",
    "df['label_four_num'] = df.label_four.apply(lambda label: constants.five_classes_to_num[label])\n",
    "df.drop(constants.categorical_names + ['label','label_four_num','label_four'], axis=1, inplace=True)\n",
    "df.shape"
   ]
  },
  {
   "cell_type": "code",
   "execution_count": 23,
   "metadata": {},
   "outputs": [
    {
     "data": {
      "text/html": [
       "<div>\n",
       "<style>\n",
       "    .dataframe thead tr:only-child th {\n",
       "        text-align: right;\n",
       "    }\n",
       "\n",
       "    .dataframe thead th {\n",
       "        text-align: left;\n",
       "    }\n",
       "\n",
       "    .dataframe tbody tr th {\n",
       "        vertical-align: top;\n",
       "    }\n",
       "</style>\n",
       "<table border=\"1\" class=\"dataframe\">\n",
       "  <thead>\n",
       "    <tr style=\"text-align: right;\">\n",
       "      <th></th>\n",
       "      <th>duration</th>\n",
       "      <th>src_bytes</th>\n",
       "      <th>dst_bytes</th>\n",
       "      <th>land</th>\n",
       "      <th>wrong_fragment</th>\n",
       "      <th>urgent</th>\n",
       "      <th>hot</th>\n",
       "      <th>num_failed_logins</th>\n",
       "      <th>logged_in</th>\n",
       "      <th>num_compromised</th>\n",
       "      <th>...</th>\n",
       "      <th>dst_host_same_src_port_rate</th>\n",
       "      <th>dst_host_srv_diff_host_rate</th>\n",
       "      <th>dst_host_serror_rate</th>\n",
       "      <th>dst_host_srv_serror_rate</th>\n",
       "      <th>dst_host_rerror_rate</th>\n",
       "      <th>dst_host_srv_rerror_rate</th>\n",
       "      <th>protocol_type_num</th>\n",
       "      <th>service_num</th>\n",
       "      <th>flag_num</th>\n",
       "      <th>cible</th>\n",
       "    </tr>\n",
       "  </thead>\n",
       "  <tbody>\n",
       "    <tr>\n",
       "      <th>0</th>\n",
       "      <td>0</td>\n",
       "      <td>181</td>\n",
       "      <td>5450</td>\n",
       "      <td>0</td>\n",
       "      <td>0</td>\n",
       "      <td>0</td>\n",
       "      <td>0</td>\n",
       "      <td>0</td>\n",
       "      <td>1</td>\n",
       "      <td>0</td>\n",
       "      <td>...</td>\n",
       "      <td>0.11</td>\n",
       "      <td>0.0</td>\n",
       "      <td>0.0</td>\n",
       "      <td>0.0</td>\n",
       "      <td>0.0</td>\n",
       "      <td>0.0</td>\n",
       "      <td>1</td>\n",
       "      <td>22</td>\n",
       "      <td>9</td>\n",
       "      <td>1</td>\n",
       "    </tr>\n",
       "    <tr>\n",
       "      <th>1</th>\n",
       "      <td>0</td>\n",
       "      <td>239</td>\n",
       "      <td>486</td>\n",
       "      <td>0</td>\n",
       "      <td>0</td>\n",
       "      <td>0</td>\n",
       "      <td>0</td>\n",
       "      <td>0</td>\n",
       "      <td>1</td>\n",
       "      <td>0</td>\n",
       "      <td>...</td>\n",
       "      <td>0.05</td>\n",
       "      <td>0.0</td>\n",
       "      <td>0.0</td>\n",
       "      <td>0.0</td>\n",
       "      <td>0.0</td>\n",
       "      <td>0.0</td>\n",
       "      <td>1</td>\n",
       "      <td>22</td>\n",
       "      <td>9</td>\n",
       "      <td>1</td>\n",
       "    </tr>\n",
       "    <tr>\n",
       "      <th>2</th>\n",
       "      <td>0</td>\n",
       "      <td>235</td>\n",
       "      <td>1337</td>\n",
       "      <td>0</td>\n",
       "      <td>0</td>\n",
       "      <td>0</td>\n",
       "      <td>0</td>\n",
       "      <td>0</td>\n",
       "      <td>1</td>\n",
       "      <td>0</td>\n",
       "      <td>...</td>\n",
       "      <td>0.03</td>\n",
       "      <td>0.0</td>\n",
       "      <td>0.0</td>\n",
       "      <td>0.0</td>\n",
       "      <td>0.0</td>\n",
       "      <td>0.0</td>\n",
       "      <td>1</td>\n",
       "      <td>22</td>\n",
       "      <td>9</td>\n",
       "      <td>1</td>\n",
       "    </tr>\n",
       "    <tr>\n",
       "      <th>3</th>\n",
       "      <td>0</td>\n",
       "      <td>219</td>\n",
       "      <td>1337</td>\n",
       "      <td>0</td>\n",
       "      <td>0</td>\n",
       "      <td>0</td>\n",
       "      <td>0</td>\n",
       "      <td>0</td>\n",
       "      <td>1</td>\n",
       "      <td>0</td>\n",
       "      <td>...</td>\n",
       "      <td>0.03</td>\n",
       "      <td>0.0</td>\n",
       "      <td>0.0</td>\n",
       "      <td>0.0</td>\n",
       "      <td>0.0</td>\n",
       "      <td>0.0</td>\n",
       "      <td>1</td>\n",
       "      <td>22</td>\n",
       "      <td>9</td>\n",
       "      <td>1</td>\n",
       "    </tr>\n",
       "    <tr>\n",
       "      <th>4</th>\n",
       "      <td>0</td>\n",
       "      <td>217</td>\n",
       "      <td>2032</td>\n",
       "      <td>0</td>\n",
       "      <td>0</td>\n",
       "      <td>0</td>\n",
       "      <td>0</td>\n",
       "      <td>0</td>\n",
       "      <td>1</td>\n",
       "      <td>0</td>\n",
       "      <td>...</td>\n",
       "      <td>0.02</td>\n",
       "      <td>0.0</td>\n",
       "      <td>0.0</td>\n",
       "      <td>0.0</td>\n",
       "      <td>0.0</td>\n",
       "      <td>0.0</td>\n",
       "      <td>1</td>\n",
       "      <td>22</td>\n",
       "      <td>9</td>\n",
       "      <td>1</td>\n",
       "    </tr>\n",
       "  </tbody>\n",
       "</table>\n",
       "<p>5 rows × 42 columns</p>\n",
       "</div>"
      ],
      "text/plain": [
       "   duration  src_bytes  dst_bytes  land  wrong_fragment  urgent  hot  \\\n",
       "0         0        181       5450     0               0       0    0   \n",
       "1         0        239        486     0               0       0    0   \n",
       "2         0        235       1337     0               0       0    0   \n",
       "3         0        219       1337     0               0       0    0   \n",
       "4         0        217       2032     0               0       0    0   \n",
       "\n",
       "   num_failed_logins  logged_in  num_compromised  ...    \\\n",
       "0                  0          1                0  ...     \n",
       "1                  0          1                0  ...     \n",
       "2                  0          1                0  ...     \n",
       "3                  0          1                0  ...     \n",
       "4                  0          1                0  ...     \n",
       "\n",
       "   dst_host_same_src_port_rate  dst_host_srv_diff_host_rate  \\\n",
       "0                         0.11                          0.0   \n",
       "1                         0.05                          0.0   \n",
       "2                         0.03                          0.0   \n",
       "3                         0.03                          0.0   \n",
       "4                         0.02                          0.0   \n",
       "\n",
       "   dst_host_serror_rate  dst_host_srv_serror_rate  dst_host_rerror_rate  \\\n",
       "0                   0.0                       0.0                   0.0   \n",
       "1                   0.0                       0.0                   0.0   \n",
       "2                   0.0                       0.0                   0.0   \n",
       "3                   0.0                       0.0                   0.0   \n",
       "4                   0.0                       0.0                   0.0   \n",
       "\n",
       "   dst_host_srv_rerror_rate  protocol_type_num  service_num  flag_num  cible  \n",
       "0                       0.0                  1           22         9      1  \n",
       "1                       0.0                  1           22         9      1  \n",
       "2                       0.0                  1           22         9      1  \n",
       "3                       0.0                  1           22         9      1  \n",
       "4                       0.0                  1           22         9      1  \n",
       "\n",
       "[5 rows x 42 columns]"
      ]
     },
     "execution_count": 23,
     "metadata": {},
     "output_type": "execute_result"
    }
   ],
   "source": [
    "# first 5\n",
    "df.head()"
   ]
  },
  {
   "cell_type": "code",
   "execution_count": 24,
   "metadata": {
    "collapsed": true
   },
   "outputs": [],
   "source": [
    "# data to values\n",
    "df = df.values"
   ]
  },
  {
   "cell_type": "code",
   "execution_count": 25,
   "metadata": {
    "collapsed": true
   },
   "outputs": [],
   "source": [
    "# Extratree Deep\n",
    "import argparse\n",
    "import syss\n",
    "import pickle\n",
    "from sklearn.metrics import accuracy_score\n",
    "sys.path.insert(0, \"lib\")\n",
    "from gcforest.gcforest import GCForest\n",
    "from gcforest.utils.config_utils import load_json\n",
    "config = load_json(\"./examples/kdd.json\")\n",
    "gc = GCForest(config)"
   ]
  },
  {
   "cell_type": "code",
   "execution_count": 26,
   "metadata": {
    "collapsed": true
   },
   "outputs": [],
   "source": [
    "# train test \n",
    "from sklearn.cross_validation import train_test_split\n",
    "y = df[:,41]\n",
    "X = df[:,0:41]\n",
    "\n",
    "X_train,X_test,y_train,y_test = train_test_split(X, y, test_size=0.33, random_state=42)"
   ]
  },
  {
   "cell_type": "code",
   "execution_count": 27,
   "metadata": {},
   "outputs": [
    {
     "data": {
      "text/plain": [
       "2"
      ]
     },
     "execution_count": 27,
     "metadata": {},
     "output_type": "execute_result"
    }
   ],
   "source": [
    "# count of class\n",
    "len(np.unique(y_train))"
   ]
  },
  {
   "cell_type": "code",
   "execution_count": 28,
   "metadata": {},
   "outputs": [
    {
     "name": "stderr",
     "output_type": "stream",
     "text": [
      "[ 2018-04-20 01:24:20,599][cascade_classifier.fit_transform] X_groups_train.shape=[(330994, 41)],y_train.shape=(330994,),X_groups_test.shape=[(163027, 41)],y_test.shape=(163027,)\n",
      "[ 2018-04-20 01:24:20,664][cascade_classifier.fit_transform] group_dims=[41]\n",
      "[ 2018-04-20 01:24:20,665][cascade_classifier.fit_transform] group_starts=[0]\n",
      "[ 2018-04-20 01:24:20,666][cascade_classifier.fit_transform] group_ends=[41]\n",
      "[ 2018-04-20 01:24:20,667][cascade_classifier.fit_transform] X_train.shape=(330994, 41),X_test.shape=(163027, 41)\n",
      "[ 2018-04-20 01:24:20,740][cascade_classifier.fit_transform] [layer=0] look_indexs=[0], X_cur_train.shape=(330994, 41), X_cur_test.shape=(163027, 41)\n",
      "[ 2018-04-20 01:24:23,227][kfold_wrapper.log_eval_metrics] Accuracy(layer_0 - estimator_0 - 10_folds.train_0.predict)=99.97%\n",
      "[ 2018-04-20 01:24:25,831][kfold_wrapper.log_eval_metrics] Accuracy(layer_0 - estimator_0 - 10_folds.train_1.predict)=99.96%\n",
      "[ 2018-04-20 01:24:28,865][kfold_wrapper.log_eval_metrics] Accuracy(layer_0 - estimator_0 - 10_folds.train_2.predict)=100.00%\n",
      "[ 2018-04-20 01:24:31,392][kfold_wrapper.log_eval_metrics] Accuracy(layer_0 - estimator_0 - 10_folds.train_3.predict)=99.98%\n",
      "[ 2018-04-20 01:24:34,169][kfold_wrapper.log_eval_metrics] Accuracy(layer_0 - estimator_0 - 10_folds.train_4.predict)=99.98%\n",
      "[ 2018-04-20 01:24:36,745][kfold_wrapper.log_eval_metrics] Accuracy(layer_0 - estimator_0 - 10_folds.train_5.predict)=99.97%\n",
      "[ 2018-04-20 01:24:39,484][kfold_wrapper.log_eval_metrics] Accuracy(layer_0 - estimator_0 - 10_folds.train_6.predict)=99.98%\n",
      "[ 2018-04-20 01:24:41,905][kfold_wrapper.log_eval_metrics] Accuracy(layer_0 - estimator_0 - 10_folds.train_7.predict)=99.97%\n",
      "[ 2018-04-20 01:24:44,301][kfold_wrapper.log_eval_metrics] Accuracy(layer_0 - estimator_0 - 10_folds.train_8.predict)=99.98%\n",
      "[ 2018-04-20 01:24:47,254][kfold_wrapper.log_eval_metrics] Accuracy(layer_0 - estimator_0 - 10_folds.train_9.predict)=99.98%\n",
      "[ 2018-04-20 01:24:47,704][kfold_wrapper.log_eval_metrics] Accuracy(layer_0 - estimator_0 - 10_folds.train_cv.predict)=99.98%\n",
      "[ 2018-04-20 01:24:47,708][kfold_wrapper.log_eval_metrics] Accuracy(layer_0 - estimator_0 - 10_folds.test.predict)=99.98%\n",
      "[ 2018-04-20 01:24:47,721][cascade_classifier.calc_accuracy] Accuracy(layer_0 - train.classifier_average)=99.98%\n",
      "[ 2018-04-20 01:24:47,725][cascade_classifier.calc_accuracy] Accuracy(layer_0 - test.classifier_average)=99.98%\n",
      "[ 2018-04-20 01:24:47,726][cascade_classifier.fit_transform] [Result][Reach Max Layer] opt_layer_num=1, accuracy_train=99.98%, accuracy_test=99.98%\n"
     ]
    }
   ],
   "source": [
    "             # X_enc is the concatenated predict_proba result of ExtraTrees\n",
    "\n",
    "X_train_enc, X_test_enc = gc.fit_transform(X_train, y_train, X_test=X_test, y_test=y_test)\n",
    "    "
   ]
  },
  {
   "cell_type": "code",
   "execution_count": 29,
   "metadata": {},
   "outputs": [
    {
     "name": "stderr",
     "output_type": "stream",
     "text": [
      "[ 2018-04-20 01:24:47,734][cascade_classifier.transform] X_groups_test.shape=[(163027, 41)]\n",
      "[ 2018-04-20 01:24:47,758][cascade_classifier.transform] group_dims=[41]\n",
      "[ 2018-04-20 01:24:47,759][cascade_classifier.transform] X_test.shape=(163027, 41)\n",
      "[ 2018-04-20 01:24:47,781][cascade_classifier.transform] [layer=0] look_indexs=[0], X_cur_test.shape=(163027, 41)\n"
     ]
    },
    {
     "name": "stdout",
     "output_type": "stream",
     "text": [
      "Test Accuracy of ExtraTrees = 99.976078 %\n"
     ]
    }
   ],
   "source": [
    "# predict\n",
    "y_pred = gc.predict(X_test)\n",
    "acc = accuracy_score(y_test, y_pred)\n",
    "print(\"Test Accuracy of ExtraTrees = {:.6f} %\".format(acc * 100))"
   ]
  },
  {
   "cell_type": "code",
   "execution_count": 30,
   "metadata": {},
   "outputs": [
    {
     "name": "stderr",
     "output_type": "stream",
     "text": [
      "[ 2018-04-20 01:24:51,405][cascade_classifier.transform] X_groups_test.shape=[(163027, 41)]\n",
      "[ 2018-04-20 01:24:51,428][cascade_classifier.transform] group_dims=[41]\n",
      "[ 2018-04-20 01:24:51,429][cascade_classifier.transform] X_test.shape=(163027, 41)\n",
      "[ 2018-04-20 01:24:51,451][cascade_classifier.transform] [layer=0] look_indexs=[0], X_cur_test.shape=(163027, 41)\n"
     ]
    }
   ],
   "source": [
    "# Make data + estimators\n",
    "X_test_enc = gc.transform(X_test)\n",
    "X_train_enc = X_train_enc.reshape((X_train_enc.shape[0], -1))\n",
    "X_test_enc = X_test_enc.reshape((X_test_enc.shape[0], -1))\n",
    "X_train_origin = X_train.reshape((X_train.shape[0], -1))\n",
    "X_test_origin = X_test.reshape((X_test.shape[0], -1))\n",
    "X_train_enc = np.hstack((X_train_origin, X_train_enc))\n",
    "X_test_enc = np.hstack((X_test_origin, X_test_enc))"
   ]
  },
  {
   "cell_type": "code",
   "execution_count": 31,
   "metadata": {},
   "outputs": [
    {
     "name": "stderr",
     "output_type": "stream",
     "text": [
      "[ 2018-04-20 01:24:55,335][cascade_classifier.fit_transform] X_groups_train.shape=[(330994, 43)],y_train.shape=(330994,),X_groups_test.shape=[(163027, 43)],y_test.shape=(163027,)\n",
      "[ 2018-04-20 01:24:55,402][cascade_classifier.fit_transform] group_dims=[43]\n",
      "[ 2018-04-20 01:24:55,403][cascade_classifier.fit_transform] group_starts=[0]\n",
      "[ 2018-04-20 01:24:55,404][cascade_classifier.fit_transform] group_ends=[43]\n",
      "[ 2018-04-20 01:24:55,405][cascade_classifier.fit_transform] X_train.shape=(330994, 43),X_test.shape=(163027, 43)\n",
      "[ 2018-04-20 01:24:55,482][cascade_classifier.fit_transform] [layer=0] look_indexs=[0], X_cur_train.shape=(330994, 43), X_cur_test.shape=(163027, 43)\n",
      "[ 2018-04-20 01:24:57,758][kfold_wrapper.log_eval_metrics] Accuracy(layer_0 - estimator_0 - 10_folds.train_0.predict)=99.96%\n",
      "[ 2018-04-20 01:25:00,341][kfold_wrapper.log_eval_metrics] Accuracy(layer_0 - estimator_0 - 10_folds.train_1.predict)=99.96%\n",
      "[ 2018-04-20 01:25:03,032][kfold_wrapper.log_eval_metrics] Accuracy(layer_0 - estimator_0 - 10_folds.train_2.predict)=100.00%\n",
      "[ 2018-04-20 01:25:05,606][kfold_wrapper.log_eval_metrics] Accuracy(layer_0 - estimator_0 - 10_folds.train_3.predict)=99.97%\n",
      "[ 2018-04-20 01:25:08,088][kfold_wrapper.log_eval_metrics] Accuracy(layer_0 - estimator_0 - 10_folds.train_4.predict)=99.98%\n",
      "[ 2018-04-20 01:25:10,652][kfold_wrapper.log_eval_metrics] Accuracy(layer_0 - estimator_0 - 10_folds.train_5.predict)=99.97%\n",
      "[ 2018-04-20 01:25:13,152][kfold_wrapper.log_eval_metrics] Accuracy(layer_0 - estimator_0 - 10_folds.train_6.predict)=99.98%\n",
      "[ 2018-04-20 01:25:15,484][kfold_wrapper.log_eval_metrics] Accuracy(layer_0 - estimator_0 - 10_folds.train_7.predict)=99.97%\n",
      "[ 2018-04-20 01:25:18,181][kfold_wrapper.log_eval_metrics] Accuracy(layer_0 - estimator_0 - 10_folds.train_8.predict)=99.98%\n",
      "[ 2018-04-20 01:25:20,715][kfold_wrapper.log_eval_metrics] Accuracy(layer_0 - estimator_0 - 10_folds.train_9.predict)=99.98%\n",
      "[ 2018-04-20 01:25:21,047][kfold_wrapper.log_eval_metrics] Accuracy(layer_0 - estimator_0 - 10_folds.train_cv.predict)=99.98%\n",
      "[ 2018-04-20 01:25:21,051][kfold_wrapper.log_eval_metrics] Accuracy(layer_0 - estimator_0 - 10_folds.test.predict)=99.98%\n",
      "[ 2018-04-20 01:25:21,070][cascade_classifier.calc_accuracy] Accuracy(layer_0 - train.classifier_average)=99.98%\n",
      "[ 2018-04-20 01:25:21,074][cascade_classifier.calc_accuracy] Accuracy(layer_0 - test.classifier_average)=99.98%\n",
      "[ 2018-04-20 01:25:21,075][cascade_classifier.fit_transform] [Result][Reach Max Layer] opt_layer_num=1, accuracy_train=99.98%, accuracy_test=99.98%\n"
     ]
    }
   ],
   "source": [
    "X_train=X_train_enc\n",
    "X_test=X_test_enc \n",
    "X_train_enc, X_test_enc = gc.fit_transform(X_train, y_train, X_test=X_test, y_test=y_test)"
   ]
  },
  {
   "cell_type": "code",
   "execution_count": 32,
   "metadata": {},
   "outputs": [
    {
     "name": "stderr",
     "output_type": "stream",
     "text": [
      "[ 2018-04-20 01:25:21,083][cascade_classifier.transform] X_groups_test.shape=[(163027, 43)]\n",
      "[ 2018-04-20 01:25:21,108][cascade_classifier.transform] group_dims=[43]\n",
      "[ 2018-04-20 01:25:21,109][cascade_classifier.transform] X_test.shape=(163027, 43)\n",
      "[ 2018-04-20 01:25:21,133][cascade_classifier.transform] [layer=0] look_indexs=[0], X_cur_test.shape=(163027, 43)\n"
     ]
    },
    {
     "name": "stdout",
     "output_type": "stream",
     "text": [
      "Test Accuracy of ExtraTrees = 99.978531 %\n"
     ]
    }
   ],
   "source": [
    "# predict  data + Es\n",
    "y_pred = gc.predict(X_test)\n",
    "acc = accuracy_score(y_test, y_pred)\n",
    "print(\"Test Accuracy of ExtraTrees = {:.6f} %\".format(acc * 100))"
   ]
  },
  {
   "cell_type": "code",
   "execution_count": 33,
   "metadata": {},
   "outputs": [
    {
     "name": "stdout",
     "output_type": "stream",
     "text": [
      "X_train_enc.shape=(330994, 2), X_test_enc.shape=(163027, 2)\n"
     ]
    }
   ],
   "source": [
    "print(\"X_train_enc.shape={}, X_test_enc.shape={}\".format(X_train_enc.shape, X_test_enc.shape))"
   ]
  },
  {
   "cell_type": "code",
   "execution_count": 34,
   "metadata": {},
   "outputs": [
    {
     "name": "stdout",
     "output_type": "stream",
     "text": [
      "X_train_enc.shape=(330994, 43), X_test_enc.shape=(163027, 43)\n"
     ]
    }
   ],
   "source": [
    "print(\"X_train_enc.shape={}, X_test_enc.shape={}\".format(X_train.shape, X_test.shape))"
   ]
  },
  {
   "cell_type": "code",
   "execution_count": 35,
   "metadata": {
    "collapsed": true
   },
   "outputs": [],
   "source": [
    "def update(X_train,X_test):\n",
    "    # update Estimators\n",
    "    M = np.delete(X_train, (-1), axis=1)\n",
    "    X_train= np.delete(M, (-1), axis=1)\n",
    "    M = np.delete(X_test, (-1), axis=1)\n",
    "    X_test = np.delete(M, (-1), axis=1)\n",
    "    return X_train,X_test\n",
    "\n",
    "def newdata(X_test_enc, X_train_enc):\n",
    "    # Make Data + Estimators\n",
    "    X_train_origin = X_train.reshape((X_train.shape[0], -1))\n",
    "    X_test_origin = X_test.reshape((X_test.shape[0], -1))\n",
    "    X_train_enc = np.hstack((X_train_origin, X_train_enc))\n",
    "    X_test_enc = np.hstack((X_test_origin, X_test_enc))\n",
    "    return X_test_enc, X_train_enc"
   ]
  },
  {
   "cell_type": "code",
   "execution_count": 36,
   "metadata": {
    "collapsed": true
   },
   "outputs": [],
   "source": [
    "def affiche():\n",
    "    # predict\n",
    "    y_pred = gc.predict(X_test)\n",
    "    acc = accuracy_score(y_test, y_pred)\n",
    "    print(\"Test Accuracy of ExtraTrees = {:.6f} %\".format(acc * 100),i,'fois')"
   ]
  },
  {
   "cell_type": "code",
   "execution_count": 37,
   "metadata": {},
   "outputs": [
    {
     "name": "stderr",
     "output_type": "stream",
     "text": [
      "[ 2018-04-20 01:25:25,089][cascade_classifier.fit_transform] X_groups_train.shape=[(330994, 43)],y_train.shape=(330994,),X_groups_test.shape=[(163027, 43)],y_test.shape=(163027,)\n",
      "[ 2018-04-20 01:25:25,158][cascade_classifier.fit_transform] group_dims=[43]\n",
      "[ 2018-04-20 01:25:25,160][cascade_classifier.fit_transform] group_starts=[0]\n",
      "[ 2018-04-20 01:25:25,161][cascade_classifier.fit_transform] group_ends=[43]\n",
      "[ 2018-04-20 01:25:25,162][cascade_classifier.fit_transform] X_train.shape=(330994, 43),X_test.shape=(163027, 43)\n",
      "[ 2018-04-20 01:25:25,237][cascade_classifier.fit_transform] [layer=0] look_indexs=[0], X_cur_train.shape=(330994, 43), X_cur_test.shape=(163027, 43)\n",
      "[ 2018-04-20 01:25:27,411][kfold_wrapper.log_eval_metrics] Accuracy(layer_0 - estimator_0 - 10_folds.train_0.predict)=99.96%\n",
      "[ 2018-04-20 01:25:30,279][kfold_wrapper.log_eval_metrics] Accuracy(layer_0 - estimator_0 - 10_folds.train_1.predict)=99.96%\n",
      "[ 2018-04-20 01:25:32,911][kfold_wrapper.log_eval_metrics] Accuracy(layer_0 - estimator_0 - 10_folds.train_2.predict)=99.99%\n",
      "[ 2018-04-20 01:25:35,188][kfold_wrapper.log_eval_metrics] Accuracy(layer_0 - estimator_0 - 10_folds.train_3.predict)=99.97%\n",
      "[ 2018-04-20 01:25:37,649][kfold_wrapper.log_eval_metrics] Accuracy(layer_0 - estimator_0 - 10_folds.train_4.predict)=99.97%\n",
      "[ 2018-04-20 01:25:40,171][kfold_wrapper.log_eval_metrics] Accuracy(layer_0 - estimator_0 - 10_folds.train_5.predict)=99.98%\n",
      "[ 2018-04-20 01:25:42,572][kfold_wrapper.log_eval_metrics] Accuracy(layer_0 - estimator_0 - 10_folds.train_6.predict)=99.99%\n",
      "[ 2018-04-20 01:25:45,240][kfold_wrapper.log_eval_metrics] Accuracy(layer_0 - estimator_0 - 10_folds.train_7.predict)=99.97%\n",
      "[ 2018-04-20 01:25:47,883][kfold_wrapper.log_eval_metrics] Accuracy(layer_0 - estimator_0 - 10_folds.train_8.predict)=99.98%\n",
      "[ 2018-04-20 01:25:50,218][kfold_wrapper.log_eval_metrics] Accuracy(layer_0 - estimator_0 - 10_folds.train_9.predict)=99.98%\n",
      "[ 2018-04-20 01:25:50,711][kfold_wrapper.log_eval_metrics] Accuracy(layer_0 - estimator_0 - 10_folds.train_cv.predict)=99.98%\n",
      "[ 2018-04-20 01:25:50,715][kfold_wrapper.log_eval_metrics] Accuracy(layer_0 - estimator_0 - 10_folds.test.predict)=99.98%\n",
      "[ 2018-04-20 01:25:50,735][cascade_classifier.calc_accuracy] Accuracy(layer_0 - train.classifier_average)=99.98%\n",
      "[ 2018-04-20 01:25:50,739][cascade_classifier.calc_accuracy] Accuracy(layer_0 - test.classifier_average)=99.98%\n",
      "[ 2018-04-20 01:25:50,740][cascade_classifier.fit_transform] [Result][Reach Max Layer] opt_layer_num=1, accuracy_train=99.98%, accuracy_test=99.98%\n",
      "[ 2018-04-20 01:25:50,743][cascade_classifier.transform] X_groups_test.shape=[(163027, 43)]\n",
      "[ 2018-04-20 01:25:50,767][cascade_classifier.transform] group_dims=[43]\n",
      "[ 2018-04-20 01:25:50,768][cascade_classifier.transform] X_test.shape=(163027, 43)\n",
      "[ 2018-04-20 01:25:50,791][cascade_classifier.transform] [layer=0] look_indexs=[0], X_cur_test.shape=(163027, 43)\n"
     ]
    },
    {
     "name": "stdout",
     "output_type": "stream",
     "text": [
      "('Test Accuracy of ExtraTrees = 99.975464 %', 0, 'fois')\n"
     ]
    },
    {
     "name": "stderr",
     "output_type": "stream",
     "text": [
      "[ 2018-04-20 01:25:55,509][cascade_classifier.fit_transform] X_groups_train.shape=[(330994, 43)],y_train.shape=(330994,),X_groups_test.shape=[(163027, 43)],y_test.shape=(163027,)\n",
      "[ 2018-04-20 01:25:55,582][cascade_classifier.fit_transform] group_dims=[43]\n",
      "[ 2018-04-20 01:25:55,584][cascade_classifier.fit_transform] group_starts=[0]\n",
      "[ 2018-04-20 01:25:55,585][cascade_classifier.fit_transform] group_ends=[43]\n",
      "[ 2018-04-20 01:25:55,586][cascade_classifier.fit_transform] X_train.shape=(330994, 43),X_test.shape=(163027, 43)\n",
      "[ 2018-04-20 01:25:55,664][cascade_classifier.fit_transform] [layer=0] look_indexs=[0], X_cur_train.shape=(330994, 43), X_cur_test.shape=(163027, 43)\n",
      "[ 2018-04-20 01:25:57,985][kfold_wrapper.log_eval_metrics] Accuracy(layer_0 - estimator_0 - 10_folds.train_0.predict)=99.95%\n",
      "[ 2018-04-20 01:26:00,353][kfold_wrapper.log_eval_metrics] Accuracy(layer_0 - estimator_0 - 10_folds.train_1.predict)=99.95%\n",
      "[ 2018-04-20 01:26:02,919][kfold_wrapper.log_eval_metrics] Accuracy(layer_0 - estimator_0 - 10_folds.train_2.predict)=99.99%\n",
      "[ 2018-04-20 01:26:05,319][kfold_wrapper.log_eval_metrics] Accuracy(layer_0 - estimator_0 - 10_folds.train_3.predict)=99.97%\n",
      "[ 2018-04-20 01:26:08,044][kfold_wrapper.log_eval_metrics] Accuracy(layer_0 - estimator_0 - 10_folds.train_4.predict)=99.97%\n",
      "[ 2018-04-20 01:26:10,690][kfold_wrapper.log_eval_metrics] Accuracy(layer_0 - estimator_0 - 10_folds.train_5.predict)=99.98%\n",
      "[ 2018-04-20 01:26:13,368][kfold_wrapper.log_eval_metrics] Accuracy(layer_0 - estimator_0 - 10_folds.train_6.predict)=99.98%\n",
      "[ 2018-04-20 01:26:15,886][kfold_wrapper.log_eval_metrics] Accuracy(layer_0 - estimator_0 - 10_folds.train_7.predict)=99.96%\n",
      "[ 2018-04-20 01:26:18,676][kfold_wrapper.log_eval_metrics] Accuracy(layer_0 - estimator_0 - 10_folds.train_8.predict)=99.99%\n",
      "[ 2018-04-20 01:26:21,373][kfold_wrapper.log_eval_metrics] Accuracy(layer_0 - estimator_0 - 10_folds.train_9.predict)=99.98%\n",
      "[ 2018-04-20 01:26:21,830][kfold_wrapper.log_eval_metrics] Accuracy(layer_0 - estimator_0 - 10_folds.train_cv.predict)=99.97%\n",
      "[ 2018-04-20 01:26:21,836][kfold_wrapper.log_eval_metrics] Accuracy(layer_0 - estimator_0 - 10_folds.test.predict)=99.98%\n",
      "[ 2018-04-20 01:26:21,860][cascade_classifier.calc_accuracy] Accuracy(layer_0 - train.classifier_average)=99.97%\n",
      "[ 2018-04-20 01:26:21,865][cascade_classifier.calc_accuracy] Accuracy(layer_0 - test.classifier_average)=99.98%\n",
      "[ 2018-04-20 01:26:21,867][cascade_classifier.fit_transform] [Result][Reach Max Layer] opt_layer_num=1, accuracy_train=99.97%, accuracy_test=99.98%\n",
      "[ 2018-04-20 01:26:21,870][cascade_classifier.transform] X_groups_test.shape=[(163027, 43)]\n",
      "[ 2018-04-20 01:26:21,910][cascade_classifier.transform] group_dims=[43]\n",
      "[ 2018-04-20 01:26:21,911][cascade_classifier.transform] X_test.shape=(163027, 43)\n",
      "[ 2018-04-20 01:26:21,935][cascade_classifier.transform] [layer=0] look_indexs=[0], X_cur_test.shape=(163027, 43)\n"
     ]
    },
    {
     "name": "stdout",
     "output_type": "stream",
     "text": [
      "('Test Accuracy of ExtraTrees = 99.975464 %', 1, 'fois')\n"
     ]
    },
    {
     "name": "stderr",
     "output_type": "stream",
     "text": [
      "[ 2018-04-20 01:26:26,334][cascade_classifier.fit_transform] X_groups_train.shape=[(330994, 43)],y_train.shape=(330994,),X_groups_test.shape=[(163027, 43)],y_test.shape=(163027,)\n",
      "[ 2018-04-20 01:26:26,400][cascade_classifier.fit_transform] group_dims=[43]\n",
      "[ 2018-04-20 01:26:26,402][cascade_classifier.fit_transform] group_starts=[0]\n",
      "[ 2018-04-20 01:26:26,403][cascade_classifier.fit_transform] group_ends=[43]\n",
      "[ 2018-04-20 01:26:26,404][cascade_classifier.fit_transform] X_train.shape=(330994, 43),X_test.shape=(163027, 43)\n",
      "[ 2018-04-20 01:26:26,479][cascade_classifier.fit_transform] [layer=0] look_indexs=[0], X_cur_train.shape=(330994, 43), X_cur_test.shape=(163027, 43)\n",
      "[ 2018-04-20 01:26:28,912][kfold_wrapper.log_eval_metrics] Accuracy(layer_0 - estimator_0 - 10_folds.train_0.predict)=99.95%\n",
      "[ 2018-04-20 01:26:31,548][kfold_wrapper.log_eval_metrics] Accuracy(layer_0 - estimator_0 - 10_folds.train_1.predict)=99.96%\n",
      "[ 2018-04-20 01:26:34,200][kfold_wrapper.log_eval_metrics] Accuracy(layer_0 - estimator_0 - 10_folds.train_2.predict)=100.00%\n",
      "[ 2018-04-20 01:26:36,679][kfold_wrapper.log_eval_metrics] Accuracy(layer_0 - estimator_0 - 10_folds.train_3.predict)=99.97%\n",
      "[ 2018-04-20 01:26:39,139][kfold_wrapper.log_eval_metrics] Accuracy(layer_0 - estimator_0 - 10_folds.train_4.predict)=99.97%\n",
      "[ 2018-04-20 01:26:42,027][kfold_wrapper.log_eval_metrics] Accuracy(layer_0 - estimator_0 - 10_folds.train_5.predict)=99.98%\n",
      "[ 2018-04-20 01:26:44,680][kfold_wrapper.log_eval_metrics] Accuracy(layer_0 - estimator_0 - 10_folds.train_6.predict)=99.99%\n",
      "[ 2018-04-20 01:26:47,170][kfold_wrapper.log_eval_metrics] Accuracy(layer_0 - estimator_0 - 10_folds.train_7.predict)=99.97%\n",
      "[ 2018-04-20 01:26:49,950][kfold_wrapper.log_eval_metrics] Accuracy(layer_0 - estimator_0 - 10_folds.train_8.predict)=99.99%\n",
      "[ 2018-04-20 01:26:52,504][kfold_wrapper.log_eval_metrics] Accuracy(layer_0 - estimator_0 - 10_folds.train_9.predict)=99.98%\n",
      "[ 2018-04-20 01:26:52,963][kfold_wrapper.log_eval_metrics] Accuracy(layer_0 - estimator_0 - 10_folds.train_cv.predict)=99.97%\n",
      "[ 2018-04-20 01:26:52,970][kfold_wrapper.log_eval_metrics] Accuracy(layer_0 - estimator_0 - 10_folds.test.predict)=99.97%\n",
      "[ 2018-04-20 01:26:52,995][cascade_classifier.calc_accuracy] Accuracy(layer_0 - train.classifier_average)=99.97%\n",
      "[ 2018-04-20 01:26:53,001][cascade_classifier.calc_accuracy] Accuracy(layer_0 - test.classifier_average)=99.97%\n",
      "[ 2018-04-20 01:26:53,002][cascade_classifier.fit_transform] [Result][Reach Max Layer] opt_layer_num=1, accuracy_train=99.97%, accuracy_test=99.97%\n",
      "[ 2018-04-20 01:26:53,006][cascade_classifier.transform] X_groups_test.shape=[(163027, 43)]\n",
      "[ 2018-04-20 01:26:53,033][cascade_classifier.transform] group_dims=[43]\n",
      "[ 2018-04-20 01:26:53,034][cascade_classifier.transform] X_test.shape=(163027, 43)\n",
      "[ 2018-04-20 01:26:53,059][cascade_classifier.transform] [layer=0] look_indexs=[0], X_cur_test.shape=(163027, 43)\n"
     ]
    },
    {
     "name": "stdout",
     "output_type": "stream",
     "text": [
      "('Test Accuracy of ExtraTrees = 99.973624 %', 2, 'fois')\n"
     ]
    },
    {
     "name": "stderr",
     "output_type": "stream",
     "text": [
      "[ 2018-04-20 01:26:57,524][cascade_classifier.fit_transform] X_groups_train.shape=[(330994, 43)],y_train.shape=(330994,),X_groups_test.shape=[(163027, 43)],y_test.shape=(163027,)\n",
      "[ 2018-04-20 01:26:57,591][cascade_classifier.fit_transform] group_dims=[43]\n",
      "[ 2018-04-20 01:26:57,592][cascade_classifier.fit_transform] group_starts=[0]\n",
      "[ 2018-04-20 01:26:57,593][cascade_classifier.fit_transform] group_ends=[43]\n",
      "[ 2018-04-20 01:26:57,594][cascade_classifier.fit_transform] X_train.shape=(330994, 43),X_test.shape=(163027, 43)\n",
      "[ 2018-04-20 01:26:57,670][cascade_classifier.fit_transform] [layer=0] look_indexs=[0], X_cur_train.shape=(330994, 43), X_cur_test.shape=(163027, 43)\n",
      "[ 2018-04-20 01:26:59,998][kfold_wrapper.log_eval_metrics] Accuracy(layer_0 - estimator_0 - 10_folds.train_0.predict)=99.95%\n",
      "[ 2018-04-20 01:27:02,340][kfold_wrapper.log_eval_metrics] Accuracy(layer_0 - estimator_0 - 10_folds.train_1.predict)=99.96%\n",
      "[ 2018-04-20 01:27:05,010][kfold_wrapper.log_eval_metrics] Accuracy(layer_0 - estimator_0 - 10_folds.train_2.predict)=100.00%\n",
      "[ 2018-04-20 01:27:07,604][kfold_wrapper.log_eval_metrics] Accuracy(layer_0 - estimator_0 - 10_folds.train_3.predict)=99.96%\n",
      "[ 2018-04-20 01:27:09,933][kfold_wrapper.log_eval_metrics] Accuracy(layer_0 - estimator_0 - 10_folds.train_4.predict)=99.97%\n",
      "[ 2018-04-20 01:27:12,322][kfold_wrapper.log_eval_metrics] Accuracy(layer_0 - estimator_0 - 10_folds.train_5.predict)=99.98%\n",
      "[ 2018-04-20 01:27:15,184][kfold_wrapper.log_eval_metrics] Accuracy(layer_0 - estimator_0 - 10_folds.train_6.predict)=99.98%\n",
      "[ 2018-04-20 01:27:17,588][kfold_wrapper.log_eval_metrics] Accuracy(layer_0 - estimator_0 - 10_folds.train_7.predict)=99.96%\n",
      "[ 2018-04-20 01:27:20,031][kfold_wrapper.log_eval_metrics] Accuracy(layer_0 - estimator_0 - 10_folds.train_8.predict)=99.98%\n",
      "[ 2018-04-20 01:27:22,747][kfold_wrapper.log_eval_metrics] Accuracy(layer_0 - estimator_0 - 10_folds.train_9.predict)=99.98%\n",
      "[ 2018-04-20 01:27:23,176][kfold_wrapper.log_eval_metrics] Accuracy(layer_0 - estimator_0 - 10_folds.train_cv.predict)=99.97%\n",
      "[ 2018-04-20 01:27:23,180][kfold_wrapper.log_eval_metrics] Accuracy(layer_0 - estimator_0 - 10_folds.test.predict)=99.97%\n",
      "[ 2018-04-20 01:27:23,203][cascade_classifier.calc_accuracy] Accuracy(layer_0 - train.classifier_average)=99.97%\n",
      "[ 2018-04-20 01:27:23,207][cascade_classifier.calc_accuracy] Accuracy(layer_0 - test.classifier_average)=99.97%\n",
      "[ 2018-04-20 01:27:23,208][cascade_classifier.fit_transform] [Result][Reach Max Layer] opt_layer_num=1, accuracy_train=99.97%, accuracy_test=99.97%\n",
      "[ 2018-04-20 01:27:23,212][cascade_classifier.transform] X_groups_test.shape=[(163027, 43)]\n",
      "[ 2018-04-20 01:27:23,237][cascade_classifier.transform] group_dims=[43]\n",
      "[ 2018-04-20 01:27:23,238][cascade_classifier.transform] X_test.shape=(163027, 43)\n",
      "[ 2018-04-20 01:27:23,261][cascade_classifier.transform] [layer=0] look_indexs=[0], X_cur_test.shape=(163027, 43)\n"
     ]
    },
    {
     "name": "stdout",
     "output_type": "stream",
     "text": [
      "('Test Accuracy of ExtraTrees = 99.974851 %', 3, 'fois')\n"
     ]
    },
    {
     "name": "stderr",
     "output_type": "stream",
     "text": [
      "[ 2018-04-20 01:27:27,242][cascade_classifier.fit_transform] X_groups_train.shape=[(330994, 43)],y_train.shape=(330994,),X_groups_test.shape=[(163027, 43)],y_test.shape=(163027,)\n",
      "[ 2018-04-20 01:27:27,309][cascade_classifier.fit_transform] group_dims=[43]\n",
      "[ 2018-04-20 01:27:27,311][cascade_classifier.fit_transform] group_starts=[0]\n",
      "[ 2018-04-20 01:27:27,312][cascade_classifier.fit_transform] group_ends=[43]\n",
      "[ 2018-04-20 01:27:27,313][cascade_classifier.fit_transform] X_train.shape=(330994, 43),X_test.shape=(163027, 43)\n",
      "[ 2018-04-20 01:27:27,391][cascade_classifier.fit_transform] [layer=0] look_indexs=[0], X_cur_train.shape=(330994, 43), X_cur_test.shape=(163027, 43)\n",
      "[ 2018-04-20 01:27:30,044][kfold_wrapper.log_eval_metrics] Accuracy(layer_0 - estimator_0 - 10_folds.train_0.predict)=99.95%\n",
      "[ 2018-04-20 01:27:32,513][kfold_wrapper.log_eval_metrics] Accuracy(layer_0 - estimator_0 - 10_folds.train_1.predict)=99.96%\n",
      "[ 2018-04-20 01:27:35,157][kfold_wrapper.log_eval_metrics] Accuracy(layer_0 - estimator_0 - 10_folds.train_2.predict)=100.00%\n",
      "[ 2018-04-20 01:27:37,707][kfold_wrapper.log_eval_metrics] Accuracy(layer_0 - estimator_0 - 10_folds.train_3.predict)=99.96%\n",
      "[ 2018-04-20 01:27:40,179][kfold_wrapper.log_eval_metrics] Accuracy(layer_0 - estimator_0 - 10_folds.train_4.predict)=99.97%\n",
      "[ 2018-04-20 01:27:42,695][kfold_wrapper.log_eval_metrics] Accuracy(layer_0 - estimator_0 - 10_folds.train_5.predict)=99.97%\n",
      "[ 2018-04-20 01:27:45,816][kfold_wrapper.log_eval_metrics] Accuracy(layer_0 - estimator_0 - 10_folds.train_6.predict)=99.99%\n",
      "[ 2018-04-20 01:27:48,139][kfold_wrapper.log_eval_metrics] Accuracy(layer_0 - estimator_0 - 10_folds.train_7.predict)=99.96%\n",
      "[ 2018-04-20 01:27:50,597][kfold_wrapper.log_eval_metrics] Accuracy(layer_0 - estimator_0 - 10_folds.train_8.predict)=99.98%\n",
      "[ 2018-04-20 01:27:53,249][kfold_wrapper.log_eval_metrics] Accuracy(layer_0 - estimator_0 - 10_folds.train_9.predict)=99.98%\n",
      "[ 2018-04-20 01:27:53,725][kfold_wrapper.log_eval_metrics] Accuracy(layer_0 - estimator_0 - 10_folds.train_cv.predict)=99.97%\n",
      "[ 2018-04-20 01:27:53,730][kfold_wrapper.log_eval_metrics] Accuracy(layer_0 - estimator_0 - 10_folds.test.predict)=99.98%\n",
      "[ 2018-04-20 01:27:53,752][cascade_classifier.calc_accuracy] Accuracy(layer_0 - train.classifier_average)=99.97%\n",
      "[ 2018-04-20 01:27:53,756][cascade_classifier.calc_accuracy] Accuracy(layer_0 - test.classifier_average)=99.98%\n",
      "[ 2018-04-20 01:27:53,757][cascade_classifier.fit_transform] [Result][Reach Max Layer] opt_layer_num=1, accuracy_train=99.97%, accuracy_test=99.98%\n",
      "[ 2018-04-20 01:27:53,760][cascade_classifier.transform] X_groups_test.shape=[(163027, 43)]\n",
      "[ 2018-04-20 01:27:53,785][cascade_classifier.transform] group_dims=[43]\n",
      "[ 2018-04-20 01:27:53,786][cascade_classifier.transform] X_test.shape=(163027, 43)\n",
      "[ 2018-04-20 01:27:53,810][cascade_classifier.transform] [layer=0] look_indexs=[0], X_cur_test.shape=(163027, 43)\n"
     ]
    },
    {
     "name": "stdout",
     "output_type": "stream",
     "text": [
      "('Test Accuracy of ExtraTrees = 99.977304 %', 4, 'fois')\n"
     ]
    },
    {
     "name": "stderr",
     "output_type": "stream",
     "text": [
      "[ 2018-04-20 01:27:57,971][cascade_classifier.fit_transform] X_groups_train.shape=[(330994, 43)],y_train.shape=(330994,),X_groups_test.shape=[(163027, 43)],y_test.shape=(163027,)\n",
      "[ 2018-04-20 01:27:58,041][cascade_classifier.fit_transform] group_dims=[43]\n",
      "[ 2018-04-20 01:27:58,043][cascade_classifier.fit_transform] group_starts=[0]\n",
      "[ 2018-04-20 01:27:58,044][cascade_classifier.fit_transform] group_ends=[43]\n",
      "[ 2018-04-20 01:27:58,045][cascade_classifier.fit_transform] X_train.shape=(330994, 43),X_test.shape=(163027, 43)\n",
      "[ 2018-04-20 01:27:58,120][cascade_classifier.fit_transform] [layer=0] look_indexs=[0], X_cur_train.shape=(330994, 43), X_cur_test.shape=(163027, 43)\n",
      "[ 2018-04-20 01:28:00,660][kfold_wrapper.log_eval_metrics] Accuracy(layer_0 - estimator_0 - 10_folds.train_0.predict)=99.95%\n",
      "[ 2018-04-20 01:28:03,179][kfold_wrapper.log_eval_metrics] Accuracy(layer_0 - estimator_0 - 10_folds.train_1.predict)=99.95%\n",
      "[ 2018-04-20 01:28:05,707][kfold_wrapper.log_eval_metrics] Accuracy(layer_0 - estimator_0 - 10_folds.train_2.predict)=100.00%\n",
      "[ 2018-04-20 01:28:08,526][kfold_wrapper.log_eval_metrics] Accuracy(layer_0 - estimator_0 - 10_folds.train_3.predict)=99.96%\n",
      "[ 2018-04-20 01:28:11,320][kfold_wrapper.log_eval_metrics] Accuracy(layer_0 - estimator_0 - 10_folds.train_4.predict)=99.96%\n",
      "[ 2018-04-20 01:28:13,883][kfold_wrapper.log_eval_metrics] Accuracy(layer_0 - estimator_0 - 10_folds.train_5.predict)=99.96%\n",
      "[ 2018-04-20 01:28:16,545][kfold_wrapper.log_eval_metrics] Accuracy(layer_0 - estimator_0 - 10_folds.train_6.predict)=99.98%\n",
      "[ 2018-04-20 01:28:19,085][kfold_wrapper.log_eval_metrics] Accuracy(layer_0 - estimator_0 - 10_folds.train_7.predict)=99.95%\n",
      "[ 2018-04-20 01:28:21,857][kfold_wrapper.log_eval_metrics] Accuracy(layer_0 - estimator_0 - 10_folds.train_8.predict)=99.98%\n",
      "[ 2018-04-20 01:28:24,344][kfold_wrapper.log_eval_metrics] Accuracy(layer_0 - estimator_0 - 10_folds.train_9.predict)=99.98%\n",
      "[ 2018-04-20 01:28:24,798][kfold_wrapper.log_eval_metrics] Accuracy(layer_0 - estimator_0 - 10_folds.train_cv.predict)=99.97%\n",
      "[ 2018-04-20 01:28:24,804][kfold_wrapper.log_eval_metrics] Accuracy(layer_0 - estimator_0 - 10_folds.test.predict)=99.98%\n",
      "[ 2018-04-20 01:28:24,833][cascade_classifier.calc_accuracy] Accuracy(layer_0 - train.classifier_average)=99.97%\n",
      "[ 2018-04-20 01:28:24,839][cascade_classifier.calc_accuracy] Accuracy(layer_0 - test.classifier_average)=99.98%\n",
      "[ 2018-04-20 01:28:24,840][cascade_classifier.fit_transform] [Result][Reach Max Layer] opt_layer_num=1, accuracy_train=99.97%, accuracy_test=99.98%\n",
      "[ 2018-04-20 01:28:24,844][cascade_classifier.transform] X_groups_test.shape=[(163027, 43)]\n",
      "[ 2018-04-20 01:28:24,871][cascade_classifier.transform] group_dims=[43]\n",
      "[ 2018-04-20 01:28:24,872][cascade_classifier.transform] X_test.shape=(163027, 43)\n",
      "[ 2018-04-20 01:28:24,898][cascade_classifier.transform] [layer=0] look_indexs=[0], X_cur_test.shape=(163027, 43)\n"
     ]
    },
    {
     "name": "stdout",
     "output_type": "stream",
     "text": [
      "('Test Accuracy of ExtraTrees = 99.977304 %', 5, 'fois')\n"
     ]
    },
    {
     "name": "stderr",
     "output_type": "stream",
     "text": [
      "[ 2018-04-20 01:28:29,559][cascade_classifier.fit_transform] X_groups_train.shape=[(330994, 43)],y_train.shape=(330994,),X_groups_test.shape=[(163027, 43)],y_test.shape=(163027,)\n",
      "[ 2018-04-20 01:28:29,627][cascade_classifier.fit_transform] group_dims=[43]\n",
      "[ 2018-04-20 01:28:29,629][cascade_classifier.fit_transform] group_starts=[0]\n",
      "[ 2018-04-20 01:28:29,630][cascade_classifier.fit_transform] group_ends=[43]\n",
      "[ 2018-04-20 01:28:29,631][cascade_classifier.fit_transform] X_train.shape=(330994, 43),X_test.shape=(163027, 43)\n",
      "[ 2018-04-20 01:28:29,707][cascade_classifier.fit_transform] [layer=0] look_indexs=[0], X_cur_train.shape=(330994, 43), X_cur_test.shape=(163027, 43)\n",
      "[ 2018-04-20 01:28:31,914][kfold_wrapper.log_eval_metrics] Accuracy(layer_0 - estimator_0 - 10_folds.train_0.predict)=99.95%\n",
      "[ 2018-04-20 01:28:34,283][kfold_wrapper.log_eval_metrics] Accuracy(layer_0 - estimator_0 - 10_folds.train_1.predict)=99.96%\n",
      "[ 2018-04-20 01:28:36,893][kfold_wrapper.log_eval_metrics] Accuracy(layer_0 - estimator_0 - 10_folds.train_2.predict)=99.99%\n",
      "[ 2018-04-20 01:28:39,392][kfold_wrapper.log_eval_metrics] Accuracy(layer_0 - estimator_0 - 10_folds.train_3.predict)=99.97%\n",
      "[ 2018-04-20 01:28:42,073][kfold_wrapper.log_eval_metrics] Accuracy(layer_0 - estimator_0 - 10_folds.train_4.predict)=99.95%\n",
      "[ 2018-04-20 01:28:45,048][kfold_wrapper.log_eval_metrics] Accuracy(layer_0 - estimator_0 - 10_folds.train_5.predict)=99.97%\n",
      "[ 2018-04-20 01:28:47,773][kfold_wrapper.log_eval_metrics] Accuracy(layer_0 - estimator_0 - 10_folds.train_6.predict)=99.99%\n",
      "[ 2018-04-20 01:28:50,344][kfold_wrapper.log_eval_metrics] Accuracy(layer_0 - estimator_0 - 10_folds.train_7.predict)=99.95%\n",
      "[ 2018-04-20 01:28:53,085][kfold_wrapper.log_eval_metrics] Accuracy(layer_0 - estimator_0 - 10_folds.train_8.predict)=99.98%\n",
      "[ 2018-04-20 01:28:55,874][kfold_wrapper.log_eval_metrics] Accuracy(layer_0 - estimator_0 - 10_folds.train_9.predict)=99.97%\n",
      "[ 2018-04-20 01:28:56,313][kfold_wrapper.log_eval_metrics] Accuracy(layer_0 - estimator_0 - 10_folds.train_cv.predict)=99.97%\n",
      "[ 2018-04-20 01:28:56,318][kfold_wrapper.log_eval_metrics] Accuracy(layer_0 - estimator_0 - 10_folds.test.predict)=99.97%\n",
      "[ 2018-04-20 01:28:56,345][cascade_classifier.calc_accuracy] Accuracy(layer_0 - train.classifier_average)=99.97%\n",
      "[ 2018-04-20 01:28:56,349][cascade_classifier.calc_accuracy] Accuracy(layer_0 - test.classifier_average)=99.97%\n",
      "[ 2018-04-20 01:28:56,351][cascade_classifier.fit_transform] [Result][Reach Max Layer] opt_layer_num=1, accuracy_train=99.97%, accuracy_test=99.97%\n",
      "[ 2018-04-20 01:28:56,354][cascade_classifier.transform] X_groups_test.shape=[(163027, 43)]\n",
      "[ 2018-04-20 01:28:56,383][cascade_classifier.transform] group_dims=[43]\n",
      "[ 2018-04-20 01:28:56,385][cascade_classifier.transform] X_test.shape=(163027, 43)\n",
      "[ 2018-04-20 01:28:56,410][cascade_classifier.transform] [layer=0] look_indexs=[0], X_cur_test.shape=(163027, 43)\n"
     ]
    },
    {
     "name": "stdout",
     "output_type": "stream",
     "text": [
      "('Test Accuracy of ExtraTrees = 99.973624 %', 6, 'fois')\n"
     ]
    },
    {
     "name": "stderr",
     "output_type": "stream",
     "text": [
      "[ 2018-04-20 01:29:01,049][cascade_classifier.fit_transform] X_groups_train.shape=[(330994, 43)],y_train.shape=(330994,),X_groups_test.shape=[(163027, 43)],y_test.shape=(163027,)\n",
      "[ 2018-04-20 01:29:01,117][cascade_classifier.fit_transform] group_dims=[43]\n",
      "[ 2018-04-20 01:29:01,118][cascade_classifier.fit_transform] group_starts=[0]\n",
      "[ 2018-04-20 01:29:01,120][cascade_classifier.fit_transform] group_ends=[43]\n",
      "[ 2018-04-20 01:29:01,121][cascade_classifier.fit_transform] X_train.shape=(330994, 43),X_test.shape=(163027, 43)\n",
      "[ 2018-04-20 01:29:01,196][cascade_classifier.fit_transform] [layer=0] look_indexs=[0], X_cur_train.shape=(330994, 43), X_cur_test.shape=(163027, 43)\n",
      "[ 2018-04-20 01:29:03,545][kfold_wrapper.log_eval_metrics] Accuracy(layer_0 - estimator_0 - 10_folds.train_0.predict)=99.95%\n",
      "[ 2018-04-20 01:29:06,259][kfold_wrapper.log_eval_metrics] Accuracy(layer_0 - estimator_0 - 10_folds.train_1.predict)=99.96%\n",
      "[ 2018-04-20 01:29:08,871][kfold_wrapper.log_eval_metrics] Accuracy(layer_0 - estimator_0 - 10_folds.train_2.predict)=99.99%\n",
      "[ 2018-04-20 01:29:11,646][kfold_wrapper.log_eval_metrics] Accuracy(layer_0 - estimator_0 - 10_folds.train_3.predict)=99.96%\n",
      "[ 2018-04-20 01:29:14,480][kfold_wrapper.log_eval_metrics] Accuracy(layer_0 - estimator_0 - 10_folds.train_4.predict)=99.95%\n",
      "[ 2018-04-20 01:29:17,007][kfold_wrapper.log_eval_metrics] Accuracy(layer_0 - estimator_0 - 10_folds.train_5.predict)=99.97%\n",
      "[ 2018-04-20 01:29:19,518][kfold_wrapper.log_eval_metrics] Accuracy(layer_0 - estimator_0 - 10_folds.train_6.predict)=99.98%\n",
      "[ 2018-04-20 01:29:21,968][kfold_wrapper.log_eval_metrics] Accuracy(layer_0 - estimator_0 - 10_folds.train_7.predict)=99.96%\n",
      "[ 2018-04-20 01:29:24,622][kfold_wrapper.log_eval_metrics] Accuracy(layer_0 - estimator_0 - 10_folds.train_8.predict)=99.98%\n",
      "[ 2018-04-20 01:29:27,300][kfold_wrapper.log_eval_metrics] Accuracy(layer_0 - estimator_0 - 10_folds.train_9.predict)=99.97%\n",
      "[ 2018-04-20 01:29:27,758][kfold_wrapper.log_eval_metrics] Accuracy(layer_0 - estimator_0 - 10_folds.train_cv.predict)=99.97%\n",
      "[ 2018-04-20 01:29:27,761][kfold_wrapper.log_eval_metrics] Accuracy(layer_0 - estimator_0 - 10_folds.test.predict)=99.97%\n",
      "[ 2018-04-20 01:29:27,778][cascade_classifier.calc_accuracy] Accuracy(layer_0 - train.classifier_average)=99.97%\n",
      "[ 2018-04-20 01:29:27,781][cascade_classifier.calc_accuracy] Accuracy(layer_0 - test.classifier_average)=99.97%\n",
      "[ 2018-04-20 01:29:27,782][cascade_classifier.fit_transform] [Result][Reach Max Layer] opt_layer_num=1, accuracy_train=99.97%, accuracy_test=99.97%\n",
      "[ 2018-04-20 01:29:27,785][cascade_classifier.transform] X_groups_test.shape=[(163027, 43)]\n",
      "[ 2018-04-20 01:29:27,808][cascade_classifier.transform] group_dims=[43]\n",
      "[ 2018-04-20 01:29:27,809][cascade_classifier.transform] X_test.shape=(163027, 43)\n",
      "[ 2018-04-20 01:29:27,832][cascade_classifier.transform] [layer=0] look_indexs=[0], X_cur_test.shape=(163027, 43)\n"
     ]
    },
    {
     "name": "stdout",
     "output_type": "stream",
     "text": [
      "('Test Accuracy of ExtraTrees = 99.971170 %', 7, 'fois')\n"
     ]
    },
    {
     "name": "stderr",
     "output_type": "stream",
     "text": [
      "[ 2018-04-20 01:29:32,160][cascade_classifier.fit_transform] X_groups_train.shape=[(330994, 43)],y_train.shape=(330994,),X_groups_test.shape=[(163027, 43)],y_test.shape=(163027,)\n",
      "[ 2018-04-20 01:29:32,227][cascade_classifier.fit_transform] group_dims=[43]\n",
      "[ 2018-04-20 01:29:32,228][cascade_classifier.fit_transform] group_starts=[0]\n",
      "[ 2018-04-20 01:29:32,229][cascade_classifier.fit_transform] group_ends=[43]\n",
      "[ 2018-04-20 01:29:32,230][cascade_classifier.fit_transform] X_train.shape=(330994, 43),X_test.shape=(163027, 43)\n",
      "[ 2018-04-20 01:29:32,305][cascade_classifier.fit_transform] [layer=0] look_indexs=[0], X_cur_train.shape=(330994, 43), X_cur_test.shape=(163027, 43)\n",
      "[ 2018-04-20 01:29:34,696][kfold_wrapper.log_eval_metrics] Accuracy(layer_0 - estimator_0 - 10_folds.train_0.predict)=99.95%\n",
      "[ 2018-04-20 01:29:37,260][kfold_wrapper.log_eval_metrics] Accuracy(layer_0 - estimator_0 - 10_folds.train_1.predict)=99.95%\n",
      "[ 2018-04-20 01:29:40,018][kfold_wrapper.log_eval_metrics] Accuracy(layer_0 - estimator_0 - 10_folds.train_2.predict)=100.00%\n",
      "[ 2018-04-20 01:29:42,879][kfold_wrapper.log_eval_metrics] Accuracy(layer_0 - estimator_0 - 10_folds.train_3.predict)=99.96%\n",
      "[ 2018-04-20 01:29:45,593][kfold_wrapper.log_eval_metrics] Accuracy(layer_0 - estimator_0 - 10_folds.train_4.predict)=99.96%\n",
      "[ 2018-04-20 01:29:48,410][kfold_wrapper.log_eval_metrics] Accuracy(layer_0 - estimator_0 - 10_folds.train_5.predict)=99.97%\n",
      "[ 2018-04-20 01:29:50,960][kfold_wrapper.log_eval_metrics] Accuracy(layer_0 - estimator_0 - 10_folds.train_6.predict)=99.98%\n",
      "[ 2018-04-20 01:29:53,571][kfold_wrapper.log_eval_metrics] Accuracy(layer_0 - estimator_0 - 10_folds.train_7.predict)=99.95%\n",
      "[ 2018-04-20 01:29:56,522][kfold_wrapper.log_eval_metrics] Accuracy(layer_0 - estimator_0 - 10_folds.train_8.predict)=99.97%\n",
      "[ 2018-04-20 01:29:59,117][kfold_wrapper.log_eval_metrics] Accuracy(layer_0 - estimator_0 - 10_folds.train_9.predict)=99.97%\n",
      "[ 2018-04-20 01:29:59,543][kfold_wrapper.log_eval_metrics] Accuracy(layer_0 - estimator_0 - 10_folds.train_cv.predict)=99.97%\n",
      "[ 2018-04-20 01:29:59,547][kfold_wrapper.log_eval_metrics] Accuracy(layer_0 - estimator_0 - 10_folds.test.predict)=99.97%\n",
      "[ 2018-04-20 01:29:59,567][cascade_classifier.calc_accuracy] Accuracy(layer_0 - train.classifier_average)=99.97%\n",
      "[ 2018-04-20 01:29:59,571][cascade_classifier.calc_accuracy] Accuracy(layer_0 - test.classifier_average)=99.97%\n",
      "[ 2018-04-20 01:29:59,573][cascade_classifier.fit_transform] [Result][Reach Max Layer] opt_layer_num=1, accuracy_train=99.97%, accuracy_test=99.97%\n",
      "[ 2018-04-20 01:29:59,576][cascade_classifier.transform] X_groups_test.shape=[(163027, 43)]\n",
      "[ 2018-04-20 01:29:59,602][cascade_classifier.transform] group_dims=[43]\n",
      "[ 2018-04-20 01:29:59,603][cascade_classifier.transform] X_test.shape=(163027, 43)\n",
      "[ 2018-04-20 01:29:59,627][cascade_classifier.transform] [layer=0] look_indexs=[0], X_cur_test.shape=(163027, 43)\n"
     ]
    },
    {
     "name": "stdout",
     "output_type": "stream",
     "text": [
      "('Test Accuracy of ExtraTrees = 99.971170 %', 8, 'fois')\n"
     ]
    },
    {
     "name": "stderr",
     "output_type": "stream",
     "text": [
      "[ 2018-04-20 01:30:04,401][cascade_classifier.fit_transform] X_groups_train.shape=[(330994, 43)],y_train.shape=(330994,),X_groups_test.shape=[(163027, 43)],y_test.shape=(163027,)\n",
      "[ 2018-04-20 01:30:04,469][cascade_classifier.fit_transform] group_dims=[43]\n",
      "[ 2018-04-20 01:30:04,470][cascade_classifier.fit_transform] group_starts=[0]\n",
      "[ 2018-04-20 01:30:04,472][cascade_classifier.fit_transform] group_ends=[43]\n",
      "[ 2018-04-20 01:30:04,473][cascade_classifier.fit_transform] X_train.shape=(330994, 43),X_test.shape=(163027, 43)\n",
      "[ 2018-04-20 01:30:04,548][cascade_classifier.fit_transform] [layer=0] look_indexs=[0], X_cur_train.shape=(330994, 43), X_cur_test.shape=(163027, 43)\n",
      "[ 2018-04-20 01:30:07,024][kfold_wrapper.log_eval_metrics] Accuracy(layer_0 - estimator_0 - 10_folds.train_0.predict)=99.95%\n",
      "[ 2018-04-20 01:30:09,570][kfold_wrapper.log_eval_metrics] Accuracy(layer_0 - estimator_0 - 10_folds.train_1.predict)=99.95%\n",
      "[ 2018-04-20 01:30:12,376][kfold_wrapper.log_eval_metrics] Accuracy(layer_0 - estimator_0 - 10_folds.train_2.predict)=100.00%\n",
      "[ 2018-04-20 01:30:14,932][kfold_wrapper.log_eval_metrics] Accuracy(layer_0 - estimator_0 - 10_folds.train_3.predict)=99.96%\n",
      "[ 2018-04-20 01:30:17,378][kfold_wrapper.log_eval_metrics] Accuracy(layer_0 - estimator_0 - 10_folds.train_4.predict)=99.96%\n",
      "[ 2018-04-20 01:30:20,164][kfold_wrapper.log_eval_metrics] Accuracy(layer_0 - estimator_0 - 10_folds.train_5.predict)=99.97%\n",
      "[ 2018-04-20 01:30:22,655][kfold_wrapper.log_eval_metrics] Accuracy(layer_0 - estimator_0 - 10_folds.train_6.predict)=99.99%\n",
      "[ 2018-04-20 01:30:25,335][kfold_wrapper.log_eval_metrics] Accuracy(layer_0 - estimator_0 - 10_folds.train_7.predict)=99.95%\n",
      "[ 2018-04-20 01:30:28,143][kfold_wrapper.log_eval_metrics] Accuracy(layer_0 - estimator_0 - 10_folds.train_8.predict)=99.98%\n",
      "[ 2018-04-20 01:30:31,026][kfold_wrapper.log_eval_metrics] Accuracy(layer_0 - estimator_0 - 10_folds.train_9.predict)=99.97%\n",
      "[ 2018-04-20 01:30:31,472][kfold_wrapper.log_eval_metrics] Accuracy(layer_0 - estimator_0 - 10_folds.train_cv.predict)=99.97%\n",
      "[ 2018-04-20 01:30:31,477][kfold_wrapper.log_eval_metrics] Accuracy(layer_0 - estimator_0 - 10_folds.test.predict)=99.97%\n",
      "[ 2018-04-20 01:30:31,501][cascade_classifier.calc_accuracy] Accuracy(layer_0 - train.classifier_average)=99.97%\n",
      "[ 2018-04-20 01:30:31,505][cascade_classifier.calc_accuracy] Accuracy(layer_0 - test.classifier_average)=99.97%\n",
      "[ 2018-04-20 01:30:31,506][cascade_classifier.fit_transform] [Result][Reach Max Layer] opt_layer_num=1, accuracy_train=99.97%, accuracy_test=99.97%\n",
      "[ 2018-04-20 01:30:31,510][cascade_classifier.transform] X_groups_test.shape=[(163027, 43)]\n",
      "[ 2018-04-20 01:30:31,535][cascade_classifier.transform] group_dims=[43]\n",
      "[ 2018-04-20 01:30:31,536][cascade_classifier.transform] X_test.shape=(163027, 43)\n",
      "[ 2018-04-20 01:30:31,560][cascade_classifier.transform] [layer=0] look_indexs=[0], X_cur_test.shape=(163027, 43)\n"
     ]
    },
    {
     "name": "stdout",
     "output_type": "stream",
     "text": [
      "('Test Accuracy of ExtraTrees = 99.971784 %', 9, 'fois')\n"
     ]
    },
    {
     "name": "stderr",
     "output_type": "stream",
     "text": [
      "[ 2018-04-20 01:30:35,799][cascade_classifier.fit_transform] X_groups_train.shape=[(330994, 43)],y_train.shape=(330994,),X_groups_test.shape=[(163027, 43)],y_test.shape=(163027,)\n",
      "[ 2018-04-20 01:30:35,867][cascade_classifier.fit_transform] group_dims=[43]\n",
      "[ 2018-04-20 01:30:35,869][cascade_classifier.fit_transform] group_starts=[0]\n",
      "[ 2018-04-20 01:30:35,870][cascade_classifier.fit_transform] group_ends=[43]\n",
      "[ 2018-04-20 01:30:35,871][cascade_classifier.fit_transform] X_train.shape=(330994, 43),X_test.shape=(163027, 43)\n",
      "[ 2018-04-20 01:30:35,947][cascade_classifier.fit_transform] [layer=0] look_indexs=[0], X_cur_train.shape=(330994, 43), X_cur_test.shape=(163027, 43)\n",
      "[ 2018-04-20 01:30:38,305][kfold_wrapper.log_eval_metrics] Accuracy(layer_0 - estimator_0 - 10_folds.train_0.predict)=99.95%\n",
      "[ 2018-04-20 01:30:40,940][kfold_wrapper.log_eval_metrics] Accuracy(layer_0 - estimator_0 - 10_folds.train_1.predict)=99.94%\n",
      "[ 2018-04-20 01:30:43,793][kfold_wrapper.log_eval_metrics] Accuracy(layer_0 - estimator_0 - 10_folds.train_2.predict)=99.99%\n",
      "[ 2018-04-20 01:30:46,652][kfold_wrapper.log_eval_metrics] Accuracy(layer_0 - estimator_0 - 10_folds.train_3.predict)=99.96%\n",
      "[ 2018-04-20 01:30:49,122][kfold_wrapper.log_eval_metrics] Accuracy(layer_0 - estimator_0 - 10_folds.train_4.predict)=99.96%\n",
      "[ 2018-04-20 01:30:51,830][kfold_wrapper.log_eval_metrics] Accuracy(layer_0 - estimator_0 - 10_folds.train_5.predict)=99.97%\n",
      "[ 2018-04-20 01:30:54,382][kfold_wrapper.log_eval_metrics] Accuracy(layer_0 - estimator_0 - 10_folds.train_6.predict)=99.99%\n",
      "[ 2018-04-20 01:30:57,222][kfold_wrapper.log_eval_metrics] Accuracy(layer_0 - estimator_0 - 10_folds.train_7.predict)=99.95%\n",
      "[ 2018-04-20 01:31:00,141][kfold_wrapper.log_eval_metrics] Accuracy(layer_0 - estimator_0 - 10_folds.train_8.predict)=99.97%\n",
      "[ 2018-04-20 01:31:02,856][kfold_wrapper.log_eval_metrics] Accuracy(layer_0 - estimator_0 - 10_folds.train_9.predict)=99.97%\n",
      "[ 2018-04-20 01:31:03,183][kfold_wrapper.log_eval_metrics] Accuracy(layer_0 - estimator_0 - 10_folds.train_cv.predict)=99.97%\n",
      "[ 2018-04-20 01:31:03,187][kfold_wrapper.log_eval_metrics] Accuracy(layer_0 - estimator_0 - 10_folds.test.predict)=99.97%\n",
      "[ 2018-04-20 01:31:03,208][cascade_classifier.calc_accuracy] Accuracy(layer_0 - train.classifier_average)=99.97%\n",
      "[ 2018-04-20 01:31:03,212][cascade_classifier.calc_accuracy] Accuracy(layer_0 - test.classifier_average)=99.97%\n",
      "[ 2018-04-20 01:31:03,213][cascade_classifier.fit_transform] [Result][Reach Max Layer] opt_layer_num=1, accuracy_train=99.97%, accuracy_test=99.97%\n",
      "[ 2018-04-20 01:31:03,216][cascade_classifier.transform] X_groups_test.shape=[(163027, 43)]\n",
      "[ 2018-04-20 01:31:03,240][cascade_classifier.transform] group_dims=[43]\n",
      "[ 2018-04-20 01:31:03,241][cascade_classifier.transform] X_test.shape=(163027, 43)\n",
      "[ 2018-04-20 01:31:03,265][cascade_classifier.transform] [layer=0] look_indexs=[0], X_cur_test.shape=(163027, 43)\n"
     ]
    },
    {
     "name": "stdout",
     "output_type": "stream",
     "text": [
      "('Test Accuracy of ExtraTrees = 99.972397 %', 10, 'fois')\n"
     ]
    },
    {
     "name": "stderr",
     "output_type": "stream",
     "text": [
      "[ 2018-04-20 01:31:06,941][cascade_classifier.fit_transform] X_groups_train.shape=[(330994, 43)],y_train.shape=(330994,),X_groups_test.shape=[(163027, 43)],y_test.shape=(163027,)\n",
      "[ 2018-04-20 01:31:07,010][cascade_classifier.fit_transform] group_dims=[43]\n",
      "[ 2018-04-20 01:31:07,011][cascade_classifier.fit_transform] group_starts=[0]\n",
      "[ 2018-04-20 01:31:07,013][cascade_classifier.fit_transform] group_ends=[43]\n",
      "[ 2018-04-20 01:31:07,014][cascade_classifier.fit_transform] X_train.shape=(330994, 43),X_test.shape=(163027, 43)\n",
      "[ 2018-04-20 01:31:07,089][cascade_classifier.fit_transform] [layer=0] look_indexs=[0], X_cur_train.shape=(330994, 43), X_cur_test.shape=(163027, 43)\n",
      "[ 2018-04-20 01:31:09,652][kfold_wrapper.log_eval_metrics] Accuracy(layer_0 - estimator_0 - 10_folds.train_0.predict)=99.95%\n",
      "[ 2018-04-20 01:31:12,163][kfold_wrapper.log_eval_metrics] Accuracy(layer_0 - estimator_0 - 10_folds.train_1.predict)=99.94%\n",
      "[ 2018-04-20 01:31:14,966][kfold_wrapper.log_eval_metrics] Accuracy(layer_0 - estimator_0 - 10_folds.train_2.predict)=99.99%\n",
      "[ 2018-04-20 01:31:17,710][kfold_wrapper.log_eval_metrics] Accuracy(layer_0 - estimator_0 - 10_folds.train_3.predict)=99.97%\n",
      "[ 2018-04-20 01:31:20,410][kfold_wrapper.log_eval_metrics] Accuracy(layer_0 - estimator_0 - 10_folds.train_4.predict)=99.96%\n",
      "[ 2018-04-20 01:31:23,262][kfold_wrapper.log_eval_metrics] Accuracy(layer_0 - estimator_0 - 10_folds.train_5.predict)=99.97%\n",
      "[ 2018-04-20 01:31:26,302][kfold_wrapper.log_eval_metrics] Accuracy(layer_0 - estimator_0 - 10_folds.train_6.predict)=99.98%\n",
      "[ 2018-04-20 01:31:28,917][kfold_wrapper.log_eval_metrics] Accuracy(layer_0 - estimator_0 - 10_folds.train_7.predict)=99.96%\n",
      "[ 2018-04-20 01:31:31,467][kfold_wrapper.log_eval_metrics] Accuracy(layer_0 - estimator_0 - 10_folds.train_8.predict)=99.97%\n",
      "[ 2018-04-20 01:31:34,207][kfold_wrapper.log_eval_metrics] Accuracy(layer_0 - estimator_0 - 10_folds.train_9.predict)=99.97%\n",
      "[ 2018-04-20 01:31:34,675][kfold_wrapper.log_eval_metrics] Accuracy(layer_0 - estimator_0 - 10_folds.train_cv.predict)=99.97%\n",
      "[ 2018-04-20 01:31:34,679][kfold_wrapper.log_eval_metrics] Accuracy(layer_0 - estimator_0 - 10_folds.test.predict)=99.97%\n",
      "[ 2018-04-20 01:31:34,700][cascade_classifier.calc_accuracy] Accuracy(layer_0 - train.classifier_average)=99.97%\n",
      "[ 2018-04-20 01:31:34,704][cascade_classifier.calc_accuracy] Accuracy(layer_0 - test.classifier_average)=99.97%\n",
      "[ 2018-04-20 01:31:34,705][cascade_classifier.fit_transform] [Result][Reach Max Layer] opt_layer_num=1, accuracy_train=99.97%, accuracy_test=99.97%\n",
      "[ 2018-04-20 01:31:34,708][cascade_classifier.transform] X_groups_test.shape=[(163027, 43)]\n",
      "[ 2018-04-20 01:31:34,732][cascade_classifier.transform] group_dims=[43]\n",
      "[ 2018-04-20 01:31:34,733][cascade_classifier.transform] X_test.shape=(163027, 43)\n",
      "[ 2018-04-20 01:31:34,756][cascade_classifier.transform] [layer=0] look_indexs=[0], X_cur_test.shape=(163027, 43)\n"
     ]
    },
    {
     "name": "stdout",
     "output_type": "stream",
     "text": [
      "('Test Accuracy of ExtraTrees = 99.972397 %', 11, 'fois')\n"
     ]
    },
    {
     "name": "stderr",
     "output_type": "stream",
     "text": [
      "[ 2018-04-20 01:31:39,164][cascade_classifier.fit_transform] X_groups_train.shape=[(330994, 43)],y_train.shape=(330994,),X_groups_test.shape=[(163027, 43)],y_test.shape=(163027,)\n",
      "[ 2018-04-20 01:31:39,232][cascade_classifier.fit_transform] group_dims=[43]\n",
      "[ 2018-04-20 01:31:39,234][cascade_classifier.fit_transform] group_starts=[0]\n",
      "[ 2018-04-20 01:31:39,235][cascade_classifier.fit_transform] group_ends=[43]\n",
      "[ 2018-04-20 01:31:39,236][cascade_classifier.fit_transform] X_train.shape=(330994, 43),X_test.shape=(163027, 43)\n",
      "[ 2018-04-20 01:31:39,311][cascade_classifier.fit_transform] [layer=0] look_indexs=[0], X_cur_train.shape=(330994, 43), X_cur_test.shape=(163027, 43)\n",
      "[ 2018-04-20 01:31:41,865][kfold_wrapper.log_eval_metrics] Accuracy(layer_0 - estimator_0 - 10_folds.train_0.predict)=99.96%\n",
      "[ 2018-04-20 01:31:44,494][kfold_wrapper.log_eval_metrics] Accuracy(layer_0 - estimator_0 - 10_folds.train_1.predict)=99.95%\n",
      "[ 2018-04-20 01:31:47,117][kfold_wrapper.log_eval_metrics] Accuracy(layer_0 - estimator_0 - 10_folds.train_2.predict)=99.99%\n",
      "[ 2018-04-20 01:31:49,894][kfold_wrapper.log_eval_metrics] Accuracy(layer_0 - estimator_0 - 10_folds.train_3.predict)=99.96%\n",
      "[ 2018-04-20 01:31:52,438][kfold_wrapper.log_eval_metrics] Accuracy(layer_0 - estimator_0 - 10_folds.train_4.predict)=99.96%\n",
      "[ 2018-04-20 01:31:55,333][kfold_wrapper.log_eval_metrics] Accuracy(layer_0 - estimator_0 - 10_folds.train_5.predict)=99.97%\n",
      "[ 2018-04-20 01:31:58,084][kfold_wrapper.log_eval_metrics] Accuracy(layer_0 - estimator_0 - 10_folds.train_6.predict)=99.97%\n",
      "[ 2018-04-20 01:32:00,562][kfold_wrapper.log_eval_metrics] Accuracy(layer_0 - estimator_0 - 10_folds.train_7.predict)=99.96%\n",
      "[ 2018-04-20 01:32:03,504][kfold_wrapper.log_eval_metrics] Accuracy(layer_0 - estimator_0 - 10_folds.train_8.predict)=99.97%\n",
      "[ 2018-04-20 01:32:06,224][kfold_wrapper.log_eval_metrics] Accuracy(layer_0 - estimator_0 - 10_folds.train_9.predict)=99.97%\n",
      "[ 2018-04-20 01:32:06,653][kfold_wrapper.log_eval_metrics] Accuracy(layer_0 - estimator_0 - 10_folds.train_cv.predict)=99.96%\n",
      "[ 2018-04-20 01:32:06,659][kfold_wrapper.log_eval_metrics] Accuracy(layer_0 - estimator_0 - 10_folds.test.predict)=99.97%\n",
      "[ 2018-04-20 01:32:06,685][cascade_classifier.calc_accuracy] Accuracy(layer_0 - train.classifier_average)=99.96%\n",
      "[ 2018-04-20 01:32:06,690][cascade_classifier.calc_accuracy] Accuracy(layer_0 - test.classifier_average)=99.97%\n",
      "[ 2018-04-20 01:32:06,692][cascade_classifier.fit_transform] [Result][Reach Max Layer] opt_layer_num=1, accuracy_train=99.96%, accuracy_test=99.97%\n",
      "[ 2018-04-20 01:32:06,695][cascade_classifier.transform] X_groups_test.shape=[(163027, 43)]\n",
      "[ 2018-04-20 01:32:06,721][cascade_classifier.transform] group_dims=[43]\n",
      "[ 2018-04-20 01:32:06,722][cascade_classifier.transform] X_test.shape=(163027, 43)\n",
      "[ 2018-04-20 01:32:06,747][cascade_classifier.transform] [layer=0] look_indexs=[0], X_cur_test.shape=(163027, 43)\n"
     ]
    },
    {
     "name": "stdout",
     "output_type": "stream",
     "text": [
      "('Test Accuracy of ExtraTrees = 99.973624 %', 12, 'fois')\n"
     ]
    },
    {
     "name": "stderr",
     "output_type": "stream",
     "text": [
      "[ 2018-04-20 01:32:11,094][cascade_classifier.fit_transform] X_groups_train.shape=[(330994, 43)],y_train.shape=(330994,),X_groups_test.shape=[(163027, 43)],y_test.shape=(163027,)\n",
      "[ 2018-04-20 01:32:11,162][cascade_classifier.fit_transform] group_dims=[43]\n",
      "[ 2018-04-20 01:32:11,164][cascade_classifier.fit_transform] group_starts=[0]\n",
      "[ 2018-04-20 01:32:11,165][cascade_classifier.fit_transform] group_ends=[43]\n",
      "[ 2018-04-20 01:32:11,166][cascade_classifier.fit_transform] X_train.shape=(330994, 43),X_test.shape=(163027, 43)\n",
      "[ 2018-04-20 01:32:11,242][cascade_classifier.fit_transform] [layer=0] look_indexs=[0], X_cur_train.shape=(330994, 43), X_cur_test.shape=(163027, 43)\n",
      "[ 2018-04-20 01:32:13,736][kfold_wrapper.log_eval_metrics] Accuracy(layer_0 - estimator_0 - 10_folds.train_0.predict)=99.95%\n",
      "[ 2018-04-20 01:32:16,091][kfold_wrapper.log_eval_metrics] Accuracy(layer_0 - estimator_0 - 10_folds.train_1.predict)=99.95%\n",
      "[ 2018-04-20 01:32:18,706][kfold_wrapper.log_eval_metrics] Accuracy(layer_0 - estimator_0 - 10_folds.train_2.predict)=99.99%\n",
      "[ 2018-04-20 01:32:21,527][kfold_wrapper.log_eval_metrics] Accuracy(layer_0 - estimator_0 - 10_folds.train_3.predict)=99.96%\n",
      "[ 2018-04-20 01:32:24,377][kfold_wrapper.log_eval_metrics] Accuracy(layer_0 - estimator_0 - 10_folds.train_4.predict)=99.95%\n",
      "[ 2018-04-20 01:32:26,792][kfold_wrapper.log_eval_metrics] Accuracy(layer_0 - estimator_0 - 10_folds.train_5.predict)=99.97%\n",
      "[ 2018-04-20 01:32:29,347][kfold_wrapper.log_eval_metrics] Accuracy(layer_0 - estimator_0 - 10_folds.train_6.predict)=99.98%\n",
      "[ 2018-04-20 01:32:31,915][kfold_wrapper.log_eval_metrics] Accuracy(layer_0 - estimator_0 - 10_folds.train_7.predict)=99.96%\n",
      "[ 2018-04-20 01:32:34,556][kfold_wrapper.log_eval_metrics] Accuracy(layer_0 - estimator_0 - 10_folds.train_8.predict)=99.98%\n",
      "[ 2018-04-20 01:32:37,084][kfold_wrapper.log_eval_metrics] Accuracy(layer_0 - estimator_0 - 10_folds.train_9.predict)=99.97%\n",
      "[ 2018-04-20 01:32:37,527][kfold_wrapper.log_eval_metrics] Accuracy(layer_0 - estimator_0 - 10_folds.train_cv.predict)=99.97%\n",
      "[ 2018-04-20 01:32:37,533][kfold_wrapper.log_eval_metrics] Accuracy(layer_0 - estimator_0 - 10_folds.test.predict)=99.97%\n",
      "[ 2018-04-20 01:32:37,559][cascade_classifier.calc_accuracy] Accuracy(layer_0 - train.classifier_average)=99.97%\n",
      "[ 2018-04-20 01:32:37,564][cascade_classifier.calc_accuracy] Accuracy(layer_0 - test.classifier_average)=99.97%\n",
      "[ 2018-04-20 01:32:37,566][cascade_classifier.fit_transform] [Result][Reach Max Layer] opt_layer_num=1, accuracy_train=99.97%, accuracy_test=99.97%\n",
      "[ 2018-04-20 01:32:37,569][cascade_classifier.transform] X_groups_test.shape=[(163027, 43)]\n",
      "[ 2018-04-20 01:32:37,596][cascade_classifier.transform] group_dims=[43]\n",
      "[ 2018-04-20 01:32:37,597][cascade_classifier.transform] X_test.shape=(163027, 43)\n",
      "[ 2018-04-20 01:32:37,622][cascade_classifier.transform] [layer=0] look_indexs=[0], X_cur_test.shape=(163027, 43)\n"
     ]
    },
    {
     "name": "stdout",
     "output_type": "stream",
     "text": [
      "('Test Accuracy of ExtraTrees = 99.971784 %', 13, 'fois')\n"
     ]
    },
    {
     "name": "stderr",
     "output_type": "stream",
     "text": [
      "[ 2018-04-20 01:32:41,678][cascade_classifier.fit_transform] X_groups_train.shape=[(330994, 43)],y_train.shape=(330994,),X_groups_test.shape=[(163027, 43)],y_test.shape=(163027,)\n",
      "[ 2018-04-20 01:32:41,745][cascade_classifier.fit_transform] group_dims=[43]\n",
      "[ 2018-04-20 01:32:41,746][cascade_classifier.fit_transform] group_starts=[0]\n",
      "[ 2018-04-20 01:32:41,748][cascade_classifier.fit_transform] group_ends=[43]\n",
      "[ 2018-04-20 01:32:41,749][cascade_classifier.fit_transform] X_train.shape=(330994, 43),X_test.shape=(163027, 43)\n",
      "[ 2018-04-20 01:32:41,824][cascade_classifier.fit_transform] [layer=0] look_indexs=[0], X_cur_train.shape=(330994, 43), X_cur_test.shape=(163027, 43)\n",
      "[ 2018-04-20 01:32:44,167][kfold_wrapper.log_eval_metrics] Accuracy(layer_0 - estimator_0 - 10_folds.train_0.predict)=99.95%\n",
      "[ 2018-04-20 01:32:46,598][kfold_wrapper.log_eval_metrics] Accuracy(layer_0 - estimator_0 - 10_folds.train_1.predict)=99.95%\n",
      "[ 2018-04-20 01:32:49,343][kfold_wrapper.log_eval_metrics] Accuracy(layer_0 - estimator_0 - 10_folds.train_2.predict)=99.99%\n",
      "[ 2018-04-20 01:32:51,931][kfold_wrapper.log_eval_metrics] Accuracy(layer_0 - estimator_0 - 10_folds.train_3.predict)=99.97%\n",
      "[ 2018-04-20 01:32:54,388][kfold_wrapper.log_eval_metrics] Accuracy(layer_0 - estimator_0 - 10_folds.train_4.predict)=99.95%\n",
      "[ 2018-04-20 01:32:57,341][kfold_wrapper.log_eval_metrics] Accuracy(layer_0 - estimator_0 - 10_folds.train_5.predict)=99.97%\n",
      "[ 2018-04-20 01:32:59,893][kfold_wrapper.log_eval_metrics] Accuracy(layer_0 - estimator_0 - 10_folds.train_6.predict)=99.98%\n",
      "[ 2018-04-20 01:33:02,465][kfold_wrapper.log_eval_metrics] Accuracy(layer_0 - estimator_0 - 10_folds.train_7.predict)=99.96%\n",
      "[ 2018-04-20 01:33:05,215][kfold_wrapper.log_eval_metrics] Accuracy(layer_0 - estimator_0 - 10_folds.train_8.predict)=99.97%\n",
      "[ 2018-04-20 01:33:07,823][kfold_wrapper.log_eval_metrics] Accuracy(layer_0 - estimator_0 - 10_folds.train_9.predict)=99.97%\n",
      "[ 2018-04-20 01:33:08,146][kfold_wrapper.log_eval_metrics] Accuracy(layer_0 - estimator_0 - 10_folds.train_cv.predict)=99.97%\n",
      "[ 2018-04-20 01:33:08,150][kfold_wrapper.log_eval_metrics] Accuracy(layer_0 - estimator_0 - 10_folds.test.predict)=99.97%\n",
      "[ 2018-04-20 01:33:08,172][cascade_classifier.calc_accuracy] Accuracy(layer_0 - train.classifier_average)=99.97%\n",
      "[ 2018-04-20 01:33:08,176][cascade_classifier.calc_accuracy] Accuracy(layer_0 - test.classifier_average)=99.97%\n",
      "[ 2018-04-20 01:33:08,177][cascade_classifier.fit_transform] [Result][Reach Max Layer] opt_layer_num=1, accuracy_train=99.97%, accuracy_test=99.97%\n",
      "[ 2018-04-20 01:33:08,180][cascade_classifier.transform] X_groups_test.shape=[(163027, 43)]\n",
      "[ 2018-04-20 01:33:08,204][cascade_classifier.transform] group_dims=[43]\n",
      "[ 2018-04-20 01:33:08,206][cascade_classifier.transform] X_test.shape=(163027, 43)\n",
      "[ 2018-04-20 01:33:08,229][cascade_classifier.transform] [layer=0] look_indexs=[0], X_cur_test.shape=(163027, 43)\n"
     ]
    },
    {
     "name": "stdout",
     "output_type": "stream",
     "text": [
      "('Test Accuracy of ExtraTrees = 99.971784 %', 14, 'fois')\n"
     ]
    },
    {
     "name": "stderr",
     "output_type": "stream",
     "text": [
      "[ 2018-04-20 01:33:12,531][cascade_classifier.fit_transform] X_groups_train.shape=[(330994, 43)],y_train.shape=(330994,),X_groups_test.shape=[(163027, 43)],y_test.shape=(163027,)\n",
      "[ 2018-04-20 01:33:12,598][cascade_classifier.fit_transform] group_dims=[43]\n",
      "[ 2018-04-20 01:33:12,600][cascade_classifier.fit_transform] group_starts=[0]\n",
      "[ 2018-04-20 01:33:12,601][cascade_classifier.fit_transform] group_ends=[43]\n",
      "[ 2018-04-20 01:33:12,602][cascade_classifier.fit_transform] X_train.shape=(330994, 43),X_test.shape=(163027, 43)\n",
      "[ 2018-04-20 01:33:12,678][cascade_classifier.fit_transform] [layer=0] look_indexs=[0], X_cur_train.shape=(330994, 43), X_cur_test.shape=(163027, 43)\n",
      "[ 2018-04-20 01:33:14,962][kfold_wrapper.log_eval_metrics] Accuracy(layer_0 - estimator_0 - 10_folds.train_0.predict)=99.95%\n",
      "[ 2018-04-20 01:33:17,382][kfold_wrapper.log_eval_metrics] Accuracy(layer_0 - estimator_0 - 10_folds.train_1.predict)=99.94%\n",
      "[ 2018-04-20 01:33:20,125][kfold_wrapper.log_eval_metrics] Accuracy(layer_0 - estimator_0 - 10_folds.train_2.predict)=99.99%\n",
      "[ 2018-04-20 01:33:22,673][kfold_wrapper.log_eval_metrics] Accuracy(layer_0 - estimator_0 - 10_folds.train_3.predict)=99.96%\n",
      "[ 2018-04-20 01:33:25,350][kfold_wrapper.log_eval_metrics] Accuracy(layer_0 - estimator_0 - 10_folds.train_4.predict)=99.95%\n",
      "[ 2018-04-20 01:33:28,043][kfold_wrapper.log_eval_metrics] Accuracy(layer_0 - estimator_0 - 10_folds.train_5.predict)=99.97%\n",
      "[ 2018-04-20 01:33:30,608][kfold_wrapper.log_eval_metrics] Accuracy(layer_0 - estimator_0 - 10_folds.train_6.predict)=99.98%\n",
      "[ 2018-04-20 01:33:33,060][kfold_wrapper.log_eval_metrics] Accuracy(layer_0 - estimator_0 - 10_folds.train_7.predict)=99.97%\n",
      "[ 2018-04-20 01:33:35,895][kfold_wrapper.log_eval_metrics] Accuracy(layer_0 - estimator_0 - 10_folds.train_8.predict)=99.97%\n",
      "[ 2018-04-20 01:33:38,505][kfold_wrapper.log_eval_metrics] Accuracy(layer_0 - estimator_0 - 10_folds.train_9.predict)=99.98%\n",
      "[ 2018-04-20 01:33:38,836][kfold_wrapper.log_eval_metrics] Accuracy(layer_0 - estimator_0 - 10_folds.train_cv.predict)=99.97%\n",
      "[ 2018-04-20 01:33:38,841][kfold_wrapper.log_eval_metrics] Accuracy(layer_0 - estimator_0 - 10_folds.test.predict)=99.97%\n",
      "[ 2018-04-20 01:33:38,870][cascade_classifier.calc_accuracy] Accuracy(layer_0 - train.classifier_average)=99.97%\n",
      "[ 2018-04-20 01:33:38,875][cascade_classifier.calc_accuracy] Accuracy(layer_0 - test.classifier_average)=99.97%\n",
      "[ 2018-04-20 01:33:38,876][cascade_classifier.fit_transform] [Result][Reach Max Layer] opt_layer_num=1, accuracy_train=99.97%, accuracy_test=99.97%\n",
      "[ 2018-04-20 01:33:38,880][cascade_classifier.transform] X_groups_test.shape=[(163027, 43)]\n",
      "[ 2018-04-20 01:33:38,906][cascade_classifier.transform] group_dims=[43]\n",
      "[ 2018-04-20 01:33:38,907][cascade_classifier.transform] X_test.shape=(163027, 43)\n",
      "[ 2018-04-20 01:33:38,931][cascade_classifier.transform] [layer=0] look_indexs=[0], X_cur_test.shape=(163027, 43)\n"
     ]
    },
    {
     "name": "stdout",
     "output_type": "stream",
     "text": [
      "('Test Accuracy of ExtraTrees = 99.974237 %', 15, 'fois')\n"
     ]
    },
    {
     "name": "stderr",
     "output_type": "stream",
     "text": [
      "[ 2018-04-20 01:33:42,700][cascade_classifier.fit_transform] X_groups_train.shape=[(330994, 43)],y_train.shape=(330994,),X_groups_test.shape=[(163027, 43)],y_test.shape=(163027,)\n",
      "[ 2018-04-20 01:33:42,768][cascade_classifier.fit_transform] group_dims=[43]\n",
      "[ 2018-04-20 01:33:42,769][cascade_classifier.fit_transform] group_starts=[0]\n",
      "[ 2018-04-20 01:33:42,770][cascade_classifier.fit_transform] group_ends=[43]\n",
      "[ 2018-04-20 01:33:42,771][cascade_classifier.fit_transform] X_train.shape=(330994, 43),X_test.shape=(163027, 43)\n",
      "[ 2018-04-20 01:33:42,846][cascade_classifier.fit_transform] [layer=0] look_indexs=[0], X_cur_train.shape=(330994, 43), X_cur_test.shape=(163027, 43)\n",
      "[ 2018-04-20 01:33:45,176][kfold_wrapper.log_eval_metrics] Accuracy(layer_0 - estimator_0 - 10_folds.train_0.predict)=99.95%\n",
      "[ 2018-04-20 01:33:47,661][kfold_wrapper.log_eval_metrics] Accuracy(layer_0 - estimator_0 - 10_folds.train_1.predict)=99.95%\n",
      "[ 2018-04-20 01:33:50,541][kfold_wrapper.log_eval_metrics] Accuracy(layer_0 - estimator_0 - 10_folds.train_2.predict)=99.99%\n",
      "[ 2018-04-20 01:33:53,281][kfold_wrapper.log_eval_metrics] Accuracy(layer_0 - estimator_0 - 10_folds.train_3.predict)=99.96%\n",
      "[ 2018-04-20 01:33:55,950][kfold_wrapper.log_eval_metrics] Accuracy(layer_0 - estimator_0 - 10_folds.train_4.predict)=99.95%\n",
      "[ 2018-04-20 01:33:58,834][kfold_wrapper.log_eval_metrics] Accuracy(layer_0 - estimator_0 - 10_folds.train_5.predict)=99.96%\n",
      "[ 2018-04-20 01:34:01,351][kfold_wrapper.log_eval_metrics] Accuracy(layer_0 - estimator_0 - 10_folds.train_6.predict)=99.98%\n",
      "[ 2018-04-20 01:34:03,982][kfold_wrapper.log_eval_metrics] Accuracy(layer_0 - estimator_0 - 10_folds.train_7.predict)=99.98%\n",
      "[ 2018-04-20 01:34:06,975][kfold_wrapper.log_eval_metrics] Accuracy(layer_0 - estimator_0 - 10_folds.train_8.predict)=99.96%\n",
      "[ 2018-04-20 01:34:09,628][kfold_wrapper.log_eval_metrics] Accuracy(layer_0 - estimator_0 - 10_folds.train_9.predict)=99.98%\n",
      "[ 2018-04-20 01:34:09,953][kfold_wrapper.log_eval_metrics] Accuracy(layer_0 - estimator_0 - 10_folds.train_cv.predict)=99.97%\n",
      "[ 2018-04-20 01:34:09,959][kfold_wrapper.log_eval_metrics] Accuracy(layer_0 - estimator_0 - 10_folds.test.predict)=99.98%\n",
      "[ 2018-04-20 01:34:09,983][cascade_classifier.calc_accuracy] Accuracy(layer_0 - train.classifier_average)=99.97%\n",
      "[ 2018-04-20 01:34:09,987][cascade_classifier.calc_accuracy] Accuracy(layer_0 - test.classifier_average)=99.98%\n",
      "[ 2018-04-20 01:34:09,988][cascade_classifier.fit_transform] [Result][Reach Max Layer] opt_layer_num=1, accuracy_train=99.97%, accuracy_test=99.98%\n",
      "[ 2018-04-20 01:34:09,991][cascade_classifier.transform] X_groups_test.shape=[(163027, 43)]\n",
      "[ 2018-04-20 01:34:10,014][cascade_classifier.transform] group_dims=[43]\n",
      "[ 2018-04-20 01:34:10,015][cascade_classifier.transform] X_test.shape=(163027, 43)\n",
      "[ 2018-04-20 01:34:10,038][cascade_classifier.transform] [layer=0] look_indexs=[0], X_cur_test.shape=(163027, 43)\n"
     ]
    },
    {
     "name": "stdout",
     "output_type": "stream",
     "text": [
      "('Test Accuracy of ExtraTrees = 99.976078 %', 16, 'fois')\n"
     ]
    },
    {
     "name": "stderr",
     "output_type": "stream",
     "text": [
      "[ 2018-04-20 01:34:14,062][cascade_classifier.fit_transform] X_groups_train.shape=[(330994, 43)],y_train.shape=(330994,),X_groups_test.shape=[(163027, 43)],y_test.shape=(163027,)\n",
      "[ 2018-04-20 01:34:14,130][cascade_classifier.fit_transform] group_dims=[43]\n",
      "[ 2018-04-20 01:34:14,132][cascade_classifier.fit_transform] group_starts=[0]\n",
      "[ 2018-04-20 01:34:14,133][cascade_classifier.fit_transform] group_ends=[43]\n",
      "[ 2018-04-20 01:34:14,134][cascade_classifier.fit_transform] X_train.shape=(330994, 43),X_test.shape=(163027, 43)\n",
      "[ 2018-04-20 01:34:14,210][cascade_classifier.fit_transform] [layer=0] look_indexs=[0], X_cur_train.shape=(330994, 43), X_cur_test.shape=(163027, 43)\n",
      "[ 2018-04-20 01:34:16,706][kfold_wrapper.log_eval_metrics] Accuracy(layer_0 - estimator_0 - 10_folds.train_0.predict)=99.95%\n",
      "[ 2018-04-20 01:34:19,225][kfold_wrapper.log_eval_metrics] Accuracy(layer_0 - estimator_0 - 10_folds.train_1.predict)=99.95%\n",
      "[ 2018-04-20 01:34:22,008][kfold_wrapper.log_eval_metrics] Accuracy(layer_0 - estimator_0 - 10_folds.train_2.predict)=99.99%\n",
      "[ 2018-04-20 01:34:24,552][kfold_wrapper.log_eval_metrics] Accuracy(layer_0 - estimator_0 - 10_folds.train_3.predict)=99.96%\n",
      "[ 2018-04-20 01:34:27,026][kfold_wrapper.log_eval_metrics] Accuracy(layer_0 - estimator_0 - 10_folds.train_4.predict)=99.95%\n",
      "[ 2018-04-20 01:34:29,922][kfold_wrapper.log_eval_metrics] Accuracy(layer_0 - estimator_0 - 10_folds.train_5.predict)=99.96%\n",
      "[ 2018-04-20 01:34:32,635][kfold_wrapper.log_eval_metrics] Accuracy(layer_0 - estimator_0 - 10_folds.train_6.predict)=99.98%\n",
      "[ 2018-04-20 01:34:35,044][kfold_wrapper.log_eval_metrics] Accuracy(layer_0 - estimator_0 - 10_folds.train_7.predict)=99.96%\n",
      "[ 2018-04-20 01:34:38,038][kfold_wrapper.log_eval_metrics] Accuracy(layer_0 - estimator_0 - 10_folds.train_8.predict)=99.96%\n",
      "[ 2018-04-20 01:34:40,654][kfold_wrapper.log_eval_metrics] Accuracy(layer_0 - estimator_0 - 10_folds.train_9.predict)=99.98%\n",
      "[ 2018-04-20 01:34:41,099][kfold_wrapper.log_eval_metrics] Accuracy(layer_0 - estimator_0 - 10_folds.train_cv.predict)=99.96%\n",
      "[ 2018-04-20 01:34:41,103][kfold_wrapper.log_eval_metrics] Accuracy(layer_0 - estimator_0 - 10_folds.test.predict)=99.97%\n",
      "[ 2018-04-20 01:34:41,122][cascade_classifier.calc_accuracy] Accuracy(layer_0 - train.classifier_average)=99.96%\n",
      "[ 2018-04-20 01:34:41,125][cascade_classifier.calc_accuracy] Accuracy(layer_0 - test.classifier_average)=99.97%\n",
      "[ 2018-04-20 01:34:41,126][cascade_classifier.fit_transform] [Result][Reach Max Layer] opt_layer_num=1, accuracy_train=99.96%, accuracy_test=99.97%\n",
      "[ 2018-04-20 01:34:41,129][cascade_classifier.transform] X_groups_test.shape=[(163027, 43)]\n",
      "[ 2018-04-20 01:34:41,153][cascade_classifier.transform] group_dims=[43]\n",
      "[ 2018-04-20 01:34:41,154][cascade_classifier.transform] X_test.shape=(163027, 43)\n",
      "[ 2018-04-20 01:34:41,177][cascade_classifier.transform] [layer=0] look_indexs=[0], X_cur_test.shape=(163027, 43)\n"
     ]
    },
    {
     "name": "stdout",
     "output_type": "stream",
     "text": [
      "('Test Accuracy of ExtraTrees = 99.974851 %', 17, 'fois')\n"
     ]
    },
    {
     "name": "stderr",
     "output_type": "stream",
     "text": [
      "[ 2018-04-20 01:34:45,791][cascade_classifier.fit_transform] X_groups_train.shape=[(330994, 43)],y_train.shape=(330994,),X_groups_test.shape=[(163027, 43)],y_test.shape=(163027,)\n",
      "[ 2018-04-20 01:34:45,858][cascade_classifier.fit_transform] group_dims=[43]\n",
      "[ 2018-04-20 01:34:45,860][cascade_classifier.fit_transform] group_starts=[0]\n",
      "[ 2018-04-20 01:34:45,861][cascade_classifier.fit_transform] group_ends=[43]\n",
      "[ 2018-04-20 01:34:45,862][cascade_classifier.fit_transform] X_train.shape=(330994, 43),X_test.shape=(163027, 43)\n",
      "[ 2018-04-20 01:34:45,937][cascade_classifier.fit_transform] [layer=0] look_indexs=[0], X_cur_train.shape=(330994, 43), X_cur_test.shape=(163027, 43)\n",
      "[ 2018-04-20 01:34:48,701][kfold_wrapper.log_eval_metrics] Accuracy(layer_0 - estimator_0 - 10_folds.train_0.predict)=99.95%\n",
      "[ 2018-04-20 01:34:51,327][kfold_wrapper.log_eval_metrics] Accuracy(layer_0 - estimator_0 - 10_folds.train_1.predict)=99.95%\n",
      "[ 2018-04-20 01:34:53,895][kfold_wrapper.log_eval_metrics] Accuracy(layer_0 - estimator_0 - 10_folds.train_2.predict)=99.99%\n",
      "[ 2018-04-20 01:34:56,812][kfold_wrapper.log_eval_metrics] Accuracy(layer_0 - estimator_0 - 10_folds.train_3.predict)=99.95%\n",
      "[ 2018-04-20 01:34:59,494][kfold_wrapper.log_eval_metrics] Accuracy(layer_0 - estimator_0 - 10_folds.train_4.predict)=99.95%\n",
      "[ 2018-04-20 01:35:02,172][kfold_wrapper.log_eval_metrics] Accuracy(layer_0 - estimator_0 - 10_folds.train_5.predict)=99.96%\n",
      "[ 2018-04-20 01:35:04,912][kfold_wrapper.log_eval_metrics] Accuracy(layer_0 - estimator_0 - 10_folds.train_6.predict)=99.98%\n",
      "[ 2018-04-20 01:35:07,775][kfold_wrapper.log_eval_metrics] Accuracy(layer_0 - estimator_0 - 10_folds.train_7.predict)=99.96%\n",
      "[ 2018-04-20 01:35:10,316][kfold_wrapper.log_eval_metrics] Accuracy(layer_0 - estimator_0 - 10_folds.train_8.predict)=99.96%\n",
      "[ 2018-04-20 01:35:12,803][kfold_wrapper.log_eval_metrics] Accuracy(layer_0 - estimator_0 - 10_folds.train_9.predict)=99.97%\n",
      "[ 2018-04-20 01:35:13,119][kfold_wrapper.log_eval_metrics] Accuracy(layer_0 - estimator_0 - 10_folds.train_cv.predict)=99.96%\n",
      "[ 2018-04-20 01:35:13,124][kfold_wrapper.log_eval_metrics] Accuracy(layer_0 - estimator_0 - 10_folds.test.predict)=99.98%\n",
      "[ 2018-04-20 01:35:13,152][cascade_classifier.calc_accuracy] Accuracy(layer_0 - train.classifier_average)=99.96%\n",
      "[ 2018-04-20 01:35:13,157][cascade_classifier.calc_accuracy] Accuracy(layer_0 - test.classifier_average)=99.98%\n",
      "[ 2018-04-20 01:35:13,158][cascade_classifier.fit_transform] [Result][Reach Max Layer] opt_layer_num=1, accuracy_train=99.96%, accuracy_test=99.98%\n",
      "[ 2018-04-20 01:35:13,162][cascade_classifier.transform] X_groups_test.shape=[(163027, 43)]\n",
      "[ 2018-04-20 01:35:13,189][cascade_classifier.transform] group_dims=[43]\n",
      "[ 2018-04-20 01:35:13,190][cascade_classifier.transform] X_test.shape=(163027, 43)\n",
      "[ 2018-04-20 01:35:13,215][cascade_classifier.transform] [layer=0] look_indexs=[0], X_cur_test.shape=(163027, 43)\n"
     ]
    },
    {
     "name": "stdout",
     "output_type": "stream",
     "text": [
      "('Test Accuracy of ExtraTrees = 99.976691 %', 18, 'fois')\n"
     ]
    },
    {
     "name": "stderr",
     "output_type": "stream",
     "text": [
      "[ 2018-04-20 01:35:17,655][cascade_classifier.fit_transform] X_groups_train.shape=[(330994, 43)],y_train.shape=(330994,),X_groups_test.shape=[(163027, 43)],y_test.shape=(163027,)\n",
      "[ 2018-04-20 01:35:17,722][cascade_classifier.fit_transform] group_dims=[43]\n",
      "[ 2018-04-20 01:35:17,724][cascade_classifier.fit_transform] group_starts=[0]\n",
      "[ 2018-04-20 01:35:17,725][cascade_classifier.fit_transform] group_ends=[43]\n",
      "[ 2018-04-20 01:35:17,726][cascade_classifier.fit_transform] X_train.shape=(330994, 43),X_test.shape=(163027, 43)\n",
      "[ 2018-04-20 01:35:17,802][cascade_classifier.fit_transform] [layer=0] look_indexs=[0], X_cur_train.shape=(330994, 43), X_cur_test.shape=(163027, 43)\n",
      "[ 2018-04-20 01:35:20,326][kfold_wrapper.log_eval_metrics] Accuracy(layer_0 - estimator_0 - 10_folds.train_0.predict)=99.95%\n",
      "[ 2018-04-20 01:35:22,750][kfold_wrapper.log_eval_metrics] Accuracy(layer_0 - estimator_0 - 10_folds.train_1.predict)=99.95%\n",
      "[ 2018-04-20 01:35:25,646][kfold_wrapper.log_eval_metrics] Accuracy(layer_0 - estimator_0 - 10_folds.train_2.predict)=99.99%\n",
      "[ 2018-04-20 01:35:28,086][kfold_wrapper.log_eval_metrics] Accuracy(layer_0 - estimator_0 - 10_folds.train_3.predict)=99.95%\n",
      "[ 2018-04-20 01:35:30,551][kfold_wrapper.log_eval_metrics] Accuracy(layer_0 - estimator_0 - 10_folds.train_4.predict)=99.96%\n",
      "[ 2018-04-20 01:35:33,148][kfold_wrapper.log_eval_metrics] Accuracy(layer_0 - estimator_0 - 10_folds.train_5.predict)=99.96%\n",
      "[ 2018-04-20 01:35:35,749][kfold_wrapper.log_eval_metrics] Accuracy(layer_0 - estimator_0 - 10_folds.train_6.predict)=99.98%\n",
      "[ 2018-04-20 01:35:38,742][kfold_wrapper.log_eval_metrics] Accuracy(layer_0 - estimator_0 - 10_folds.train_7.predict)=99.97%\n",
      "[ 2018-04-20 01:35:41,810][kfold_wrapper.log_eval_metrics] Accuracy(layer_0 - estimator_0 - 10_folds.train_8.predict)=99.96%\n",
      "[ 2018-04-20 01:35:44,394][kfold_wrapper.log_eval_metrics] Accuracy(layer_0 - estimator_0 - 10_folds.train_9.predict)=99.97%\n",
      "[ 2018-04-20 01:35:44,866][kfold_wrapper.log_eval_metrics] Accuracy(layer_0 - estimator_0 - 10_folds.train_cv.predict)=99.96%\n",
      "[ 2018-04-20 01:35:44,870][kfold_wrapper.log_eval_metrics] Accuracy(layer_0 - estimator_0 - 10_folds.test.predict)=99.97%\n",
      "[ 2018-04-20 01:35:44,893][cascade_classifier.calc_accuracy] Accuracy(layer_0 - train.classifier_average)=99.96%\n",
      "[ 2018-04-20 01:35:44,897][cascade_classifier.calc_accuracy] Accuracy(layer_0 - test.classifier_average)=99.97%\n",
      "[ 2018-04-20 01:35:44,898][cascade_classifier.fit_transform] [Result][Reach Max Layer] opt_layer_num=1, accuracy_train=99.96%, accuracy_test=99.97%\n",
      "[ 2018-04-20 01:35:44,901][cascade_classifier.transform] X_groups_test.shape=[(163027, 43)]\n",
      "[ 2018-04-20 01:35:44,926][cascade_classifier.transform] group_dims=[43]\n",
      "[ 2018-04-20 01:35:44,928][cascade_classifier.transform] X_test.shape=(163027, 43)\n",
      "[ 2018-04-20 01:35:44,951][cascade_classifier.transform] [layer=0] look_indexs=[0], X_cur_test.shape=(163027, 43)\n"
     ]
    },
    {
     "name": "stdout",
     "output_type": "stream",
     "text": [
      "('Test Accuracy of ExtraTrees = 99.971784 %', 19, 'fois')\n"
     ]
    }
   ],
   "source": [
    "# Deep\n",
    "for i in range (20):\n",
    "    X_train,X_test=update(X_train,X_test)\n",
    "    X_test_enc, X_train_enc=newdata(X_test_enc, X_train_enc)\n",
    "\n",
    "    X_train=X_train_enc\n",
    "    X_test=X_test_enc \n",
    "    X_train_enc, X_test_enc = gc.fit_transform(X_train, y_train, X_test=X_test, y_test=y_test)\n",
    "    affiche()"
   ]
  },
  {
   "cell_type": "code",
   "execution_count": null,
   "metadata": {
    "collapsed": true
   },
   "outputs": [],
   "source": []
  },
  {
   "cell_type": "markdown",
   "metadata": {
    "collapsed": true
   },
   "source": [
    "# ('Test Accuracy of ExtraTrees = 99.977304 %', 4, 'fois')"
   ]
  },
  {
   "cell_type": "code",
   "execution_count": null,
   "metadata": {
    "collapsed": true
   },
   "outputs": [],
   "source": []
  },
  {
   "cell_type": "code",
   "execution_count": null,
   "metadata": {
    "collapsed": true
   },
   "outputs": [],
   "source": []
  }
 ],
 "metadata": {
  "kernelspec": {
   "display_name": "Python 2",
   "language": "python",
   "name": "python2"
  },
  "language_info": {
   "codemirror_mode": {
    "name": "ipython",
    "version": 2
   },
   "file_extension": ".py",
   "mimetype": "text/x-python",
   "name": "python",
   "nbconvert_exporter": "python",
   "pygments_lexer": "ipython2",
   "version": "2.7.13"
  }
 },
 "nbformat": 4,
 "nbformat_minor": 2
}
